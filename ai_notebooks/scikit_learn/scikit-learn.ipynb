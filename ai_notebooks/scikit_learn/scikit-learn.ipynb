{
 "cells": [
  {
   "cell_type": "code",
   "execution_count": 24,
   "id": "initial_id",
   "metadata": {
    "ExecuteTime": {
     "end_time": "2025-05-16T21:59:53.218569Z",
     "start_time": "2025-05-16T21:59:52.976746Z"
    },
    "collapsed": true
   },
   "outputs": [
    {
     "data": {
      "text/plain": [
       "array([[-1.,  1.],\n",
       "       [ 1., -1.]])"
      ]
     },
     "execution_count": 24,
     "metadata": {},
     "output_type": "execute_result"
    }
   ],
   "source": [
    "from sklearn.preprocessing import StandardScaler\n",
    "X = [[0, 15],\n",
    "     [1, -10]]\n",
    "# scale data according to computed scaling values\n",
    "StandardScaler().fit(X).transform(X)"
   ]
  },
  {
   "cell_type": "code",
   "execution_count": null,
   "id": "91d7bf6534bdb95f",
   "metadata": {
    "ExecuteTime": {
     "end_time": "2025-05-16T21:59:58.170480Z",
     "start_time": "2025-05-16T21:59:58.166324Z"
    }
   },
   "outputs": [
    {
     "data": {
      "text/plain": [
       "(150, 4)"
      ]
     },
     "execution_count": 25,
     "metadata": {},
     "output_type": "execute_result"
    }
   ],
   "source": [
    "# Linear regression\n",
    "\n",
    "# Import necessary libraries\n",
    "from sklearn.linear_model import LogisticRegression\n",
    "from sklearn.datasets import load_iris\n",
    "from sklearn.model_selection import train_test_split\n",
    "from sklearn.metrics import accuracy_score\n",
    "\n",
    "# Load a sample dataset (Iris)\n",
    "X, y = load_iris(return_X_y=True)\n",
    "\n",
    "#type(X)\n",
    "X.shape\n",
    "\n",
    "# Split the data into training and testing sets\n",
    "X_train, X_test, y_train, y_test = train_test_split(X, y, test_size=0.3, random_state=42)\n",
    "\n",
    "# Create and train the logistic regression model\n",
    "model = LogisticRegression(max_iter=200)\n",
    "model.fit(X_train, y_train)\n",
    "\n",
    "# Make predictions on the test set\n",
    "y_pred = model.predict(X_test)\n",
    "\n",
    "# Evaluate the model's performance\n",
    "accuracy = accuracy_score(y_test, y_pred)\n",
    "print(f\"Accuracy: {accuracy:.4f}\")\n",
    "\n",
    "# You can also access the model coefficients and intercept\n",
    "print(\"Coefficients:\", model.coef_)\n",
    "print(\"Intercept:\", model.intercept_)"
   ]
  },
  {
   "cell_type": "code",
   "execution_count": 26,
   "id": "fab2f90208f678cc",
   "metadata": {
    "ExecuteTime": {
     "end_time": "2025-05-16T22:00:14.593063Z",
     "start_time": "2025-05-16T22:00:14.589873Z"
    }
   },
   "outputs": [],
   "source": [
    "# Decision Trees"
   ]
  },
  {
   "cell_type": "code",
   "execution_count": 27,
   "id": "316165bb438edcca",
   "metadata": {
    "ExecuteTime": {
     "end_time": "2025-05-16T22:00:29.005802Z",
     "start_time": "2025-05-16T22:00:29.002298Z"
    }
   },
   "outputs": [],
   "source": [
    "# Naive Bayes"
   ]
  },
  {
   "cell_type": "code",
   "execution_count": 28,
   "id": "9a05054c12f5cde1",
   "metadata": {
    "ExecuteTime": {
     "end_time": "2025-05-16T22:00:45.271538Z",
     "start_time": "2025-05-16T22:00:45.267737Z"
    }
   },
   "outputs": [],
   "source": [
    "# Support Vector machines"
   ]
  },
  {
   "cell_type": "code",
   "execution_count": 29,
   "id": "6b360d066efc3552",
   "metadata": {
    "ExecuteTime": {
     "end_time": "2025-05-16T22:01:03.955170Z",
     "start_time": "2025-05-16T22:01:03.952150Z"
    }
   },
   "outputs": [],
   "source": [
    "# Ensemble Methods"
   ]
  },
  {
   "cell_type": "code",
   "execution_count": 30,
   "id": "95c5f6c52a4fcbdf",
   "metadata": {
    "ExecuteTime": {
     "end_time": "2025-05-16T22:01:15.407557Z",
     "start_time": "2025-05-16T22:01:15.404470Z"
    }
   },
   "outputs": [],
   "source": [
    "# Metrics"
   ]
  },
  {
   "cell_type": "code",
   "execution_count": 31,
   "id": "4266268f7ed8be93",
   "metadata": {
    "ExecuteTime": {
     "end_time": "2025-05-16T22:01:48.946438Z",
     "start_time": "2025-05-16T22:01:48.943365Z"
    }
   },
   "outputs": [],
   "source": [
    "# UNSUPERVISED LEARNING"
   ]
  },
  {
   "cell_type": "code",
   "execution_count": 32,
   "id": "438f187990d2ccf",
   "metadata": {
    "ExecuteTime": {
     "end_time": "2025-05-16T22:02:02.443427Z",
     "start_time": "2025-05-16T22:02:02.440226Z"
    }
   },
   "outputs": [],
   "source": [
    "# Clustering"
   ]
  },
  {
   "cell_type": "code",
   "execution_count": 33,
   "id": "db1a71cc8b2b1912",
   "metadata": {
    "ExecuteTime": {
     "end_time": "2025-05-16T22:02:29.870353Z",
     "start_time": "2025-05-16T22:02:29.867311Z"
    }
   },
   "outputs": [],
   "source": [
    "# Dimensionality Reduction and PCA"
   ]
  },
  {
   "cell_type": "code",
   "execution_count": 34,
   "id": "2758f732e31a79cb",
   "metadata": {
    "ExecuteTime": {
     "end_time": "2025-05-16T22:02:50.536267Z",
     "start_time": "2025-05-16T22:02:50.533275Z"
    }
   },
   "outputs": [],
   "source": [
    "# Random Projection and ICA"
   ]
  },
  {
   "cell_type": "code",
   "execution_count": null,
   "id": "60ab8aee56de1966",
   "metadata": {},
   "outputs": [],
   "source": []
  }
 ],
 "metadata": {
  "kernelspec": {
   "display_name": "numpy",
   "language": "python",
   "name": "python3"
  },
  "language_info": {
   "codemirror_mode": {
    "name": "ipython",
    "version": 3
   },
   "file_extension": ".py",
   "mimetype": "text/x-python",
   "name": "python",
   "nbconvert_exporter": "python",
   "pygments_lexer": "ipython3",
   "version": "3.12.7"
  }
 },
 "nbformat": 4,
 "nbformat_minor": 5
}
