{
 "cells": [
  {
   "cell_type": "code",
   "id": "initial_id",
   "metadata": {
    "collapsed": true,
    "ExecuteTime": {
     "end_time": "2024-12-29T04:11:19.958474Z",
     "start_time": "2024-12-29T04:11:19.955256Z"
    }
   },
   "source": [
    "import numpy as np\n",
    "import pandas as pd\n",
    "import matplotlib.pyplot as plt\n",
    "import seaborn as sns"
   ],
   "outputs": [],
   "execution_count": 2
  },
  {
   "metadata": {
    "ExecuteTime": {
     "end_time": "2024-12-29T04:11:20.010907Z",
     "start_time": "2024-12-29T04:11:20.005149Z"
    }
   },
   "cell_type": "code",
   "source": [
    "#%matplotlib inline\n",
    "%config InlineBackend.figure_format = 'retina'"
   ],
   "id": "313274990046c9b9",
   "outputs": [],
   "execution_count": 3
  },
  {
   "metadata": {
    "ExecuteTime": {
     "end_time": "2024-12-29T04:11:20.180093Z",
     "start_time": "2024-12-29T04:11:20.030748Z"
    }
   },
   "cell_type": "code",
   "source": [
    "df = pd.read_csv('../data/temps.csv')\n",
    "df.columns = ['date', 'temp']\n",
    "df.head(10)"
   ],
   "id": "78b07ae3b3ef0fc",
   "outputs": [
    {
     "data": {
      "text/plain": [
       "                  date   temp\n",
       "0  2024-12-03 20:40:40  28.15\n",
       "1  2024-12-03 20:30:40  28.05\n",
       "2  2024-12-03 20:20:40  27.89\n",
       "3  2024-12-03 20:10:40  27.72\n",
       "4  2024-12-03 20:00:40  27.52\n",
       "5  2024-12-03 19:50:40  27.37\n",
       "6  2024-12-03 19:40:40  27.28\n",
       "7  2024-12-03 19:30:40  27.09\n",
       "8  2024-12-03 19:20:40  26.87\n",
       "9  2024-12-03 19:10:40  26.66"
      ],
      "text/html": [
       "<div>\n",
       "<style scoped>\n",
       "    .dataframe tbody tr th:only-of-type {\n",
       "        vertical-align: middle;\n",
       "    }\n",
       "\n",
       "    .dataframe tbody tr th {\n",
       "        vertical-align: top;\n",
       "    }\n",
       "\n",
       "    .dataframe thead th {\n",
       "        text-align: right;\n",
       "    }\n",
       "</style>\n",
       "<table border=\"1\" class=\"dataframe\">\n",
       "  <thead>\n",
       "    <tr style=\"text-align: right;\">\n",
       "      <th></th>\n",
       "      <th>date</th>\n",
       "      <th>temp</th>\n",
       "    </tr>\n",
       "  </thead>\n",
       "  <tbody>\n",
       "    <tr>\n",
       "      <th>0</th>\n",
       "      <td>2024-12-03 20:40:40</td>\n",
       "      <td>28.15</td>\n",
       "    </tr>\n",
       "    <tr>\n",
       "      <th>1</th>\n",
       "      <td>2024-12-03 20:30:40</td>\n",
       "      <td>28.05</td>\n",
       "    </tr>\n",
       "    <tr>\n",
       "      <th>2</th>\n",
       "      <td>2024-12-03 20:20:40</td>\n",
       "      <td>27.89</td>\n",
       "    </tr>\n",
       "    <tr>\n",
       "      <th>3</th>\n",
       "      <td>2024-12-03 20:10:40</td>\n",
       "      <td>27.72</td>\n",
       "    </tr>\n",
       "    <tr>\n",
       "      <th>4</th>\n",
       "      <td>2024-12-03 20:00:40</td>\n",
       "      <td>27.52</td>\n",
       "    </tr>\n",
       "    <tr>\n",
       "      <th>5</th>\n",
       "      <td>2024-12-03 19:50:40</td>\n",
       "      <td>27.37</td>\n",
       "    </tr>\n",
       "    <tr>\n",
       "      <th>6</th>\n",
       "      <td>2024-12-03 19:40:40</td>\n",
       "      <td>27.28</td>\n",
       "    </tr>\n",
       "    <tr>\n",
       "      <th>7</th>\n",
       "      <td>2024-12-03 19:30:40</td>\n",
       "      <td>27.09</td>\n",
       "    </tr>\n",
       "    <tr>\n",
       "      <th>8</th>\n",
       "      <td>2024-12-03 19:20:40</td>\n",
       "      <td>26.87</td>\n",
       "    </tr>\n",
       "    <tr>\n",
       "      <th>9</th>\n",
       "      <td>2024-12-03 19:10:40</td>\n",
       "      <td>26.66</td>\n",
       "    </tr>\n",
       "  </tbody>\n",
       "</table>\n",
       "</div>"
      ]
     },
     "execution_count": 4,
     "metadata": {},
     "output_type": "execute_result"
    }
   ],
   "execution_count": 4
  },
  {
   "metadata": {
    "ExecuteTime": {
     "end_time": "2024-12-29T04:11:20.261094Z",
     "start_time": "2024-12-29T04:11:20.248439Z"
    }
   },
   "cell_type": "code",
   "source": "df['temp'].describe()",
   "id": "66143ad53681c3dc",
   "outputs": [
    {
     "data": {
      "text/plain": [
       "count    179573.000000\n",
       "mean         28.881848\n",
       "std           2.068775\n",
       "min          18.330000\n",
       "25%          27.890000\n",
       "50%          28.990000\n",
       "75%          30.090000\n",
       "max          52.570000\n",
       "Name: temp, dtype: float64"
      ]
     },
     "execution_count": 5,
     "metadata": {},
     "output_type": "execute_result"
    }
   ],
   "execution_count": 5
  },
  {
   "metadata": {
    "ExecuteTime": {
     "end_time": "2024-12-29T04:11:20.323864Z",
     "start_time": "2024-12-29T04:11:20.320950Z"
    }
   },
   "cell_type": "code",
   "source": [
    "# with open(\"./data/temps.csv\", \"r\") as file:\n",
    "#     with open('./data/temps2.csv', 'a') as the_file:\n",
    "#         for line in file:\n",
    "#             the_file.write(line[:-255]+'\\n')\n"
   ],
   "id": "b992be633d69fbd1",
   "outputs": [],
   "execution_count": 6
  },
  {
   "metadata": {
    "ExecuteTime": {
     "end_time": "2024-12-29T04:11:20.874602Z",
     "start_time": "2024-12-29T04:11:20.493457Z"
    }
   },
   "cell_type": "code",
   "source": [
    "#sns.countplot(data=df, x='temp');\n",
    "bins = np.arange(df['temp'].min(), df['temp'].max() + 1, 1)\n",
    "plt.hist(data=df, x='temp', bins = bins)\n",
    "plt.xlabel('temp')\n",
    "plt.ylabel('count')\n",
    "plt.xlim((25, 35));"
   ],
   "id": "fc661de18ad515b1",
   "outputs": [
    {
     "data": {
      "text/plain": [
       "<Figure size 640x480 with 1 Axes>"
      ],
      "image/png": "[encoded data removed]"
     },
     "metadata": {
      "image/png": {
       "width": 583,
       "height": 430
      }
     },
     "output_type": "display_data"
    }
   ],
   "execution_count": 7
  },
  {
   "metadata": {
    "ExecuteTime": {
     "end_time": "2024-12-29T04:11:20.927085Z",
     "start_time": "2024-12-29T04:11:20.910487Z"
    }
   },
   "cell_type": "code",
   "source": [
    "q1 = df['temp'].quantile(0.25)\n",
    "q3 = df['temp'].quantile(0.75)\n",
    "iqr = q3 - q1\n",
    "lower_bound = q1 - 1.5 * iqr\n",
    "upper_bound = q3 + 1.5 * iqr\n",
    "outliers = df[(df['temp'] < lower_bound) | (df['temp'] > upper_bound)]\n",
    "outliers"
   ],
   "id": "7b5179dced77b0b",
   "outputs": [
    {
     "data": {
      "text/plain": [
       "                       date   temp\n",
       "307     2024-12-01 17:30:40  24.16\n",
       "308     2024-12-01 17:20:40  23.38\n",
       "309     2024-12-01 17:10:40  23.32\n",
       "2574    2024-11-15 23:40:40  23.64\n",
       "2575    2024-11-15 23:30:40  18.85\n",
       "...                     ...    ...\n",
       "178376  2021-04-19 21:57:26  24.41\n",
       "178377  2021-04-19 21:47:26  24.31\n",
       "179285  2021-04-13 14:27:26  33.68\n",
       "179286  2021-04-13 14:17:26  34.51\n",
       "179287  2021-04-13 14:07:26  34.04\n",
       "\n",
       "[8294 rows x 2 columns]"
      ],
      "text/html": [
       "<div>\n",
       "<style scoped>\n",
       "    .dataframe tbody tr th:only-of-type {\n",
       "        vertical-align: middle;\n",
       "    }\n",
       "\n",
       "    .dataframe tbody tr th {\n",
       "        vertical-align: top;\n",
       "    }\n",
       "\n",
       "    .dataframe thead th {\n",
       "        text-align: right;\n",
       "    }\n",
       "</style>\n",
       "<table border=\"1\" class=\"dataframe\">\n",
       "  <thead>\n",
       "    <tr style=\"text-align: right;\">\n",
       "      <th></th>\n",
       "      <th>date</th>\n",
       "      <th>temp</th>\n",
       "    </tr>\n",
       "  </thead>\n",
       "  <tbody>\n",
       "    <tr>\n",
       "      <th>307</th>\n",
       "      <td>2024-12-01 17:30:40</td>\n",
       "      <td>24.16</td>\n",
       "    </tr>\n",
       "    <tr>\n",
       "      <th>308</th>\n",
       "      <td>2024-12-01 17:20:40</td>\n",
       "      <td>23.38</td>\n",
       "    </tr>\n",
       "    <tr>\n",
       "      <th>309</th>\n",
       "      <td>2024-12-01 17:10:40</td>\n",
       "      <td>23.32</td>\n",
       "    </tr>\n",
       "    <tr>\n",
       "      <th>2574</th>\n",
       "      <td>2024-11-15 23:40:40</td>\n",
       "      <td>23.64</td>\n",
       "    </tr>\n",
       "    <tr>\n",
       "      <th>2575</th>\n",
       "      <td>2024-11-15 23:30:40</td>\n",
       "      <td>18.85</td>\n",
       "    </tr>\n",
       "    <tr>\n",
       "      <th>...</th>\n",
       "      <td>...</td>\n",
       "      <td>...</td>\n",
       "    </tr>\n",
       "    <tr>\n",
       "      <th>178376</th>\n",
       "      <td>2021-04-19 21:57:26</td>\n",
       "      <td>24.41</td>\n",
       "    </tr>\n",
       "    <tr>\n",
       "      <th>178377</th>\n",
       "      <td>2021-04-19 21:47:26</td>\n",
       "      <td>24.31</td>\n",
       "    </tr>\n",
       "    <tr>\n",
       "      <th>179285</th>\n",
       "      <td>2021-04-13 14:27:26</td>\n",
       "      <td>33.68</td>\n",
       "    </tr>\n",
       "    <tr>\n",
       "      <th>179286</th>\n",
       "      <td>2021-04-13 14:17:26</td>\n",
       "      <td>34.51</td>\n",
       "    </tr>\n",
       "    <tr>\n",
       "      <th>179287</th>\n",
       "      <td>2021-04-13 14:07:26</td>\n",
       "      <td>34.04</td>\n",
       "    </tr>\n",
       "  </tbody>\n",
       "</table>\n",
       "<p>8294 rows × 2 columns</p>\n",
       "</div>"
      ]
     },
     "execution_count": 8,
     "metadata": {},
     "output_type": "execute_result"
    }
   ],
   "execution_count": 8
  }
 ],
 "metadata": {
  "kernelspec": {
   "display_name": "Python 3",
   "language": "python",
   "name": "python3"
  },
  "language_info": {
   "codemirror_mode": {
    "name": "ipython",
    "version": 2
   },
   "file_extension": ".py",
   "mimetype": "text/x-python",
   "name": "python",
   "nbconvert_exporter": "python",
   "pygments_lexer": "ipython2",
   "version": "2.7.6"
  }
 },
 "nbformat": 4,
 "nbformat_minor": 5
}
