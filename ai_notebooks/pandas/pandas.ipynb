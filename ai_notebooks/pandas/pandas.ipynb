{
 "cells": [
  {
   "cell_type": "code",
   "execution_count": null,
   "id": "initial_id",
   "metadata": {
    "ExecuteTime": {
     "end_time": "2025-05-06T01:59:05.214410Z",
     "start_time": "2025-05-06T01:59:05.211274Z"
    },
    "collapsed": true
   },
   "outputs": [],
   "source": [
    "import pandas as pd"
   ]
  },
  {
   "cell_type": "markdown",
   "id": "dd091920c6db41a2",
   "metadata": {},
   "source": [
    "### Pandas Series"
   ]
  },
  {
   "cell_type": "code",
   "execution_count": null,
   "id": "653bded61150b0cc",
   "metadata": {
    "ExecuteTime": {
     "end_time": "2025-05-06T01:59:05.346153Z",
     "start_time": "2025-05-06T01:59:05.331832Z"
    }
   },
   "outputs": [],
   "source": [
    "# pd.Series(data, index)\n",
    "groceries = pd.Series(data=[30, 6, 'Yes', 'No'], index=['eggs', 'apples', 'milk', 'bread'])\n",
    "groceries"
   ]
  },
  {
   "cell_type": "code",
   "execution_count": null,
   "id": "6a19ffc6b13be253",
   "metadata": {
    "ExecuteTime": {
     "end_time": "2025-05-06T01:59:05.434726Z",
     "start_time": "2025-05-06T01:59:05.428642Z"
    }
   },
   "outputs": [],
   "source": [
    "groceries.shape"
   ]
  },
  {
   "cell_type": "code",
   "execution_count": null,
   "id": "3a6ff66c608bca93",
   "metadata": {
    "ExecuteTime": {
     "end_time": "2025-05-06T01:59:05.643625Z",
     "start_time": "2025-05-06T01:59:05.638775Z"
    }
   },
   "outputs": [],
   "source": [
    "groceries.ndim"
   ]
  },
  {
   "cell_type": "code",
   "execution_count": null,
   "id": "ea4e73fe3b786344",
   "metadata": {
    "ExecuteTime": {
     "end_time": "2025-05-06T01:59:05.835805Z",
     "start_time": "2025-05-06T01:59:05.829687Z"
    }
   },
   "outputs": [],
   "source": [
    "groceries.size"
   ]
  },
  {
   "cell_type": "code",
   "execution_count": null,
   "id": "a89cc526e06e59d9",
   "metadata": {
    "ExecuteTime": {
     "end_time": "2025-05-06T01:59:06.041849Z",
     "start_time": "2025-05-06T01:59:06.036883Z"
    }
   },
   "outputs": [],
   "source": [
    "groceries.values"
   ]
  },
  {
   "cell_type": "code",
   "execution_count": null,
   "id": "1f092112b2b8557d",
   "metadata": {
    "ExecuteTime": {
     "end_time": "2025-05-06T01:59:06.178754Z",
     "start_time": "2025-05-06T01:59:06.171200Z"
    }
   },
   "outputs": [],
   "source": [
    "groceries.index"
   ]
  },
  {
   "cell_type": "code",
   "execution_count": null,
   "id": "633a91ad358c90a2",
   "metadata": {
    "ExecuteTime": {
     "end_time": "2025-05-06T01:59:06.290987Z",
     "start_time": "2025-05-06T01:59:06.283776Z"
    }
   },
   "outputs": [],
   "source": [
    "x = 'bananas' in groceries\n",
    "x"
   ]
  },
  {
   "cell_type": "code",
   "execution_count": null,
   "id": "be81859782f977a2",
   "metadata": {
    "ExecuteTime": {
     "end_time": "2025-05-06T01:59:06.496149Z",
     "start_time": "2025-05-06T01:59:06.489594Z"
    }
   },
   "outputs": [],
   "source": [
    "y = 'bread' in groceries\n",
    "y"
   ]
  },
  {
   "cell_type": "code",
   "execution_count": null,
   "id": "406e93b44a3f9d52",
   "metadata": {
    "ExecuteTime": {
     "end_time": "2025-05-06T01:59:06.618833Z",
     "start_time": "2025-05-06T01:59:06.612940Z"
    }
   },
   "outputs": [],
   "source": [
    "groceries['eggs']"
   ]
  },
  {
   "cell_type": "code",
   "execution_count": null,
   "id": "bd47cdcd532dd24",
   "metadata": {
    "ExecuteTime": {
     "end_time": "2025-05-06T01:59:06.748483Z",
     "start_time": "2025-05-06T01:59:06.740817Z"
    }
   },
   "outputs": [],
   "source": [
    "groceries[['milk', 'bread']]"
   ]
  },
  {
   "cell_type": "code",
   "execution_count": null,
   "id": "de7519af505e5c23",
   "metadata": {
    "ExecuteTime": {
     "end_time": "2025-05-06T01:59:06.872339Z",
     "start_time": "2025-05-06T01:59:06.863250Z"
    }
   },
   "outputs": [],
   "source": [
    "groceries.loc[['eggs', 'apples']]"
   ]
  },
  {
   "cell_type": "code",
   "execution_count": null,
   "id": "610bba841a94b450",
   "metadata": {
    "ExecuteTime": {
     "end_time": "2025-05-06T01:59:07.110317Z",
     "start_time": "2025-05-06T01:59:07.103280Z"
    }
   },
   "outputs": [],
   "source": [
    " groceries[[0, 1]]"
   ]
  },
  {
   "cell_type": "code",
   "execution_count": null,
   "id": "76db572af9ef2ac7",
   "metadata": {
    "ExecuteTime": {
     "end_time": "2025-05-06T01:59:07.446648Z",
     "start_time": "2025-05-06T01:59:07.438887Z"
    }
   },
   "outputs": [],
   "source": [
    "groceries[[-1]]"
   ]
  },
  {
   "cell_type": "code",
   "execution_count": null,
   "id": "affc7f8c8fa6d1c8",
   "metadata": {
    "ExecuteTime": {
     "end_time": "2025-05-06T01:59:07.855524Z",
     "start_time": "2025-05-06T01:59:07.847651Z"
    }
   },
   "outputs": [],
   "source": [
    "groceries[0]"
   ]
  },
  {
   "cell_type": "code",
   "execution_count": null,
   "id": "8197158f14421d76",
   "metadata": {
    "ExecuteTime": {
     "end_time": "2025-05-06T01:59:08.317741Z",
     "start_time": "2025-05-06T01:59:08.309712Z"
    }
   },
   "outputs": [],
   "source": [
    "groceries.iloc[[2, 3]]"
   ]
  },
  {
   "cell_type": "code",
   "execution_count": null,
   "id": "9481298b85aafecc",
   "metadata": {
    "ExecuteTime": {
     "end_time": "2025-05-06T01:59:08.655901Z",
     "start_time": "2025-05-06T01:59:08.647197Z"
    }
   },
   "outputs": [],
   "source": [
    "groceries"
   ]
  },
  {
   "cell_type": "code",
   "execution_count": null,
   "id": "fcd0d647425b72a2",
   "metadata": {
    "ExecuteTime": {
     "end_time": "2025-05-06T01:59:08.928876Z",
     "start_time": "2025-05-06T01:59:08.925385Z"
    }
   },
   "outputs": [],
   "source": [
    "groceries['eggs'] = 2"
   ]
  },
  {
   "cell_type": "code",
   "execution_count": null,
   "id": "ea10088910f0ab3e",
   "metadata": {
    "ExecuteTime": {
     "end_time": "2025-05-06T01:59:09.159712Z",
     "start_time": "2025-05-06T01:59:09.153548Z"
    }
   },
   "outputs": [],
   "source": [
    "groceries"
   ]
  },
  {
   "cell_type": "code",
   "execution_count": null,
   "id": "2f21c61fffd15796",
   "metadata": {
    "ExecuteTime": {
     "end_time": "2025-05-06T01:59:09.473716Z",
     "start_time": "2025-05-06T01:59:09.465559Z"
    }
   },
   "outputs": [],
   "source": [
    "# We can also delete items from a Pandas Series by using the .drop() method\n",
    "groceries.drop('apples')"
   ]
  },
  {
   "cell_type": "code",
   "execution_count": null,
   "id": "784e99ac853680a7",
   "metadata": {
    "ExecuteTime": {
     "end_time": "2025-05-06T01:59:09.755395Z",
     "start_time": "2025-05-06T01:59:09.747708Z"
    }
   },
   "outputs": [],
   "source": [
    "groceries"
   ]
  },
  {
   "cell_type": "code",
   "execution_count": null,
   "id": "e9691070246132bd",
   "metadata": {
    "ExecuteTime": {
     "end_time": "2025-05-06T01:59:10.139255Z",
     "start_time": "2025-05-06T01:59:10.134847Z"
    }
   },
   "outputs": [],
   "source": [
    "groceries.drop('apples', inplace=True)"
   ]
  },
  {
   "cell_type": "code",
   "execution_count": null,
   "id": "40825684c9b133cb",
   "metadata": {
    "ExecuteTime": {
     "end_time": "2025-05-06T01:59:10.475354Z",
     "start_time": "2025-05-06T01:59:10.467545Z"
    }
   },
   "outputs": [],
   "source": [
    "groceries"
   ]
  },
  {
   "cell_type": "code",
   "execution_count": null,
   "id": "8602b98fdf857d6",
   "metadata": {
    "ExecuteTime": {
     "end_time": "2025-05-06T01:59:10.692436Z",
     "start_time": "2025-05-06T01:59:10.689342Z"
    }
   },
   "outputs": [],
   "source": [
    "# https://pandas.pydata.org/pandas-docs/stable/reference/series.html#reindexing-selection-label-manipulation"
   ]
  },
  {
   "cell_type": "code",
   "execution_count": null,
   "id": "ada5673bf1e34353",
   "metadata": {
    "ExecuteTime": {
     "end_time": "2025-05-06T01:59:10.809995Z",
     "start_time": "2025-05-06T01:59:10.803825Z"
    }
   },
   "outputs": [],
   "source": [
    "fruits = pd.Series(data=[10, 6, 3, ], index=['apples', 'oranges', 'bananas'])\n",
    "fruits"
   ]
  },
  {
   "cell_type": "code",
   "execution_count": null,
   "id": "ab80e2994ce3c31f",
   "metadata": {
    "ExecuteTime": {
     "end_time": "2025-05-06T01:59:11.132464Z",
     "start_time": "2025-05-06T01:59:11.124279Z"
    }
   },
   "outputs": [],
   "source": [
    "fruits + 2"
   ]
  },
  {
   "cell_type": "code",
   "execution_count": null,
   "id": "83691aa57eeed119",
   "metadata": {
    "ExecuteTime": {
     "end_time": "2025-05-06T01:59:11.411423Z",
     "start_time": "2025-05-06T01:59:11.404399Z"
    }
   },
   "outputs": [],
   "source": [
    "fruits - 2"
   ]
  },
  {
   "cell_type": "code",
   "execution_count": null,
   "id": "4d738b53dd32a4fa",
   "metadata": {
    "ExecuteTime": {
     "end_time": "2025-05-06T01:59:11.784779Z",
     "start_time": "2025-05-06T01:59:11.778291Z"
    }
   },
   "outputs": [],
   "source": [
    "fruits * 2"
   ]
  },
  {
   "cell_type": "code",
   "execution_count": null,
   "id": "46059a76b4174bd5",
   "metadata": {
    "ExecuteTime": {
     "end_time": "2025-05-06T01:59:12.174460Z",
     "start_time": "2025-05-06T01:59:12.166694Z"
    }
   },
   "outputs": [],
   "source": [
    "fruits / 2"
   ]
  },
  {
   "cell_type": "code",
   "execution_count": null,
   "id": "7fcb44072b8ef49d",
   "metadata": {
    "ExecuteTime": {
     "end_time": "2025-05-06T01:59:12.544362Z",
     "start_time": "2025-05-06T01:59:12.538432Z"
    }
   },
   "outputs": [],
   "source": [
    "import numpy as np"
   ]
  },
  {
   "cell_type": "code",
   "execution_count": null,
   "id": "3cb8564d283cb18b",
   "metadata": {
    "ExecuteTime": {
     "end_time": "2025-05-06T01:59:12.895822Z",
     "start_time": "2025-05-06T01:59:12.887813Z"
    }
   },
   "outputs": [],
   "source": [
    "np.exp(fruits)"
   ]
  },
  {
   "cell_type": "code",
   "execution_count": null,
   "id": "ecae2656e2ced500",
   "metadata": {
    "ExecuteTime": {
     "end_time": "2025-05-06T01:59:13.198533Z",
     "start_time": "2025-05-06T01:59:13.190423Z"
    }
   },
   "outputs": [],
   "source": [
    "np.sqrt(fruits)"
   ]
  },
  {
   "cell_type": "code",
   "execution_count": null,
   "id": "396bc5bdb756bba6",
   "metadata": {
    "ExecuteTime": {
     "end_time": "2025-05-06T01:59:13.465925Z",
     "start_time": "2025-05-06T01:59:13.457741Z"
    }
   },
   "outputs": [],
   "source": [
    "np.power(fruits, 2)"
   ]
  },
  {
   "cell_type": "code",
   "execution_count": null,
   "id": "d63e0bc08efbd419",
   "metadata": {
    "ExecuteTime": {
     "end_time": "2025-05-06T01:59:13.861470Z",
     "start_time": "2025-05-06T01:59:13.856984Z"
    }
   },
   "outputs": [],
   "source": [
    "x = fruits['bananas'] + 2\n",
    "x"
   ]
  },
  {
   "cell_type": "code",
   "execution_count": null,
   "id": "dec631ce806393d4",
   "metadata": {
    "ExecuteTime": {
     "end_time": "2025-05-06T01:59:14.223454Z",
     "start_time": "2025-05-06T01:59:14.215894Z"
    }
   },
   "outputs": [],
   "source": [
    "fruits.iloc[0] - 2"
   ]
  },
  {
   "cell_type": "code",
   "execution_count": null,
   "id": "1af3486c9a98a474",
   "metadata": {
    "ExecuteTime": {
     "end_time": "2025-05-06T01:59:14.543029Z",
     "start_time": "2025-05-06T01:59:14.533617Z"
    }
   },
   "outputs": [],
   "source": [
    "fruits[['apples', 'oranges']] * 2"
   ]
  },
  {
   "cell_type": "code",
   "execution_count": null,
   "id": "79d76fc5ac6bbb59",
   "metadata": {
    "ExecuteTime": {
     "end_time": "2025-05-06T01:59:14.705879Z",
     "start_time": "2025-05-06T01:59:14.698381Z"
    }
   },
   "outputs": [],
   "source": [
    "fruits.loc[['apples', 'oranges']] / 2"
   ]
  },
  {
   "cell_type": "code",
   "execution_count": null,
   "id": "ab13818639958604",
   "metadata": {
    "ExecuteTime": {
     "end_time": "2025-05-06T01:59:14.999697Z",
     "start_time": "2025-05-06T01:59:14.993119Z"
    }
   },
   "outputs": [],
   "source": [
    "groceries * 2"
   ]
  },
  {
   "cell_type": "code",
   "execution_count": null,
   "id": "f0354b27db93e7b6",
   "metadata": {
    "ExecuteTime": {
     "end_time": "2025-05-06T01:59:15.454716Z",
     "start_time": "2025-05-06T01:59:15.451718Z"
    }
   },
   "outputs": [],
   "source": [
    "# https://pandas.pydata.org/pandas-docs/stable/reference/series.html#indexing-iteration\n",
    "# https://pandas.pydata.org/pandas-docs/stable/reference/series.html#reindexing-selection-label-manipulation"
   ]
  },
  {
   "cell_type": "markdown",
   "id": "b27bd00f72dc7263",
   "metadata": {},
   "source": [
    "### Data Frames"
   ]
  },
  {
   "cell_type": "code",
   "execution_count": null,
   "id": "84ae91fa4737cb58",
   "metadata": {
    "ExecuteTime": {
     "end_time": "2025-05-06T01:59:15.712367Z",
     "start_time": "2025-05-06T01:59:15.706569Z"
    }
   },
   "outputs": [],
   "source": [
    "items = {'Bob': pd.Series(data=[245, 25, 55], index=['bike', 'pants', 'watch']),\n",
    "         'Alice': pd.Series(data=[40, 110, 500, 45], index=['book', 'glasses', 'bike', 'pants'])}\n"
   ]
  },
  {
   "cell_type": "code",
   "execution_count": null,
   "id": "67bbca3d887030ac",
   "metadata": {
    "ExecuteTime": {
     "end_time": "2025-05-06T01:59:15.939525Z",
     "start_time": "2025-05-06T01:59:15.925842Z"
    }
   },
   "outputs": [],
   "source": [
    "shopping_carts = pd.DataFrame(items)\n",
    "shopping_carts"
   ]
  },
  {
   "cell_type": "code",
   "execution_count": null,
   "id": "bb4deeadd0d94565",
   "metadata": {
    "ExecuteTime": {
     "end_time": "2025-05-06T01:59:16.089360Z",
     "start_time": "2025-05-06T01:59:16.079345Z"
    }
   },
   "outputs": [],
   "source": [
    "data = {'Bob': pd.Series([245, 25, 55]),\n",
    "        'Alice': pd.Series([40, 110, 500, 45])}\n",
    "\n",
    "df = pd.DataFrame(data)\n",
    "df"
   ]
  },
  {
   "cell_type": "code",
   "execution_count": null,
   "id": "47debf3923971d58",
   "metadata": {
    "ExecuteTime": {
     "end_time": "2025-05-06T01:59:16.380375Z",
     "start_time": "2025-05-06T01:59:16.371851Z"
    }
   },
   "outputs": [],
   "source": [
    "shopping_carts"
   ]
  },
  {
   "cell_type": "code",
   "execution_count": null,
   "id": "43f5348c7b95ad97",
   "metadata": {
    "ExecuteTime": {
     "end_time": "2025-05-06T01:59:16.771401Z",
     "start_time": "2025-05-06T01:59:16.766805Z"
    }
   },
   "outputs": [],
   "source": [
    "shopping_carts.shape"
   ]
  },
  {
   "cell_type": "code",
   "execution_count": null,
   "id": "3d12e61b4e45780c",
   "metadata": {
    "ExecuteTime": {
     "end_time": "2025-05-06T01:59:17.152304Z",
     "start_time": "2025-05-06T01:59:17.147514Z"
    }
   },
   "outputs": [],
   "source": [
    "shopping_carts.ndim"
   ]
  },
  {
   "cell_type": "code",
   "execution_count": null,
   "id": "10abd17de8cf36ad",
   "metadata": {
    "ExecuteTime": {
     "end_time": "2025-05-06T01:59:17.395011Z",
     "start_time": "2025-05-06T01:59:17.390287Z"
    }
   },
   "outputs": [],
   "source": [
    "shopping_carts.size"
   ]
  },
  {
   "cell_type": "code",
   "execution_count": null,
   "id": "f53f305feec2fd37",
   "metadata": {
    "ExecuteTime": {
     "end_time": "2025-05-06T01:59:17.569205Z",
     "start_time": "2025-05-06T01:59:17.561876Z"
    }
   },
   "outputs": [],
   "source": [
    "shopping_carts.values"
   ]
  },
  {
   "cell_type": "code",
   "execution_count": null,
   "id": "9531dfa78e610761",
   "metadata": {
    "ExecuteTime": {
     "end_time": "2025-05-06T01:59:17.725818Z",
     "start_time": "2025-05-06T01:59:17.718848Z"
    }
   },
   "outputs": [],
   "source": [
    "shopping_carts.index"
   ]
  },
  {
   "cell_type": "code",
   "execution_count": null,
   "id": "3e6e0efcb0b6e92e",
   "metadata": {
    "ExecuteTime": {
     "end_time": "2025-05-06T01:59:17.962209Z",
     "start_time": "2025-05-06T01:59:17.954888Z"
    }
   },
   "outputs": [],
   "source": [
    "shopping_carts.columns"
   ]
  },
  {
   "cell_type": "code",
   "execution_count": null,
   "id": "8369d4c9871d81b",
   "metadata": {
    "ExecuteTime": {
     "end_time": "2025-05-06T01:59:18.186728Z",
     "start_time": "2025-05-06T01:59:18.180683Z"
    }
   },
   "outputs": [],
   "source": [
    "items"
   ]
  },
  {
   "cell_type": "code",
   "execution_count": null,
   "id": "bc0ef9bf1cc8bdd",
   "metadata": {
    "ExecuteTime": {
     "end_time": "2025-05-06T01:59:18.319335Z",
     "start_time": "2025-05-06T01:59:18.310137Z"
    }
   },
   "outputs": [],
   "source": [
    "bob_shopping_cart = pd.DataFrame(items, columns=['Bob'])\n",
    "bob_shopping_cart"
   ]
  },
  {
   "cell_type": "code",
   "execution_count": null,
   "id": "18aeb399314cd5a0",
   "metadata": {
    "ExecuteTime": {
     "end_time": "2025-05-06T01:59:18.580635Z",
     "start_time": "2025-05-06T01:59:18.571896Z"
    }
   },
   "outputs": [],
   "source": [
    "sel_shopping_cart = pd.DataFrame(items, index=['pants', 'book'])\n",
    "sel_shopping_cart"
   ]
  },
  {
   "cell_type": "code",
   "execution_count": null,
   "id": "4911818315ae379c",
   "metadata": {
    "ExecuteTime": {
     "end_time": "2025-05-06T01:59:18.885474Z",
     "start_time": "2025-05-06T01:59:18.875675Z"
    }
   },
   "outputs": [],
   "source": [
    "alice_sel_shopping_cart = pd.DataFrame(items, index=['glasses', 'bike'], columns=['Alice'])\n",
    "alice_sel_shopping_cart"
   ]
  },
  {
   "cell_type": "code",
   "execution_count": null,
   "id": "fea4bec9153360c5",
   "metadata": {
    "ExecuteTime": {
     "end_time": "2025-05-06T01:59:19.438738Z",
     "start_time": "2025-05-06T01:59:19.429587Z"
    }
   },
   "outputs": [],
   "source": [
    "data = {'Integers': [1, 2, 3],\n",
    "        'Floats': [4.5, 8.2, 9.6]}\n",
    "df = pd.DataFrame(data)\n",
    "df"
   ]
  },
  {
   "cell_type": "code",
   "execution_count": null,
   "id": "9f0d1e517441131e",
   "metadata": {
    "ExecuteTime": {
     "end_time": "2025-05-06T01:59:19.824009Z",
     "start_time": "2025-05-06T01:59:19.814248Z"
    }
   },
   "outputs": [],
   "source": [
    "data = {'Integers': [1, 2, 3],\n",
    "        'Floats': [4.5, 8.2, 9.6]}\n",
    "df = pd.DataFrame(data, index=['label 1', 'label 2', 'label 3'])\n",
    "df"
   ]
  },
  {
   "cell_type": "code",
   "execution_count": null,
   "id": "36ec1bc48b1b53fe",
   "metadata": {
    "ExecuteTime": {
     "end_time": "2025-05-06T01:59:20.422345Z",
     "start_time": "2025-05-06T01:59:20.411139Z"
    }
   },
   "outputs": [],
   "source": [
    "items2 = [{'bikes': 20, 'pants': 30, 'watches': 35},\n",
    "          {'watches': 10, 'glasses': 50, 'bikes': 15, 'pants': 5}]\n",
    "store_items = pd.DataFrame(items2)\n",
    "store_items"
   ]
  },
  {
   "cell_type": "code",
   "execution_count": null,
   "id": "40a2d11ce45a8ef6",
   "metadata": {
    "ExecuteTime": {
     "end_time": "2025-05-06T01:59:20.860970Z",
     "start_time": "2025-05-06T01:59:20.849122Z"
    }
   },
   "outputs": [],
   "source": [
    "items2 = [{'bikes': 20, 'pants': 30, 'watches': 35},\n",
    "          {'watches': 10, 'glasses': 50, 'bikes': 15, 'pants': 5}]\n",
    "store_items = pd.DataFrame(items2, index=['store 1', 'store 2'])\n",
    "store_items"
   ]
  },
  {
   "cell_type": "code",
   "execution_count": null,
   "id": "1607707b78180f9a",
   "metadata": {
    "ExecuteTime": {
     "end_time": "2025-05-06T01:59:21.372045Z",
     "start_time": "2025-05-06T01:59:21.368215Z"
    }
   },
   "outputs": [],
   "source": [
    "# https://pandas.pydata.org/pandas-docs/stable/user_guide/dsintro.html#intro-to-data-structures\n",
    "# https://pandas.pydata.org/pandas-docs/stable/reference/frame.html#dataframe"
   ]
  },
  {
   "cell_type": "code",
   "execution_count": null,
   "id": "33c5d4ebe6374e41",
   "metadata": {
    "ExecuteTime": {
     "end_time": "2025-05-06T01:59:21.692868Z",
     "start_time": "2025-05-06T01:59:21.685300Z"
    }
   },
   "outputs": [],
   "source": [
    "# Access elements using labels\n",
    "store_items[['bikes']]"
   ]
  },
  {
   "cell_type": "code",
   "execution_count": null,
   "id": "c7d60f7cb61e1680",
   "metadata": {
    "ExecuteTime": {
     "end_time": "2025-05-06T01:59:21.960180Z",
     "start_time": "2025-05-06T01:59:21.948915Z"
    }
   },
   "outputs": [],
   "source": [
    "store_items[['bikes', 'pants']]"
   ]
  },
  {
   "cell_type": "code",
   "execution_count": null,
   "id": "a5b1402c7a4f01f6",
   "metadata": {
    "ExecuteTime": {
     "end_time": "2025-05-06T01:59:22.274219Z",
     "start_time": "2025-05-06T01:59:22.263957Z"
    }
   },
   "outputs": [],
   "source": [
    "x = store_items.loc[['store 1']]\n",
    "x"
   ]
  },
  {
   "cell_type": "code",
   "execution_count": null,
   "id": "3a37c6de34ac129a",
   "metadata": {
    "ExecuteTime": {
     "end_time": "2025-05-06T01:59:22.560465Z",
     "start_time": "2025-05-06T01:59:22.553561Z"
    }
   },
   "outputs": [],
   "source": [
    "x = store_items['bikes']['store 2']\n",
    "x"
   ]
  },
  {
   "cell_type": "code",
   "execution_count": null,
   "id": "16eb1801363640da",
   "metadata": {
    "ExecuteTime": {
     "end_time": "2025-05-06T01:59:22.967887Z",
     "start_time": "2025-05-06T01:59:22.957443Z"
    }
   },
   "outputs": [],
   "source": [
    "# Add a column to an existing DataFrame\n",
    "store_items['shirts'] = [15, 2]\n",
    "store_items"
   ]
  },
  {
   "cell_type": "code",
   "execution_count": null,
   "id": "6821433655225295",
   "metadata": {
    "ExecuteTime": {
     "end_time": "2025-05-06T01:59:23.282827Z",
     "start_time": "2025-05-06T01:59:23.271536Z"
    }
   },
   "outputs": [],
   "source": [
    "store_items['suits'] = store_items['pants'] + store_items['shirts']\n",
    "store_items"
   ]
  },
  {
   "cell_type": "code",
   "execution_count": null,
   "id": "a9273a4e3c1a091f",
   "metadata": {
    "ExecuteTime": {
     "end_time": "2025-05-06T01:59:23.584218Z",
     "start_time": "2025-05-06T01:59:23.575627Z"
    }
   },
   "outputs": [],
   "source": [
    "# Create a row to be added to the DataFrame\n",
    "new_items = [{'bikes': 20, 'pants': 30, 'watches': 35, 'glasses': 4}]\n",
    "new_store = pd.DataFrame(new_items, index=['store 3'])\n",
    "new_store"
   ]
  },
  {
   "cell_type": "code",
   "execution_count": null,
   "id": "a0a20ee70cb11d5d",
   "metadata": {
    "ExecuteTime": {
     "end_time": "2025-05-06T01:59:23.905885Z",
     "start_time": "2025-05-06T01:59:23.892432Z"
    }
   },
   "outputs": [],
   "source": [
    "store_items = pd.concat([store_items, new_store])\n",
    "store_items"
   ]
  },
  {
   "cell_type": "code",
   "execution_count": null,
   "id": "49b3a061a10f52c2",
   "metadata": {
    "ExecuteTime": {
     "end_time": "2025-05-06T01:59:24.344700Z",
     "start_time": "2025-05-06T01:59:24.332512Z"
    }
   },
   "outputs": [],
   "source": [
    "# Add new column that has data from the existing columns\n",
    "store_items['new watches'] = store_items['watches'][1:]\n",
    "store_items"
   ]
  },
  {
   "cell_type": "code",
   "execution_count": null,
   "id": "da86c3b74b8d79ba",
   "metadata": {
    "ExecuteTime": {
     "end_time": "2025-05-06T01:59:24.733835Z",
     "start_time": "2025-05-06T01:59:24.719880Z"
    }
   },
   "outputs": [],
   "source": [
    "# Add new column at a specific location\n",
    "store_items.insert(4, 'shoes', [8, 5, 0])\n",
    "store_items"
   ]
  },
  {
   "cell_type": "code",
   "execution_count": null,
   "id": "676eab38641c668f",
   "metadata": {
    "ExecuteTime": {
     "end_time": "2025-05-06T01:59:25.144618Z",
     "start_time": "2025-05-06T01:59:25.131314Z"
    }
   },
   "outputs": [],
   "source": [
    "# Delete one column from a DataFrame\n",
    "store_items.pop('pants')\n",
    "store_items"
   ]
  },
  {
   "cell_type": "code",
   "execution_count": null,
   "id": "75cc799b372b2600",
   "metadata": {
    "ExecuteTime": {
     "end_time": "2025-05-06T01:59:25.591104Z",
     "start_time": "2025-05-06T01:59:25.578419Z"
    }
   },
   "outputs": [],
   "source": [
    "# Delete multiple columns from a DataFrame\n",
    "store_items = store_items.drop(['watches', 'shoes'], axis=1)\n",
    "store_items"
   ]
  },
  {
   "cell_type": "code",
   "execution_count": null,
   "id": "bf40b27deaa67066",
   "metadata": {
    "ExecuteTime": {
     "end_time": "2025-05-06T01:59:26.078195Z",
     "start_time": "2025-05-06T01:59:26.065047Z"
    }
   },
   "outputs": [],
   "source": [
    "# Delete rows from a DataFrame\n",
    "store_items = store_items.drop(['store 2', 'store 1'], axis=0)\n",
    "store_items"
   ]
  },
  {
   "cell_type": "code",
   "execution_count": null,
   "id": "882c7fee309c142c",
   "metadata": {
    "ExecuteTime": {
     "end_time": "2025-05-06T01:59:26.503436Z",
     "start_time": "2025-05-06T01:59:26.492410Z"
    }
   },
   "outputs": [],
   "source": [
    "store_items = store_items.rename(columns={'bikes': 'hats'})\n",
    "store_items"
   ]
  },
  {
   "cell_type": "code",
   "execution_count": null,
   "id": "f2bb89d80d058c98",
   "metadata": {
    "ExecuteTime": {
     "end_time": "2025-05-06T01:59:26.893132Z",
     "start_time": "2025-05-06T01:59:26.882557Z"
    }
   },
   "outputs": [],
   "source": [
    "store_items = store_items.rename(index={'store 3': 'last store'})\n",
    "store_items"
   ]
  },
  {
   "cell_type": "code",
   "execution_count": null,
   "id": "eca0955efe79182b",
   "metadata": {
    "ExecuteTime": {
     "end_time": "2025-05-06T01:59:27.357592Z",
     "start_time": "2025-05-06T01:59:27.345997Z"
    }
   },
   "outputs": [],
   "source": [
    "store_items = store_items.set_index('hats')\n",
    "store_items"
   ]
  },
  {
   "cell_type": "markdown",
   "id": "973212452c57f444",
   "metadata": {},
   "source": [
    "### Dealing with NaN"
   ]
  },
  {
   "cell_type": "code",
   "execution_count": null,
   "id": "28b8611ab4301a7e",
   "metadata": {
    "ExecuteTime": {
     "end_time": "2025-05-06T01:59:27.824894Z",
     "start_time": "2025-05-06T01:59:27.800217Z"
    }
   },
   "outputs": [],
   "source": [
    "items2 = [{'bikes': 20, 'pants': 30, 'watches': 35, 'shirts': 15, 'shoes': 8, 'suits': 45},\n",
    "          {'watches': 10, 'glasses': 50, 'bikes': 15, 'pants': 5, 'shirts': 2, 'shoes': 5, 'suits': 7},\n",
    "          {'bikes': 20, 'pants': 30, 'watches': 35, 'glasses': 4, 'shoes': 10}]\n",
    "store_items = pd.DataFrame(items2, index=['store 1', 'store 2', 'store 3'])\n",
    "store_items"
   ]
  },
  {
   "cell_type": "code",
   "execution_count": null,
   "id": "cdc342bf92d00ccb",
   "metadata": {
    "ExecuteTime": {
     "end_time": "2025-05-06T01:59:28.260793Z",
     "start_time": "2025-05-06T01:59:28.253239Z"
    }
   },
   "outputs": [],
   "source": [
    "# Count the total NaN values\n",
    "x = store_items.isnull().sum().sum()\n",
    "x"
   ]
  },
  {
   "cell_type": "code",
   "execution_count": null,
   "id": "820d380355f79d7d",
   "metadata": {
    "ExecuteTime": {
     "end_time": "2025-05-06T01:59:28.664908Z",
     "start_time": "2025-05-06T01:59:28.658232Z"
    }
   },
   "outputs": [],
   "source": [
    "# Count the total non-NaN values\n",
    "y = store_items.count()\n",
    "y"
   ]
  },
  {
   "cell_type": "code",
   "execution_count": null,
   "id": "1fac69beaa5a281f",
   "metadata": {
    "ExecuteTime": {
     "end_time": "2025-05-06T01:59:28.920737Z",
     "start_time": "2025-05-06T01:59:28.915389Z"
    }
   },
   "outputs": [],
   "source": [
    "# df.dropna(axis) method eliminates any rows with NaN values when axis = 0 is used and will eliminate any columns with NaN values when axis = 1 is used"
   ]
  },
  {
   "cell_type": "code",
   "execution_count": null,
   "id": "dbaeb1d255c4f93e",
   "metadata": {
    "ExecuteTime": {
     "end_time": "2025-05-06T01:59:29.094603Z",
     "start_time": "2025-05-06T01:59:29.090985Z"
    }
   },
   "outputs": [],
   "source": [
    "# Tip: Remember, you learned that you can read axis = 0 as \"down\" and axis = 1 as \"across\" the given Numpy ndarray or Pandas dataframe object"
   ]
  },
  {
   "cell_type": "code",
   "execution_count": null,
   "id": "45d869fafd72740a",
   "metadata": {
    "ExecuteTime": {
     "end_time": "2025-05-06T01:59:29.356601Z",
     "start_time": "2025-05-06T01:59:29.345939Z"
    }
   },
   "outputs": [],
   "source": [
    "# Drop rows having NaN values\n",
    "store_items.dropna(axis=0, inplace=False)"
   ]
  },
  {
   "cell_type": "code",
   "execution_count": null,
   "id": "57049f0a63eb0f9c",
   "metadata": {
    "ExecuteTime": {
     "end_time": "2025-05-06T01:59:29.560636Z",
     "start_time": "2025-05-06T01:59:29.551234Z"
    }
   },
   "outputs": [],
   "source": [
    "# Drop columns having NaN values\n",
    "store_items.dropna(axis=1, inplace=False)"
   ]
  },
  {
   "cell_type": "markdown",
   "id": "13822626d1caa381",
   "metadata": {},
   "source": [
    "### Substituting NaN Values"
   ]
  },
  {
   "cell_type": "code",
   "execution_count": null,
   "id": "92abbc4632d0f622",
   "metadata": {
    "ExecuteTime": {
     "end_time": "2025-05-06T01:59:29.870102Z",
     "start_time": "2025-05-06T01:59:29.859302Z"
    }
   },
   "outputs": [],
   "source": [
    "store_items.fillna(0)"
   ]
  },
  {
   "cell_type": "code",
   "execution_count": null,
   "id": "7b5219791313d7b1",
   "metadata": {
    "ExecuteTime": {
     "end_time": "2025-05-06T01:59:30.283805Z",
     "start_time": "2025-05-06T01:59:30.272589Z"
    }
   },
   "outputs": [],
   "source": [
    "store_items.fillna(method='ffill', axis=0)"
   ]
  },
  {
   "cell_type": "code",
   "execution_count": null,
   "id": "77cb6c1978374c33",
   "metadata": {
    "ExecuteTime": {
     "end_time": "2025-05-06T01:59:30.736867Z",
     "start_time": "2025-05-06T01:59:30.721526Z"
    }
   },
   "outputs": [],
   "source": [
    "store_items.fillna(method='ffill', axis=1)"
   ]
  },
  {
   "cell_type": "code",
   "execution_count": null,
   "id": "3848924ec2fde4f4",
   "metadata": {
    "ExecuteTime": {
     "end_time": "2025-05-06T01:59:31.233181Z",
     "start_time": "2025-05-06T01:59:31.221Z"
    }
   },
   "outputs": [],
   "source": [
    "store_items.fillna(method='backfill', axis=0)"
   ]
  },
  {
   "cell_type": "code",
   "execution_count": null,
   "id": "7a9474392865f14a",
   "metadata": {
    "ExecuteTime": {
     "end_time": "2025-05-06T01:59:31.713408Z",
     "start_time": "2025-05-06T01:59:31.700553Z"
    }
   },
   "outputs": [],
   "source": [
    "store_items.fillna(method='backfill', axis=0, inplace=False)"
   ]
  },
  {
   "cell_type": "code",
   "execution_count": null,
   "id": "4f09aedc6cbbb857",
   "metadata": {
    "ExecuteTime": {
     "end_time": "2025-05-06T01:59:32.174225Z",
     "start_time": "2025-05-06T01:59:32.160008Z"
    }
   },
   "outputs": [],
   "source": [
    "store_items.interpolate(method='linear', axis=0)"
   ]
  },
  {
   "cell_type": "code",
   "execution_count": null,
   "id": "c1a4176be2daec15",
   "metadata": {
    "ExecuteTime": {
     "end_time": "2025-05-06T01:59:32.519853Z",
     "start_time": "2025-05-06T01:59:32.501605Z"
    }
   },
   "outputs": [],
   "source": [
    "store_items.interpolate(method='linear', axis=1)"
   ]
  },
  {
   "cell_type": "markdown",
   "id": "1d79dafeecc71b31",
   "metadata": {},
   "source": [
    "### Loading Data into a pandas DataFrame"
   ]
  },
  {
   "cell_type": "code",
   "execution_count": null,
   "id": "4c2023643c9085d5",
   "metadata": {
    "ExecuteTime": {
     "end_time": "2025-05-06T01:59:33.021511Z",
     "start_time": "2025-05-06T01:59:33.006441Z"
    }
   },
   "outputs": [],
   "source": [
    "google_stock = pd.read_csv('../data/goog.csv')\n",
    "google_stock.shape"
   ]
  },
  {
   "cell_type": "code",
   "execution_count": null,
   "id": "7a1b50bd2caf5600",
   "metadata": {
    "ExecuteTime": {
     "end_time": "2025-05-06T01:59:33.398256Z",
     "start_time": "2025-05-06T01:59:33.383901Z"
    }
   },
   "outputs": [],
   "source": [
    "google_stock"
   ]
  },
  {
   "cell_type": "code",
   "execution_count": null,
   "id": "c9ce1c78f60f98f1",
   "metadata": {
    "ExecuteTime": {
     "end_time": "2025-05-06T01:59:33.831057Z",
     "start_time": "2025-05-06T01:59:33.820335Z"
    }
   },
   "outputs": [],
   "source": [
    "google_stock.head(3)"
   ]
  },
  {
   "cell_type": "code",
   "execution_count": null,
   "id": "bb5a9c0ed41e1736",
   "metadata": {
    "ExecuteTime": {
     "end_time": "2025-05-06T01:59:34.291408Z",
     "start_time": "2025-05-06T01:59:34.279915Z"
    }
   },
   "outputs": [],
   "source": [
    "google_stock.tail(4)"
   ]
  },
  {
   "cell_type": "code",
   "execution_count": null,
   "id": "fe0b1d73e9ce88a9",
   "metadata": {
    "ExecuteTime": {
     "end_time": "2025-05-06T01:59:34.615925Z",
     "start_time": "2025-05-06T01:59:34.608896Z"
    }
   },
   "outputs": [],
   "source": [
    "google_stock.isnull().any()"
   ]
  },
  {
   "cell_type": "code",
   "execution_count": null,
   "id": "943531cbf1eebc9a",
   "metadata": {
    "ExecuteTime": {
     "end_time": "2025-05-06T01:59:35.034458Z",
     "start_time": "2025-05-06T01:59:35.001085Z"
    }
   },
   "outputs": [],
   "source": [
    "google_stock.describe()"
   ]
  },
  {
   "cell_type": "code",
   "execution_count": null,
   "id": "e621e06b27ca0781",
   "metadata": {
    "ExecuteTime": {
     "end_time": "2025-05-06T01:59:35.373485Z",
     "start_time": "2025-05-06T01:59:35.365056Z"
    }
   },
   "outputs": [],
   "source": [
    "google_stock['Adj Close'].describe()"
   ]
  },
  {
   "cell_type": "code",
   "execution_count": null,
   "id": "e71e1f38c8c63fc3",
   "metadata": {
    "ExecuteTime": {
     "end_time": "2025-05-06T01:59:35.722879Z",
     "start_time": "2025-05-06T01:59:35.714377Z"
    }
   },
   "outputs": [],
   "source": [
    "google_stock.max()"
   ]
  },
  {
   "cell_type": "code",
   "execution_count": null,
   "id": "1cc2a012f8777ab2",
   "metadata": {
    "ExecuteTime": {
     "end_time": "2025-05-06T01:59:36.109352Z",
     "start_time": "2025-05-06T01:59:36.102295Z"
    }
   },
   "outputs": [],
   "source": [
    "google_stock['Close'].min()"
   ]
  },
  {
   "cell_type": "code",
   "execution_count": null,
   "id": "15d374f733f00fd",
   "metadata": {
    "ExecuteTime": {
     "end_time": "2025-05-06T01:59:36.486854Z",
     "start_time": "2025-05-06T01:59:36.477120Z"
    }
   },
   "outputs": [],
   "source": [
    "google_stock.pop('Date')\n",
    "google_stock.mean()"
   ]
  },
  {
   "cell_type": "code",
   "execution_count": null,
   "id": "ec4a270b5330ffb7",
   "metadata": {
    "ExecuteTime": {
     "end_time": "2025-05-06T01:59:36.779004Z",
     "start_time": "2025-05-06T01:59:36.764731Z"
    }
   },
   "outputs": [],
   "source": [
    "\n",
    "google_stock.corr()"
   ]
  },
  {
   "cell_type": "code",
   "execution_count": null,
   "id": "5f625d50d0b989cf",
   "metadata": {
    "ExecuteTime": {
     "end_time": "2025-05-06T01:59:37.168778Z",
     "start_time": "2025-05-06T01:59:37.155609Z"
    }
   },
   "outputs": [],
   "source": [
    "google_stock"
   ]
  },
  {
   "cell_type": "code",
   "execution_count": null,
   "id": "a03bdb3e35f23948",
   "metadata": {
    "ExecuteTime": {
     "end_time": "2025-05-06T01:59:37.490649Z",
     "start_time": "2025-05-06T01:59:37.476327Z"
    }
   },
   "outputs": [],
   "source": [
    "data = pd.read_csv('../data/fake_company.csv')\n",
    "data"
   ]
  },
  {
   "cell_type": "code",
   "execution_count": null,
   "id": "bdb770816a95e6f1",
   "metadata": {
    "ExecuteTime": {
     "end_time": "2025-05-06T01:59:37.971948Z",
     "start_time": "2025-05-06T01:59:37.959391Z"
    }
   },
   "outputs": [],
   "source": [
    "data.groupby(['Year'])['Salary'].sum()"
   ]
  },
  {
   "cell_type": "code",
   "execution_count": null,
   "id": "c50781d7d8d15160",
   "metadata": {
    "ExecuteTime": {
     "end_time": "2025-05-06T01:59:38.499056Z",
     "start_time": "2025-05-06T01:59:38.491360Z"
    }
   },
   "outputs": [],
   "source": [
    "data.groupby(['Year'])['Salary'].mean()"
   ]
  },
  {
   "cell_type": "code",
   "execution_count": null,
   "id": "1edf94bb27e828b8",
   "metadata": {
    "ExecuteTime": {
     "end_time": "2025-05-06T01:59:39.043556Z",
     "start_time": "2025-05-06T01:59:39.033610Z"
    }
   },
   "outputs": [],
   "source": [
    "data.groupby(['Name'])['Salary'].sum()"
   ]
  },
  {
   "cell_type": "code",
   "execution_count": null,
   "id": "c059eaad6289238b",
   "metadata": {
    "ExecuteTime": {
     "end_time": "2025-05-06T01:59:39.662919Z",
     "start_time": "2025-05-06T01:59:39.654594Z"
    }
   },
   "outputs": [],
   "source": [
    "data.groupby(['Year', 'Department'])['Salary'].sum()"
   ]
  },
  {
   "cell_type": "code",
   "execution_count": null,
   "id": "fcf7981b145bce9f",
   "metadata": {
    "ExecuteTime": {
     "end_time": "2025-05-06T01:59:40.000180Z",
     "start_time": "2025-05-06T01:59:39.995990Z"
    }
   },
   "outputs": [],
   "source": [
    "# https://pandas.pydata.org/pandas-docs/stable/user_guide/10min.html"
   ]
  },
  {
   "cell_type": "code",
   "execution_count": 1,
   "id": "eb9f804597341f5a",
   "metadata": {
    "ExecuteTime": {
     "end_time": "2025-05-06T01:59:40.338455Z",
     "start_time": "2025-05-06T01:59:40.335566Z"
    }
   },
   "outputs": [],
   "source": [
    "# https://pandas.pydata.org/Pandas_Cheat_Sheet.pdf"
   ]
  },
  {
   "cell_type": "code",
   "execution_count": 2,
   "id": "c994d88b",
   "metadata": {},
   "outputs": [],
   "source": [
    "# UNPIVOT data\n",
    "# pd.melt()"
   ]
  },
  {
   "cell_type": "code",
   "execution_count": null,
   "id": "e12eb4fe",
   "metadata": {},
   "outputs": [],
   "source": []
  }
 ],
 "metadata": {
  "kernelspec": {
   "display_name": ".venv",
   "language": "python",
   "name": "python3"
  },
  "language_info": {
   "codemirror_mode": {
    "name": "ipython",
    "version": 3
   },
   "file_extension": ".py",
   "mimetype": "text/x-python",
   "name": "python",
   "nbconvert_exporter": "python",
   "pygments_lexer": "ipython3",
   "version": "3.12.3"
  }
 },
 "nbformat": 4,
 "nbformat_minor": 5
}
