{
 "cells": [
  {
   "cell_type": "code",
   "id": "d055848669096fdf",
   "metadata": {
    "ExecuteTime": {
     "end_time": "2025-05-05T14:21:07.752992Z",
     "start_time": "2025-05-05T14:21:07.750064Z"
    }
   },
   "source": [
    "# https://youtu.be/8gGNXQgCmIE?si=NETH_JUZNOdWdOf3\n",
    "# https://youtu.be/FXKMmilL70w?si=ZppZlY8w9rQBOELW"
   ],
   "outputs": [],
   "execution_count": 1
  },
  {
   "metadata": {},
   "cell_type": "markdown",
   "source": "# Indexing & Filtering",
   "id": "8c70efa0bf1bb443"
  },
  {
   "metadata": {
    "ExecuteTime": {
     "end_time": "2025-05-05T14:21:07.776738Z",
     "start_time": "2025-05-05T14:21:07.772923Z"
    }
   },
   "cell_type": "code",
   "source": [
    "import numpy as np\n",
    "import pandas as pd"
   ],
   "id": "38dc91bcc10cfe66",
   "outputs": [],
   "execution_count": 2
  },
  {
   "metadata": {},
   "cell_type": "markdown",
   "source": "## Series and DataFrames",
   "id": "5cb663498c34e384"
  },
  {
   "metadata": {
    "ExecuteTime": {
     "end_time": "2025-05-05T14:21:07.798909Z",
     "start_time": "2025-05-05T14:21:07.794358Z"
    }
   },
   "cell_type": "code",
   "source": "# https://youtu.be/QjYFQUC7AQ4?si=1Jz6H-YbExWQJdkh",
   "id": "f449ab03a4965aac",
   "outputs": [],
   "execution_count": 3
  },
  {
   "metadata": {
    "ExecuteTime": {
     "end_time": "2025-05-05T14:21:07.962146Z",
     "start_time": "2025-05-05T14:21:07.944486Z"
    }
   },
   "cell_type": "code",
   "source": [
    "t = [1, 2, 3, 4, 5]\n",
    "ts = pd.Series(t)\n",
    "ts"
   ],
   "id": "11006b17486e11ec",
   "outputs": [
    {
     "data": {
      "text/plain": [
       "0    1\n",
       "1    2\n",
       "2    3\n",
       "3    4\n",
       "4    5\n",
       "dtype: int64"
      ]
     },
     "execution_count": 4,
     "metadata": {},
     "output_type": "execute_result"
    }
   ],
   "execution_count": 4
  },
  {
   "metadata": {
    "ExecuteTime": {
     "end_time": "2025-05-05T14:21:08.359800Z",
     "start_time": "2025-05-05T14:21:08.352845Z"
    }
   },
   "cell_type": "code",
   "source": [
    "days = ['Mon', 'Tue', 'Wed', 'Thu', 'Fri']\n",
    "ts = pd.Series(t, index=days)\n",
    "ts"
   ],
   "id": "570cb478bc483140",
   "outputs": [
    {
     "data": {
      "text/plain": [
       "Mon    1\n",
       "Tue    2\n",
       "Wed    3\n",
       "Thu    4\n",
       "Fri    5\n",
       "dtype: int64"
      ]
     },
     "execution_count": 5,
     "metadata": {},
     "output_type": "execute_result"
    }
   ],
   "execution_count": 5
  },
  {
   "metadata": {
    "ExecuteTime": {
     "end_time": "2025-05-05T14:21:08.885123Z",
     "start_time": "2025-05-05T14:21:08.876060Z"
    }
   },
   "cell_type": "code",
   "source": [
    "fruits = {'apple': 10, 'banana': 15, 'cherry': 20}\n",
    "fs = pd.Series(fruits)\n",
    "fs"
   ],
   "id": "b77ec3b7a6a24f71",
   "outputs": [
    {
     "data": {
      "text/plain": [
       "apple     10\n",
       "banana    15\n",
       "cherry    20\n",
       "dtype: int64"
      ]
     },
     "execution_count": 6,
     "metadata": {},
     "output_type": "execute_result"
    }
   ],
   "execution_count": 6
  },
  {
   "metadata": {
    "ExecuteTime": {
     "end_time": "2025-05-05T14:21:09.366336Z",
     "start_time": "2025-05-05T14:21:09.352783Z"
    }
   },
   "cell_type": "code",
   "source": [
    "data = {\n",
    "    'Name': ['John', 'Mary', 'Lily'],\n",
    "    'Age': [24, 30, 29]\n",
    "}\n",
    "df1 = pd.DataFrame(data)\n",
    "df1"
   ],
   "id": "c7b156540ee83c79",
   "outputs": [
    {
     "data": {
      "text/plain": [
       "   Name  Age\n",
       "0  John   24\n",
       "1  Mary   30\n",
       "2  Lily   29"
      ],
      "text/html": [
       "<div>\n",
       "<style scoped>\n",
       "    .dataframe tbody tr th:only-of-type {\n",
       "        vertical-align: middle;\n",
       "    }\n",
       "\n",
       "    .dataframe tbody tr th {\n",
       "        vertical-align: top;\n",
       "    }\n",
       "\n",
       "    .dataframe thead th {\n",
       "        text-align: right;\n",
       "    }\n",
       "</style>\n",
       "<table border=\"1\" class=\"dataframe\">\n",
       "  <thead>\n",
       "    <tr style=\"text-align: right;\">\n",
       "      <th></th>\n",
       "      <th>Name</th>\n",
       "      <th>Age</th>\n",
       "    </tr>\n",
       "  </thead>\n",
       "  <tbody>\n",
       "    <tr>\n",
       "      <th>0</th>\n",
       "      <td>John</td>\n",
       "      <td>24</td>\n",
       "    </tr>\n",
       "    <tr>\n",
       "      <th>1</th>\n",
       "      <td>Mary</td>\n",
       "      <td>30</td>\n",
       "    </tr>\n",
       "    <tr>\n",
       "      <th>2</th>\n",
       "      <td>Lily</td>\n",
       "      <td>29</td>\n",
       "    </tr>\n",
       "  </tbody>\n",
       "</table>\n",
       "</div>"
      ]
     },
     "execution_count": 7,
     "metadata": {},
     "output_type": "execute_result"
    }
   ],
   "execution_count": 7
  },
  {
   "metadata": {
    "ExecuteTime": {
     "end_time": "2025-05-05T14:21:09.791027Z",
     "start_time": "2025-05-05T14:21:09.780289Z"
    }
   },
   "cell_type": "code",
   "source": [
    "data2 = [\n",
    "    {'Name': 'John', 'Age': 24},\n",
    "    {'Name': 'John1', 'Age': 28},\n",
    "    {'Name': 'John2', 'Age': 27}\n",
    "]\n",
    "df2 = pd.DataFrame(data2)\n",
    "df2"
   ],
   "id": "ed7b353b1180d432",
   "outputs": [
    {
     "data": {
      "text/plain": [
       "    Name  Age\n",
       "0   John   24\n",
       "1  John1   28\n",
       "2  John2   27"
      ],
      "text/html": [
       "<div>\n",
       "<style scoped>\n",
       "    .dataframe tbody tr th:only-of-type {\n",
       "        vertical-align: middle;\n",
       "    }\n",
       "\n",
       "    .dataframe tbody tr th {\n",
       "        vertical-align: top;\n",
       "    }\n",
       "\n",
       "    .dataframe thead th {\n",
       "        text-align: right;\n",
       "    }\n",
       "</style>\n",
       "<table border=\"1\" class=\"dataframe\">\n",
       "  <thead>\n",
       "    <tr style=\"text-align: right;\">\n",
       "      <th></th>\n",
       "      <th>Name</th>\n",
       "      <th>Age</th>\n",
       "    </tr>\n",
       "  </thead>\n",
       "  <tbody>\n",
       "    <tr>\n",
       "      <th>0</th>\n",
       "      <td>John</td>\n",
       "      <td>24</td>\n",
       "    </tr>\n",
       "    <tr>\n",
       "      <th>1</th>\n",
       "      <td>John1</td>\n",
       "      <td>28</td>\n",
       "    </tr>\n",
       "    <tr>\n",
       "      <th>2</th>\n",
       "      <td>John2</td>\n",
       "      <td>27</td>\n",
       "    </tr>\n",
       "  </tbody>\n",
       "</table>\n",
       "</div>"
      ]
     },
     "execution_count": 8,
     "metadata": {},
     "output_type": "execute_result"
    }
   ],
   "execution_count": 8
  },
  {
   "metadata": {
    "ExecuteTime": {
     "end_time": "2025-05-05T14:21:10.265094Z",
     "start_time": "2025-05-05T14:21:10.255084Z"
    }
   },
   "cell_type": "code",
   "source": [
    "age = df2['Age']\n",
    "age"
   ],
   "id": "6521cd8fb3eecbe9",
   "outputs": [
    {
     "data": {
      "text/plain": [
       "0    24\n",
       "1    28\n",
       "2    27\n",
       "Name: Age, dtype: int64"
      ]
     },
     "execution_count": 9,
     "metadata": {},
     "output_type": "execute_result"
    }
   ],
   "execution_count": 9
  },
  {
   "metadata": {
    "ExecuteTime": {
     "end_time": "2025-05-05T14:21:10.779095Z",
     "start_time": "2025-05-05T14:21:10.769561Z"
    }
   },
   "cell_type": "code",
   "source": [
    "df2['Age'] = [1, 2, 3]\n",
    "df2"
   ],
   "id": "6d9462b987f4b042",
   "outputs": [
    {
     "data": {
      "text/plain": [
       "    Name  Age\n",
       "0   John    1\n",
       "1  John1    2\n",
       "2  John2    3"
      ],
      "text/html": [
       "<div>\n",
       "<style scoped>\n",
       "    .dataframe tbody tr th:only-of-type {\n",
       "        vertical-align: middle;\n",
       "    }\n",
       "\n",
       "    .dataframe tbody tr th {\n",
       "        vertical-align: top;\n",
       "    }\n",
       "\n",
       "    .dataframe thead th {\n",
       "        text-align: right;\n",
       "    }\n",
       "</style>\n",
       "<table border=\"1\" class=\"dataframe\">\n",
       "  <thead>\n",
       "    <tr style=\"text-align: right;\">\n",
       "      <th></th>\n",
       "      <th>Name</th>\n",
       "      <th>Age</th>\n",
       "    </tr>\n",
       "  </thead>\n",
       "  <tbody>\n",
       "    <tr>\n",
       "      <th>0</th>\n",
       "      <td>John</td>\n",
       "      <td>1</td>\n",
       "    </tr>\n",
       "    <tr>\n",
       "      <th>1</th>\n",
       "      <td>John1</td>\n",
       "      <td>2</td>\n",
       "    </tr>\n",
       "    <tr>\n",
       "      <th>2</th>\n",
       "      <td>John2</td>\n",
       "      <td>3</td>\n",
       "    </tr>\n",
       "  </tbody>\n",
       "</table>\n",
       "</div>"
      ]
     },
     "execution_count": 10,
     "metadata": {},
     "output_type": "execute_result"
    }
   ],
   "execution_count": 10
  },
  {
   "metadata": {
    "ExecuteTime": {
     "end_time": "2025-05-05T14:25:26.561034Z",
     "start_time": "2025-05-05T14:25:26.553588Z"
    }
   },
   "cell_type": "code",
   "source": "df2.loc[0]",
   "id": "ac12123a5d4a3560",
   "outputs": [
    {
     "data": {
      "text/plain": [
       "Employee             Mary\n",
       "Salary               2000\n",
       "Department             IT\n",
       "Bonus               200.0\n",
       "Adjusted Salary    2100.0\n",
       "Name: 0, dtype: object"
      ]
     },
     "execution_count": 104,
     "metadata": {},
     "output_type": "execute_result"
    }
   ],
   "execution_count": 104
  },
  {
   "metadata": {
    "ExecuteTime": {
     "end_time": "2025-05-05T14:21:11.877944Z",
     "start_time": "2025-05-05T14:21:11.867496Z"
    }
   },
   "cell_type": "code",
   "source": [
    "df2 = df2.drop('Age', axis=1)\n",
    "df2"
   ],
   "id": "9edb046a4a776955",
   "outputs": [
    {
     "data": {
      "text/plain": [
       "    Name\n",
       "0   John\n",
       "1  John1\n",
       "2  John2"
      ],
      "text/html": [
       "<div>\n",
       "<style scoped>\n",
       "    .dataframe tbody tr th:only-of-type {\n",
       "        vertical-align: middle;\n",
       "    }\n",
       "\n",
       "    .dataframe tbody tr th {\n",
       "        vertical-align: top;\n",
       "    }\n",
       "\n",
       "    .dataframe thead th {\n",
       "        text-align: right;\n",
       "    }\n",
       "</style>\n",
       "<table border=\"1\" class=\"dataframe\">\n",
       "  <thead>\n",
       "    <tr style=\"text-align: right;\">\n",
       "      <th></th>\n",
       "      <th>Name</th>\n",
       "    </tr>\n",
       "  </thead>\n",
       "  <tbody>\n",
       "    <tr>\n",
       "      <th>0</th>\n",
       "      <td>John</td>\n",
       "    </tr>\n",
       "    <tr>\n",
       "      <th>1</th>\n",
       "      <td>John1</td>\n",
       "    </tr>\n",
       "    <tr>\n",
       "      <th>2</th>\n",
       "      <td>John2</td>\n",
       "    </tr>\n",
       "  </tbody>\n",
       "</table>\n",
       "</div>"
      ]
     },
     "execution_count": 12,
     "metadata": {},
     "output_type": "execute_result"
    }
   ],
   "execution_count": 12
  },
  {
   "metadata": {
    "ExecuteTime": {
     "end_time": "2025-05-05T14:21:12.299655Z",
     "start_time": "2025-05-05T14:21:12.293723Z"
    }
   },
   "cell_type": "code",
   "source": "",
   "id": "15423c1d3a1ed393",
   "outputs": [],
   "execution_count": null
  },
  {
   "metadata": {},
   "cell_type": "markdown",
   "source": "## Indexing and Filtering",
   "id": "4189778c9b0cfea2"
  },
  {
   "metadata": {
    "ExecuteTime": {
     "end_time": "2025-05-05T14:21:12.720015Z",
     "start_time": "2025-05-05T14:21:12.709850Z"
    }
   },
   "cell_type": "code",
   "source": [
    "student_data = {\n",
    "    'Name': ['John', 'Mary', 'Lily', 'Sue'],\n",
    "    'Math': [85, 92, 78, 88],\n",
    "    'Science': [91, 89, 84, 85],\n",
    "    'English': [79, 85, 87, 90]\n",
    "}\n",
    "\n",
    "df = pd.DataFrame(student_data, index=['a', 'b', 'c', 'd'])\n",
    "df"
   ],
   "id": "fcdc0b12c4fcaaa1",
   "outputs": [
    {
     "data": {
      "text/plain": [
       "   Name  Math  Science  English\n",
       "a  John    85       91       79\n",
       "b  Mary    92       89       85\n",
       "c  Lily    78       84       87\n",
       "d   Sue    88       85       90"
      ],
      "text/html": [
       "<div>\n",
       "<style scoped>\n",
       "    .dataframe tbody tr th:only-of-type {\n",
       "        vertical-align: middle;\n",
       "    }\n",
       "\n",
       "    .dataframe tbody tr th {\n",
       "        vertical-align: top;\n",
       "    }\n",
       "\n",
       "    .dataframe thead th {\n",
       "        text-align: right;\n",
       "    }\n",
       "</style>\n",
       "<table border=\"1\" class=\"dataframe\">\n",
       "  <thead>\n",
       "    <tr style=\"text-align: right;\">\n",
       "      <th></th>\n",
       "      <th>Name</th>\n",
       "      <th>Math</th>\n",
       "      <th>Science</th>\n",
       "      <th>English</th>\n",
       "    </tr>\n",
       "  </thead>\n",
       "  <tbody>\n",
       "    <tr>\n",
       "      <th>a</th>\n",
       "      <td>John</td>\n",
       "      <td>85</td>\n",
       "      <td>91</td>\n",
       "      <td>79</td>\n",
       "    </tr>\n",
       "    <tr>\n",
       "      <th>b</th>\n",
       "      <td>Mary</td>\n",
       "      <td>92</td>\n",
       "      <td>89</td>\n",
       "      <td>85</td>\n",
       "    </tr>\n",
       "    <tr>\n",
       "      <th>c</th>\n",
       "      <td>Lily</td>\n",
       "      <td>78</td>\n",
       "      <td>84</td>\n",
       "      <td>87</td>\n",
       "    </tr>\n",
       "    <tr>\n",
       "      <th>d</th>\n",
       "      <td>Sue</td>\n",
       "      <td>88</td>\n",
       "      <td>85</td>\n",
       "      <td>90</td>\n",
       "    </tr>\n",
       "  </tbody>\n",
       "</table>\n",
       "</div>"
      ]
     },
     "execution_count": 13,
     "metadata": {},
     "output_type": "execute_result"
    }
   ],
   "execution_count": 13
  },
  {
   "metadata": {},
   "cell_type": "markdown",
   "source": "### Selecting Columns",
   "id": "345915aee4ffd495"
  },
  {
   "metadata": {
    "ExecuteTime": {
     "end_time": "2025-05-05T14:21:12.983392Z",
     "start_time": "2025-05-05T14:21:12.975067Z"
    }
   },
   "cell_type": "code",
   "source": "df['Math']",
   "id": "6e784f90cb3e0194",
   "outputs": [
    {
     "data": {
      "text/plain": [
       "a    85\n",
       "b    92\n",
       "c    78\n",
       "d    88\n",
       "Name: Math, dtype: int64"
      ]
     },
     "execution_count": 14,
     "metadata": {},
     "output_type": "execute_result"
    }
   ],
   "execution_count": 14
  },
  {
   "metadata": {
    "ExecuteTime": {
     "end_time": "2025-05-05T14:21:13.378102Z",
     "start_time": "2025-05-05T14:21:13.367556Z"
    }
   },
   "cell_type": "code",
   "source": "df[['Math', 'English']]",
   "id": "bd9b0d17c0d002df",
   "outputs": [
    {
     "data": {
      "text/plain": [
       "   Math  English\n",
       "a    85       79\n",
       "b    92       85\n",
       "c    78       87\n",
       "d    88       90"
      ],
      "text/html": [
       "<div>\n",
       "<style scoped>\n",
       "    .dataframe tbody tr th:only-of-type {\n",
       "        vertical-align: middle;\n",
       "    }\n",
       "\n",
       "    .dataframe tbody tr th {\n",
       "        vertical-align: top;\n",
       "    }\n",
       "\n",
       "    .dataframe thead th {\n",
       "        text-align: right;\n",
       "    }\n",
       "</style>\n",
       "<table border=\"1\" class=\"dataframe\">\n",
       "  <thead>\n",
       "    <tr style=\"text-align: right;\">\n",
       "      <th></th>\n",
       "      <th>Math</th>\n",
       "      <th>English</th>\n",
       "    </tr>\n",
       "  </thead>\n",
       "  <tbody>\n",
       "    <tr>\n",
       "      <th>a</th>\n",
       "      <td>85</td>\n",
       "      <td>79</td>\n",
       "    </tr>\n",
       "    <tr>\n",
       "      <th>b</th>\n",
       "      <td>92</td>\n",
       "      <td>85</td>\n",
       "    </tr>\n",
       "    <tr>\n",
       "      <th>c</th>\n",
       "      <td>78</td>\n",
       "      <td>87</td>\n",
       "    </tr>\n",
       "    <tr>\n",
       "      <th>d</th>\n",
       "      <td>88</td>\n",
       "      <td>90</td>\n",
       "    </tr>\n",
       "  </tbody>\n",
       "</table>\n",
       "</div>"
      ]
     },
     "execution_count": 15,
     "metadata": {},
     "output_type": "execute_result"
    }
   ],
   "execution_count": 15
  },
  {
   "metadata": {},
   "cell_type": "markdown",
   "source": "### Selecting Rows",
   "id": "8f603a81af719b6d"
  },
  {
   "metadata": {
    "ExecuteTime": {
     "end_time": "2025-05-05T14:21:13.889449Z",
     "start_time": "2025-05-05T14:21:13.880777Z"
    }
   },
   "cell_type": "code",
   "source": "df[0:2]",
   "id": "b5e5c21db1aa0ea",
   "outputs": [
    {
     "data": {
      "text/plain": [
       "   Name  Math  Science  English\n",
       "a  John    85       91       79\n",
       "b  Mary    92       89       85"
      ],
      "text/html": [
       "<div>\n",
       "<style scoped>\n",
       "    .dataframe tbody tr th:only-of-type {\n",
       "        vertical-align: middle;\n",
       "    }\n",
       "\n",
       "    .dataframe tbody tr th {\n",
       "        vertical-align: top;\n",
       "    }\n",
       "\n",
       "    .dataframe thead th {\n",
       "        text-align: right;\n",
       "    }\n",
       "</style>\n",
       "<table border=\"1\" class=\"dataframe\">\n",
       "  <thead>\n",
       "    <tr style=\"text-align: right;\">\n",
       "      <th></th>\n",
       "      <th>Name</th>\n",
       "      <th>Math</th>\n",
       "      <th>Science</th>\n",
       "      <th>English</th>\n",
       "    </tr>\n",
       "  </thead>\n",
       "  <tbody>\n",
       "    <tr>\n",
       "      <th>a</th>\n",
       "      <td>John</td>\n",
       "      <td>85</td>\n",
       "      <td>91</td>\n",
       "      <td>79</td>\n",
       "    </tr>\n",
       "    <tr>\n",
       "      <th>b</th>\n",
       "      <td>Mary</td>\n",
       "      <td>92</td>\n",
       "      <td>89</td>\n",
       "      <td>85</td>\n",
       "    </tr>\n",
       "  </tbody>\n",
       "</table>\n",
       "</div>"
      ]
     },
     "execution_count": 16,
     "metadata": {},
     "output_type": "execute_result"
    }
   ],
   "execution_count": 16
  },
  {
   "metadata": {
    "ExecuteTime": {
     "end_time": "2025-05-05T14:21:14.359699Z",
     "start_time": "2025-05-05T14:21:14.352397Z"
    }
   },
   "cell_type": "code",
   "source": "df.loc['a']",
   "id": "2d66a6e91cf63dd7",
   "outputs": [
    {
     "data": {
      "text/plain": [
       "Name       John\n",
       "Math         85\n",
       "Science      91\n",
       "English      79\n",
       "Name: a, dtype: object"
      ]
     },
     "execution_count": 17,
     "metadata": {},
     "output_type": "execute_result"
    }
   ],
   "execution_count": 17
  },
  {
   "metadata": {
    "ExecuteTime": {
     "end_time": "2025-05-05T14:21:14.804596Z",
     "start_time": "2025-05-05T14:21:14.795426Z"
    }
   },
   "cell_type": "code",
   "source": "df.loc[['a', 'c']]",
   "id": "2a3cdc4b1d2a05c2",
   "outputs": [
    {
     "data": {
      "text/plain": [
       "   Name  Math  Science  English\n",
       "a  John    85       91       79\n",
       "c  Lily    78       84       87"
      ],
      "text/html": [
       "<div>\n",
       "<style scoped>\n",
       "    .dataframe tbody tr th:only-of-type {\n",
       "        vertical-align: middle;\n",
       "    }\n",
       "\n",
       "    .dataframe tbody tr th {\n",
       "        vertical-align: top;\n",
       "    }\n",
       "\n",
       "    .dataframe thead th {\n",
       "        text-align: right;\n",
       "    }\n",
       "</style>\n",
       "<table border=\"1\" class=\"dataframe\">\n",
       "  <thead>\n",
       "    <tr style=\"text-align: right;\">\n",
       "      <th></th>\n",
       "      <th>Name</th>\n",
       "      <th>Math</th>\n",
       "      <th>Science</th>\n",
       "      <th>English</th>\n",
       "    </tr>\n",
       "  </thead>\n",
       "  <tbody>\n",
       "    <tr>\n",
       "      <th>a</th>\n",
       "      <td>John</td>\n",
       "      <td>85</td>\n",
       "      <td>91</td>\n",
       "      <td>79</td>\n",
       "    </tr>\n",
       "    <tr>\n",
       "      <th>c</th>\n",
       "      <td>Lily</td>\n",
       "      <td>78</td>\n",
       "      <td>84</td>\n",
       "      <td>87</td>\n",
       "    </tr>\n",
       "  </tbody>\n",
       "</table>\n",
       "</div>"
      ]
     },
     "execution_count": 18,
     "metadata": {},
     "output_type": "execute_result"
    }
   ],
   "execution_count": 18
  },
  {
   "metadata": {
    "ExecuteTime": {
     "end_time": "2025-05-05T14:21:15.271478Z",
     "start_time": "2025-05-05T14:21:15.261685Z"
    }
   },
   "cell_type": "code",
   "source": "df.loc['a': 'c']",
   "id": "cf12319a7c135fbb",
   "outputs": [
    {
     "data": {
      "text/plain": [
       "   Name  Math  Science  English\n",
       "a  John    85       91       79\n",
       "b  Mary    92       89       85\n",
       "c  Lily    78       84       87"
      ],
      "text/html": [
       "<div>\n",
       "<style scoped>\n",
       "    .dataframe tbody tr th:only-of-type {\n",
       "        vertical-align: middle;\n",
       "    }\n",
       "\n",
       "    .dataframe tbody tr th {\n",
       "        vertical-align: top;\n",
       "    }\n",
       "\n",
       "    .dataframe thead th {\n",
       "        text-align: right;\n",
       "    }\n",
       "</style>\n",
       "<table border=\"1\" class=\"dataframe\">\n",
       "  <thead>\n",
       "    <tr style=\"text-align: right;\">\n",
       "      <th></th>\n",
       "      <th>Name</th>\n",
       "      <th>Math</th>\n",
       "      <th>Science</th>\n",
       "      <th>English</th>\n",
       "    </tr>\n",
       "  </thead>\n",
       "  <tbody>\n",
       "    <tr>\n",
       "      <th>a</th>\n",
       "      <td>John</td>\n",
       "      <td>85</td>\n",
       "      <td>91</td>\n",
       "      <td>79</td>\n",
       "    </tr>\n",
       "    <tr>\n",
       "      <th>b</th>\n",
       "      <td>Mary</td>\n",
       "      <td>92</td>\n",
       "      <td>89</td>\n",
       "      <td>85</td>\n",
       "    </tr>\n",
       "    <tr>\n",
       "      <th>c</th>\n",
       "      <td>Lily</td>\n",
       "      <td>78</td>\n",
       "      <td>84</td>\n",
       "      <td>87</td>\n",
       "    </tr>\n",
       "  </tbody>\n",
       "</table>\n",
       "</div>"
      ]
     },
     "execution_count": 19,
     "metadata": {},
     "output_type": "execute_result"
    }
   ],
   "execution_count": 19
  },
  {
   "metadata": {
    "ExecuteTime": {
     "end_time": "2025-05-05T14:21:15.733742Z",
     "start_time": "2025-05-05T14:21:15.724325Z"
    }
   },
   "cell_type": "code",
   "source": "df.iloc[1:3]",
   "id": "d5d86f43ed7242e7",
   "outputs": [
    {
     "data": {
      "text/plain": [
       "   Name  Math  Science  English\n",
       "b  Mary    92       89       85\n",
       "c  Lily    78       84       87"
      ],
      "text/html": [
       "<div>\n",
       "<style scoped>\n",
       "    .dataframe tbody tr th:only-of-type {\n",
       "        vertical-align: middle;\n",
       "    }\n",
       "\n",
       "    .dataframe tbody tr th {\n",
       "        vertical-align: top;\n",
       "    }\n",
       "\n",
       "    .dataframe thead th {\n",
       "        text-align: right;\n",
       "    }\n",
       "</style>\n",
       "<table border=\"1\" class=\"dataframe\">\n",
       "  <thead>\n",
       "    <tr style=\"text-align: right;\">\n",
       "      <th></th>\n",
       "      <th>Name</th>\n",
       "      <th>Math</th>\n",
       "      <th>Science</th>\n",
       "      <th>English</th>\n",
       "    </tr>\n",
       "  </thead>\n",
       "  <tbody>\n",
       "    <tr>\n",
       "      <th>b</th>\n",
       "      <td>Mary</td>\n",
       "      <td>92</td>\n",
       "      <td>89</td>\n",
       "      <td>85</td>\n",
       "    </tr>\n",
       "    <tr>\n",
       "      <th>c</th>\n",
       "      <td>Lily</td>\n",
       "      <td>78</td>\n",
       "      <td>84</td>\n",
       "      <td>87</td>\n",
       "    </tr>\n",
       "  </tbody>\n",
       "</table>\n",
       "</div>"
      ]
     },
     "execution_count": 20,
     "metadata": {},
     "output_type": "execute_result"
    }
   ],
   "execution_count": 20
  },
  {
   "metadata": {},
   "cell_type": "markdown",
   "source": "### Selecting Rows and Columns",
   "id": "3ab3bd0ff7fec8d5"
  },
  {
   "metadata": {
    "ExecuteTime": {
     "end_time": "2025-05-05T14:21:16.289151Z",
     "start_time": "2025-05-05T14:21:16.277509Z"
    }
   },
   "cell_type": "code",
   "source": "df.loc['a':'c', ['Math', 'English']]",
   "id": "3ad3273f85b86162",
   "outputs": [
    {
     "data": {
      "text/plain": [
       "   Math  English\n",
       "a    85       79\n",
       "b    92       85\n",
       "c    78       87"
      ],
      "text/html": [
       "<div>\n",
       "<style scoped>\n",
       "    .dataframe tbody tr th:only-of-type {\n",
       "        vertical-align: middle;\n",
       "    }\n",
       "\n",
       "    .dataframe tbody tr th {\n",
       "        vertical-align: top;\n",
       "    }\n",
       "\n",
       "    .dataframe thead th {\n",
       "        text-align: right;\n",
       "    }\n",
       "</style>\n",
       "<table border=\"1\" class=\"dataframe\">\n",
       "  <thead>\n",
       "    <tr style=\"text-align: right;\">\n",
       "      <th></th>\n",
       "      <th>Math</th>\n",
       "      <th>English</th>\n",
       "    </tr>\n",
       "  </thead>\n",
       "  <tbody>\n",
       "    <tr>\n",
       "      <th>a</th>\n",
       "      <td>85</td>\n",
       "      <td>79</td>\n",
       "    </tr>\n",
       "    <tr>\n",
       "      <th>b</th>\n",
       "      <td>92</td>\n",
       "      <td>85</td>\n",
       "    </tr>\n",
       "    <tr>\n",
       "      <th>c</th>\n",
       "      <td>78</td>\n",
       "      <td>87</td>\n",
       "    </tr>\n",
       "  </tbody>\n",
       "</table>\n",
       "</div>"
      ]
     },
     "execution_count": 21,
     "metadata": {},
     "output_type": "execute_result"
    }
   ],
   "execution_count": 21
  },
  {
   "metadata": {
    "ExecuteTime": {
     "end_time": "2025-05-05T14:21:16.989303Z",
     "start_time": "2025-05-05T14:21:16.976327Z"
    }
   },
   "cell_type": "code",
   "source": "df.iloc[2:3, [3]]",
   "id": "68e2a42ce07e4646",
   "outputs": [
    {
     "data": {
      "text/plain": [
       "   English\n",
       "c       87"
      ],
      "text/html": [
       "<div>\n",
       "<style scoped>\n",
       "    .dataframe tbody tr th:only-of-type {\n",
       "        vertical-align: middle;\n",
       "    }\n",
       "\n",
       "    .dataframe tbody tr th {\n",
       "        vertical-align: top;\n",
       "    }\n",
       "\n",
       "    .dataframe thead th {\n",
       "        text-align: right;\n",
       "    }\n",
       "</style>\n",
       "<table border=\"1\" class=\"dataframe\">\n",
       "  <thead>\n",
       "    <tr style=\"text-align: right;\">\n",
       "      <th></th>\n",
       "      <th>English</th>\n",
       "    </tr>\n",
       "  </thead>\n",
       "  <tbody>\n",
       "    <tr>\n",
       "      <th>c</th>\n",
       "      <td>87</td>\n",
       "    </tr>\n",
       "  </tbody>\n",
       "</table>\n",
       "</div>"
      ]
     },
     "execution_count": 22,
     "metadata": {},
     "output_type": "execute_result"
    }
   ],
   "execution_count": 22
  },
  {
   "metadata": {},
   "cell_type": "markdown",
   "source": "### Filtering",
   "id": "9077ca8c8ac4613c"
  },
  {
   "metadata": {
    "ExecuteTime": {
     "end_time": "2025-05-05T14:21:17.487197Z",
     "start_time": "2025-05-05T14:21:17.478726Z"
    }
   },
   "cell_type": "code",
   "source": "df['Math'] > 80",
   "id": "a22a7a989b901eb7",
   "outputs": [
    {
     "data": {
      "text/plain": [
       "a     True\n",
       "b     True\n",
       "c    False\n",
       "d     True\n",
       "Name: Math, dtype: bool"
      ]
     },
     "execution_count": 23,
     "metadata": {},
     "output_type": "execute_result"
    }
   ],
   "execution_count": 23
  },
  {
   "metadata": {
    "ExecuteTime": {
     "end_time": "2025-05-05T14:21:17.872713Z",
     "start_time": "2025-05-05T14:21:17.863828Z"
    }
   },
   "cell_type": "code",
   "source": "df[df['Math'] > 80]",
   "id": "64554ed2b59849ec",
   "outputs": [
    {
     "data": {
      "text/plain": [
       "   Name  Math  Science  English\n",
       "a  John    85       91       79\n",
       "b  Mary    92       89       85\n",
       "d   Sue    88       85       90"
      ],
      "text/html": [
       "<div>\n",
       "<style scoped>\n",
       "    .dataframe tbody tr th:only-of-type {\n",
       "        vertical-align: middle;\n",
       "    }\n",
       "\n",
       "    .dataframe tbody tr th {\n",
       "        vertical-align: top;\n",
       "    }\n",
       "\n",
       "    .dataframe thead th {\n",
       "        text-align: right;\n",
       "    }\n",
       "</style>\n",
       "<table border=\"1\" class=\"dataframe\">\n",
       "  <thead>\n",
       "    <tr style=\"text-align: right;\">\n",
       "      <th></th>\n",
       "      <th>Name</th>\n",
       "      <th>Math</th>\n",
       "      <th>Science</th>\n",
       "      <th>English</th>\n",
       "    </tr>\n",
       "  </thead>\n",
       "  <tbody>\n",
       "    <tr>\n",
       "      <th>a</th>\n",
       "      <td>John</td>\n",
       "      <td>85</td>\n",
       "      <td>91</td>\n",
       "      <td>79</td>\n",
       "    </tr>\n",
       "    <tr>\n",
       "      <th>b</th>\n",
       "      <td>Mary</td>\n",
       "      <td>92</td>\n",
       "      <td>89</td>\n",
       "      <td>85</td>\n",
       "    </tr>\n",
       "    <tr>\n",
       "      <th>d</th>\n",
       "      <td>Sue</td>\n",
       "      <td>88</td>\n",
       "      <td>85</td>\n",
       "      <td>90</td>\n",
       "    </tr>\n",
       "  </tbody>\n",
       "</table>\n",
       "</div>"
      ]
     },
     "execution_count": 24,
     "metadata": {},
     "output_type": "execute_result"
    }
   ],
   "execution_count": 24
  },
  {
   "metadata": {
    "ExecuteTime": {
     "end_time": "2025-05-05T14:21:18.361067Z",
     "start_time": "2025-05-05T14:21:18.349918Z"
    }
   },
   "cell_type": "code",
   "source": "df[(df['Math'] > 80) & (df['English'] > 90) | (df['Science']) < 100]",
   "id": "bfd090d83e140c05",
   "outputs": [
    {
     "data": {
      "text/plain": [
       "   Name  Math  Science  English\n",
       "a  John    85       91       79\n",
       "b  Mary    92       89       85\n",
       "c  Lily    78       84       87\n",
       "d   Sue    88       85       90"
      ],
      "text/html": [
       "<div>\n",
       "<style scoped>\n",
       "    .dataframe tbody tr th:only-of-type {\n",
       "        vertical-align: middle;\n",
       "    }\n",
       "\n",
       "    .dataframe tbody tr th {\n",
       "        vertical-align: top;\n",
       "    }\n",
       "\n",
       "    .dataframe thead th {\n",
       "        text-align: right;\n",
       "    }\n",
       "</style>\n",
       "<table border=\"1\" class=\"dataframe\">\n",
       "  <thead>\n",
       "    <tr style=\"text-align: right;\">\n",
       "      <th></th>\n",
       "      <th>Name</th>\n",
       "      <th>Math</th>\n",
       "      <th>Science</th>\n",
       "      <th>English</th>\n",
       "    </tr>\n",
       "  </thead>\n",
       "  <tbody>\n",
       "    <tr>\n",
       "      <th>a</th>\n",
       "      <td>John</td>\n",
       "      <td>85</td>\n",
       "      <td>91</td>\n",
       "      <td>79</td>\n",
       "    </tr>\n",
       "    <tr>\n",
       "      <th>b</th>\n",
       "      <td>Mary</td>\n",
       "      <td>92</td>\n",
       "      <td>89</td>\n",
       "      <td>85</td>\n",
       "    </tr>\n",
       "    <tr>\n",
       "      <th>c</th>\n",
       "      <td>Lily</td>\n",
       "      <td>78</td>\n",
       "      <td>84</td>\n",
       "      <td>87</td>\n",
       "    </tr>\n",
       "    <tr>\n",
       "      <th>d</th>\n",
       "      <td>Sue</td>\n",
       "      <td>88</td>\n",
       "      <td>85</td>\n",
       "      <td>90</td>\n",
       "    </tr>\n",
       "  </tbody>\n",
       "</table>\n",
       "</div>"
      ]
     },
     "execution_count": 25,
     "metadata": {},
     "output_type": "execute_result"
    }
   ],
   "execution_count": 25
  },
  {
   "metadata": {
    "ExecuteTime": {
     "end_time": "2025-05-05T14:21:18.777461Z",
     "start_time": "2025-05-05T14:21:18.764684Z"
    }
   },
   "cell_type": "code",
   "source": "df[df['Name'].isin(['Sue'])]",
   "id": "b07c582748ce26cd",
   "outputs": [
    {
     "data": {
      "text/plain": [
       "  Name  Math  Science  English\n",
       "d  Sue    88       85       90"
      ],
      "text/html": [
       "<div>\n",
       "<style scoped>\n",
       "    .dataframe tbody tr th:only-of-type {\n",
       "        vertical-align: middle;\n",
       "    }\n",
       "\n",
       "    .dataframe tbody tr th {\n",
       "        vertical-align: top;\n",
       "    }\n",
       "\n",
       "    .dataframe thead th {\n",
       "        text-align: right;\n",
       "    }\n",
       "</style>\n",
       "<table border=\"1\" class=\"dataframe\">\n",
       "  <thead>\n",
       "    <tr style=\"text-align: right;\">\n",
       "      <th></th>\n",
       "      <th>Name</th>\n",
       "      <th>Math</th>\n",
       "      <th>Science</th>\n",
       "      <th>English</th>\n",
       "    </tr>\n",
       "  </thead>\n",
       "  <tbody>\n",
       "    <tr>\n",
       "      <th>d</th>\n",
       "      <td>Sue</td>\n",
       "      <td>88</td>\n",
       "      <td>85</td>\n",
       "      <td>90</td>\n",
       "    </tr>\n",
       "  </tbody>\n",
       "</table>\n",
       "</div>"
      ]
     },
     "execution_count": 26,
     "metadata": {},
     "output_type": "execute_result"
    }
   ],
   "execution_count": 26
  },
  {
   "metadata": {
    "ExecuteTime": {
     "end_time": "2025-05-05T14:21:19.304487Z",
     "start_time": "2025-05-05T14:21:19.292708Z"
    }
   },
   "cell_type": "code",
   "source": "df.where(df['Math'] < 90, 42)",
   "id": "6a38727ccc05c771",
   "outputs": [
    {
     "data": {
      "text/plain": [
       "   Name  Math  Science  English\n",
       "a  John    85       91       79\n",
       "b    42    42       42       42\n",
       "c  Lily    78       84       87\n",
       "d   Sue    88       85       90"
      ],
      "text/html": [
       "<div>\n",
       "<style scoped>\n",
       "    .dataframe tbody tr th:only-of-type {\n",
       "        vertical-align: middle;\n",
       "    }\n",
       "\n",
       "    .dataframe tbody tr th {\n",
       "        vertical-align: top;\n",
       "    }\n",
       "\n",
       "    .dataframe thead th {\n",
       "        text-align: right;\n",
       "    }\n",
       "</style>\n",
       "<table border=\"1\" class=\"dataframe\">\n",
       "  <thead>\n",
       "    <tr style=\"text-align: right;\">\n",
       "      <th></th>\n",
       "      <th>Name</th>\n",
       "      <th>Math</th>\n",
       "      <th>Science</th>\n",
       "      <th>English</th>\n",
       "    </tr>\n",
       "  </thead>\n",
       "  <tbody>\n",
       "    <tr>\n",
       "      <th>a</th>\n",
       "      <td>John</td>\n",
       "      <td>85</td>\n",
       "      <td>91</td>\n",
       "      <td>79</td>\n",
       "    </tr>\n",
       "    <tr>\n",
       "      <th>b</th>\n",
       "      <td>42</td>\n",
       "      <td>42</td>\n",
       "      <td>42</td>\n",
       "      <td>42</td>\n",
       "    </tr>\n",
       "    <tr>\n",
       "      <th>c</th>\n",
       "      <td>Lily</td>\n",
       "      <td>78</td>\n",
       "      <td>84</td>\n",
       "      <td>87</td>\n",
       "    </tr>\n",
       "    <tr>\n",
       "      <th>d</th>\n",
       "      <td>Sue</td>\n",
       "      <td>88</td>\n",
       "      <td>85</td>\n",
       "      <td>90</td>\n",
       "    </tr>\n",
       "  </tbody>\n",
       "</table>\n",
       "</div>"
      ]
     },
     "execution_count": 27,
     "metadata": {},
     "output_type": "execute_result"
    }
   ],
   "execution_count": 27
  },
  {
   "metadata": {},
   "cell_type": "markdown",
   "source": "# Data Analysis Functions",
   "id": "c1a7f9896fcfc9f9"
  },
  {
   "metadata": {
    "ExecuteTime": {
     "end_time": "2025-05-05T14:21:19.777762Z",
     "start_time": "2025-05-05T14:21:19.773824Z"
    }
   },
   "cell_type": "code",
   "source": "# https://youtu.be/pnuZ_xDllZU?si=VUKdqoJ7uau2DENm",
   "id": "d72d9d2424e08211",
   "outputs": [],
   "execution_count": 28
  },
  {
   "metadata": {
    "ExecuteTime": {
     "end_time": "2025-05-05T14:21:20.360378Z",
     "start_time": "2025-05-05T14:21:20.354971Z"
    }
   },
   "cell_type": "code",
   "source": [
    "data = {\n",
    "    'Employee': ['John', 'Mary', 'Lily', 'Sue', 'Bob'],\n",
    "    'Salary': [1000, 2000, 3000, 4000, 5000],\n",
    "    'Department': ['HR', 'IT', 'Finance', 'IT', 'HR']\n",
    "}"
   ],
   "id": "f24fba4effd9b83f",
   "outputs": [],
   "execution_count": 29
  },
  {
   "metadata": {
    "ExecuteTime": {
     "end_time": "2025-05-05T14:21:20.554126Z",
     "start_time": "2025-05-05T14:21:20.545380Z"
    }
   },
   "cell_type": "code",
   "source": [
    "df = pd.DataFrame(data)\n",
    "df"
   ],
   "id": "e53b1ff6ce75ce3f",
   "outputs": [
    {
     "data": {
      "text/plain": [
       "  Employee  Salary Department\n",
       "0     John    1000         HR\n",
       "1     Mary    2000         IT\n",
       "2     Lily    3000    Finance\n",
       "3      Sue    4000         IT\n",
       "4      Bob    5000         HR"
      ],
      "text/html": [
       "<div>\n",
       "<style scoped>\n",
       "    .dataframe tbody tr th:only-of-type {\n",
       "        vertical-align: middle;\n",
       "    }\n",
       "\n",
       "    .dataframe tbody tr th {\n",
       "        vertical-align: top;\n",
       "    }\n",
       "\n",
       "    .dataframe thead th {\n",
       "        text-align: right;\n",
       "    }\n",
       "</style>\n",
       "<table border=\"1\" class=\"dataframe\">\n",
       "  <thead>\n",
       "    <tr style=\"text-align: right;\">\n",
       "      <th></th>\n",
       "      <th>Employee</th>\n",
       "      <th>Salary</th>\n",
       "      <th>Department</th>\n",
       "    </tr>\n",
       "  </thead>\n",
       "  <tbody>\n",
       "    <tr>\n",
       "      <th>0</th>\n",
       "      <td>John</td>\n",
       "      <td>1000</td>\n",
       "      <td>HR</td>\n",
       "    </tr>\n",
       "    <tr>\n",
       "      <th>1</th>\n",
       "      <td>Mary</td>\n",
       "      <td>2000</td>\n",
       "      <td>IT</td>\n",
       "    </tr>\n",
       "    <tr>\n",
       "      <th>2</th>\n",
       "      <td>Lily</td>\n",
       "      <td>3000</td>\n",
       "      <td>Finance</td>\n",
       "    </tr>\n",
       "    <tr>\n",
       "      <th>3</th>\n",
       "      <td>Sue</td>\n",
       "      <td>4000</td>\n",
       "      <td>IT</td>\n",
       "    </tr>\n",
       "    <tr>\n",
       "      <th>4</th>\n",
       "      <td>Bob</td>\n",
       "      <td>5000</td>\n",
       "      <td>HR</td>\n",
       "    </tr>\n",
       "  </tbody>\n",
       "</table>\n",
       "</div>"
      ]
     },
     "execution_count": 30,
     "metadata": {},
     "output_type": "execute_result"
    }
   ],
   "execution_count": 30
  },
  {
   "metadata": {
    "ExecuteTime": {
     "end_time": "2025-05-05T14:21:20.877979Z",
     "start_time": "2025-05-05T14:21:20.863095Z"
    }
   },
   "cell_type": "code",
   "source": "df.info()",
   "id": "ddc20b70c88e1868",
   "outputs": [
    {
     "name": "stdout",
     "output_type": "stream",
     "text": [
      "<class 'pandas.core.frame.DataFrame'>\n",
      "RangeIndex: 5 entries, 0 to 4\n",
      "Data columns (total 3 columns):\n",
      " #   Column      Non-Null Count  Dtype \n",
      "---  ------      --------------  ----- \n",
      " 0   Employee    5 non-null      object\n",
      " 1   Salary      5 non-null      int64 \n",
      " 2   Department  5 non-null      object\n",
      "dtypes: int64(1), object(2)\n",
      "memory usage: 252.0+ bytes\n"
     ]
    }
   ],
   "execution_count": 31
  },
  {
   "metadata": {
    "ExecuteTime": {
     "end_time": "2025-05-05T14:21:21.183167Z",
     "start_time": "2025-05-05T14:21:21.177910Z"
    }
   },
   "cell_type": "code",
   "source": "df.columns",
   "id": "2bd4546b27042e09",
   "outputs": [
    {
     "data": {
      "text/plain": [
       "Index(['Employee', 'Salary', 'Department'], dtype='object')"
      ]
     },
     "execution_count": 32,
     "metadata": {},
     "output_type": "execute_result"
    }
   ],
   "execution_count": 32
  },
  {
   "metadata": {
    "ExecuteTime": {
     "end_time": "2025-05-05T14:21:21.480658Z",
     "start_time": "2025-05-05T14:21:21.475337Z"
    }
   },
   "cell_type": "code",
   "source": "df.keys()",
   "id": "94901c5474f7f931",
   "outputs": [
    {
     "data": {
      "text/plain": [
       "Index(['Employee', 'Salary', 'Department'], dtype='object')"
      ]
     },
     "execution_count": 33,
     "metadata": {},
     "output_type": "execute_result"
    }
   ],
   "execution_count": 33
  },
  {
   "metadata": {
    "ExecuteTime": {
     "end_time": "2025-05-05T14:21:21.631245Z",
     "start_time": "2025-05-05T14:21:21.622439Z"
    }
   },
   "cell_type": "code",
   "source": "df.head(3)",
   "id": "ae74aff6962e2a05",
   "outputs": [
    {
     "data": {
      "text/plain": [
       "  Employee  Salary Department\n",
       "0     John    1000         HR\n",
       "1     Mary    2000         IT\n",
       "2     Lily    3000    Finance"
      ],
      "text/html": [
       "<div>\n",
       "<style scoped>\n",
       "    .dataframe tbody tr th:only-of-type {\n",
       "        vertical-align: middle;\n",
       "    }\n",
       "\n",
       "    .dataframe tbody tr th {\n",
       "        vertical-align: top;\n",
       "    }\n",
       "\n",
       "    .dataframe thead th {\n",
       "        text-align: right;\n",
       "    }\n",
       "</style>\n",
       "<table border=\"1\" class=\"dataframe\">\n",
       "  <thead>\n",
       "    <tr style=\"text-align: right;\">\n",
       "      <th></th>\n",
       "      <th>Employee</th>\n",
       "      <th>Salary</th>\n",
       "      <th>Department</th>\n",
       "    </tr>\n",
       "  </thead>\n",
       "  <tbody>\n",
       "    <tr>\n",
       "      <th>0</th>\n",
       "      <td>John</td>\n",
       "      <td>1000</td>\n",
       "      <td>HR</td>\n",
       "    </tr>\n",
       "    <tr>\n",
       "      <th>1</th>\n",
       "      <td>Mary</td>\n",
       "      <td>2000</td>\n",
       "      <td>IT</td>\n",
       "    </tr>\n",
       "    <tr>\n",
       "      <th>2</th>\n",
       "      <td>Lily</td>\n",
       "      <td>3000</td>\n",
       "      <td>Finance</td>\n",
       "    </tr>\n",
       "  </tbody>\n",
       "</table>\n",
       "</div>"
      ]
     },
     "execution_count": 34,
     "metadata": {},
     "output_type": "execute_result"
    }
   ],
   "execution_count": 34
  },
  {
   "metadata": {
    "ExecuteTime": {
     "end_time": "2025-05-05T14:21:21.875414Z",
     "start_time": "2025-05-05T14:21:21.867484Z"
    }
   },
   "cell_type": "code",
   "source": "df.tail(3)",
   "id": "77421e9eafe7c881",
   "outputs": [
    {
     "data": {
      "text/plain": [
       "  Employee  Salary Department\n",
       "2     Lily    3000    Finance\n",
       "3      Sue    4000         IT\n",
       "4      Bob    5000         HR"
      ],
      "text/html": [
       "<div>\n",
       "<style scoped>\n",
       "    .dataframe tbody tr th:only-of-type {\n",
       "        vertical-align: middle;\n",
       "    }\n",
       "\n",
       "    .dataframe tbody tr th {\n",
       "        vertical-align: top;\n",
       "    }\n",
       "\n",
       "    .dataframe thead th {\n",
       "        text-align: right;\n",
       "    }\n",
       "</style>\n",
       "<table border=\"1\" class=\"dataframe\">\n",
       "  <thead>\n",
       "    <tr style=\"text-align: right;\">\n",
       "      <th></th>\n",
       "      <th>Employee</th>\n",
       "      <th>Salary</th>\n",
       "      <th>Department</th>\n",
       "    </tr>\n",
       "  </thead>\n",
       "  <tbody>\n",
       "    <tr>\n",
       "      <th>2</th>\n",
       "      <td>Lily</td>\n",
       "      <td>3000</td>\n",
       "      <td>Finance</td>\n",
       "    </tr>\n",
       "    <tr>\n",
       "      <th>3</th>\n",
       "      <td>Sue</td>\n",
       "      <td>4000</td>\n",
       "      <td>IT</td>\n",
       "    </tr>\n",
       "    <tr>\n",
       "      <th>4</th>\n",
       "      <td>Bob</td>\n",
       "      <td>5000</td>\n",
       "      <td>HR</td>\n",
       "    </tr>\n",
       "  </tbody>\n",
       "</table>\n",
       "</div>"
      ]
     },
     "execution_count": 35,
     "metadata": {},
     "output_type": "execute_result"
    }
   ],
   "execution_count": 35
  },
  {
   "metadata": {
    "ExecuteTime": {
     "end_time": "2025-05-05T14:21:22.180978Z",
     "start_time": "2025-05-05T14:21:22.175553Z"
    }
   },
   "cell_type": "code",
   "source": [
    "# numpy array\n",
    "df.values"
   ],
   "id": "b368d244acca72a9",
   "outputs": [
    {
     "data": {
      "text/plain": [
       "array([['John', 1000, 'HR'],\n",
       "       ['Mary', 2000, 'IT'],\n",
       "       ['Lily', 3000, 'Finance'],\n",
       "       ['Sue', 4000, 'IT'],\n",
       "       ['Bob', 5000, 'HR']], dtype=object)"
      ]
     },
     "execution_count": 36,
     "metadata": {},
     "output_type": "execute_result"
    }
   ],
   "execution_count": 36
  },
  {
   "metadata": {
    "ExecuteTime": {
     "end_time": "2025-05-05T14:21:22.662333Z",
     "start_time": "2025-05-05T14:21:22.656698Z"
    }
   },
   "cell_type": "code",
   "source": "df.size",
   "id": "eafd1b111d8a7f72",
   "outputs": [
    {
     "data": {
      "text/plain": [
       "15"
      ]
     },
     "execution_count": 37,
     "metadata": {},
     "output_type": "execute_result"
    }
   ],
   "execution_count": 37
  },
  {
   "metadata": {
    "ExecuteTime": {
     "end_time": "2025-05-05T14:21:23.046497Z",
     "start_time": "2025-05-05T14:21:23.039687Z"
    }
   },
   "cell_type": "code",
   "source": "df.shape",
   "id": "6de700f9df9d4144",
   "outputs": [
    {
     "data": {
      "text/plain": [
       "(5, 3)"
      ]
     },
     "execution_count": 38,
     "metadata": {},
     "output_type": "execute_result"
    }
   ],
   "execution_count": 38
  },
  {
   "metadata": {
    "ExecuteTime": {
     "end_time": "2025-05-05T14:21:23.292752Z",
     "start_time": "2025-05-05T14:21:23.287373Z"
    }
   },
   "cell_type": "code",
   "source": "df.shape[0]",
   "id": "28f34aab16527dd8",
   "outputs": [
    {
     "data": {
      "text/plain": [
       "5"
      ]
     },
     "execution_count": 39,
     "metadata": {},
     "output_type": "execute_result"
    }
   ],
   "execution_count": 39
  },
  {
   "metadata": {
    "ExecuteTime": {
     "end_time": "2025-05-05T14:21:23.445248Z",
     "start_time": "2025-05-05T14:21:23.439878Z"
    }
   },
   "cell_type": "code",
   "source": "df['Department'].unique()",
   "id": "32dde08ba1075b43",
   "outputs": [
    {
     "data": {
      "text/plain": [
       "array(['HR', 'IT', 'Finance'], dtype=object)"
      ]
     },
     "execution_count": 40,
     "metadata": {},
     "output_type": "execute_result"
    }
   ],
   "execution_count": 40
  },
  {
   "metadata": {
    "ExecuteTime": {
     "end_time": "2025-05-05T14:21:23.678189Z",
     "start_time": "2025-05-05T14:21:23.669665Z"
    }
   },
   "cell_type": "code",
   "source": "df['Department'].nunique()",
   "id": "49172e2b586da262",
   "outputs": [
    {
     "data": {
      "text/plain": [
       "3"
      ]
     },
     "execution_count": 41,
     "metadata": {},
     "output_type": "execute_result"
    }
   ],
   "execution_count": 41
  },
  {
   "metadata": {
    "ExecuteTime": {
     "end_time": "2025-05-05T14:21:23.815675Z",
     "start_time": "2025-05-05T14:21:23.809031Z"
    }
   },
   "cell_type": "code",
   "source": "df['Department'].value_counts()",
   "id": "da499ff6e6f79214",
   "outputs": [
    {
     "data": {
      "text/plain": [
       "Department\n",
       "HR         2\n",
       "IT         2\n",
       "Finance    1\n",
       "Name: count, dtype: int64"
      ]
     },
     "execution_count": 42,
     "metadata": {},
     "output_type": "execute_result"
    }
   ],
   "execution_count": 42
  },
  {
   "metadata": {
    "ExecuteTime": {
     "end_time": "2025-05-05T14:21:23.993390Z",
     "start_time": "2025-05-05T14:21:23.989311Z"
    }
   },
   "cell_type": "code",
   "source": [
    "def calc_bonus(salary):\n",
    "    return salary * 0.1"
   ],
   "id": "df8865a94e8da998",
   "outputs": [],
   "execution_count": 43
  },
  {
   "metadata": {
    "ExecuteTime": {
     "end_time": "2025-05-05T14:21:24.182452Z",
     "start_time": "2025-05-05T14:21:24.170160Z"
    }
   },
   "cell_type": "code",
   "source": [
    "df['Bonus'] = df['Salary'].apply(calc_bonus)\n",
    "df"
   ],
   "id": "b7b880c6ac947c28",
   "outputs": [
    {
     "data": {
      "text/plain": [
       "  Employee  Salary Department  Bonus\n",
       "0     John    1000         HR  100.0\n",
       "1     Mary    2000         IT  200.0\n",
       "2     Lily    3000    Finance  300.0\n",
       "3      Sue    4000         IT  400.0\n",
       "4      Bob    5000         HR  500.0"
      ],
      "text/html": [
       "<div>\n",
       "<style scoped>\n",
       "    .dataframe tbody tr th:only-of-type {\n",
       "        vertical-align: middle;\n",
       "    }\n",
       "\n",
       "    .dataframe tbody tr th {\n",
       "        vertical-align: top;\n",
       "    }\n",
       "\n",
       "    .dataframe thead th {\n",
       "        text-align: right;\n",
       "    }\n",
       "</style>\n",
       "<table border=\"1\" class=\"dataframe\">\n",
       "  <thead>\n",
       "    <tr style=\"text-align: right;\">\n",
       "      <th></th>\n",
       "      <th>Employee</th>\n",
       "      <th>Salary</th>\n",
       "      <th>Department</th>\n",
       "      <th>Bonus</th>\n",
       "    </tr>\n",
       "  </thead>\n",
       "  <tbody>\n",
       "    <tr>\n",
       "      <th>0</th>\n",
       "      <td>John</td>\n",
       "      <td>1000</td>\n",
       "      <td>HR</td>\n",
       "      <td>100.0</td>\n",
       "    </tr>\n",
       "    <tr>\n",
       "      <th>1</th>\n",
       "      <td>Mary</td>\n",
       "      <td>2000</td>\n",
       "      <td>IT</td>\n",
       "      <td>200.0</td>\n",
       "    </tr>\n",
       "    <tr>\n",
       "      <th>2</th>\n",
       "      <td>Lily</td>\n",
       "      <td>3000</td>\n",
       "      <td>Finance</td>\n",
       "      <td>300.0</td>\n",
       "    </tr>\n",
       "    <tr>\n",
       "      <th>3</th>\n",
       "      <td>Sue</td>\n",
       "      <td>4000</td>\n",
       "      <td>IT</td>\n",
       "      <td>400.0</td>\n",
       "    </tr>\n",
       "    <tr>\n",
       "      <th>4</th>\n",
       "      <td>Bob</td>\n",
       "      <td>5000</td>\n",
       "      <td>HR</td>\n",
       "      <td>500.0</td>\n",
       "    </tr>\n",
       "  </tbody>\n",
       "</table>\n",
       "</div>"
      ]
     },
     "execution_count": 44,
     "metadata": {},
     "output_type": "execute_result"
    }
   ],
   "execution_count": 44
  },
  {
   "metadata": {
    "ExecuteTime": {
     "end_time": "2025-05-05T14:21:24.441289Z",
     "start_time": "2025-05-05T14:21:24.428284Z"
    }
   },
   "cell_type": "code",
   "source": [
    "df['Adjusted Salary'] = df['Salary'].apply(lambda x: x * 1.05)\n",
    "df"
   ],
   "id": "5e127b59016caf75",
   "outputs": [
    {
     "data": {
      "text/plain": [
       "  Employee  Salary Department  Bonus  Adjusted Salary\n",
       "0     John    1000         HR  100.0           1050.0\n",
       "1     Mary    2000         IT  200.0           2100.0\n",
       "2     Lily    3000    Finance  300.0           3150.0\n",
       "3      Sue    4000         IT  400.0           4200.0\n",
       "4      Bob    5000         HR  500.0           5250.0"
      ],
      "text/html": [
       "<div>\n",
       "<style scoped>\n",
       "    .dataframe tbody tr th:only-of-type {\n",
       "        vertical-align: middle;\n",
       "    }\n",
       "\n",
       "    .dataframe tbody tr th {\n",
       "        vertical-align: top;\n",
       "    }\n",
       "\n",
       "    .dataframe thead th {\n",
       "        text-align: right;\n",
       "    }\n",
       "</style>\n",
       "<table border=\"1\" class=\"dataframe\">\n",
       "  <thead>\n",
       "    <tr style=\"text-align: right;\">\n",
       "      <th></th>\n",
       "      <th>Employee</th>\n",
       "      <th>Salary</th>\n",
       "      <th>Department</th>\n",
       "      <th>Bonus</th>\n",
       "      <th>Adjusted Salary</th>\n",
       "    </tr>\n",
       "  </thead>\n",
       "  <tbody>\n",
       "    <tr>\n",
       "      <th>0</th>\n",
       "      <td>John</td>\n",
       "      <td>1000</td>\n",
       "      <td>HR</td>\n",
       "      <td>100.0</td>\n",
       "      <td>1050.0</td>\n",
       "    </tr>\n",
       "    <tr>\n",
       "      <th>1</th>\n",
       "      <td>Mary</td>\n",
       "      <td>2000</td>\n",
       "      <td>IT</td>\n",
       "      <td>200.0</td>\n",
       "      <td>2100.0</td>\n",
       "    </tr>\n",
       "    <tr>\n",
       "      <th>2</th>\n",
       "      <td>Lily</td>\n",
       "      <td>3000</td>\n",
       "      <td>Finance</td>\n",
       "      <td>300.0</td>\n",
       "      <td>3150.0</td>\n",
       "    </tr>\n",
       "    <tr>\n",
       "      <th>3</th>\n",
       "      <td>Sue</td>\n",
       "      <td>4000</td>\n",
       "      <td>IT</td>\n",
       "      <td>400.0</td>\n",
       "      <td>4200.0</td>\n",
       "    </tr>\n",
       "    <tr>\n",
       "      <th>4</th>\n",
       "      <td>Bob</td>\n",
       "      <td>5000</td>\n",
       "      <td>HR</td>\n",
       "      <td>500.0</td>\n",
       "      <td>5250.0</td>\n",
       "    </tr>\n",
       "  </tbody>\n",
       "</table>\n",
       "</div>"
      ]
     },
     "execution_count": 45,
     "metadata": {},
     "output_type": "execute_result"
    }
   ],
   "execution_count": 45
  },
  {
   "metadata": {
    "ExecuteTime": {
     "end_time": "2025-05-05T14:21:24.823769Z",
     "start_time": "2025-05-05T14:21:24.811432Z"
    }
   },
   "cell_type": "code",
   "source": [
    "df_upper = df.applymap(lambda x: x.upper() if type(x) == str else x)\n",
    "df_upper"
   ],
   "id": "b8bad9fa7c418cca",
   "outputs": [
    {
     "name": "stderr",
     "output_type": "stream",
     "text": [
      "/var/folders/6l/0v0lczzd3zg_6n8l7ysp7gyc0000gn/T/ipykernel_70168/1173992352.py:1: FutureWarning: DataFrame.applymap has been deprecated. Use DataFrame.map instead.\n",
      "  df_upper = df.applymap(lambda x: x.upper() if type(x) == str else x)\n"
     ]
    },
    {
     "data": {
      "text/plain": [
       "  Employee  Salary Department  Bonus  Adjusted Salary\n",
       "0     JOHN    1000         HR  100.0           1050.0\n",
       "1     MARY    2000         IT  200.0           2100.0\n",
       "2     LILY    3000    FINANCE  300.0           3150.0\n",
       "3      SUE    4000         IT  400.0           4200.0\n",
       "4      BOB    5000         HR  500.0           5250.0"
      ],
      "text/html": [
       "<div>\n",
       "<style scoped>\n",
       "    .dataframe tbody tr th:only-of-type {\n",
       "        vertical-align: middle;\n",
       "    }\n",
       "\n",
       "    .dataframe tbody tr th {\n",
       "        vertical-align: top;\n",
       "    }\n",
       "\n",
       "    .dataframe thead th {\n",
       "        text-align: right;\n",
       "    }\n",
       "</style>\n",
       "<table border=\"1\" class=\"dataframe\">\n",
       "  <thead>\n",
       "    <tr style=\"text-align: right;\">\n",
       "      <th></th>\n",
       "      <th>Employee</th>\n",
       "      <th>Salary</th>\n",
       "      <th>Department</th>\n",
       "      <th>Bonus</th>\n",
       "      <th>Adjusted Salary</th>\n",
       "    </tr>\n",
       "  </thead>\n",
       "  <tbody>\n",
       "    <tr>\n",
       "      <th>0</th>\n",
       "      <td>JOHN</td>\n",
       "      <td>1000</td>\n",
       "      <td>HR</td>\n",
       "      <td>100.0</td>\n",
       "      <td>1050.0</td>\n",
       "    </tr>\n",
       "    <tr>\n",
       "      <th>1</th>\n",
       "      <td>MARY</td>\n",
       "      <td>2000</td>\n",
       "      <td>IT</td>\n",
       "      <td>200.0</td>\n",
       "      <td>2100.0</td>\n",
       "    </tr>\n",
       "    <tr>\n",
       "      <th>2</th>\n",
       "      <td>LILY</td>\n",
       "      <td>3000</td>\n",
       "      <td>FINANCE</td>\n",
       "      <td>300.0</td>\n",
       "      <td>3150.0</td>\n",
       "    </tr>\n",
       "    <tr>\n",
       "      <th>3</th>\n",
       "      <td>SUE</td>\n",
       "      <td>4000</td>\n",
       "      <td>IT</td>\n",
       "      <td>400.0</td>\n",
       "      <td>4200.0</td>\n",
       "    </tr>\n",
       "    <tr>\n",
       "      <th>4</th>\n",
       "      <td>BOB</td>\n",
       "      <td>5000</td>\n",
       "      <td>HR</td>\n",
       "      <td>500.0</td>\n",
       "      <td>5250.0</td>\n",
       "    </tr>\n",
       "  </tbody>\n",
       "</table>\n",
       "</div>"
      ]
     },
     "execution_count": 46,
     "metadata": {},
     "output_type": "execute_result"
    }
   ],
   "execution_count": 46
  },
  {
   "metadata": {
    "ExecuteTime": {
     "end_time": "2025-05-05T14:21:25.270812Z",
     "start_time": "2025-05-05T14:21:25.259271Z"
    }
   },
   "cell_type": "code",
   "source": "df.sort_values(by='Salary', ascending=False)",
   "id": "cd3144ccabf6cc74",
   "outputs": [
    {
     "data": {
      "text/plain": [
       "  Employee  Salary Department  Bonus  Adjusted Salary\n",
       "4      Bob    5000         HR  500.0           5250.0\n",
       "3      Sue    4000         IT  400.0           4200.0\n",
       "2     Lily    3000    Finance  300.0           3150.0\n",
       "1     Mary    2000         IT  200.0           2100.0\n",
       "0     John    1000         HR  100.0           1050.0"
      ],
      "text/html": [
       "<div>\n",
       "<style scoped>\n",
       "    .dataframe tbody tr th:only-of-type {\n",
       "        vertical-align: middle;\n",
       "    }\n",
       "\n",
       "    .dataframe tbody tr th {\n",
       "        vertical-align: top;\n",
       "    }\n",
       "\n",
       "    .dataframe thead th {\n",
       "        text-align: right;\n",
       "    }\n",
       "</style>\n",
       "<table border=\"1\" class=\"dataframe\">\n",
       "  <thead>\n",
       "    <tr style=\"text-align: right;\">\n",
       "      <th></th>\n",
       "      <th>Employee</th>\n",
       "      <th>Salary</th>\n",
       "      <th>Department</th>\n",
       "      <th>Bonus</th>\n",
       "      <th>Adjusted Salary</th>\n",
       "    </tr>\n",
       "  </thead>\n",
       "  <tbody>\n",
       "    <tr>\n",
       "      <th>4</th>\n",
       "      <td>Bob</td>\n",
       "      <td>5000</td>\n",
       "      <td>HR</td>\n",
       "      <td>500.0</td>\n",
       "      <td>5250.0</td>\n",
       "    </tr>\n",
       "    <tr>\n",
       "      <th>3</th>\n",
       "      <td>Sue</td>\n",
       "      <td>4000</td>\n",
       "      <td>IT</td>\n",
       "      <td>400.0</td>\n",
       "      <td>4200.0</td>\n",
       "    </tr>\n",
       "    <tr>\n",
       "      <th>2</th>\n",
       "      <td>Lily</td>\n",
       "      <td>3000</td>\n",
       "      <td>Finance</td>\n",
       "      <td>300.0</td>\n",
       "      <td>3150.0</td>\n",
       "    </tr>\n",
       "    <tr>\n",
       "      <th>1</th>\n",
       "      <td>Mary</td>\n",
       "      <td>2000</td>\n",
       "      <td>IT</td>\n",
       "      <td>200.0</td>\n",
       "      <td>2100.0</td>\n",
       "    </tr>\n",
       "    <tr>\n",
       "      <th>0</th>\n",
       "      <td>John</td>\n",
       "      <td>1000</td>\n",
       "      <td>HR</td>\n",
       "      <td>100.0</td>\n",
       "      <td>1050.0</td>\n",
       "    </tr>\n",
       "  </tbody>\n",
       "</table>\n",
       "</div>"
      ]
     },
     "execution_count": 47,
     "metadata": {},
     "output_type": "execute_result"
    }
   ],
   "execution_count": 47
  },
  {
   "metadata": {
    "ExecuteTime": {
     "end_time": "2025-05-05T14:21:25.656647Z",
     "start_time": "2025-05-05T14:21:25.647079Z"
    }
   },
   "cell_type": "code",
   "source": "df2 = df.sort_values(by=['Department', 'Bonus'], ascending=[False, True])",
   "id": "8c6b41e7abc9f8c9",
   "outputs": [],
   "execution_count": 48
  },
  {
   "metadata": {
    "ExecuteTime": {
     "end_time": "2025-05-05T14:21:25.997353Z",
     "start_time": "2025-05-05T14:21:25.986772Z"
    }
   },
   "cell_type": "code",
   "source": [
    "df2.reset_index(drop=True, inplace=True)\n",
    "df2"
   ],
   "id": "aa6138f74588c254",
   "outputs": [
    {
     "data": {
      "text/plain": [
       "  Employee  Salary Department  Bonus  Adjusted Salary\n",
       "0     Mary    2000         IT  200.0           2100.0\n",
       "1      Sue    4000         IT  400.0           4200.0\n",
       "2     John    1000         HR  100.0           1050.0\n",
       "3      Bob    5000         HR  500.0           5250.0\n",
       "4     Lily    3000    Finance  300.0           3150.0"
      ],
      "text/html": [
       "<div>\n",
       "<style scoped>\n",
       "    .dataframe tbody tr th:only-of-type {\n",
       "        vertical-align: middle;\n",
       "    }\n",
       "\n",
       "    .dataframe tbody tr th {\n",
       "        vertical-align: top;\n",
       "    }\n",
       "\n",
       "    .dataframe thead th {\n",
       "        text-align: right;\n",
       "    }\n",
       "</style>\n",
       "<table border=\"1\" class=\"dataframe\">\n",
       "  <thead>\n",
       "    <tr style=\"text-align: right;\">\n",
       "      <th></th>\n",
       "      <th>Employee</th>\n",
       "      <th>Salary</th>\n",
       "      <th>Department</th>\n",
       "      <th>Bonus</th>\n",
       "      <th>Adjusted Salary</th>\n",
       "    </tr>\n",
       "  </thead>\n",
       "  <tbody>\n",
       "    <tr>\n",
       "      <th>0</th>\n",
       "      <td>Mary</td>\n",
       "      <td>2000</td>\n",
       "      <td>IT</td>\n",
       "      <td>200.0</td>\n",
       "      <td>2100.0</td>\n",
       "    </tr>\n",
       "    <tr>\n",
       "      <th>1</th>\n",
       "      <td>Sue</td>\n",
       "      <td>4000</td>\n",
       "      <td>IT</td>\n",
       "      <td>400.0</td>\n",
       "      <td>4200.0</td>\n",
       "    </tr>\n",
       "    <tr>\n",
       "      <th>2</th>\n",
       "      <td>John</td>\n",
       "      <td>1000</td>\n",
       "      <td>HR</td>\n",
       "      <td>100.0</td>\n",
       "      <td>1050.0</td>\n",
       "    </tr>\n",
       "    <tr>\n",
       "      <th>3</th>\n",
       "      <td>Bob</td>\n",
       "      <td>5000</td>\n",
       "      <td>HR</td>\n",
       "      <td>500.0</td>\n",
       "      <td>5250.0</td>\n",
       "    </tr>\n",
       "    <tr>\n",
       "      <th>4</th>\n",
       "      <td>Lily</td>\n",
       "      <td>3000</td>\n",
       "      <td>Finance</td>\n",
       "      <td>300.0</td>\n",
       "      <td>3150.0</td>\n",
       "    </tr>\n",
       "  </tbody>\n",
       "</table>\n",
       "</div>"
      ]
     },
     "execution_count": 49,
     "metadata": {},
     "output_type": "execute_result"
    }
   ],
   "execution_count": 49
  },
  {
   "metadata": {},
   "cell_type": "markdown",
   "source": "# Grouping and Aggregation",
   "id": "58282ba515f118a9"
  },
  {
   "metadata": {
    "ExecuteTime": {
     "end_time": "2025-05-05T14:21:26.241853Z",
     "start_time": "2025-05-05T14:21:26.236249Z"
    }
   },
   "cell_type": "code",
   "source": "# https://youtu.be/7uIqaMevDvQ?si=00zawEIEmlDkoHZA",
   "id": "fcfa5f15c04d045e",
   "outputs": [],
   "execution_count": 50
  },
  {
   "metadata": {
    "ExecuteTime": {
     "end_time": "2025-05-05T14:21:26.458857Z",
     "start_time": "2025-05-05T14:21:26.453215Z"
    }
   },
   "cell_type": "code",
   "source": [
    "data = {\n",
    "    'Product ID': [1, 2, 3, 4, 5],\n",
    "    'Product Name': ['Apple', 'Banana', 'Apple', 'Mango', 'Banana'],\n",
    "    'Price': [10, 20, 30, 40, 50],\n",
    "    'Quantity': [100, 200, 300, 400, 500]\n",
    "}"
   ],
   "id": "fdb91d70e5a525be",
   "outputs": [],
   "execution_count": 51
  },
  {
   "metadata": {
    "ExecuteTime": {
     "end_time": "2025-05-05T14:21:26.581373Z",
     "start_time": "2025-05-05T14:21:26.564198Z"
    }
   },
   "cell_type": "code",
   "source": [
    "df = pd.DataFrame(data)\n",
    "df"
   ],
   "id": "b4d8419c48eb3916",
   "outputs": [
    {
     "data": {
      "text/plain": [
       "   Product ID Product Name  Price  Quantity\n",
       "0           1        Apple     10       100\n",
       "1           2       Banana     20       200\n",
       "2           3        Apple     30       300\n",
       "3           4        Mango     40       400\n",
       "4           5       Banana     50       500"
      ],
      "text/html": [
       "<div>\n",
       "<style scoped>\n",
       "    .dataframe tbody tr th:only-of-type {\n",
       "        vertical-align: middle;\n",
       "    }\n",
       "\n",
       "    .dataframe tbody tr th {\n",
       "        vertical-align: top;\n",
       "    }\n",
       "\n",
       "    .dataframe thead th {\n",
       "        text-align: right;\n",
       "    }\n",
       "</style>\n",
       "<table border=\"1\" class=\"dataframe\">\n",
       "  <thead>\n",
       "    <tr style=\"text-align: right;\">\n",
       "      <th></th>\n",
       "      <th>Product ID</th>\n",
       "      <th>Product Name</th>\n",
       "      <th>Price</th>\n",
       "      <th>Quantity</th>\n",
       "    </tr>\n",
       "  </thead>\n",
       "  <tbody>\n",
       "    <tr>\n",
       "      <th>0</th>\n",
       "      <td>1</td>\n",
       "      <td>Apple</td>\n",
       "      <td>10</td>\n",
       "      <td>100</td>\n",
       "    </tr>\n",
       "    <tr>\n",
       "      <th>1</th>\n",
       "      <td>2</td>\n",
       "      <td>Banana</td>\n",
       "      <td>20</td>\n",
       "      <td>200</td>\n",
       "    </tr>\n",
       "    <tr>\n",
       "      <th>2</th>\n",
       "      <td>3</td>\n",
       "      <td>Apple</td>\n",
       "      <td>30</td>\n",
       "      <td>300</td>\n",
       "    </tr>\n",
       "    <tr>\n",
       "      <th>3</th>\n",
       "      <td>4</td>\n",
       "      <td>Mango</td>\n",
       "      <td>40</td>\n",
       "      <td>400</td>\n",
       "    </tr>\n",
       "    <tr>\n",
       "      <th>4</th>\n",
       "      <td>5</td>\n",
       "      <td>Banana</td>\n",
       "      <td>50</td>\n",
       "      <td>500</td>\n",
       "    </tr>\n",
       "  </tbody>\n",
       "</table>\n",
       "</div>"
      ]
     },
     "execution_count": 52,
     "metadata": {},
     "output_type": "execute_result"
    }
   ],
   "execution_count": 52
  },
  {
   "metadata": {
    "ExecuteTime": {
     "end_time": "2025-05-05T14:21:26.851258Z",
     "start_time": "2025-05-05T14:21:26.824614Z"
    }
   },
   "cell_type": "code",
   "source": "df.describe().transpose()",
   "id": "d0566dd65f97e6c9",
   "outputs": [
    {
     "data": {
      "text/plain": [
       "            count   mean         std    min    25%    50%    75%    max\n",
       "Product ID    5.0    3.0    1.581139    1.0    2.0    3.0    4.0    5.0\n",
       "Price         5.0   30.0   15.811388   10.0   20.0   30.0   40.0   50.0\n",
       "Quantity      5.0  300.0  158.113883  100.0  200.0  300.0  400.0  500.0"
      ],
      "text/html": [
       "<div>\n",
       "<style scoped>\n",
       "    .dataframe tbody tr th:only-of-type {\n",
       "        vertical-align: middle;\n",
       "    }\n",
       "\n",
       "    .dataframe tbody tr th {\n",
       "        vertical-align: top;\n",
       "    }\n",
       "\n",
       "    .dataframe thead th {\n",
       "        text-align: right;\n",
       "    }\n",
       "</style>\n",
       "<table border=\"1\" class=\"dataframe\">\n",
       "  <thead>\n",
       "    <tr style=\"text-align: right;\">\n",
       "      <th></th>\n",
       "      <th>count</th>\n",
       "      <th>mean</th>\n",
       "      <th>std</th>\n",
       "      <th>min</th>\n",
       "      <th>25%</th>\n",
       "      <th>50%</th>\n",
       "      <th>75%</th>\n",
       "      <th>max</th>\n",
       "    </tr>\n",
       "  </thead>\n",
       "  <tbody>\n",
       "    <tr>\n",
       "      <th>Product ID</th>\n",
       "      <td>5.0</td>\n",
       "      <td>3.0</td>\n",
       "      <td>1.581139</td>\n",
       "      <td>1.0</td>\n",
       "      <td>2.0</td>\n",
       "      <td>3.0</td>\n",
       "      <td>4.0</td>\n",
       "      <td>5.0</td>\n",
       "    </tr>\n",
       "    <tr>\n",
       "      <th>Price</th>\n",
       "      <td>5.0</td>\n",
       "      <td>30.0</td>\n",
       "      <td>15.811388</td>\n",
       "      <td>10.0</td>\n",
       "      <td>20.0</td>\n",
       "      <td>30.0</td>\n",
       "      <td>40.0</td>\n",
       "      <td>50.0</td>\n",
       "    </tr>\n",
       "    <tr>\n",
       "      <th>Quantity</th>\n",
       "      <td>5.0</td>\n",
       "      <td>300.0</td>\n",
       "      <td>158.113883</td>\n",
       "      <td>100.0</td>\n",
       "      <td>200.0</td>\n",
       "      <td>300.0</td>\n",
       "      <td>400.0</td>\n",
       "      <td>500.0</td>\n",
       "    </tr>\n",
       "  </tbody>\n",
       "</table>\n",
       "</div>"
      ]
     },
     "execution_count": 53,
     "metadata": {},
     "output_type": "execute_result"
    }
   ],
   "execution_count": 53
  },
  {
   "metadata": {
    "ExecuteTime": {
     "end_time": "2025-05-05T14:21:27.167152Z",
     "start_time": "2025-05-05T14:21:27.160286Z"
    }
   },
   "cell_type": "code",
   "source": "df['Price'].mean() # AVG",
   "id": "c801483e6c64c35f",
   "outputs": [
    {
     "data": {
      "text/plain": [
       "30.0"
      ]
     },
     "execution_count": 54,
     "metadata": {},
     "output_type": "execute_result"
    }
   ],
   "execution_count": 54
  },
  {
   "metadata": {
    "ExecuteTime": {
     "end_time": "2025-05-05T14:21:27.593877Z",
     "start_time": "2025-05-05T14:21:27.586391Z"
    }
   },
   "cell_type": "code",
   "source": "df['Price'].median() # middle value in sorted array",
   "id": "d6872f6861f3442f",
   "outputs": [
    {
     "data": {
      "text/plain": [
       "30.0"
      ]
     },
     "execution_count": 55,
     "metadata": {},
     "output_type": "execute_result"
    }
   ],
   "execution_count": 55
  },
  {
   "metadata": {
    "ExecuteTime": {
     "end_time": "2025-05-05T14:21:27.850783Z",
     "start_time": "2025-05-05T14:21:27.842658Z"
    }
   },
   "cell_type": "code",
   "source": "df['Price'].mode() # most frequent value",
   "id": "a6f0dc864908a9ea",
   "outputs": [
    {
     "data": {
      "text/plain": [
       "0    10\n",
       "1    20\n",
       "2    30\n",
       "3    40\n",
       "4    50\n",
       "Name: Price, dtype: int64"
      ]
     },
     "execution_count": 56,
     "metadata": {},
     "output_type": "execute_result"
    }
   ],
   "execution_count": 56
  },
  {
   "metadata": {
    "ExecuteTime": {
     "end_time": "2025-05-05T14:21:28.042993Z",
     "start_time": "2025-05-05T14:21:28.034956Z"
    }
   },
   "cell_type": "code",
   "source": "df['Price'].std() # standard deviation",
   "id": "4099bdc04b609444",
   "outputs": [
    {
     "data": {
      "text/plain": [
       "15.811388300841896"
      ]
     },
     "execution_count": 57,
     "metadata": {},
     "output_type": "execute_result"
    }
   ],
   "execution_count": 57
  },
  {
   "metadata": {
    "ExecuteTime": {
     "end_time": "2025-05-05T14:21:28.285696Z",
     "start_time": "2025-05-05T14:21:28.279184Z"
    }
   },
   "cell_type": "code",
   "source": "df['Price'].var() # how far numbers spread from mean",
   "id": "c3858759e149cf97",
   "outputs": [
    {
     "data": {
      "text/plain": [
       "250.0"
      ]
     },
     "execution_count": 58,
     "metadata": {},
     "output_type": "execute_result"
    }
   ],
   "execution_count": 58
  },
  {
   "metadata": {
    "ExecuteTime": {
     "end_time": "2025-05-05T14:21:28.509565Z",
     "start_time": "2025-05-05T14:21:28.502518Z"
    }
   },
   "cell_type": "code",
   "source": "df['Price'].sum()",
   "id": "42b0693f5a05d18",
   "outputs": [
    {
     "data": {
      "text/plain": [
       "150"
      ]
     },
     "execution_count": 59,
     "metadata": {},
     "output_type": "execute_result"
    }
   ],
   "execution_count": 59
  },
  {
   "metadata": {
    "ExecuteTime": {
     "end_time": "2025-05-05T14:21:28.748241Z",
     "start_time": "2025-05-05T14:21:28.741027Z"
    }
   },
   "cell_type": "code",
   "source": "df['Price'].prod() # product",
   "id": "dabc98e03b585456",
   "outputs": [
    {
     "data": {
      "text/plain": [
       "12000000"
      ]
     },
     "execution_count": 60,
     "metadata": {},
     "output_type": "execute_result"
    }
   ],
   "execution_count": 60
  },
  {
   "metadata": {
    "ExecuteTime": {
     "end_time": "2025-05-05T14:21:28.908989Z",
     "start_time": "2025-05-05T14:21:28.898558Z"
    }
   },
   "cell_type": "code",
   "source": "df",
   "id": "a92b87bf90fe6fa5",
   "outputs": [
    {
     "data": {
      "text/plain": [
       "   Product ID Product Name  Price  Quantity\n",
       "0           1        Apple     10       100\n",
       "1           2       Banana     20       200\n",
       "2           3        Apple     30       300\n",
       "3           4        Mango     40       400\n",
       "4           5       Banana     50       500"
      ],
      "text/html": [
       "<div>\n",
       "<style scoped>\n",
       "    .dataframe tbody tr th:only-of-type {\n",
       "        vertical-align: middle;\n",
       "    }\n",
       "\n",
       "    .dataframe tbody tr th {\n",
       "        vertical-align: top;\n",
       "    }\n",
       "\n",
       "    .dataframe thead th {\n",
       "        text-align: right;\n",
       "    }\n",
       "</style>\n",
       "<table border=\"1\" class=\"dataframe\">\n",
       "  <thead>\n",
       "    <tr style=\"text-align: right;\">\n",
       "      <th></th>\n",
       "      <th>Product ID</th>\n",
       "      <th>Product Name</th>\n",
       "      <th>Price</th>\n",
       "      <th>Quantity</th>\n",
       "    </tr>\n",
       "  </thead>\n",
       "  <tbody>\n",
       "    <tr>\n",
       "      <th>0</th>\n",
       "      <td>1</td>\n",
       "      <td>Apple</td>\n",
       "      <td>10</td>\n",
       "      <td>100</td>\n",
       "    </tr>\n",
       "    <tr>\n",
       "      <th>1</th>\n",
       "      <td>2</td>\n",
       "      <td>Banana</td>\n",
       "      <td>20</td>\n",
       "      <td>200</td>\n",
       "    </tr>\n",
       "    <tr>\n",
       "      <th>2</th>\n",
       "      <td>3</td>\n",
       "      <td>Apple</td>\n",
       "      <td>30</td>\n",
       "      <td>300</td>\n",
       "    </tr>\n",
       "    <tr>\n",
       "      <th>3</th>\n",
       "      <td>4</td>\n",
       "      <td>Mango</td>\n",
       "      <td>40</td>\n",
       "      <td>400</td>\n",
       "    </tr>\n",
       "    <tr>\n",
       "      <th>4</th>\n",
       "      <td>5</td>\n",
       "      <td>Banana</td>\n",
       "      <td>50</td>\n",
       "      <td>500</td>\n",
       "    </tr>\n",
       "  </tbody>\n",
       "</table>\n",
       "</div>"
      ]
     },
     "execution_count": 61,
     "metadata": {},
     "output_type": "execute_result"
    }
   ],
   "execution_count": 61
  },
  {
   "metadata": {
    "ExecuteTime": {
     "end_time": "2025-05-05T14:21:29.116823Z",
     "start_time": "2025-05-05T14:21:29.109184Z"
    }
   },
   "cell_type": "code",
   "source": [
    "gr = df.groupby('Product Name')\n",
    "gr"
   ],
   "id": "dcad776e9d362ca8",
   "outputs": [
    {
     "data": {
      "text/plain": [
       "<pandas.core.groupby.generic.DataFrameGroupBy object at 0x1478b6900>"
      ]
     },
     "execution_count": 62,
     "metadata": {},
     "output_type": "execute_result"
    }
   ],
   "execution_count": 62
  },
  {
   "metadata": {
    "ExecuteTime": {
     "end_time": "2025-05-05T14:21:29.333379Z",
     "start_time": "2025-05-05T14:21:29.324123Z"
    }
   },
   "cell_type": "code",
   "source": "gr['Quantity'].mean()",
   "id": "44100b67cc3ced71",
   "outputs": [
    {
     "data": {
      "text/plain": [
       "Product Name\n",
       "Apple     200.0\n",
       "Banana    350.0\n",
       "Mango     400.0\n",
       "Name: Quantity, dtype: float64"
      ]
     },
     "execution_count": 63,
     "metadata": {},
     "output_type": "execute_result"
    }
   ],
   "execution_count": 63
  },
  {
   "metadata": {
    "ExecuteTime": {
     "end_time": "2025-05-05T14:21:29.532915Z",
     "start_time": "2025-05-05T14:21:29.526528Z"
    }
   },
   "cell_type": "code",
   "source": "gr['Price'].sum()",
   "id": "f6f25051aa359d6c",
   "outputs": [
    {
     "data": {
      "text/plain": [
       "Product Name\n",
       "Apple     40\n",
       "Banana    70\n",
       "Mango     40\n",
       "Name: Price, dtype: int64"
      ]
     },
     "execution_count": 64,
     "metadata": {},
     "output_type": "execute_result"
    }
   ],
   "execution_count": 64
  },
  {
   "metadata": {
    "ExecuteTime": {
     "end_time": "2025-05-05T14:21:29.858485Z",
     "start_time": "2025-05-05T14:21:29.846711Z"
    }
   },
   "cell_type": "code",
   "source": "gr['Price'].agg(['mean', 'median', 'sum'])",
   "id": "926b1245b80e390f",
   "outputs": [
    {
     "data": {
      "text/plain": [
       "              mean  median  sum\n",
       "Product Name                   \n",
       "Apple         20.0    20.0   40\n",
       "Banana        35.0    35.0   70\n",
       "Mango         40.0    40.0   40"
      ],
      "text/html": [
       "<div>\n",
       "<style scoped>\n",
       "    .dataframe tbody tr th:only-of-type {\n",
       "        vertical-align: middle;\n",
       "    }\n",
       "\n",
       "    .dataframe tbody tr th {\n",
       "        vertical-align: top;\n",
       "    }\n",
       "\n",
       "    .dataframe thead th {\n",
       "        text-align: right;\n",
       "    }\n",
       "</style>\n",
       "<table border=\"1\" class=\"dataframe\">\n",
       "  <thead>\n",
       "    <tr style=\"text-align: right;\">\n",
       "      <th></th>\n",
       "      <th>mean</th>\n",
       "      <th>median</th>\n",
       "      <th>sum</th>\n",
       "    </tr>\n",
       "    <tr>\n",
       "      <th>Product Name</th>\n",
       "      <th></th>\n",
       "      <th></th>\n",
       "      <th></th>\n",
       "    </tr>\n",
       "  </thead>\n",
       "  <tbody>\n",
       "    <tr>\n",
       "      <th>Apple</th>\n",
       "      <td>20.0</td>\n",
       "      <td>20.0</td>\n",
       "      <td>40</td>\n",
       "    </tr>\n",
       "    <tr>\n",
       "      <th>Banana</th>\n",
       "      <td>35.0</td>\n",
       "      <td>35.0</td>\n",
       "      <td>70</td>\n",
       "    </tr>\n",
       "    <tr>\n",
       "      <th>Mango</th>\n",
       "      <td>40.0</td>\n",
       "      <td>40.0</td>\n",
       "      <td>40</td>\n",
       "    </tr>\n",
       "  </tbody>\n",
       "</table>\n",
       "</div>"
      ]
     },
     "execution_count": 65,
     "metadata": {},
     "output_type": "execute_result"
    }
   ],
   "execution_count": 65
  },
  {
   "metadata": {
    "ExecuteTime": {
     "end_time": "2025-05-05T14:21:30.175909Z",
     "start_time": "2025-05-05T14:21:30.168259Z"
    }
   },
   "cell_type": "code",
   "source": "gr_multi = df.groupby(['Product Name', 'Price'])",
   "id": "df1cad17b19c3937",
   "outputs": [],
   "execution_count": 66
  },
  {
   "metadata": {
    "ExecuteTime": {
     "end_time": "2025-05-05T14:21:30.486519Z",
     "start_time": "2025-05-05T14:21:30.474805Z"
    }
   },
   "cell_type": "code",
   "source": "gr_multi['Quantity'].sum()",
   "id": "7e98ca790085961f",
   "outputs": [
    {
     "data": {
      "text/plain": [
       "Product Name  Price\n",
       "Apple         10       100\n",
       "              30       300\n",
       "Banana        20       200\n",
       "              50       500\n",
       "Mango         40       400\n",
       "Name: Quantity, dtype: int64"
      ]
     },
     "execution_count": 67,
     "metadata": {},
     "output_type": "execute_result"
    }
   ],
   "execution_count": 67
  },
  {
   "metadata": {
    "ExecuteTime": {
     "end_time": "2025-05-05T14:21:30.797228Z",
     "start_time": "2025-05-05T14:21:30.777777Z"
    }
   },
   "cell_type": "code",
   "source": "gr.agg({'Quantity': ['sum', 'mean', 'max'], 'Price': 'sum'})",
   "id": "c031299bf9f97bde",
   "outputs": [
    {
     "data": {
      "text/plain": [
       "             Quantity             Price\n",
       "                  sum   mean  max   sum\n",
       "Product Name                           \n",
       "Apple             400  200.0  300    40\n",
       "Banana            700  350.0  500    70\n",
       "Mango             400  400.0  400    40"
      ],
      "text/html": [
       "<div>\n",
       "<style scoped>\n",
       "    .dataframe tbody tr th:only-of-type {\n",
       "        vertical-align: middle;\n",
       "    }\n",
       "\n",
       "    .dataframe tbody tr th {\n",
       "        vertical-align: top;\n",
       "    }\n",
       "\n",
       "    .dataframe thead tr th {\n",
       "        text-align: left;\n",
       "    }\n",
       "\n",
       "    .dataframe thead tr:last-of-type th {\n",
       "        text-align: right;\n",
       "    }\n",
       "</style>\n",
       "<table border=\"1\" class=\"dataframe\">\n",
       "  <thead>\n",
       "    <tr>\n",
       "      <th></th>\n",
       "      <th colspan=\"3\" halign=\"left\">Quantity</th>\n",
       "      <th>Price</th>\n",
       "    </tr>\n",
       "    <tr>\n",
       "      <th></th>\n",
       "      <th>sum</th>\n",
       "      <th>mean</th>\n",
       "      <th>max</th>\n",
       "      <th>sum</th>\n",
       "    </tr>\n",
       "    <tr>\n",
       "      <th>Product Name</th>\n",
       "      <th></th>\n",
       "      <th></th>\n",
       "      <th></th>\n",
       "      <th></th>\n",
       "    </tr>\n",
       "  </thead>\n",
       "  <tbody>\n",
       "    <tr>\n",
       "      <th>Apple</th>\n",
       "      <td>400</td>\n",
       "      <td>200.0</td>\n",
       "      <td>300</td>\n",
       "      <td>40</td>\n",
       "    </tr>\n",
       "    <tr>\n",
       "      <th>Banana</th>\n",
       "      <td>700</td>\n",
       "      <td>350.0</td>\n",
       "      <td>500</td>\n",
       "      <td>70</td>\n",
       "    </tr>\n",
       "    <tr>\n",
       "      <th>Mango</th>\n",
       "      <td>400</td>\n",
       "      <td>400.0</td>\n",
       "      <td>400</td>\n",
       "      <td>40</td>\n",
       "    </tr>\n",
       "  </tbody>\n",
       "</table>\n",
       "</div>"
      ]
     },
     "execution_count": 68,
     "metadata": {},
     "output_type": "execute_result"
    }
   ],
   "execution_count": 68
  },
  {
   "metadata": {
    "ExecuteTime": {
     "end_time": "2025-05-05T14:21:31.058646Z",
     "start_time": "2025-05-05T14:21:31.054194Z"
    }
   },
   "cell_type": "code",
   "source": [
    "def data_range(x):\n",
    "    return x.max() - x.min()"
   ],
   "id": "eb655c4e717171d6",
   "outputs": [],
   "execution_count": 69
  },
  {
   "metadata": {
    "ExecuteTime": {
     "end_time": "2025-05-05T14:21:31.252891Z",
     "start_time": "2025-05-05T14:21:31.244345Z"
    }
   },
   "cell_type": "code",
   "source": "gr['Quantity'].apply(data_range)",
   "id": "b35c35297bfc6b9e",
   "outputs": [
    {
     "data": {
      "text/plain": [
       "Product Name\n",
       "Apple     200\n",
       "Banana    300\n",
       "Mango       0\n",
       "Name: Quantity, dtype: int64"
      ]
     },
     "execution_count": 70,
     "metadata": {},
     "output_type": "execute_result"
    }
   ],
   "execution_count": 70
  },
  {
   "metadata": {},
   "cell_type": "markdown",
   "source": "# Join, Merge & Concatenate",
   "id": "c8cbcc1789972b1b"
  },
  {
   "metadata": {
    "ExecuteTime": {
     "end_time": "2025-05-05T14:21:31.825429Z",
     "start_time": "2025-05-05T14:21:31.819896Z"
    }
   },
   "cell_type": "code",
   "source": "# https://youtu.be/0XYIWsNPXNc?si=xAhWYTaspiL0f26a",
   "id": "3901f20148edd320",
   "outputs": [],
   "execution_count": 71
  },
  {
   "metadata": {
    "ExecuteTime": {
     "end_time": "2025-05-05T14:21:32.144366Z",
     "start_time": "2025-05-05T14:21:32.136263Z"
    }
   },
   "cell_type": "code",
   "source": [
    "sales_jan = pd.DataFrame({\n",
    "    'Product': ['Apple', 'Banana', 'Apple', 'Mango', 'Banana'],\n",
    "    'Sales': [100, 70, 60, 80, 100]\n",
    "}, index=['a', 'b', 'c', 'd', 'e'])\n",
    "\n",
    "sales_feb = pd.DataFrame({\n",
    "    'Product': ['Apple', 'Banana', 'Apple', 'Mango', 'Banana'],\n",
    "    'Sales': [300, 50, 80, 30, 60]\n",
    "}, index=['f', 'g', 'h', 'i', 'j'])\n",
    "\n",
    "sales_mar = pd.DataFrame({\n",
    "    'Product': ['Apple', 'Banana', 'Apple', 'Mango', 'Banana'],\n",
    "    'Sales': [70, 60, 30, 80, 50]\n",
    "}, index=['k', 'l', 'm', 'n', 'o'])"
   ],
   "id": "a44db594123b64d3",
   "outputs": [],
   "execution_count": 72
  },
  {
   "metadata": {
    "ExecuteTime": {
     "end_time": "2025-05-05T14:21:32.344456Z",
     "start_time": "2025-05-05T14:21:32.329703Z"
    }
   },
   "cell_type": "code",
   "source": "sales_jan",
   "id": "e56a7335dc54d6d",
   "outputs": [
    {
     "data": {
      "text/plain": [
       "  Product  Sales\n",
       "a   Apple    100\n",
       "b  Banana     70\n",
       "c   Apple     60\n",
       "d   Mango     80\n",
       "e  Banana    100"
      ],
      "text/html": [
       "<div>\n",
       "<style scoped>\n",
       "    .dataframe tbody tr th:only-of-type {\n",
       "        vertical-align: middle;\n",
       "    }\n",
       "\n",
       "    .dataframe tbody tr th {\n",
       "        vertical-align: top;\n",
       "    }\n",
       "\n",
       "    .dataframe thead th {\n",
       "        text-align: right;\n",
       "    }\n",
       "</style>\n",
       "<table border=\"1\" class=\"dataframe\">\n",
       "  <thead>\n",
       "    <tr style=\"text-align: right;\">\n",
       "      <th></th>\n",
       "      <th>Product</th>\n",
       "      <th>Sales</th>\n",
       "    </tr>\n",
       "  </thead>\n",
       "  <tbody>\n",
       "    <tr>\n",
       "      <th>a</th>\n",
       "      <td>Apple</td>\n",
       "      <td>100</td>\n",
       "    </tr>\n",
       "    <tr>\n",
       "      <th>b</th>\n",
       "      <td>Banana</td>\n",
       "      <td>70</td>\n",
       "    </tr>\n",
       "    <tr>\n",
       "      <th>c</th>\n",
       "      <td>Apple</td>\n",
       "      <td>60</td>\n",
       "    </tr>\n",
       "    <tr>\n",
       "      <th>d</th>\n",
       "      <td>Mango</td>\n",
       "      <td>80</td>\n",
       "    </tr>\n",
       "    <tr>\n",
       "      <th>e</th>\n",
       "      <td>Banana</td>\n",
       "      <td>100</td>\n",
       "    </tr>\n",
       "  </tbody>\n",
       "</table>\n",
       "</div>"
      ]
     },
     "execution_count": 73,
     "metadata": {},
     "output_type": "execute_result"
    }
   ],
   "execution_count": 73
  },
  {
   "metadata": {
    "ExecuteTime": {
     "end_time": "2025-05-05T14:21:32.469796Z",
     "start_time": "2025-05-05T14:21:32.457097Z"
    }
   },
   "cell_type": "code",
   "source": "sales_feb",
   "id": "bf178b541a42dfc9",
   "outputs": [
    {
     "data": {
      "text/plain": [
       "  Product  Sales\n",
       "f   Apple    300\n",
       "g  Banana     50\n",
       "h   Apple     80\n",
       "i   Mango     30\n",
       "j  Banana     60"
      ],
      "text/html": [
       "<div>\n",
       "<style scoped>\n",
       "    .dataframe tbody tr th:only-of-type {\n",
       "        vertical-align: middle;\n",
       "    }\n",
       "\n",
       "    .dataframe tbody tr th {\n",
       "        vertical-align: top;\n",
       "    }\n",
       "\n",
       "    .dataframe thead th {\n",
       "        text-align: right;\n",
       "    }\n",
       "</style>\n",
       "<table border=\"1\" class=\"dataframe\">\n",
       "  <thead>\n",
       "    <tr style=\"text-align: right;\">\n",
       "      <th></th>\n",
       "      <th>Product</th>\n",
       "      <th>Sales</th>\n",
       "    </tr>\n",
       "  </thead>\n",
       "  <tbody>\n",
       "    <tr>\n",
       "      <th>f</th>\n",
       "      <td>Apple</td>\n",
       "      <td>300</td>\n",
       "    </tr>\n",
       "    <tr>\n",
       "      <th>g</th>\n",
       "      <td>Banana</td>\n",
       "      <td>50</td>\n",
       "    </tr>\n",
       "    <tr>\n",
       "      <th>h</th>\n",
       "      <td>Apple</td>\n",
       "      <td>80</td>\n",
       "    </tr>\n",
       "    <tr>\n",
       "      <th>i</th>\n",
       "      <td>Mango</td>\n",
       "      <td>30</td>\n",
       "    </tr>\n",
       "    <tr>\n",
       "      <th>j</th>\n",
       "      <td>Banana</td>\n",
       "      <td>60</td>\n",
       "    </tr>\n",
       "  </tbody>\n",
       "</table>\n",
       "</div>"
      ]
     },
     "execution_count": 74,
     "metadata": {},
     "output_type": "execute_result"
    }
   ],
   "execution_count": 74
  },
  {
   "metadata": {
    "ExecuteTime": {
     "end_time": "2025-05-05T14:21:32.687714Z",
     "start_time": "2025-05-05T14:21:32.678793Z"
    }
   },
   "cell_type": "code",
   "source": "pd.concat([sales_jan, sales_feb, sales_mar])",
   "id": "ed5e02648dfd9446",
   "outputs": [
    {
     "data": {
      "text/plain": [
       "  Product  Sales\n",
       "a   Apple    100\n",
       "b  Banana     70\n",
       "c   Apple     60\n",
       "d   Mango     80\n",
       "e  Banana    100\n",
       "f   Apple    300\n",
       "g  Banana     50\n",
       "h   Apple     80\n",
       "i   Mango     30\n",
       "j  Banana     60\n",
       "k   Apple     70\n",
       "l  Banana     60\n",
       "m   Apple     30\n",
       "n   Mango     80\n",
       "o  Banana     50"
      ],
      "text/html": [
       "<div>\n",
       "<style scoped>\n",
       "    .dataframe tbody tr th:only-of-type {\n",
       "        vertical-align: middle;\n",
       "    }\n",
       "\n",
       "    .dataframe tbody tr th {\n",
       "        vertical-align: top;\n",
       "    }\n",
       "\n",
       "    .dataframe thead th {\n",
       "        text-align: right;\n",
       "    }\n",
       "</style>\n",
       "<table border=\"1\" class=\"dataframe\">\n",
       "  <thead>\n",
       "    <tr style=\"text-align: right;\">\n",
       "      <th></th>\n",
       "      <th>Product</th>\n",
       "      <th>Sales</th>\n",
       "    </tr>\n",
       "  </thead>\n",
       "  <tbody>\n",
       "    <tr>\n",
       "      <th>a</th>\n",
       "      <td>Apple</td>\n",
       "      <td>100</td>\n",
       "    </tr>\n",
       "    <tr>\n",
       "      <th>b</th>\n",
       "      <td>Banana</td>\n",
       "      <td>70</td>\n",
       "    </tr>\n",
       "    <tr>\n",
       "      <th>c</th>\n",
       "      <td>Apple</td>\n",
       "      <td>60</td>\n",
       "    </tr>\n",
       "    <tr>\n",
       "      <th>d</th>\n",
       "      <td>Mango</td>\n",
       "      <td>80</td>\n",
       "    </tr>\n",
       "    <tr>\n",
       "      <th>e</th>\n",
       "      <td>Banana</td>\n",
       "      <td>100</td>\n",
       "    </tr>\n",
       "    <tr>\n",
       "      <th>f</th>\n",
       "      <td>Apple</td>\n",
       "      <td>300</td>\n",
       "    </tr>\n",
       "    <tr>\n",
       "      <th>g</th>\n",
       "      <td>Banana</td>\n",
       "      <td>50</td>\n",
       "    </tr>\n",
       "    <tr>\n",
       "      <th>h</th>\n",
       "      <td>Apple</td>\n",
       "      <td>80</td>\n",
       "    </tr>\n",
       "    <tr>\n",
       "      <th>i</th>\n",
       "      <td>Mango</td>\n",
       "      <td>30</td>\n",
       "    </tr>\n",
       "    <tr>\n",
       "      <th>j</th>\n",
       "      <td>Banana</td>\n",
       "      <td>60</td>\n",
       "    </tr>\n",
       "    <tr>\n",
       "      <th>k</th>\n",
       "      <td>Apple</td>\n",
       "      <td>70</td>\n",
       "    </tr>\n",
       "    <tr>\n",
       "      <th>l</th>\n",
       "      <td>Banana</td>\n",
       "      <td>60</td>\n",
       "    </tr>\n",
       "    <tr>\n",
       "      <th>m</th>\n",
       "      <td>Apple</td>\n",
       "      <td>30</td>\n",
       "    </tr>\n",
       "    <tr>\n",
       "      <th>n</th>\n",
       "      <td>Mango</td>\n",
       "      <td>80</td>\n",
       "    </tr>\n",
       "    <tr>\n",
       "      <th>o</th>\n",
       "      <td>Banana</td>\n",
       "      <td>50</td>\n",
       "    </tr>\n",
       "  </tbody>\n",
       "</table>\n",
       "</div>"
      ]
     },
     "execution_count": 75,
     "metadata": {},
     "output_type": "execute_result"
    }
   ],
   "execution_count": 75
  },
  {
   "metadata": {
    "ExecuteTime": {
     "end_time": "2025-05-05T14:21:33.010865Z",
     "start_time": "2025-05-05T14:21:32.992577Z"
    }
   },
   "cell_type": "code",
   "source": "pd.concat([sales_jan, sales_feb, sales_mar], axis=1)",
   "id": "c451fbd4f1962f9f",
   "outputs": [
    {
     "data": {
      "text/plain": [
       "  Product  Sales Product  Sales Product  Sales\n",
       "a   Apple  100.0     NaN    NaN     NaN    NaN\n",
       "b  Banana   70.0     NaN    NaN     NaN    NaN\n",
       "c   Apple   60.0     NaN    NaN     NaN    NaN\n",
       "d   Mango   80.0     NaN    NaN     NaN    NaN\n",
       "e  Banana  100.0     NaN    NaN     NaN    NaN\n",
       "f     NaN    NaN   Apple  300.0     NaN    NaN\n",
       "g     NaN    NaN  Banana   50.0     NaN    NaN\n",
       "h     NaN    NaN   Apple   80.0     NaN    NaN\n",
       "i     NaN    NaN   Mango   30.0     NaN    NaN\n",
       "j     NaN    NaN  Banana   60.0     NaN    NaN\n",
       "k     NaN    NaN     NaN    NaN   Apple   70.0\n",
       "l     NaN    NaN     NaN    NaN  Banana   60.0\n",
       "m     NaN    NaN     NaN    NaN   Apple   30.0\n",
       "n     NaN    NaN     NaN    NaN   Mango   80.0\n",
       "o     NaN    NaN     NaN    NaN  Banana   50.0"
      ],
      "text/html": [
       "<div>\n",
       "<style scoped>\n",
       "    .dataframe tbody tr th:only-of-type {\n",
       "        vertical-align: middle;\n",
       "    }\n",
       "\n",
       "    .dataframe tbody tr th {\n",
       "        vertical-align: top;\n",
       "    }\n",
       "\n",
       "    .dataframe thead th {\n",
       "        text-align: right;\n",
       "    }\n",
       "</style>\n",
       "<table border=\"1\" class=\"dataframe\">\n",
       "  <thead>\n",
       "    <tr style=\"text-align: right;\">\n",
       "      <th></th>\n",
       "      <th>Product</th>\n",
       "      <th>Sales</th>\n",
       "      <th>Product</th>\n",
       "      <th>Sales</th>\n",
       "      <th>Product</th>\n",
       "      <th>Sales</th>\n",
       "    </tr>\n",
       "  </thead>\n",
       "  <tbody>\n",
       "    <tr>\n",
       "      <th>a</th>\n",
       "      <td>Apple</td>\n",
       "      <td>100.0</td>\n",
       "      <td>NaN</td>\n",
       "      <td>NaN</td>\n",
       "      <td>NaN</td>\n",
       "      <td>NaN</td>\n",
       "    </tr>\n",
       "    <tr>\n",
       "      <th>b</th>\n",
       "      <td>Banana</td>\n",
       "      <td>70.0</td>\n",
       "      <td>NaN</td>\n",
       "      <td>NaN</td>\n",
       "      <td>NaN</td>\n",
       "      <td>NaN</td>\n",
       "    </tr>\n",
       "    <tr>\n",
       "      <th>c</th>\n",
       "      <td>Apple</td>\n",
       "      <td>60.0</td>\n",
       "      <td>NaN</td>\n",
       "      <td>NaN</td>\n",
       "      <td>NaN</td>\n",
       "      <td>NaN</td>\n",
       "    </tr>\n",
       "    <tr>\n",
       "      <th>d</th>\n",
       "      <td>Mango</td>\n",
       "      <td>80.0</td>\n",
       "      <td>NaN</td>\n",
       "      <td>NaN</td>\n",
       "      <td>NaN</td>\n",
       "      <td>NaN</td>\n",
       "    </tr>\n",
       "    <tr>\n",
       "      <th>e</th>\n",
       "      <td>Banana</td>\n",
       "      <td>100.0</td>\n",
       "      <td>NaN</td>\n",
       "      <td>NaN</td>\n",
       "      <td>NaN</td>\n",
       "      <td>NaN</td>\n",
       "    </tr>\n",
       "    <tr>\n",
       "      <th>f</th>\n",
       "      <td>NaN</td>\n",
       "      <td>NaN</td>\n",
       "      <td>Apple</td>\n",
       "      <td>300.0</td>\n",
       "      <td>NaN</td>\n",
       "      <td>NaN</td>\n",
       "    </tr>\n",
       "    <tr>\n",
       "      <th>g</th>\n",
       "      <td>NaN</td>\n",
       "      <td>NaN</td>\n",
       "      <td>Banana</td>\n",
       "      <td>50.0</td>\n",
       "      <td>NaN</td>\n",
       "      <td>NaN</td>\n",
       "    </tr>\n",
       "    <tr>\n",
       "      <th>h</th>\n",
       "      <td>NaN</td>\n",
       "      <td>NaN</td>\n",
       "      <td>Apple</td>\n",
       "      <td>80.0</td>\n",
       "      <td>NaN</td>\n",
       "      <td>NaN</td>\n",
       "    </tr>\n",
       "    <tr>\n",
       "      <th>i</th>\n",
       "      <td>NaN</td>\n",
       "      <td>NaN</td>\n",
       "      <td>Mango</td>\n",
       "      <td>30.0</td>\n",
       "      <td>NaN</td>\n",
       "      <td>NaN</td>\n",
       "    </tr>\n",
       "    <tr>\n",
       "      <th>j</th>\n",
       "      <td>NaN</td>\n",
       "      <td>NaN</td>\n",
       "      <td>Banana</td>\n",
       "      <td>60.0</td>\n",
       "      <td>NaN</td>\n",
       "      <td>NaN</td>\n",
       "    </tr>\n",
       "    <tr>\n",
       "      <th>k</th>\n",
       "      <td>NaN</td>\n",
       "      <td>NaN</td>\n",
       "      <td>NaN</td>\n",
       "      <td>NaN</td>\n",
       "      <td>Apple</td>\n",
       "      <td>70.0</td>\n",
       "    </tr>\n",
       "    <tr>\n",
       "      <th>l</th>\n",
       "      <td>NaN</td>\n",
       "      <td>NaN</td>\n",
       "      <td>NaN</td>\n",
       "      <td>NaN</td>\n",
       "      <td>Banana</td>\n",
       "      <td>60.0</td>\n",
       "    </tr>\n",
       "    <tr>\n",
       "      <th>m</th>\n",
       "      <td>NaN</td>\n",
       "      <td>NaN</td>\n",
       "      <td>NaN</td>\n",
       "      <td>NaN</td>\n",
       "      <td>Apple</td>\n",
       "      <td>30.0</td>\n",
       "    </tr>\n",
       "    <tr>\n",
       "      <th>n</th>\n",
       "      <td>NaN</td>\n",
       "      <td>NaN</td>\n",
       "      <td>NaN</td>\n",
       "      <td>NaN</td>\n",
       "      <td>Mango</td>\n",
       "      <td>80.0</td>\n",
       "    </tr>\n",
       "    <tr>\n",
       "      <th>o</th>\n",
       "      <td>NaN</td>\n",
       "      <td>NaN</td>\n",
       "      <td>NaN</td>\n",
       "      <td>NaN</td>\n",
       "      <td>Banana</td>\n",
       "      <td>50.0</td>\n",
       "    </tr>\n",
       "  </tbody>\n",
       "</table>\n",
       "</div>"
      ]
     },
     "execution_count": 76,
     "metadata": {},
     "output_type": "execute_result"
    }
   ],
   "execution_count": 76
  },
  {
   "metadata": {
    "ExecuteTime": {
     "end_time": "2025-05-05T14:21:33.375939Z",
     "start_time": "2025-05-05T14:21:33.368693Z"
    }
   },
   "cell_type": "code",
   "source": [
    "customers = pd.DataFrame({\n",
    "    'Customer ID': ['A', 'B', 'C', 'D', 'E'],\n",
    "    'Customer Name': ['John', 'Mary', 'Lily', 'Sue', 'Bob'],\n",
    "    'City': ['New York', 'Paris', 'London', 'Tokyo', 'Berlin']\n",
    "})"
   ],
   "id": "cf11f94bb21459d3",
   "outputs": [],
   "execution_count": 77
  },
  {
   "metadata": {
    "ExecuteTime": {
     "end_time": "2025-05-05T14:21:33.752335Z",
     "start_time": "2025-05-05T14:21:33.747138Z"
    }
   },
   "cell_type": "code",
   "source": [
    "purchases = pd.DataFrame({\n",
    "    'Customer ID': ['A', 'B', 'C'],\n",
    "    'Product': ['Apple', 'Banana', 'Mango'],\n",
    "    'Quantity': [10, 20, 30],\n",
    "    'City': ['New York', 'Paris', 'Tokyo']\n",
    "})"
   ],
   "id": "95c70967a845d497",
   "outputs": [],
   "execution_count": 78
  },
  {
   "metadata": {
    "ExecuteTime": {
     "end_time": "2025-05-05T14:21:33.908888Z",
     "start_time": "2025-05-05T14:21:33.890734Z"
    }
   },
   "cell_type": "code",
   "source": "pd.merge(customers, purchases, on='Customer ID')  # inner join",
   "id": "2b42edb3155f60c0",
   "outputs": [
    {
     "data": {
      "text/plain": [
       "  Customer ID Customer Name    City_x Product  Quantity    City_y\n",
       "0           A          John  New York   Apple        10  New York\n",
       "1           B          Mary     Paris  Banana        20     Paris\n",
       "2           C          Lily    London   Mango        30     Tokyo"
      ],
      "text/html": [
       "<div>\n",
       "<style scoped>\n",
       "    .dataframe tbody tr th:only-of-type {\n",
       "        vertical-align: middle;\n",
       "    }\n",
       "\n",
       "    .dataframe tbody tr th {\n",
       "        vertical-align: top;\n",
       "    }\n",
       "\n",
       "    .dataframe thead th {\n",
       "        text-align: right;\n",
       "    }\n",
       "</style>\n",
       "<table border=\"1\" class=\"dataframe\">\n",
       "  <thead>\n",
       "    <tr style=\"text-align: right;\">\n",
       "      <th></th>\n",
       "      <th>Customer ID</th>\n",
       "      <th>Customer Name</th>\n",
       "      <th>City_x</th>\n",
       "      <th>Product</th>\n",
       "      <th>Quantity</th>\n",
       "      <th>City_y</th>\n",
       "    </tr>\n",
       "  </thead>\n",
       "  <tbody>\n",
       "    <tr>\n",
       "      <th>0</th>\n",
       "      <td>A</td>\n",
       "      <td>John</td>\n",
       "      <td>New York</td>\n",
       "      <td>Apple</td>\n",
       "      <td>10</td>\n",
       "      <td>New York</td>\n",
       "    </tr>\n",
       "    <tr>\n",
       "      <th>1</th>\n",
       "      <td>B</td>\n",
       "      <td>Mary</td>\n",
       "      <td>Paris</td>\n",
       "      <td>Banana</td>\n",
       "      <td>20</td>\n",
       "      <td>Paris</td>\n",
       "    </tr>\n",
       "    <tr>\n",
       "      <th>2</th>\n",
       "      <td>C</td>\n",
       "      <td>Lily</td>\n",
       "      <td>London</td>\n",
       "      <td>Mango</td>\n",
       "      <td>30</td>\n",
       "      <td>Tokyo</td>\n",
       "    </tr>\n",
       "  </tbody>\n",
       "</table>\n",
       "</div>"
      ]
     },
     "execution_count": 79,
     "metadata": {},
     "output_type": "execute_result"
    }
   ],
   "execution_count": 79
  },
  {
   "metadata": {
    "ExecuteTime": {
     "end_time": "2025-05-05T14:21:34.152745Z",
     "start_time": "2025-05-05T14:21:34.131725Z"
    }
   },
   "cell_type": "code",
   "source": "pd.merge(customers, purchases, how='outer', on='Customer ID')",
   "id": "8103f6381a34aac0",
   "outputs": [
    {
     "data": {
      "text/plain": [
       "  Customer ID Customer Name    City_x Product  Quantity    City_y\n",
       "0           A          John  New York   Apple      10.0  New York\n",
       "1           B          Mary     Paris  Banana      20.0     Paris\n",
       "2           C          Lily    London   Mango      30.0     Tokyo\n",
       "3           D           Sue     Tokyo     NaN       NaN       NaN\n",
       "4           E           Bob    Berlin     NaN       NaN       NaN"
      ],
      "text/html": [
       "<div>\n",
       "<style scoped>\n",
       "    .dataframe tbody tr th:only-of-type {\n",
       "        vertical-align: middle;\n",
       "    }\n",
       "\n",
       "    .dataframe tbody tr th {\n",
       "        vertical-align: top;\n",
       "    }\n",
       "\n",
       "    .dataframe thead th {\n",
       "        text-align: right;\n",
       "    }\n",
       "</style>\n",
       "<table border=\"1\" class=\"dataframe\">\n",
       "  <thead>\n",
       "    <tr style=\"text-align: right;\">\n",
       "      <th></th>\n",
       "      <th>Customer ID</th>\n",
       "      <th>Customer Name</th>\n",
       "      <th>City_x</th>\n",
       "      <th>Product</th>\n",
       "      <th>Quantity</th>\n",
       "      <th>City_y</th>\n",
       "    </tr>\n",
       "  </thead>\n",
       "  <tbody>\n",
       "    <tr>\n",
       "      <th>0</th>\n",
       "      <td>A</td>\n",
       "      <td>John</td>\n",
       "      <td>New York</td>\n",
       "      <td>Apple</td>\n",
       "      <td>10.0</td>\n",
       "      <td>New York</td>\n",
       "    </tr>\n",
       "    <tr>\n",
       "      <th>1</th>\n",
       "      <td>B</td>\n",
       "      <td>Mary</td>\n",
       "      <td>Paris</td>\n",
       "      <td>Banana</td>\n",
       "      <td>20.0</td>\n",
       "      <td>Paris</td>\n",
       "    </tr>\n",
       "    <tr>\n",
       "      <th>2</th>\n",
       "      <td>C</td>\n",
       "      <td>Lily</td>\n",
       "      <td>London</td>\n",
       "      <td>Mango</td>\n",
       "      <td>30.0</td>\n",
       "      <td>Tokyo</td>\n",
       "    </tr>\n",
       "    <tr>\n",
       "      <th>3</th>\n",
       "      <td>D</td>\n",
       "      <td>Sue</td>\n",
       "      <td>Tokyo</td>\n",
       "      <td>NaN</td>\n",
       "      <td>NaN</td>\n",
       "      <td>NaN</td>\n",
       "    </tr>\n",
       "    <tr>\n",
       "      <th>4</th>\n",
       "      <td>E</td>\n",
       "      <td>Bob</td>\n",
       "      <td>Berlin</td>\n",
       "      <td>NaN</td>\n",
       "      <td>NaN</td>\n",
       "      <td>NaN</td>\n",
       "    </tr>\n",
       "  </tbody>\n",
       "</table>\n",
       "</div>"
      ]
     },
     "execution_count": 80,
     "metadata": {},
     "output_type": "execute_result"
    }
   ],
   "execution_count": 80
  },
  {
   "metadata": {
    "ExecuteTime": {
     "end_time": "2025-05-05T14:21:34.481397Z",
     "start_time": "2025-05-05T14:21:34.467939Z"
    }
   },
   "cell_type": "code",
   "source": "pd.merge(customers, purchases, how='left', on=['Customer ID', 'City'])",
   "id": "250033b817e95378",
   "outputs": [
    {
     "data": {
      "text/plain": [
       "  Customer ID Customer Name      City Product  Quantity\n",
       "0           A          John  New York   Apple      10.0\n",
       "1           B          Mary     Paris  Banana      20.0\n",
       "2           C          Lily    London     NaN       NaN\n",
       "3           D           Sue     Tokyo     NaN       NaN\n",
       "4           E           Bob    Berlin     NaN       NaN"
      ],
      "text/html": [
       "<div>\n",
       "<style scoped>\n",
       "    .dataframe tbody tr th:only-of-type {\n",
       "        vertical-align: middle;\n",
       "    }\n",
       "\n",
       "    .dataframe tbody tr th {\n",
       "        vertical-align: top;\n",
       "    }\n",
       "\n",
       "    .dataframe thead th {\n",
       "        text-align: right;\n",
       "    }\n",
       "</style>\n",
       "<table border=\"1\" class=\"dataframe\">\n",
       "  <thead>\n",
       "    <tr style=\"text-align: right;\">\n",
       "      <th></th>\n",
       "      <th>Customer ID</th>\n",
       "      <th>Customer Name</th>\n",
       "      <th>City</th>\n",
       "      <th>Product</th>\n",
       "      <th>Quantity</th>\n",
       "    </tr>\n",
       "  </thead>\n",
       "  <tbody>\n",
       "    <tr>\n",
       "      <th>0</th>\n",
       "      <td>A</td>\n",
       "      <td>John</td>\n",
       "      <td>New York</td>\n",
       "      <td>Apple</td>\n",
       "      <td>10.0</td>\n",
       "    </tr>\n",
       "    <tr>\n",
       "      <th>1</th>\n",
       "      <td>B</td>\n",
       "      <td>Mary</td>\n",
       "      <td>Paris</td>\n",
       "      <td>Banana</td>\n",
       "      <td>20.0</td>\n",
       "    </tr>\n",
       "    <tr>\n",
       "      <th>2</th>\n",
       "      <td>C</td>\n",
       "      <td>Lily</td>\n",
       "      <td>London</td>\n",
       "      <td>NaN</td>\n",
       "      <td>NaN</td>\n",
       "    </tr>\n",
       "    <tr>\n",
       "      <th>3</th>\n",
       "      <td>D</td>\n",
       "      <td>Sue</td>\n",
       "      <td>Tokyo</td>\n",
       "      <td>NaN</td>\n",
       "      <td>NaN</td>\n",
       "    </tr>\n",
       "    <tr>\n",
       "      <th>4</th>\n",
       "      <td>E</td>\n",
       "      <td>Bob</td>\n",
       "      <td>Berlin</td>\n",
       "      <td>NaN</td>\n",
       "      <td>NaN</td>\n",
       "    </tr>\n",
       "  </tbody>\n",
       "</table>\n",
       "</div>"
      ]
     },
     "execution_count": 81,
     "metadata": {},
     "output_type": "execute_result"
    }
   ],
   "execution_count": 81
  },
  {
   "metadata": {
    "ExecuteTime": {
     "end_time": "2025-05-05T14:21:34.917758Z",
     "start_time": "2025-05-05T14:21:34.911801Z"
    }
   },
   "cell_type": "code",
   "source": [
    "customers2 = pd.DataFrame({\n",
    "    'Customer ID': ['A', 'B', 'C', 'D', 'E'],\n",
    "    'Customer Name': ['John', 'Mary', 'Lily', 'Sue', 'Bob'],\n",
    "}, index=['New York', 'Paris', 'London', 'Tokyo', 'Berlin'])"
   ],
   "id": "a95e10b9175f18fc",
   "outputs": [],
   "execution_count": 82
  },
  {
   "metadata": {
    "ExecuteTime": {
     "end_time": "2025-05-05T14:21:35.200846Z",
     "start_time": "2025-05-05T14:21:35.193366Z"
    }
   },
   "cell_type": "code",
   "source": [
    "purchases2 = pd.DataFrame({\n",
    "    'Customer ID': ['A', 'B', 'C'],\n",
    "    'Product': ['Apple', 'Banana', 'Mango'],\n",
    "    'Quantity': [10, 20, 30]\n",
    "}, index=['New York', 'Paris', 'Tokyo'])"
   ],
   "id": "c3e81bf5fd9b444d",
   "outputs": [],
   "execution_count": 83
  },
  {
   "metadata": {
    "ExecuteTime": {
     "end_time": "2025-05-05T14:21:35.436765Z",
     "start_time": "2025-05-05T14:21:35.428140Z"
    }
   },
   "cell_type": "code",
   "source": "customers2",
   "id": "c5fc7495b2abe5f0",
   "outputs": [
    {
     "data": {
      "text/plain": [
       "         Customer ID Customer Name\n",
       "New York           A          John\n",
       "Paris              B          Mary\n",
       "London             C          Lily\n",
       "Tokyo              D           Sue\n",
       "Berlin             E           Bob"
      ],
      "text/html": [
       "<div>\n",
       "<style scoped>\n",
       "    .dataframe tbody tr th:only-of-type {\n",
       "        vertical-align: middle;\n",
       "    }\n",
       "\n",
       "    .dataframe tbody tr th {\n",
       "        vertical-align: top;\n",
       "    }\n",
       "\n",
       "    .dataframe thead th {\n",
       "        text-align: right;\n",
       "    }\n",
       "</style>\n",
       "<table border=\"1\" class=\"dataframe\">\n",
       "  <thead>\n",
       "    <tr style=\"text-align: right;\">\n",
       "      <th></th>\n",
       "      <th>Customer ID</th>\n",
       "      <th>Customer Name</th>\n",
       "    </tr>\n",
       "  </thead>\n",
       "  <tbody>\n",
       "    <tr>\n",
       "      <th>New York</th>\n",
       "      <td>A</td>\n",
       "      <td>John</td>\n",
       "    </tr>\n",
       "    <tr>\n",
       "      <th>Paris</th>\n",
       "      <td>B</td>\n",
       "      <td>Mary</td>\n",
       "    </tr>\n",
       "    <tr>\n",
       "      <th>London</th>\n",
       "      <td>C</td>\n",
       "      <td>Lily</td>\n",
       "    </tr>\n",
       "    <tr>\n",
       "      <th>Tokyo</th>\n",
       "      <td>D</td>\n",
       "      <td>Sue</td>\n",
       "    </tr>\n",
       "    <tr>\n",
       "      <th>Berlin</th>\n",
       "      <td>E</td>\n",
       "      <td>Bob</td>\n",
       "    </tr>\n",
       "  </tbody>\n",
       "</table>\n",
       "</div>"
      ]
     },
     "execution_count": 84,
     "metadata": {},
     "output_type": "execute_result"
    }
   ],
   "execution_count": 84
  },
  {
   "metadata": {
    "ExecuteTime": {
     "end_time": "2025-05-05T14:21:35.605185Z",
     "start_time": "2025-05-05T14:21:35.592526Z"
    }
   },
   "cell_type": "code",
   "source": "purchases2.join(customers2, lsuffix='_left', rsuffix='_right')",
   "id": "6d4a18058511909",
   "outputs": [
    {
     "data": {
      "text/plain": [
       "         Customer ID_left Product  Quantity Customer ID_right Customer Name\n",
       "New York                A   Apple        10                 A          John\n",
       "Paris                   B  Banana        20                 B          Mary\n",
       "Tokyo                   C   Mango        30                 D           Sue"
      ],
      "text/html": [
       "<div>\n",
       "<style scoped>\n",
       "    .dataframe tbody tr th:only-of-type {\n",
       "        vertical-align: middle;\n",
       "    }\n",
       "\n",
       "    .dataframe tbody tr th {\n",
       "        vertical-align: top;\n",
       "    }\n",
       "\n",
       "    .dataframe thead th {\n",
       "        text-align: right;\n",
       "    }\n",
       "</style>\n",
       "<table border=\"1\" class=\"dataframe\">\n",
       "  <thead>\n",
       "    <tr style=\"text-align: right;\">\n",
       "      <th></th>\n",
       "      <th>Customer ID_left</th>\n",
       "      <th>Product</th>\n",
       "      <th>Quantity</th>\n",
       "      <th>Customer ID_right</th>\n",
       "      <th>Customer Name</th>\n",
       "    </tr>\n",
       "  </thead>\n",
       "  <tbody>\n",
       "    <tr>\n",
       "      <th>New York</th>\n",
       "      <td>A</td>\n",
       "      <td>Apple</td>\n",
       "      <td>10</td>\n",
       "      <td>A</td>\n",
       "      <td>John</td>\n",
       "    </tr>\n",
       "    <tr>\n",
       "      <th>Paris</th>\n",
       "      <td>B</td>\n",
       "      <td>Banana</td>\n",
       "      <td>20</td>\n",
       "      <td>B</td>\n",
       "      <td>Mary</td>\n",
       "    </tr>\n",
       "    <tr>\n",
       "      <th>Tokyo</th>\n",
       "      <td>C</td>\n",
       "      <td>Mango</td>\n",
       "      <td>30</td>\n",
       "      <td>D</td>\n",
       "      <td>Sue</td>\n",
       "    </tr>\n",
       "  </tbody>\n",
       "</table>\n",
       "</div>"
      ]
     },
     "execution_count": 85,
     "metadata": {},
     "output_type": "execute_result"
    }
   ],
   "execution_count": 85
  },
  {
   "metadata": {},
   "cell_type": "markdown",
   "source": "# Handling Missing Data",
   "id": "b2e7868993ca761c"
  },
  {
   "metadata": {
    "ExecuteTime": {
     "end_time": "2025-05-05T14:21:35.935463Z",
     "start_time": "2025-05-05T14:21:35.932168Z"
    }
   },
   "cell_type": "code",
   "source": "# https://youtu.be/zb4xMLcpBVs?si=69Aui-k9ap10bJvv",
   "id": "74c01a60cdfe2cc4",
   "outputs": [],
   "execution_count": 86
  },
  {
   "metadata": {
    "ExecuteTime": {
     "end_time": "2025-05-05T14:21:36.205450Z",
     "start_time": "2025-05-05T14:21:36.200567Z"
    }
   },
   "cell_type": "code",
   "source": "import numpy as np",
   "id": "e3c0fcfc1e9a2d3c",
   "outputs": [],
   "execution_count": 87
  },
  {
   "metadata": {
    "ExecuteTime": {
     "end_time": "2025-05-05T14:21:36.367619Z",
     "start_time": "2025-05-05T14:21:36.363568Z"
    }
   },
   "cell_type": "code",
   "source": [
    "data = {\n",
    "    'Name': ['John', 'Mary', 'Lily', np.nan, 'Sue'],\n",
    "    'Age': [24, np.nan, 29, 31, np.nan],\n",
    "    'Score': [85, 90, np.nan, 88, 96]\n",
    "}"
   ],
   "id": "72f85ca156fca3fa",
   "outputs": [],
   "execution_count": 88
  },
  {
   "metadata": {
    "ExecuteTime": {
     "end_time": "2025-05-05T14:21:36.486039Z",
     "start_time": "2025-05-05T14:21:36.466785Z"
    }
   },
   "cell_type": "code",
   "source": [
    "df = pd.DataFrame(data)\n",
    "df"
   ],
   "id": "ad219fae994a437e",
   "outputs": [
    {
     "data": {
      "text/plain": [
       "   Name   Age  Score\n",
       "0  John  24.0   85.0\n",
       "1  Mary   NaN   90.0\n",
       "2  Lily  29.0    NaN\n",
       "3   NaN  31.0   88.0\n",
       "4   Sue   NaN   96.0"
      ],
      "text/html": [
       "<div>\n",
       "<style scoped>\n",
       "    .dataframe tbody tr th:only-of-type {\n",
       "        vertical-align: middle;\n",
       "    }\n",
       "\n",
       "    .dataframe tbody tr th {\n",
       "        vertical-align: top;\n",
       "    }\n",
       "\n",
       "    .dataframe thead th {\n",
       "        text-align: right;\n",
       "    }\n",
       "</style>\n",
       "<table border=\"1\" class=\"dataframe\">\n",
       "  <thead>\n",
       "    <tr style=\"text-align: right;\">\n",
       "      <th></th>\n",
       "      <th>Name</th>\n",
       "      <th>Age</th>\n",
       "      <th>Score</th>\n",
       "    </tr>\n",
       "  </thead>\n",
       "  <tbody>\n",
       "    <tr>\n",
       "      <th>0</th>\n",
       "      <td>John</td>\n",
       "      <td>24.0</td>\n",
       "      <td>85.0</td>\n",
       "    </tr>\n",
       "    <tr>\n",
       "      <th>1</th>\n",
       "      <td>Mary</td>\n",
       "      <td>NaN</td>\n",
       "      <td>90.0</td>\n",
       "    </tr>\n",
       "    <tr>\n",
       "      <th>2</th>\n",
       "      <td>Lily</td>\n",
       "      <td>29.0</td>\n",
       "      <td>NaN</td>\n",
       "    </tr>\n",
       "    <tr>\n",
       "      <th>3</th>\n",
       "      <td>NaN</td>\n",
       "      <td>31.0</td>\n",
       "      <td>88.0</td>\n",
       "    </tr>\n",
       "    <tr>\n",
       "      <th>4</th>\n",
       "      <td>Sue</td>\n",
       "      <td>NaN</td>\n",
       "      <td>96.0</td>\n",
       "    </tr>\n",
       "  </tbody>\n",
       "</table>\n",
       "</div>"
      ]
     },
     "execution_count": 89,
     "metadata": {},
     "output_type": "execute_result"
    }
   ],
   "execution_count": 89
  },
  {
   "metadata": {
    "ExecuteTime": {
     "end_time": "2025-05-05T14:21:36.641833Z",
     "start_time": "2025-05-05T14:21:36.633006Z"
    }
   },
   "cell_type": "code",
   "source": "df.isnull()",
   "id": "fe72651de2075467",
   "outputs": [
    {
     "data": {
      "text/plain": [
       "    Name    Age  Score\n",
       "0  False  False  False\n",
       "1  False   True  False\n",
       "2  False  False   True\n",
       "3   True  False  False\n",
       "4  False   True  False"
      ],
      "text/html": [
       "<div>\n",
       "<style scoped>\n",
       "    .dataframe tbody tr th:only-of-type {\n",
       "        vertical-align: middle;\n",
       "    }\n",
       "\n",
       "    .dataframe tbody tr th {\n",
       "        vertical-align: top;\n",
       "    }\n",
       "\n",
       "    .dataframe thead th {\n",
       "        text-align: right;\n",
       "    }\n",
       "</style>\n",
       "<table border=\"1\" class=\"dataframe\">\n",
       "  <thead>\n",
       "    <tr style=\"text-align: right;\">\n",
       "      <th></th>\n",
       "      <th>Name</th>\n",
       "      <th>Age</th>\n",
       "      <th>Score</th>\n",
       "    </tr>\n",
       "  </thead>\n",
       "  <tbody>\n",
       "    <tr>\n",
       "      <th>0</th>\n",
       "      <td>False</td>\n",
       "      <td>False</td>\n",
       "      <td>False</td>\n",
       "    </tr>\n",
       "    <tr>\n",
       "      <th>1</th>\n",
       "      <td>False</td>\n",
       "      <td>True</td>\n",
       "      <td>False</td>\n",
       "    </tr>\n",
       "    <tr>\n",
       "      <th>2</th>\n",
       "      <td>False</td>\n",
       "      <td>False</td>\n",
       "      <td>True</td>\n",
       "    </tr>\n",
       "    <tr>\n",
       "      <th>3</th>\n",
       "      <td>True</td>\n",
       "      <td>False</td>\n",
       "      <td>False</td>\n",
       "    </tr>\n",
       "    <tr>\n",
       "      <th>4</th>\n",
       "      <td>False</td>\n",
       "      <td>True</td>\n",
       "      <td>False</td>\n",
       "    </tr>\n",
       "  </tbody>\n",
       "</table>\n",
       "</div>"
      ]
     },
     "execution_count": 90,
     "metadata": {},
     "output_type": "execute_result"
    }
   ],
   "execution_count": 90
  },
  {
   "metadata": {
    "ExecuteTime": {
     "end_time": "2025-05-05T14:21:36.869827Z",
     "start_time": "2025-05-05T14:21:36.860324Z"
    }
   },
   "cell_type": "code",
   "source": "df.notnull()",
   "id": "a9e9b842e148955b",
   "outputs": [
    {
     "data": {
      "text/plain": [
       "    Name    Age  Score\n",
       "0   True   True   True\n",
       "1   True  False   True\n",
       "2   True   True  False\n",
       "3  False   True   True\n",
       "4   True  False   True"
      ],
      "text/html": [
       "<div>\n",
       "<style scoped>\n",
       "    .dataframe tbody tr th:only-of-type {\n",
       "        vertical-align: middle;\n",
       "    }\n",
       "\n",
       "    .dataframe tbody tr th {\n",
       "        vertical-align: top;\n",
       "    }\n",
       "\n",
       "    .dataframe thead th {\n",
       "        text-align: right;\n",
       "    }\n",
       "</style>\n",
       "<table border=\"1\" class=\"dataframe\">\n",
       "  <thead>\n",
       "    <tr style=\"text-align: right;\">\n",
       "      <th></th>\n",
       "      <th>Name</th>\n",
       "      <th>Age</th>\n",
       "      <th>Score</th>\n",
       "    </tr>\n",
       "  </thead>\n",
       "  <tbody>\n",
       "    <tr>\n",
       "      <th>0</th>\n",
       "      <td>True</td>\n",
       "      <td>True</td>\n",
       "      <td>True</td>\n",
       "    </tr>\n",
       "    <tr>\n",
       "      <th>1</th>\n",
       "      <td>True</td>\n",
       "      <td>False</td>\n",
       "      <td>True</td>\n",
       "    </tr>\n",
       "    <tr>\n",
       "      <th>2</th>\n",
       "      <td>True</td>\n",
       "      <td>True</td>\n",
       "      <td>False</td>\n",
       "    </tr>\n",
       "    <tr>\n",
       "      <th>3</th>\n",
       "      <td>False</td>\n",
       "      <td>True</td>\n",
       "      <td>True</td>\n",
       "    </tr>\n",
       "    <tr>\n",
       "      <th>4</th>\n",
       "      <td>True</td>\n",
       "      <td>False</td>\n",
       "      <td>True</td>\n",
       "    </tr>\n",
       "  </tbody>\n",
       "</table>\n",
       "</div>"
      ]
     },
     "execution_count": 91,
     "metadata": {},
     "output_type": "execute_result"
    }
   ],
   "execution_count": 91
  },
  {
   "metadata": {
    "ExecuteTime": {
     "end_time": "2025-05-05T14:21:37.210706Z",
     "start_time": "2025-05-05T14:21:37.201606Z"
    }
   },
   "cell_type": "code",
   "source": "df.isnull().sum()",
   "id": "d8731289ed0ea6d1",
   "outputs": [
    {
     "data": {
      "text/plain": [
       "Name     1\n",
       "Age      2\n",
       "Score    1\n",
       "dtype: int64"
      ]
     },
     "execution_count": 92,
     "metadata": {},
     "output_type": "execute_result"
    }
   ],
   "execution_count": 92
  },
  {
   "metadata": {
    "ExecuteTime": {
     "end_time": "2025-05-05T14:21:37.584056Z",
     "start_time": "2025-05-05T14:21:37.571070Z"
    }
   },
   "cell_type": "code",
   "source": "df.dropna()",
   "id": "e00a2ddf28af132d",
   "outputs": [
    {
     "data": {
      "text/plain": [
       "   Name   Age  Score\n",
       "0  John  24.0   85.0"
      ],
      "text/html": [
       "<div>\n",
       "<style scoped>\n",
       "    .dataframe tbody tr th:only-of-type {\n",
       "        vertical-align: middle;\n",
       "    }\n",
       "\n",
       "    .dataframe tbody tr th {\n",
       "        vertical-align: top;\n",
       "    }\n",
       "\n",
       "    .dataframe thead th {\n",
       "        text-align: right;\n",
       "    }\n",
       "</style>\n",
       "<table border=\"1\" class=\"dataframe\">\n",
       "  <thead>\n",
       "    <tr style=\"text-align: right;\">\n",
       "      <th></th>\n",
       "      <th>Name</th>\n",
       "      <th>Age</th>\n",
       "      <th>Score</th>\n",
       "    </tr>\n",
       "  </thead>\n",
       "  <tbody>\n",
       "    <tr>\n",
       "      <th>0</th>\n",
       "      <td>John</td>\n",
       "      <td>24.0</td>\n",
       "      <td>85.0</td>\n",
       "    </tr>\n",
       "  </tbody>\n",
       "</table>\n",
       "</div>"
      ]
     },
     "execution_count": 93,
     "metadata": {},
     "output_type": "execute_result"
    }
   ],
   "execution_count": 93
  },
  {
   "metadata": {
    "ExecuteTime": {
     "end_time": "2025-05-05T14:21:37.885617Z",
     "start_time": "2025-05-05T14:21:37.872769Z"
    }
   },
   "cell_type": "code",
   "source": "df.dropna(axis=1)",
   "id": "4666f137b6efae24",
   "outputs": [
    {
     "data": {
      "text/plain": [
       "Empty DataFrame\n",
       "Columns: []\n",
       "Index: [0, 1, 2, 3, 4]"
      ],
      "text/html": [
       "<div>\n",
       "<style scoped>\n",
       "    .dataframe tbody tr th:only-of-type {\n",
       "        vertical-align: middle;\n",
       "    }\n",
       "\n",
       "    .dataframe tbody tr th {\n",
       "        vertical-align: top;\n",
       "    }\n",
       "\n",
       "    .dataframe thead th {\n",
       "        text-align: right;\n",
       "    }\n",
       "</style>\n",
       "<table border=\"1\" class=\"dataframe\">\n",
       "  <thead>\n",
       "    <tr style=\"text-align: right;\">\n",
       "      <th></th>\n",
       "    </tr>\n",
       "  </thead>\n",
       "  <tbody>\n",
       "    <tr>\n",
       "      <th>0</th>\n",
       "    </tr>\n",
       "    <tr>\n",
       "      <th>1</th>\n",
       "    </tr>\n",
       "    <tr>\n",
       "      <th>2</th>\n",
       "    </tr>\n",
       "    <tr>\n",
       "      <th>3</th>\n",
       "    </tr>\n",
       "    <tr>\n",
       "      <th>4</th>\n",
       "    </tr>\n",
       "  </tbody>\n",
       "</table>\n",
       "</div>"
      ]
     },
     "execution_count": 94,
     "metadata": {},
     "output_type": "execute_result"
    }
   ],
   "execution_count": 94
  },
  {
   "metadata": {
    "ExecuteTime": {
     "end_time": "2025-05-05T14:21:38.158949Z",
     "start_time": "2025-05-05T14:21:38.148887Z"
    }
   },
   "cell_type": "code",
   "source": "df.fillna('Unknown')",
   "id": "2570b113cd3338ac",
   "outputs": [
    {
     "data": {
      "text/plain": [
       "      Name      Age    Score\n",
       "0     John     24.0     85.0\n",
       "1     Mary  Unknown     90.0\n",
       "2     Lily     29.0  Unknown\n",
       "3  Unknown     31.0     88.0\n",
       "4      Sue  Unknown     96.0"
      ],
      "text/html": [
       "<div>\n",
       "<style scoped>\n",
       "    .dataframe tbody tr th:only-of-type {\n",
       "        vertical-align: middle;\n",
       "    }\n",
       "\n",
       "    .dataframe tbody tr th {\n",
       "        vertical-align: top;\n",
       "    }\n",
       "\n",
       "    .dataframe thead th {\n",
       "        text-align: right;\n",
       "    }\n",
       "</style>\n",
       "<table border=\"1\" class=\"dataframe\">\n",
       "  <thead>\n",
       "    <tr style=\"text-align: right;\">\n",
       "      <th></th>\n",
       "      <th>Name</th>\n",
       "      <th>Age</th>\n",
       "      <th>Score</th>\n",
       "    </tr>\n",
       "  </thead>\n",
       "  <tbody>\n",
       "    <tr>\n",
       "      <th>0</th>\n",
       "      <td>John</td>\n",
       "      <td>24.0</td>\n",
       "      <td>85.0</td>\n",
       "    </tr>\n",
       "    <tr>\n",
       "      <th>1</th>\n",
       "      <td>Mary</td>\n",
       "      <td>Unknown</td>\n",
       "      <td>90.0</td>\n",
       "    </tr>\n",
       "    <tr>\n",
       "      <th>2</th>\n",
       "      <td>Lily</td>\n",
       "      <td>29.0</td>\n",
       "      <td>Unknown</td>\n",
       "    </tr>\n",
       "    <tr>\n",
       "      <th>3</th>\n",
       "      <td>Unknown</td>\n",
       "      <td>31.0</td>\n",
       "      <td>88.0</td>\n",
       "    </tr>\n",
       "    <tr>\n",
       "      <th>4</th>\n",
       "      <td>Sue</td>\n",
       "      <td>Unknown</td>\n",
       "      <td>96.0</td>\n",
       "    </tr>\n",
       "  </tbody>\n",
       "</table>\n",
       "</div>"
      ]
     },
     "execution_count": 95,
     "metadata": {},
     "output_type": "execute_result"
    }
   ],
   "execution_count": 95
  },
  {
   "metadata": {
    "ExecuteTime": {
     "end_time": "2025-05-05T14:21:38.560716Z",
     "start_time": "2025-05-05T14:21:38.548403Z"
    }
   },
   "cell_type": "code",
   "source": "df.ffill()",
   "id": "93f1a96e3f5c63a7",
   "outputs": [
    {
     "data": {
      "text/plain": [
       "   Name   Age  Score\n",
       "0  John  24.0   85.0\n",
       "1  Mary  24.0   90.0\n",
       "2  Lily  29.0   90.0\n",
       "3  Lily  31.0   88.0\n",
       "4   Sue  31.0   96.0"
      ],
      "text/html": [
       "<div>\n",
       "<style scoped>\n",
       "    .dataframe tbody tr th:only-of-type {\n",
       "        vertical-align: middle;\n",
       "    }\n",
       "\n",
       "    .dataframe tbody tr th {\n",
       "        vertical-align: top;\n",
       "    }\n",
       "\n",
       "    .dataframe thead th {\n",
       "        text-align: right;\n",
       "    }\n",
       "</style>\n",
       "<table border=\"1\" class=\"dataframe\">\n",
       "  <thead>\n",
       "    <tr style=\"text-align: right;\">\n",
       "      <th></th>\n",
       "      <th>Name</th>\n",
       "      <th>Age</th>\n",
       "      <th>Score</th>\n",
       "    </tr>\n",
       "  </thead>\n",
       "  <tbody>\n",
       "    <tr>\n",
       "      <th>0</th>\n",
       "      <td>John</td>\n",
       "      <td>24.0</td>\n",
       "      <td>85.0</td>\n",
       "    </tr>\n",
       "    <tr>\n",
       "      <th>1</th>\n",
       "      <td>Mary</td>\n",
       "      <td>24.0</td>\n",
       "      <td>90.0</td>\n",
       "    </tr>\n",
       "    <tr>\n",
       "      <th>2</th>\n",
       "      <td>Lily</td>\n",
       "      <td>29.0</td>\n",
       "      <td>90.0</td>\n",
       "    </tr>\n",
       "    <tr>\n",
       "      <th>3</th>\n",
       "      <td>Lily</td>\n",
       "      <td>31.0</td>\n",
       "      <td>88.0</td>\n",
       "    </tr>\n",
       "    <tr>\n",
       "      <th>4</th>\n",
       "      <td>Sue</td>\n",
       "      <td>31.0</td>\n",
       "      <td>96.0</td>\n",
       "    </tr>\n",
       "  </tbody>\n",
       "</table>\n",
       "</div>"
      ]
     },
     "execution_count": 96,
     "metadata": {},
     "output_type": "execute_result"
    }
   ],
   "execution_count": 96
  },
  {
   "metadata": {
    "ExecuteTime": {
     "end_time": "2025-05-05T14:21:38.857354Z",
     "start_time": "2025-05-05T14:21:38.845426Z"
    }
   },
   "cell_type": "code",
   "source": "df.bfill()",
   "id": "2caaea315ee68e3a",
   "outputs": [
    {
     "data": {
      "text/plain": [
       "   Name   Age  Score\n",
       "0  John  24.0   85.0\n",
       "1  Mary  29.0   90.0\n",
       "2  Lily  29.0   88.0\n",
       "3   Sue  31.0   88.0\n",
       "4   Sue   NaN   96.0"
      ],
      "text/html": [
       "<div>\n",
       "<style scoped>\n",
       "    .dataframe tbody tr th:only-of-type {\n",
       "        vertical-align: middle;\n",
       "    }\n",
       "\n",
       "    .dataframe tbody tr th {\n",
       "        vertical-align: top;\n",
       "    }\n",
       "\n",
       "    .dataframe thead th {\n",
       "        text-align: right;\n",
       "    }\n",
       "</style>\n",
       "<table border=\"1\" class=\"dataframe\">\n",
       "  <thead>\n",
       "    <tr style=\"text-align: right;\">\n",
       "      <th></th>\n",
       "      <th>Name</th>\n",
       "      <th>Age</th>\n",
       "      <th>Score</th>\n",
       "    </tr>\n",
       "  </thead>\n",
       "  <tbody>\n",
       "    <tr>\n",
       "      <th>0</th>\n",
       "      <td>John</td>\n",
       "      <td>24.0</td>\n",
       "      <td>85.0</td>\n",
       "    </tr>\n",
       "    <tr>\n",
       "      <th>1</th>\n",
       "      <td>Mary</td>\n",
       "      <td>29.0</td>\n",
       "      <td>90.0</td>\n",
       "    </tr>\n",
       "    <tr>\n",
       "      <th>2</th>\n",
       "      <td>Lily</td>\n",
       "      <td>29.0</td>\n",
       "      <td>88.0</td>\n",
       "    </tr>\n",
       "    <tr>\n",
       "      <th>3</th>\n",
       "      <td>Sue</td>\n",
       "      <td>31.0</td>\n",
       "      <td>88.0</td>\n",
       "    </tr>\n",
       "    <tr>\n",
       "      <th>4</th>\n",
       "      <td>Sue</td>\n",
       "      <td>NaN</td>\n",
       "      <td>96.0</td>\n",
       "    </tr>\n",
       "  </tbody>\n",
       "</table>\n",
       "</div>"
      ]
     },
     "execution_count": 97,
     "metadata": {},
     "output_type": "execute_result"
    }
   ],
   "execution_count": 97
  },
  {
   "metadata": {
    "ExecuteTime": {
     "end_time": "2025-05-05T14:21:39.164544Z",
     "start_time": "2025-05-05T14:21:39.156222Z"
    }
   },
   "cell_type": "code",
   "source": [
    "mean_age = df['Age'].mean()\n",
    "mean_age"
   ],
   "id": "80f312e706de039b",
   "outputs": [
    {
     "data": {
      "text/plain": [
       "28.0"
      ]
     },
     "execution_count": 98,
     "metadata": {},
     "output_type": "execute_result"
    }
   ],
   "execution_count": 98
  },
  {
   "metadata": {
    "ExecuteTime": {
     "end_time": "2025-05-05T14:21:39.444101Z",
     "start_time": "2025-05-05T14:21:39.436263Z"
    }
   },
   "cell_type": "code",
   "source": "df['Age'].fillna(mean_age)",
   "id": "d36811c338d9389e",
   "outputs": [
    {
     "data": {
      "text/plain": [
       "0    24.0\n",
       "1    28.0\n",
       "2    29.0\n",
       "3    31.0\n",
       "4    28.0\n",
       "Name: Age, dtype: float64"
      ]
     },
     "execution_count": 99,
     "metadata": {},
     "output_type": "execute_result"
    }
   ],
   "execution_count": 99
  },
  {
   "metadata": {
    "ExecuteTime": {
     "end_time": "2025-05-05T14:21:39.681049Z",
     "start_time": "2025-05-05T14:21:39.674631Z"
    }
   },
   "cell_type": "code",
   "source": "fill_values = {'Name': 'Sue', 'Age': 25, 'Score': 95}",
   "id": "cb576d3fc9e6a8d8",
   "outputs": [],
   "execution_count": 100
  },
  {
   "metadata": {
    "ExecuteTime": {
     "end_time": "2025-05-05T14:21:40.057309Z",
     "start_time": "2025-05-05T14:21:40.044070Z"
    }
   },
   "cell_type": "code",
   "source": [
    "filled = df.fillna(fill_values)\n",
    "filled"
   ],
   "id": "a2ddb1f84d8d57b0",
   "outputs": [
    {
     "data": {
      "text/plain": [
       "   Name   Age  Score\n",
       "0  John  24.0   85.0\n",
       "1  Mary  25.0   90.0\n",
       "2  Lily  29.0   95.0\n",
       "3   Sue  31.0   88.0\n",
       "4   Sue  25.0   96.0"
      ],
      "text/html": [
       "<div>\n",
       "<style scoped>\n",
       "    .dataframe tbody tr th:only-of-type {\n",
       "        vertical-align: middle;\n",
       "    }\n",
       "\n",
       "    .dataframe tbody tr th {\n",
       "        vertical-align: top;\n",
       "    }\n",
       "\n",
       "    .dataframe thead th {\n",
       "        text-align: right;\n",
       "    }\n",
       "</style>\n",
       "<table border=\"1\" class=\"dataframe\">\n",
       "  <thead>\n",
       "    <tr style=\"text-align: right;\">\n",
       "      <th></th>\n",
       "      <th>Name</th>\n",
       "      <th>Age</th>\n",
       "      <th>Score</th>\n",
       "    </tr>\n",
       "  </thead>\n",
       "  <tbody>\n",
       "    <tr>\n",
       "      <th>0</th>\n",
       "      <td>John</td>\n",
       "      <td>24.0</td>\n",
       "      <td>85.0</td>\n",
       "    </tr>\n",
       "    <tr>\n",
       "      <th>1</th>\n",
       "      <td>Mary</td>\n",
       "      <td>25.0</td>\n",
       "      <td>90.0</td>\n",
       "    </tr>\n",
       "    <tr>\n",
       "      <th>2</th>\n",
       "      <td>Lily</td>\n",
       "      <td>29.0</td>\n",
       "      <td>95.0</td>\n",
       "    </tr>\n",
       "    <tr>\n",
       "      <th>3</th>\n",
       "      <td>Sue</td>\n",
       "      <td>31.0</td>\n",
       "      <td>88.0</td>\n",
       "    </tr>\n",
       "    <tr>\n",
       "      <th>4</th>\n",
       "      <td>Sue</td>\n",
       "      <td>25.0</td>\n",
       "      <td>96.0</td>\n",
       "    </tr>\n",
       "  </tbody>\n",
       "</table>\n",
       "</div>"
      ]
     },
     "execution_count": 101,
     "metadata": {},
     "output_type": "execute_result"
    }
   ],
   "execution_count": 101
  },
  {
   "metadata": {
    "ExecuteTime": {
     "end_time": "2025-05-05T14:21:40.487611Z",
     "start_time": "2025-05-05T14:21:40.482924Z"
    }
   },
   "cell_type": "code",
   "source": "",
   "id": "17a565c0639419e0",
   "outputs": [],
   "execution_count": null
  }
 ],
 "metadata": {
  "kernelspec": {
   "display_name": "Python 3",
   "language": "python",
   "name": "python3"
  },
  "language_info": {
   "codemirror_mode": {
    "name": "ipython",
    "version": 2
   },
   "file_extension": ".py",
   "mimetype": "text/x-python",
   "name": "python",
   "nbconvert_exporter": "python",
   "pygments_lexer": "ipython2",
   "version": "2.7.6"
  }
 },
 "nbformat": 4,
 "nbformat_minor": 5
}
