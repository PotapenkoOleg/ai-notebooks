{
 "cells": [
  {
   "cell_type": "code",
   "id": "d055848669096fdf",
   "metadata": {
    "ExecuteTime": {
     "end_time": "2025-05-05T03:30:35.814386Z",
     "start_time": "2025-05-05T03:30:35.811523Z"
    }
   },
   "source": [
    "# https://youtu.be/8gGNXQgCmIE?si=NETH_JUZNOdWdOf3\n",
    "# https://youtu.be/FXKMmilL70w?si=ZppZlY8w9rQBOELW"
   ],
   "outputs": [],
   "execution_count": 80
  },
  {
   "metadata": {},
   "cell_type": "markdown",
   "source": "# Indexing & Filtering",
   "id": "8c70efa0bf1bb443"
  },
  {
   "metadata": {
    "ExecuteTime": {
     "end_time": "2025-05-05T03:30:35.877852Z",
     "start_time": "2025-05-05T03:30:35.874149Z"
    }
   },
   "cell_type": "code",
   "source": [
    "import numpy as np\n",
    "import pandas as pd"
   ],
   "id": "38dc91bcc10cfe66",
   "outputs": [],
   "execution_count": 81
  },
  {
   "metadata": {},
   "cell_type": "markdown",
   "source": "## Series and DataFrames",
   "id": "5cb663498c34e384"
  },
  {
   "metadata": {
    "ExecuteTime": {
     "end_time": "2025-05-05T03:30:35.927951Z",
     "start_time": "2025-05-05T03:30:35.924423Z"
    }
   },
   "cell_type": "code",
   "source": "# https://youtu.be/QjYFQUC7AQ4?si=1Jz6H-YbExWQJdkh",
   "id": "f449ab03a4965aac",
   "outputs": [],
   "execution_count": 82
  },
  {
   "metadata": {
    "ExecuteTime": {
     "end_time": "2025-05-05T03:30:35.969630Z",
     "start_time": "2025-05-05T03:30:35.963328Z"
    }
   },
   "cell_type": "code",
   "source": [
    "t = [1, 2, 3, 4, 5]\n",
    "ts = pd.Series(t)\n",
    "ts"
   ],
   "id": "11006b17486e11ec",
   "outputs": [
    {
     "data": {
      "text/plain": [
       "0    1\n",
       "1    2\n",
       "2    3\n",
       "3    4\n",
       "4    5\n",
       "dtype: int64"
      ]
     },
     "execution_count": 83,
     "metadata": {},
     "output_type": "execute_result"
    }
   ],
   "execution_count": 83
  },
  {
   "metadata": {
    "ExecuteTime": {
     "end_time": "2025-05-05T03:30:36.067611Z",
     "start_time": "2025-05-05T03:30:36.059147Z"
    }
   },
   "cell_type": "code",
   "source": [
    "days = ['Mon', 'Tue', 'Wed', 'Thu', 'Fri']\n",
    "ts = pd.Series(t, index=days)\n",
    "ts"
   ],
   "id": "570cb478bc483140",
   "outputs": [
    {
     "data": {
      "text/plain": [
       "Mon    1\n",
       "Tue    2\n",
       "Wed    3\n",
       "Thu    4\n",
       "Fri    5\n",
       "dtype: int64"
      ]
     },
     "execution_count": 84,
     "metadata": {},
     "output_type": "execute_result"
    }
   ],
   "execution_count": 84
  },
  {
   "metadata": {
    "ExecuteTime": {
     "end_time": "2025-05-05T03:30:36.305175Z",
     "start_time": "2025-05-05T03:30:36.297390Z"
    }
   },
   "cell_type": "code",
   "source": [
    "fruits = {'apple': 10, 'banana': 15, 'cherry': 20}\n",
    "fs = pd.Series(fruits)\n",
    "fs"
   ],
   "id": "b77ec3b7a6a24f71",
   "outputs": [
    {
     "data": {
      "text/plain": [
       "apple     10\n",
       "banana    15\n",
       "cherry    20\n",
       "dtype: int64"
      ]
     },
     "execution_count": 85,
     "metadata": {},
     "output_type": "execute_result"
    }
   ],
   "execution_count": 85
  },
  {
   "metadata": {
    "ExecuteTime": {
     "end_time": "2025-05-05T03:30:36.769506Z",
     "start_time": "2025-05-05T03:30:36.757669Z"
    }
   },
   "cell_type": "code",
   "source": [
    "data = {'Name': ['John', 'Mary', 'Lily'], 'Age': [24, 30, 29]}\n",
    "df1 = pd.DataFrame(data)\n",
    "df1"
   ],
   "id": "c7b156540ee83c79",
   "outputs": [
    {
     "data": {
      "text/plain": [
       "   Name  Age\n",
       "0  John   24\n",
       "1  Mary   30\n",
       "2  Lily   29"
      ],
      "text/html": [
       "<div>\n",
       "<style scoped>\n",
       "    .dataframe tbody tr th:only-of-type {\n",
       "        vertical-align: middle;\n",
       "    }\n",
       "\n",
       "    .dataframe tbody tr th {\n",
       "        vertical-align: top;\n",
       "    }\n",
       "\n",
       "    .dataframe thead th {\n",
       "        text-align: right;\n",
       "    }\n",
       "</style>\n",
       "<table border=\"1\" class=\"dataframe\">\n",
       "  <thead>\n",
       "    <tr style=\"text-align: right;\">\n",
       "      <th></th>\n",
       "      <th>Name</th>\n",
       "      <th>Age</th>\n",
       "    </tr>\n",
       "  </thead>\n",
       "  <tbody>\n",
       "    <tr>\n",
       "      <th>0</th>\n",
       "      <td>John</td>\n",
       "      <td>24</td>\n",
       "    </tr>\n",
       "    <tr>\n",
       "      <th>1</th>\n",
       "      <td>Mary</td>\n",
       "      <td>30</td>\n",
       "    </tr>\n",
       "    <tr>\n",
       "      <th>2</th>\n",
       "      <td>Lily</td>\n",
       "      <td>29</td>\n",
       "    </tr>\n",
       "  </tbody>\n",
       "</table>\n",
       "</div>"
      ]
     },
     "execution_count": 86,
     "metadata": {},
     "output_type": "execute_result"
    }
   ],
   "execution_count": 86
  },
  {
   "metadata": {
    "ExecuteTime": {
     "end_time": "2025-05-05T03:30:37.043491Z",
     "start_time": "2025-05-05T03:30:37.024179Z"
    }
   },
   "cell_type": "code",
   "source": [
    "data2 = [\n",
    "    {'Name': 'John', 'Age': 24},\n",
    "    {'Name': 'John1', 'Age': 28},\n",
    "    {'Name': 'John2', 'Age': 27}\n",
    "]\n",
    "df2 = pd.DataFrame(data2)\n",
    "df2"
   ],
   "id": "ed7b353b1180d432",
   "outputs": [
    {
     "data": {
      "text/plain": [
       "    Name  Age\n",
       "0   John   24\n",
       "1  John1   28\n",
       "2  John2   27"
      ],
      "text/html": [
       "<div>\n",
       "<style scoped>\n",
       "    .dataframe tbody tr th:only-of-type {\n",
       "        vertical-align: middle;\n",
       "    }\n",
       "\n",
       "    .dataframe tbody tr th {\n",
       "        vertical-align: top;\n",
       "    }\n",
       "\n",
       "    .dataframe thead th {\n",
       "        text-align: right;\n",
       "    }\n",
       "</style>\n",
       "<table border=\"1\" class=\"dataframe\">\n",
       "  <thead>\n",
       "    <tr style=\"text-align: right;\">\n",
       "      <th></th>\n",
       "      <th>Name</th>\n",
       "      <th>Age</th>\n",
       "    </tr>\n",
       "  </thead>\n",
       "  <tbody>\n",
       "    <tr>\n",
       "      <th>0</th>\n",
       "      <td>John</td>\n",
       "      <td>24</td>\n",
       "    </tr>\n",
       "    <tr>\n",
       "      <th>1</th>\n",
       "      <td>John1</td>\n",
       "      <td>28</td>\n",
       "    </tr>\n",
       "    <tr>\n",
       "      <th>2</th>\n",
       "      <td>John2</td>\n",
       "      <td>27</td>\n",
       "    </tr>\n",
       "  </tbody>\n",
       "</table>\n",
       "</div>"
      ]
     },
     "execution_count": 87,
     "metadata": {},
     "output_type": "execute_result"
    }
   ],
   "execution_count": 87
  },
  {
   "metadata": {
    "ExecuteTime": {
     "end_time": "2025-05-05T03:30:37.465115Z",
     "start_time": "2025-05-05T03:30:37.456122Z"
    }
   },
   "cell_type": "code",
   "source": [
    "age = df2['Age']\n",
    "age"
   ],
   "id": "6521cd8fb3eecbe9",
   "outputs": [
    {
     "data": {
      "text/plain": [
       "0    24\n",
       "1    28\n",
       "2    27\n",
       "Name: Age, dtype: int64"
      ]
     },
     "execution_count": 88,
     "metadata": {},
     "output_type": "execute_result"
    }
   ],
   "execution_count": 88
  },
  {
   "metadata": {
    "ExecuteTime": {
     "end_time": "2025-05-05T03:30:37.792842Z",
     "start_time": "2025-05-05T03:30:37.784749Z"
    }
   },
   "cell_type": "code",
   "source": [
    "df2['Age'] = [1, 2, 3]\n",
    "df2"
   ],
   "id": "6d9462b987f4b042",
   "outputs": [
    {
     "data": {
      "text/plain": [
       "    Name  Age\n",
       "0   John    1\n",
       "1  John1    2\n",
       "2  John2    3"
      ],
      "text/html": [
       "<div>\n",
       "<style scoped>\n",
       "    .dataframe tbody tr th:only-of-type {\n",
       "        vertical-align: middle;\n",
       "    }\n",
       "\n",
       "    .dataframe tbody tr th {\n",
       "        vertical-align: top;\n",
       "    }\n",
       "\n",
       "    .dataframe thead th {\n",
       "        text-align: right;\n",
       "    }\n",
       "</style>\n",
       "<table border=\"1\" class=\"dataframe\">\n",
       "  <thead>\n",
       "    <tr style=\"text-align: right;\">\n",
       "      <th></th>\n",
       "      <th>Name</th>\n",
       "      <th>Age</th>\n",
       "    </tr>\n",
       "  </thead>\n",
       "  <tbody>\n",
       "    <tr>\n",
       "      <th>0</th>\n",
       "      <td>John</td>\n",
       "      <td>1</td>\n",
       "    </tr>\n",
       "    <tr>\n",
       "      <th>1</th>\n",
       "      <td>John1</td>\n",
       "      <td>2</td>\n",
       "    </tr>\n",
       "    <tr>\n",
       "      <th>2</th>\n",
       "      <td>John2</td>\n",
       "      <td>3</td>\n",
       "    </tr>\n",
       "  </tbody>\n",
       "</table>\n",
       "</div>"
      ]
     },
     "execution_count": 89,
     "metadata": {},
     "output_type": "execute_result"
    }
   ],
   "execution_count": 89
  },
  {
   "metadata": {
    "ExecuteTime": {
     "end_time": "2025-05-05T03:30:38.109085Z",
     "start_time": "2025-05-05T03:30:38.102627Z"
    }
   },
   "cell_type": "code",
   "source": "df2.loc[0]",
   "id": "ac12123a5d4a3560",
   "outputs": [
    {
     "data": {
      "text/plain": [
       "Name    John\n",
       "Age        1\n",
       "Name: 0, dtype: object"
      ]
     },
     "execution_count": 90,
     "metadata": {},
     "output_type": "execute_result"
    }
   ],
   "execution_count": 90
  },
  {
   "metadata": {
    "ExecuteTime": {
     "end_time": "2025-05-05T03:30:38.530954Z",
     "start_time": "2025-05-05T03:30:38.522996Z"
    }
   },
   "cell_type": "code",
   "source": [
    "df2 = df2.drop('Age', axis=1)\n",
    "df2"
   ],
   "id": "9edb046a4a776955",
   "outputs": [
    {
     "data": {
      "text/plain": [
       "    Name\n",
       "0   John\n",
       "1  John1\n",
       "2  John2"
      ],
      "text/html": [
       "<div>\n",
       "<style scoped>\n",
       "    .dataframe tbody tr th:only-of-type {\n",
       "        vertical-align: middle;\n",
       "    }\n",
       "\n",
       "    .dataframe tbody tr th {\n",
       "        vertical-align: top;\n",
       "    }\n",
       "\n",
       "    .dataframe thead th {\n",
       "        text-align: right;\n",
       "    }\n",
       "</style>\n",
       "<table border=\"1\" class=\"dataframe\">\n",
       "  <thead>\n",
       "    <tr style=\"text-align: right;\">\n",
       "      <th></th>\n",
       "      <th>Name</th>\n",
       "    </tr>\n",
       "  </thead>\n",
       "  <tbody>\n",
       "    <tr>\n",
       "      <th>0</th>\n",
       "      <td>John</td>\n",
       "    </tr>\n",
       "    <tr>\n",
       "      <th>1</th>\n",
       "      <td>John1</td>\n",
       "    </tr>\n",
       "    <tr>\n",
       "      <th>2</th>\n",
       "      <td>John2</td>\n",
       "    </tr>\n",
       "  </tbody>\n",
       "</table>\n",
       "</div>"
      ]
     },
     "execution_count": 91,
     "metadata": {},
     "output_type": "execute_result"
    }
   ],
   "execution_count": 91
  },
  {
   "metadata": {
    "ExecuteTime": {
     "end_time": "2025-05-05T03:30:39.068568Z",
     "start_time": "2025-05-05T03:30:39.065891Z"
    }
   },
   "cell_type": "code",
   "source": "",
   "id": "15423c1d3a1ed393",
   "outputs": [],
   "execution_count": null
  },
  {
   "metadata": {},
   "cell_type": "markdown",
   "source": "## Indexing and Filtering",
   "id": "4189778c9b0cfea2"
  },
  {
   "metadata": {
    "ExecuteTime": {
     "end_time": "2025-05-05T03:30:39.459254Z",
     "start_time": "2025-05-05T03:30:39.449457Z"
    }
   },
   "cell_type": "code",
   "source": [
    "student_data = {\n",
    "    'Name': ['John', 'Mary', 'Lily', 'Sue'],\n",
    "    'Math': [85, 92, 78, 88],\n",
    "    'Science': [91, 89, 84, 85],\n",
    "    'English': [79, 85, 87, 90]\n",
    "}\n",
    "\n",
    "df = pd.DataFrame(student_data, index=['a', 'b', 'c', 'd'])\n",
    "df"
   ],
   "id": "fcdc0b12c4fcaaa1",
   "outputs": [
    {
     "data": {
      "text/plain": [
       "   Name  Math  Science  English\n",
       "a  John    85       91       79\n",
       "b  Mary    92       89       85\n",
       "c  Lily    78       84       87\n",
       "d   Sue    88       85       90"
      ],
      "text/html": [
       "<div>\n",
       "<style scoped>\n",
       "    .dataframe tbody tr th:only-of-type {\n",
       "        vertical-align: middle;\n",
       "    }\n",
       "\n",
       "    .dataframe tbody tr th {\n",
       "        vertical-align: top;\n",
       "    }\n",
       "\n",
       "    .dataframe thead th {\n",
       "        text-align: right;\n",
       "    }\n",
       "</style>\n",
       "<table border=\"1\" class=\"dataframe\">\n",
       "  <thead>\n",
       "    <tr style=\"text-align: right;\">\n",
       "      <th></th>\n",
       "      <th>Name</th>\n",
       "      <th>Math</th>\n",
       "      <th>Science</th>\n",
       "      <th>English</th>\n",
       "    </tr>\n",
       "  </thead>\n",
       "  <tbody>\n",
       "    <tr>\n",
       "      <th>a</th>\n",
       "      <td>John</td>\n",
       "      <td>85</td>\n",
       "      <td>91</td>\n",
       "      <td>79</td>\n",
       "    </tr>\n",
       "    <tr>\n",
       "      <th>b</th>\n",
       "      <td>Mary</td>\n",
       "      <td>92</td>\n",
       "      <td>89</td>\n",
       "      <td>85</td>\n",
       "    </tr>\n",
       "    <tr>\n",
       "      <th>c</th>\n",
       "      <td>Lily</td>\n",
       "      <td>78</td>\n",
       "      <td>84</td>\n",
       "      <td>87</td>\n",
       "    </tr>\n",
       "    <tr>\n",
       "      <th>d</th>\n",
       "      <td>Sue</td>\n",
       "      <td>88</td>\n",
       "      <td>85</td>\n",
       "      <td>90</td>\n",
       "    </tr>\n",
       "  </tbody>\n",
       "</table>\n",
       "</div>"
      ]
     },
     "execution_count": 92,
     "metadata": {},
     "output_type": "execute_result"
    }
   ],
   "execution_count": 92
  },
  {
   "metadata": {},
   "cell_type": "markdown",
   "source": "### Selecting Columns",
   "id": "345915aee4ffd495"
  },
  {
   "metadata": {
    "ExecuteTime": {
     "end_time": "2025-05-05T03:30:39.835107Z",
     "start_time": "2025-05-05T03:30:39.827698Z"
    }
   },
   "cell_type": "code",
   "source": "df['Math']",
   "id": "6e784f90cb3e0194",
   "outputs": [
    {
     "data": {
      "text/plain": [
       "a    85\n",
       "b    92\n",
       "c    78\n",
       "d    88\n",
       "Name: Math, dtype: int64"
      ]
     },
     "execution_count": 93,
     "metadata": {},
     "output_type": "execute_result"
    }
   ],
   "execution_count": 93
  },
  {
   "metadata": {
    "ExecuteTime": {
     "end_time": "2025-05-05T03:30:40.298230Z",
     "start_time": "2025-05-05T03:30:40.288558Z"
    }
   },
   "cell_type": "code",
   "source": "df[['Math', 'English']]",
   "id": "bd9b0d17c0d002df",
   "outputs": [
    {
     "data": {
      "text/plain": [
       "   Math  English\n",
       "a    85       79\n",
       "b    92       85\n",
       "c    78       87\n",
       "d    88       90"
      ],
      "text/html": [
       "<div>\n",
       "<style scoped>\n",
       "    .dataframe tbody tr th:only-of-type {\n",
       "        vertical-align: middle;\n",
       "    }\n",
       "\n",
       "    .dataframe tbody tr th {\n",
       "        vertical-align: top;\n",
       "    }\n",
       "\n",
       "    .dataframe thead th {\n",
       "        text-align: right;\n",
       "    }\n",
       "</style>\n",
       "<table border=\"1\" class=\"dataframe\">\n",
       "  <thead>\n",
       "    <tr style=\"text-align: right;\">\n",
       "      <th></th>\n",
       "      <th>Math</th>\n",
       "      <th>English</th>\n",
       "    </tr>\n",
       "  </thead>\n",
       "  <tbody>\n",
       "    <tr>\n",
       "      <th>a</th>\n",
       "      <td>85</td>\n",
       "      <td>79</td>\n",
       "    </tr>\n",
       "    <tr>\n",
       "      <th>b</th>\n",
       "      <td>92</td>\n",
       "      <td>85</td>\n",
       "    </tr>\n",
       "    <tr>\n",
       "      <th>c</th>\n",
       "      <td>78</td>\n",
       "      <td>87</td>\n",
       "    </tr>\n",
       "    <tr>\n",
       "      <th>d</th>\n",
       "      <td>88</td>\n",
       "      <td>90</td>\n",
       "    </tr>\n",
       "  </tbody>\n",
       "</table>\n",
       "</div>"
      ]
     },
     "execution_count": 94,
     "metadata": {},
     "output_type": "execute_result"
    }
   ],
   "execution_count": 94
  },
  {
   "metadata": {},
   "cell_type": "markdown",
   "source": "### Selecting Rows",
   "id": "8f603a81af719b6d"
  },
  {
   "metadata": {
    "ExecuteTime": {
     "end_time": "2025-05-05T03:30:40.957008Z",
     "start_time": "2025-05-05T03:30:40.946873Z"
    }
   },
   "cell_type": "code",
   "source": "df[0:2]",
   "id": "b5e5c21db1aa0ea",
   "outputs": [
    {
     "data": {
      "text/plain": [
       "   Name  Math  Science  English\n",
       "a  John    85       91       79\n",
       "b  Mary    92       89       85"
      ],
      "text/html": [
       "<div>\n",
       "<style scoped>\n",
       "    .dataframe tbody tr th:only-of-type {\n",
       "        vertical-align: middle;\n",
       "    }\n",
       "\n",
       "    .dataframe tbody tr th {\n",
       "        vertical-align: top;\n",
       "    }\n",
       "\n",
       "    .dataframe thead th {\n",
       "        text-align: right;\n",
       "    }\n",
       "</style>\n",
       "<table border=\"1\" class=\"dataframe\">\n",
       "  <thead>\n",
       "    <tr style=\"text-align: right;\">\n",
       "      <th></th>\n",
       "      <th>Name</th>\n",
       "      <th>Math</th>\n",
       "      <th>Science</th>\n",
       "      <th>English</th>\n",
       "    </tr>\n",
       "  </thead>\n",
       "  <tbody>\n",
       "    <tr>\n",
       "      <th>a</th>\n",
       "      <td>John</td>\n",
       "      <td>85</td>\n",
       "      <td>91</td>\n",
       "      <td>79</td>\n",
       "    </tr>\n",
       "    <tr>\n",
       "      <th>b</th>\n",
       "      <td>Mary</td>\n",
       "      <td>92</td>\n",
       "      <td>89</td>\n",
       "      <td>85</td>\n",
       "    </tr>\n",
       "  </tbody>\n",
       "</table>\n",
       "</div>"
      ]
     },
     "execution_count": 95,
     "metadata": {},
     "output_type": "execute_result"
    }
   ],
   "execution_count": 95
  },
  {
   "metadata": {
    "ExecuteTime": {
     "end_time": "2025-05-05T03:30:41.712848Z",
     "start_time": "2025-05-05T03:30:41.705255Z"
    }
   },
   "cell_type": "code",
   "source": "df.loc['a']",
   "id": "2d66a6e91cf63dd7",
   "outputs": [
    {
     "data": {
      "text/plain": [
       "Name       John\n",
       "Math         85\n",
       "Science      91\n",
       "English      79\n",
       "Name: a, dtype: object"
      ]
     },
     "execution_count": 96,
     "metadata": {},
     "output_type": "execute_result"
    }
   ],
   "execution_count": 96
  },
  {
   "metadata": {
    "ExecuteTime": {
     "end_time": "2025-05-05T03:30:42.165106Z",
     "start_time": "2025-05-05T03:30:42.155135Z"
    }
   },
   "cell_type": "code",
   "source": "df.loc[['a', 'c']]",
   "id": "2a3cdc4b1d2a05c2",
   "outputs": [
    {
     "data": {
      "text/plain": [
       "   Name  Math  Science  English\n",
       "a  John    85       91       79\n",
       "c  Lily    78       84       87"
      ],
      "text/html": [
       "<div>\n",
       "<style scoped>\n",
       "    .dataframe tbody tr th:only-of-type {\n",
       "        vertical-align: middle;\n",
       "    }\n",
       "\n",
       "    .dataframe tbody tr th {\n",
       "        vertical-align: top;\n",
       "    }\n",
       "\n",
       "    .dataframe thead th {\n",
       "        text-align: right;\n",
       "    }\n",
       "</style>\n",
       "<table border=\"1\" class=\"dataframe\">\n",
       "  <thead>\n",
       "    <tr style=\"text-align: right;\">\n",
       "      <th></th>\n",
       "      <th>Name</th>\n",
       "      <th>Math</th>\n",
       "      <th>Science</th>\n",
       "      <th>English</th>\n",
       "    </tr>\n",
       "  </thead>\n",
       "  <tbody>\n",
       "    <tr>\n",
       "      <th>a</th>\n",
       "      <td>John</td>\n",
       "      <td>85</td>\n",
       "      <td>91</td>\n",
       "      <td>79</td>\n",
       "    </tr>\n",
       "    <tr>\n",
       "      <th>c</th>\n",
       "      <td>Lily</td>\n",
       "      <td>78</td>\n",
       "      <td>84</td>\n",
       "      <td>87</td>\n",
       "    </tr>\n",
       "  </tbody>\n",
       "</table>\n",
       "</div>"
      ]
     },
     "execution_count": 97,
     "metadata": {},
     "output_type": "execute_result"
    }
   ],
   "execution_count": 97
  },
  {
   "metadata": {
    "ExecuteTime": {
     "end_time": "2025-05-05T03:30:42.869587Z",
     "start_time": "2025-05-05T03:30:42.853501Z"
    }
   },
   "cell_type": "code",
   "source": "df.loc['a': 'c']",
   "id": "cf12319a7c135fbb",
   "outputs": [
    {
     "data": {
      "text/plain": [
       "   Name  Math  Science  English\n",
       "a  John    85       91       79\n",
       "b  Mary    92       89       85\n",
       "c  Lily    78       84       87"
      ],
      "text/html": [
       "<div>\n",
       "<style scoped>\n",
       "    .dataframe tbody tr th:only-of-type {\n",
       "        vertical-align: middle;\n",
       "    }\n",
       "\n",
       "    .dataframe tbody tr th {\n",
       "        vertical-align: top;\n",
       "    }\n",
       "\n",
       "    .dataframe thead th {\n",
       "        text-align: right;\n",
       "    }\n",
       "</style>\n",
       "<table border=\"1\" class=\"dataframe\">\n",
       "  <thead>\n",
       "    <tr style=\"text-align: right;\">\n",
       "      <th></th>\n",
       "      <th>Name</th>\n",
       "      <th>Math</th>\n",
       "      <th>Science</th>\n",
       "      <th>English</th>\n",
       "    </tr>\n",
       "  </thead>\n",
       "  <tbody>\n",
       "    <tr>\n",
       "      <th>a</th>\n",
       "      <td>John</td>\n",
       "      <td>85</td>\n",
       "      <td>91</td>\n",
       "      <td>79</td>\n",
       "    </tr>\n",
       "    <tr>\n",
       "      <th>b</th>\n",
       "      <td>Mary</td>\n",
       "      <td>92</td>\n",
       "      <td>89</td>\n",
       "      <td>85</td>\n",
       "    </tr>\n",
       "    <tr>\n",
       "      <th>c</th>\n",
       "      <td>Lily</td>\n",
       "      <td>78</td>\n",
       "      <td>84</td>\n",
       "      <td>87</td>\n",
       "    </tr>\n",
       "  </tbody>\n",
       "</table>\n",
       "</div>"
      ]
     },
     "execution_count": 98,
     "metadata": {},
     "output_type": "execute_result"
    }
   ],
   "execution_count": 98
  },
  {
   "metadata": {
    "ExecuteTime": {
     "end_time": "2025-05-05T03:30:43.491578Z",
     "start_time": "2025-05-05T03:30:43.482382Z"
    }
   },
   "cell_type": "code",
   "source": "df.iloc[1:3]",
   "id": "d5d86f43ed7242e7",
   "outputs": [
    {
     "data": {
      "text/plain": [
       "   Name  Math  Science  English\n",
       "b  Mary    92       89       85\n",
       "c  Lily    78       84       87"
      ],
      "text/html": [
       "<div>\n",
       "<style scoped>\n",
       "    .dataframe tbody tr th:only-of-type {\n",
       "        vertical-align: middle;\n",
       "    }\n",
       "\n",
       "    .dataframe tbody tr th {\n",
       "        vertical-align: top;\n",
       "    }\n",
       "\n",
       "    .dataframe thead th {\n",
       "        text-align: right;\n",
       "    }\n",
       "</style>\n",
       "<table border=\"1\" class=\"dataframe\">\n",
       "  <thead>\n",
       "    <tr style=\"text-align: right;\">\n",
       "      <th></th>\n",
       "      <th>Name</th>\n",
       "      <th>Math</th>\n",
       "      <th>Science</th>\n",
       "      <th>English</th>\n",
       "    </tr>\n",
       "  </thead>\n",
       "  <tbody>\n",
       "    <tr>\n",
       "      <th>b</th>\n",
       "      <td>Mary</td>\n",
       "      <td>92</td>\n",
       "      <td>89</td>\n",
       "      <td>85</td>\n",
       "    </tr>\n",
       "    <tr>\n",
       "      <th>c</th>\n",
       "      <td>Lily</td>\n",
       "      <td>78</td>\n",
       "      <td>84</td>\n",
       "      <td>87</td>\n",
       "    </tr>\n",
       "  </tbody>\n",
       "</table>\n",
       "</div>"
      ]
     },
     "execution_count": 99,
     "metadata": {},
     "output_type": "execute_result"
    }
   ],
   "execution_count": 99
  },
  {
   "metadata": {},
   "cell_type": "markdown",
   "source": "### Selecting Rows and Columns",
   "id": "3ab3bd0ff7fec8d5"
  },
  {
   "metadata": {
    "ExecuteTime": {
     "end_time": "2025-05-05T03:30:43.913631Z",
     "start_time": "2025-05-05T03:30:43.903128Z"
    }
   },
   "cell_type": "code",
   "source": "df.loc['a':'c', ['Math', 'English']]",
   "id": "3ad3273f85b86162",
   "outputs": [
    {
     "data": {
      "text/plain": [
       "   Math  English\n",
       "a    85       79\n",
       "b    92       85\n",
       "c    78       87"
      ],
      "text/html": [
       "<div>\n",
       "<style scoped>\n",
       "    .dataframe tbody tr th:only-of-type {\n",
       "        vertical-align: middle;\n",
       "    }\n",
       "\n",
       "    .dataframe tbody tr th {\n",
       "        vertical-align: top;\n",
       "    }\n",
       "\n",
       "    .dataframe thead th {\n",
       "        text-align: right;\n",
       "    }\n",
       "</style>\n",
       "<table border=\"1\" class=\"dataframe\">\n",
       "  <thead>\n",
       "    <tr style=\"text-align: right;\">\n",
       "      <th></th>\n",
       "      <th>Math</th>\n",
       "      <th>English</th>\n",
       "    </tr>\n",
       "  </thead>\n",
       "  <tbody>\n",
       "    <tr>\n",
       "      <th>a</th>\n",
       "      <td>85</td>\n",
       "      <td>79</td>\n",
       "    </tr>\n",
       "    <tr>\n",
       "      <th>b</th>\n",
       "      <td>92</td>\n",
       "      <td>85</td>\n",
       "    </tr>\n",
       "    <tr>\n",
       "      <th>c</th>\n",
       "      <td>78</td>\n",
       "      <td>87</td>\n",
       "    </tr>\n",
       "  </tbody>\n",
       "</table>\n",
       "</div>"
      ]
     },
     "execution_count": 100,
     "metadata": {},
     "output_type": "execute_result"
    }
   ],
   "execution_count": 100
  },
  {
   "metadata": {
    "ExecuteTime": {
     "end_time": "2025-05-05T03:30:44.525058Z",
     "start_time": "2025-05-05T03:30:44.516193Z"
    }
   },
   "cell_type": "code",
   "source": "df.iloc[2:3, [3]]",
   "id": "68e2a42ce07e4646",
   "outputs": [
    {
     "data": {
      "text/plain": [
       "   English\n",
       "c       87"
      ],
      "text/html": [
       "<div>\n",
       "<style scoped>\n",
       "    .dataframe tbody tr th:only-of-type {\n",
       "        vertical-align: middle;\n",
       "    }\n",
       "\n",
       "    .dataframe tbody tr th {\n",
       "        vertical-align: top;\n",
       "    }\n",
       "\n",
       "    .dataframe thead th {\n",
       "        text-align: right;\n",
       "    }\n",
       "</style>\n",
       "<table border=\"1\" class=\"dataframe\">\n",
       "  <thead>\n",
       "    <tr style=\"text-align: right;\">\n",
       "      <th></th>\n",
       "      <th>English</th>\n",
       "    </tr>\n",
       "  </thead>\n",
       "  <tbody>\n",
       "    <tr>\n",
       "      <th>c</th>\n",
       "      <td>87</td>\n",
       "    </tr>\n",
       "  </tbody>\n",
       "</table>\n",
       "</div>"
      ]
     },
     "execution_count": 101,
     "metadata": {},
     "output_type": "execute_result"
    }
   ],
   "execution_count": 101
  },
  {
   "metadata": {},
   "cell_type": "markdown",
   "source": "### Filtering",
   "id": "9077ca8c8ac4613c"
  },
  {
   "metadata": {
    "ExecuteTime": {
     "end_time": "2025-05-05T03:30:45.074822Z",
     "start_time": "2025-05-05T03:30:45.066456Z"
    }
   },
   "cell_type": "code",
   "source": "df['Math'] > 80",
   "id": "a22a7a989b901eb7",
   "outputs": [
    {
     "data": {
      "text/plain": [
       "a     True\n",
       "b     True\n",
       "c    False\n",
       "d     True\n",
       "Name: Math, dtype: bool"
      ]
     },
     "execution_count": 102,
     "metadata": {},
     "output_type": "execute_result"
    }
   ],
   "execution_count": 102
  },
  {
   "metadata": {
    "ExecuteTime": {
     "end_time": "2025-05-05T03:30:45.613287Z",
     "start_time": "2025-05-05T03:30:45.603305Z"
    }
   },
   "cell_type": "code",
   "source": "df[df['Math'] > 80]",
   "id": "64554ed2b59849ec",
   "outputs": [
    {
     "data": {
      "text/plain": [
       "   Name  Math  Science  English\n",
       "a  John    85       91       79\n",
       "b  Mary    92       89       85\n",
       "d   Sue    88       85       90"
      ],
      "text/html": [
       "<div>\n",
       "<style scoped>\n",
       "    .dataframe tbody tr th:only-of-type {\n",
       "        vertical-align: middle;\n",
       "    }\n",
       "\n",
       "    .dataframe tbody tr th {\n",
       "        vertical-align: top;\n",
       "    }\n",
       "\n",
       "    .dataframe thead th {\n",
       "        text-align: right;\n",
       "    }\n",
       "</style>\n",
       "<table border=\"1\" class=\"dataframe\">\n",
       "  <thead>\n",
       "    <tr style=\"text-align: right;\">\n",
       "      <th></th>\n",
       "      <th>Name</th>\n",
       "      <th>Math</th>\n",
       "      <th>Science</th>\n",
       "      <th>English</th>\n",
       "    </tr>\n",
       "  </thead>\n",
       "  <tbody>\n",
       "    <tr>\n",
       "      <th>a</th>\n",
       "      <td>John</td>\n",
       "      <td>85</td>\n",
       "      <td>91</td>\n",
       "      <td>79</td>\n",
       "    </tr>\n",
       "    <tr>\n",
       "      <th>b</th>\n",
       "      <td>Mary</td>\n",
       "      <td>92</td>\n",
       "      <td>89</td>\n",
       "      <td>85</td>\n",
       "    </tr>\n",
       "    <tr>\n",
       "      <th>d</th>\n",
       "      <td>Sue</td>\n",
       "      <td>88</td>\n",
       "      <td>85</td>\n",
       "      <td>90</td>\n",
       "    </tr>\n",
       "  </tbody>\n",
       "</table>\n",
       "</div>"
      ]
     },
     "execution_count": 103,
     "metadata": {},
     "output_type": "execute_result"
    }
   ],
   "execution_count": 103
  },
  {
   "metadata": {
    "ExecuteTime": {
     "end_time": "2025-05-05T03:30:46.006267Z",
     "start_time": "2025-05-05T03:30:45.995123Z"
    }
   },
   "cell_type": "code",
   "source": "df[(df['Math'] > 80) & (df['English'] > 90) | (df['Science']) < 100]",
   "id": "bfd090d83e140c05",
   "outputs": [
    {
     "data": {
      "text/plain": [
       "   Name  Math  Science  English\n",
       "a  John    85       91       79\n",
       "b  Mary    92       89       85\n",
       "c  Lily    78       84       87\n",
       "d   Sue    88       85       90"
      ],
      "text/html": [
       "<div>\n",
       "<style scoped>\n",
       "    .dataframe tbody tr th:only-of-type {\n",
       "        vertical-align: middle;\n",
       "    }\n",
       "\n",
       "    .dataframe tbody tr th {\n",
       "        vertical-align: top;\n",
       "    }\n",
       "\n",
       "    .dataframe thead th {\n",
       "        text-align: right;\n",
       "    }\n",
       "</style>\n",
       "<table border=\"1\" class=\"dataframe\">\n",
       "  <thead>\n",
       "    <tr style=\"text-align: right;\">\n",
       "      <th></th>\n",
       "      <th>Name</th>\n",
       "      <th>Math</th>\n",
       "      <th>Science</th>\n",
       "      <th>English</th>\n",
       "    </tr>\n",
       "  </thead>\n",
       "  <tbody>\n",
       "    <tr>\n",
       "      <th>a</th>\n",
       "      <td>John</td>\n",
       "      <td>85</td>\n",
       "      <td>91</td>\n",
       "      <td>79</td>\n",
       "    </tr>\n",
       "    <tr>\n",
       "      <th>b</th>\n",
       "      <td>Mary</td>\n",
       "      <td>92</td>\n",
       "      <td>89</td>\n",
       "      <td>85</td>\n",
       "    </tr>\n",
       "    <tr>\n",
       "      <th>c</th>\n",
       "      <td>Lily</td>\n",
       "      <td>78</td>\n",
       "      <td>84</td>\n",
       "      <td>87</td>\n",
       "    </tr>\n",
       "    <tr>\n",
       "      <th>d</th>\n",
       "      <td>Sue</td>\n",
       "      <td>88</td>\n",
       "      <td>85</td>\n",
       "      <td>90</td>\n",
       "    </tr>\n",
       "  </tbody>\n",
       "</table>\n",
       "</div>"
      ]
     },
     "execution_count": 104,
     "metadata": {},
     "output_type": "execute_result"
    }
   ],
   "execution_count": 104
  },
  {
   "metadata": {
    "ExecuteTime": {
     "end_time": "2025-05-05T03:30:46.343473Z",
     "start_time": "2025-05-05T03:30:46.333047Z"
    }
   },
   "cell_type": "code",
   "source": "df[df['Name'].isin(['Sue'])]",
   "id": "b07c582748ce26cd",
   "outputs": [
    {
     "data": {
      "text/plain": [
       "  Name  Math  Science  English\n",
       "d  Sue    88       85       90"
      ],
      "text/html": [
       "<div>\n",
       "<style scoped>\n",
       "    .dataframe tbody tr th:only-of-type {\n",
       "        vertical-align: middle;\n",
       "    }\n",
       "\n",
       "    .dataframe tbody tr th {\n",
       "        vertical-align: top;\n",
       "    }\n",
       "\n",
       "    .dataframe thead th {\n",
       "        text-align: right;\n",
       "    }\n",
       "</style>\n",
       "<table border=\"1\" class=\"dataframe\">\n",
       "  <thead>\n",
       "    <tr style=\"text-align: right;\">\n",
       "      <th></th>\n",
       "      <th>Name</th>\n",
       "      <th>Math</th>\n",
       "      <th>Science</th>\n",
       "      <th>English</th>\n",
       "    </tr>\n",
       "  </thead>\n",
       "  <tbody>\n",
       "    <tr>\n",
       "      <th>d</th>\n",
       "      <td>Sue</td>\n",
       "      <td>88</td>\n",
       "      <td>85</td>\n",
       "      <td>90</td>\n",
       "    </tr>\n",
       "  </tbody>\n",
       "</table>\n",
       "</div>"
      ]
     },
     "execution_count": 105,
     "metadata": {},
     "output_type": "execute_result"
    }
   ],
   "execution_count": 105
  },
  {
   "metadata": {
    "ExecuteTime": {
     "end_time": "2025-05-05T03:30:46.887599Z",
     "start_time": "2025-05-05T03:30:46.871748Z"
    }
   },
   "cell_type": "code",
   "source": "df.where(df['Math'] < 90, 42)",
   "id": "6a38727ccc05c771",
   "outputs": [
    {
     "data": {
      "text/plain": [
       "   Name  Math  Science  English\n",
       "a  John    85       91       79\n",
       "b    42    42       42       42\n",
       "c  Lily    78       84       87\n",
       "d   Sue    88       85       90"
      ],
      "text/html": [
       "<div>\n",
       "<style scoped>\n",
       "    .dataframe tbody tr th:only-of-type {\n",
       "        vertical-align: middle;\n",
       "    }\n",
       "\n",
       "    .dataframe tbody tr th {\n",
       "        vertical-align: top;\n",
       "    }\n",
       "\n",
       "    .dataframe thead th {\n",
       "        text-align: right;\n",
       "    }\n",
       "</style>\n",
       "<table border=\"1\" class=\"dataframe\">\n",
       "  <thead>\n",
       "    <tr style=\"text-align: right;\">\n",
       "      <th></th>\n",
       "      <th>Name</th>\n",
       "      <th>Math</th>\n",
       "      <th>Science</th>\n",
       "      <th>English</th>\n",
       "    </tr>\n",
       "  </thead>\n",
       "  <tbody>\n",
       "    <tr>\n",
       "      <th>a</th>\n",
       "      <td>John</td>\n",
       "      <td>85</td>\n",
       "      <td>91</td>\n",
       "      <td>79</td>\n",
       "    </tr>\n",
       "    <tr>\n",
       "      <th>b</th>\n",
       "      <td>42</td>\n",
       "      <td>42</td>\n",
       "      <td>42</td>\n",
       "      <td>42</td>\n",
       "    </tr>\n",
       "    <tr>\n",
       "      <th>c</th>\n",
       "      <td>Lily</td>\n",
       "      <td>78</td>\n",
       "      <td>84</td>\n",
       "      <td>87</td>\n",
       "    </tr>\n",
       "    <tr>\n",
       "      <th>d</th>\n",
       "      <td>Sue</td>\n",
       "      <td>88</td>\n",
       "      <td>85</td>\n",
       "      <td>90</td>\n",
       "    </tr>\n",
       "  </tbody>\n",
       "</table>\n",
       "</div>"
      ]
     },
     "execution_count": 106,
     "metadata": {},
     "output_type": "execute_result"
    }
   ],
   "execution_count": 106
  },
  {
   "metadata": {},
   "cell_type": "markdown",
   "source": "# Data Analysis Functions",
   "id": "c1a7f9896fcfc9f9"
  },
  {
   "metadata": {
    "ExecuteTime": {
     "end_time": "2025-05-05T03:30:47.716618Z",
     "start_time": "2025-05-05T03:30:47.711064Z"
    }
   },
   "cell_type": "code",
   "source": "# https://youtu.be/pnuZ_xDllZU?si=VUKdqoJ7uau2DENm",
   "id": "d72d9d2424e08211",
   "outputs": [],
   "execution_count": 107
  },
  {
   "metadata": {
    "ExecuteTime": {
     "end_time": "2025-05-05T03:30:48.119268Z",
     "start_time": "2025-05-05T03:30:48.114263Z"
    }
   },
   "cell_type": "code",
   "source": [
    "data = {\n",
    "    'Employee': ['John', 'Mary', 'Lily', 'Sue', 'Bob'],\n",
    "    'Salary': [1000, 2000, 3000, 4000, 5000],\n",
    "    'Department': ['HR', 'IT', 'Finance', 'IT', 'HR']\n",
    "}"
   ],
   "id": "f24fba4effd9b83f",
   "outputs": [],
   "execution_count": 108
  },
  {
   "metadata": {
    "ExecuteTime": {
     "end_time": "2025-05-05T03:30:48.315694Z",
     "start_time": "2025-05-05T03:30:48.304320Z"
    }
   },
   "cell_type": "code",
   "source": [
    "df = pd.DataFrame(data)\n",
    "df"
   ],
   "id": "e53b1ff6ce75ce3f",
   "outputs": [
    {
     "data": {
      "text/plain": [
       "  Employee  Salary Department\n",
       "0     John    1000         HR\n",
       "1     Mary    2000         IT\n",
       "2     Lily    3000    Finance\n",
       "3      Sue    4000         IT\n",
       "4      Bob    5000         HR"
      ],
      "text/html": [
       "<div>\n",
       "<style scoped>\n",
       "    .dataframe tbody tr th:only-of-type {\n",
       "        vertical-align: middle;\n",
       "    }\n",
       "\n",
       "    .dataframe tbody tr th {\n",
       "        vertical-align: top;\n",
       "    }\n",
       "\n",
       "    .dataframe thead th {\n",
       "        text-align: right;\n",
       "    }\n",
       "</style>\n",
       "<table border=\"1\" class=\"dataframe\">\n",
       "  <thead>\n",
       "    <tr style=\"text-align: right;\">\n",
       "      <th></th>\n",
       "      <th>Employee</th>\n",
       "      <th>Salary</th>\n",
       "      <th>Department</th>\n",
       "    </tr>\n",
       "  </thead>\n",
       "  <tbody>\n",
       "    <tr>\n",
       "      <th>0</th>\n",
       "      <td>John</td>\n",
       "      <td>1000</td>\n",
       "      <td>HR</td>\n",
       "    </tr>\n",
       "    <tr>\n",
       "      <th>1</th>\n",
       "      <td>Mary</td>\n",
       "      <td>2000</td>\n",
       "      <td>IT</td>\n",
       "    </tr>\n",
       "    <tr>\n",
       "      <th>2</th>\n",
       "      <td>Lily</td>\n",
       "      <td>3000</td>\n",
       "      <td>Finance</td>\n",
       "    </tr>\n",
       "    <tr>\n",
       "      <th>3</th>\n",
       "      <td>Sue</td>\n",
       "      <td>4000</td>\n",
       "      <td>IT</td>\n",
       "    </tr>\n",
       "    <tr>\n",
       "      <th>4</th>\n",
       "      <td>Bob</td>\n",
       "      <td>5000</td>\n",
       "      <td>HR</td>\n",
       "    </tr>\n",
       "  </tbody>\n",
       "</table>\n",
       "</div>"
      ]
     },
     "execution_count": 109,
     "metadata": {},
     "output_type": "execute_result"
    }
   ],
   "execution_count": 109
  },
  {
   "metadata": {
    "ExecuteTime": {
     "end_time": "2025-05-05T03:30:48.510505Z",
     "start_time": "2025-05-05T03:30:48.491459Z"
    }
   },
   "cell_type": "code",
   "source": "df.info()",
   "id": "ddc20b70c88e1868",
   "outputs": [
    {
     "name": "stdout",
     "output_type": "stream",
     "text": [
      "<class 'pandas.core.frame.DataFrame'>\n",
      "RangeIndex: 5 entries, 0 to 4\n",
      "Data columns (total 3 columns):\n",
      " #   Column      Non-Null Count  Dtype \n",
      "---  ------      --------------  ----- \n",
      " 0   Employee    5 non-null      object\n",
      " 1   Salary      5 non-null      int64 \n",
      " 2   Department  5 non-null      object\n",
      "dtypes: int64(1), object(2)\n",
      "memory usage: 252.0+ bytes\n"
     ]
    }
   ],
   "execution_count": 110
  },
  {
   "metadata": {
    "ExecuteTime": {
     "end_time": "2025-05-05T03:30:48.902732Z",
     "start_time": "2025-05-05T03:30:48.897393Z"
    }
   },
   "cell_type": "code",
   "source": "df.columns",
   "id": "2bd4546b27042e09",
   "outputs": [
    {
     "data": {
      "text/plain": [
       "Index(['Employee', 'Salary', 'Department'], dtype='object')"
      ]
     },
     "execution_count": 111,
     "metadata": {},
     "output_type": "execute_result"
    }
   ],
   "execution_count": 111
  },
  {
   "metadata": {
    "ExecuteTime": {
     "end_time": "2025-05-05T03:30:49.267563Z",
     "start_time": "2025-05-05T03:30:49.261787Z"
    }
   },
   "cell_type": "code",
   "source": "df.keys()",
   "id": "94901c5474f7f931",
   "outputs": [
    {
     "data": {
      "text/plain": [
       "Index(['Employee', 'Salary', 'Department'], dtype='object')"
      ]
     },
     "execution_count": 112,
     "metadata": {},
     "output_type": "execute_result"
    }
   ],
   "execution_count": 112
  },
  {
   "metadata": {
    "ExecuteTime": {
     "end_time": "2025-05-05T03:30:49.518502Z",
     "start_time": "2025-05-05T03:30:49.510194Z"
    }
   },
   "cell_type": "code",
   "source": "df.head(3)",
   "id": "ae74aff6962e2a05",
   "outputs": [
    {
     "data": {
      "text/plain": [
       "  Employee  Salary Department\n",
       "0     John    1000         HR\n",
       "1     Mary    2000         IT\n",
       "2     Lily    3000    Finance"
      ],
      "text/html": [
       "<div>\n",
       "<style scoped>\n",
       "    .dataframe tbody tr th:only-of-type {\n",
       "        vertical-align: middle;\n",
       "    }\n",
       "\n",
       "    .dataframe tbody tr th {\n",
       "        vertical-align: top;\n",
       "    }\n",
       "\n",
       "    .dataframe thead th {\n",
       "        text-align: right;\n",
       "    }\n",
       "</style>\n",
       "<table border=\"1\" class=\"dataframe\">\n",
       "  <thead>\n",
       "    <tr style=\"text-align: right;\">\n",
       "      <th></th>\n",
       "      <th>Employee</th>\n",
       "      <th>Salary</th>\n",
       "      <th>Department</th>\n",
       "    </tr>\n",
       "  </thead>\n",
       "  <tbody>\n",
       "    <tr>\n",
       "      <th>0</th>\n",
       "      <td>John</td>\n",
       "      <td>1000</td>\n",
       "      <td>HR</td>\n",
       "    </tr>\n",
       "    <tr>\n",
       "      <th>1</th>\n",
       "      <td>Mary</td>\n",
       "      <td>2000</td>\n",
       "      <td>IT</td>\n",
       "    </tr>\n",
       "    <tr>\n",
       "      <th>2</th>\n",
       "      <td>Lily</td>\n",
       "      <td>3000</td>\n",
       "      <td>Finance</td>\n",
       "    </tr>\n",
       "  </tbody>\n",
       "</table>\n",
       "</div>"
      ]
     },
     "execution_count": 113,
     "metadata": {},
     "output_type": "execute_result"
    }
   ],
   "execution_count": 113
  },
  {
   "metadata": {
    "ExecuteTime": {
     "end_time": "2025-05-05T03:30:49.713141Z",
     "start_time": "2025-05-05T03:30:49.703485Z"
    }
   },
   "cell_type": "code",
   "source": "df.tail(3)",
   "id": "77421e9eafe7c881",
   "outputs": [
    {
     "data": {
      "text/plain": [
       "  Employee  Salary Department\n",
       "2     Lily    3000    Finance\n",
       "3      Sue    4000         IT\n",
       "4      Bob    5000         HR"
      ],
      "text/html": [
       "<div>\n",
       "<style scoped>\n",
       "    .dataframe tbody tr th:only-of-type {\n",
       "        vertical-align: middle;\n",
       "    }\n",
       "\n",
       "    .dataframe tbody tr th {\n",
       "        vertical-align: top;\n",
       "    }\n",
       "\n",
       "    .dataframe thead th {\n",
       "        text-align: right;\n",
       "    }\n",
       "</style>\n",
       "<table border=\"1\" class=\"dataframe\">\n",
       "  <thead>\n",
       "    <tr style=\"text-align: right;\">\n",
       "      <th></th>\n",
       "      <th>Employee</th>\n",
       "      <th>Salary</th>\n",
       "      <th>Department</th>\n",
       "    </tr>\n",
       "  </thead>\n",
       "  <tbody>\n",
       "    <tr>\n",
       "      <th>2</th>\n",
       "      <td>Lily</td>\n",
       "      <td>3000</td>\n",
       "      <td>Finance</td>\n",
       "    </tr>\n",
       "    <tr>\n",
       "      <th>3</th>\n",
       "      <td>Sue</td>\n",
       "      <td>4000</td>\n",
       "      <td>IT</td>\n",
       "    </tr>\n",
       "    <tr>\n",
       "      <th>4</th>\n",
       "      <td>Bob</td>\n",
       "      <td>5000</td>\n",
       "      <td>HR</td>\n",
       "    </tr>\n",
       "  </tbody>\n",
       "</table>\n",
       "</div>"
      ]
     },
     "execution_count": 114,
     "metadata": {},
     "output_type": "execute_result"
    }
   ],
   "execution_count": 114
  },
  {
   "metadata": {
    "ExecuteTime": {
     "end_time": "2025-05-05T03:30:50.187685Z",
     "start_time": "2025-05-05T03:30:50.181375Z"
    }
   },
   "cell_type": "code",
   "source": [
    "# numpy array\n",
    "df.values"
   ],
   "id": "b368d244acca72a9",
   "outputs": [
    {
     "data": {
      "text/plain": [
       "array([['John', 1000, 'HR'],\n",
       "       ['Mary', 2000, 'IT'],\n",
       "       ['Lily', 3000, 'Finance'],\n",
       "       ['Sue', 4000, 'IT'],\n",
       "       ['Bob', 5000, 'HR']], dtype=object)"
      ]
     },
     "execution_count": 115,
     "metadata": {},
     "output_type": "execute_result"
    }
   ],
   "execution_count": 115
  },
  {
   "metadata": {
    "ExecuteTime": {
     "end_time": "2025-05-05T03:30:50.466918Z",
     "start_time": "2025-05-05T03:30:50.462213Z"
    }
   },
   "cell_type": "code",
   "source": "df.size",
   "id": "eafd1b111d8a7f72",
   "outputs": [
    {
     "data": {
      "text/plain": [
       "15"
      ]
     },
     "execution_count": 116,
     "metadata": {},
     "output_type": "execute_result"
    }
   ],
   "execution_count": 116
  },
  {
   "metadata": {
    "ExecuteTime": {
     "end_time": "2025-05-05T03:30:50.737982Z",
     "start_time": "2025-05-05T03:30:50.732763Z"
    }
   },
   "cell_type": "code",
   "source": "df.shape",
   "id": "6de700f9df9d4144",
   "outputs": [
    {
     "data": {
      "text/plain": [
       "(5, 3)"
      ]
     },
     "execution_count": 117,
     "metadata": {},
     "output_type": "execute_result"
    }
   ],
   "execution_count": 117
  },
  {
   "metadata": {
    "ExecuteTime": {
     "end_time": "2025-05-05T03:30:50.970991Z",
     "start_time": "2025-05-05T03:30:50.964718Z"
    }
   },
   "cell_type": "code",
   "source": "df.shape[0]",
   "id": "28f34aab16527dd8",
   "outputs": [
    {
     "data": {
      "text/plain": [
       "5"
      ]
     },
     "execution_count": 118,
     "metadata": {},
     "output_type": "execute_result"
    }
   ],
   "execution_count": 118
  },
  {
   "metadata": {
    "ExecuteTime": {
     "end_time": "2025-05-05T03:30:51.180856Z",
     "start_time": "2025-05-05T03:30:51.174580Z"
    }
   },
   "cell_type": "code",
   "source": "df['Department'].unique()",
   "id": "32dde08ba1075b43",
   "outputs": [
    {
     "data": {
      "text/plain": [
       "array(['HR', 'IT', 'Finance'], dtype=object)"
      ]
     },
     "execution_count": 119,
     "metadata": {},
     "output_type": "execute_result"
    }
   ],
   "execution_count": 119
  },
  {
   "metadata": {
    "ExecuteTime": {
     "end_time": "2025-05-05T03:30:51.331097Z",
     "start_time": "2025-05-05T03:30:51.322513Z"
    }
   },
   "cell_type": "code",
   "source": "df['Department'].nunique()",
   "id": "49172e2b586da262",
   "outputs": [
    {
     "data": {
      "text/plain": [
       "3"
      ]
     },
     "execution_count": 120,
     "metadata": {},
     "output_type": "execute_result"
    }
   ],
   "execution_count": 120
  },
  {
   "metadata": {
    "ExecuteTime": {
     "end_time": "2025-05-05T03:30:51.502129Z",
     "start_time": "2025-05-05T03:30:51.495647Z"
    }
   },
   "cell_type": "code",
   "source": "df['Department'].value_counts()",
   "id": "da499ff6e6f79214",
   "outputs": [
    {
     "data": {
      "text/plain": [
       "Department\n",
       "HR         2\n",
       "IT         2\n",
       "Finance    1\n",
       "Name: count, dtype: int64"
      ]
     },
     "execution_count": 121,
     "metadata": {},
     "output_type": "execute_result"
    }
   ],
   "execution_count": 121
  },
  {
   "metadata": {
    "ExecuteTime": {
     "end_time": "2025-05-05T03:30:51.750819Z",
     "start_time": "2025-05-05T03:30:51.746981Z"
    }
   },
   "cell_type": "code",
   "source": [
    "def calc_bonus(salary):\n",
    "    return salary * 0.1"
   ],
   "id": "df8865a94e8da998",
   "outputs": [],
   "execution_count": 122
  },
  {
   "metadata": {
    "ExecuteTime": {
     "end_time": "2025-05-05T03:30:51.940178Z",
     "start_time": "2025-05-05T03:30:51.928437Z"
    }
   },
   "cell_type": "code",
   "source": [
    "df['Bonus'] = df['Salary'].apply(calc_bonus)\n",
    "df"
   ],
   "id": "b7b880c6ac947c28",
   "outputs": [
    {
     "data": {
      "text/plain": [
       "  Employee  Salary Department  Bonus\n",
       "0     John    1000         HR  100.0\n",
       "1     Mary    2000         IT  200.0\n",
       "2     Lily    3000    Finance  300.0\n",
       "3      Sue    4000         IT  400.0\n",
       "4      Bob    5000         HR  500.0"
      ],
      "text/html": [
       "<div>\n",
       "<style scoped>\n",
       "    .dataframe tbody tr th:only-of-type {\n",
       "        vertical-align: middle;\n",
       "    }\n",
       "\n",
       "    .dataframe tbody tr th {\n",
       "        vertical-align: top;\n",
       "    }\n",
       "\n",
       "    .dataframe thead th {\n",
       "        text-align: right;\n",
       "    }\n",
       "</style>\n",
       "<table border=\"1\" class=\"dataframe\">\n",
       "  <thead>\n",
       "    <tr style=\"text-align: right;\">\n",
       "      <th></th>\n",
       "      <th>Employee</th>\n",
       "      <th>Salary</th>\n",
       "      <th>Department</th>\n",
       "      <th>Bonus</th>\n",
       "    </tr>\n",
       "  </thead>\n",
       "  <tbody>\n",
       "    <tr>\n",
       "      <th>0</th>\n",
       "      <td>John</td>\n",
       "      <td>1000</td>\n",
       "      <td>HR</td>\n",
       "      <td>100.0</td>\n",
       "    </tr>\n",
       "    <tr>\n",
       "      <th>1</th>\n",
       "      <td>Mary</td>\n",
       "      <td>2000</td>\n",
       "      <td>IT</td>\n",
       "      <td>200.0</td>\n",
       "    </tr>\n",
       "    <tr>\n",
       "      <th>2</th>\n",
       "      <td>Lily</td>\n",
       "      <td>3000</td>\n",
       "      <td>Finance</td>\n",
       "      <td>300.0</td>\n",
       "    </tr>\n",
       "    <tr>\n",
       "      <th>3</th>\n",
       "      <td>Sue</td>\n",
       "      <td>4000</td>\n",
       "      <td>IT</td>\n",
       "      <td>400.0</td>\n",
       "    </tr>\n",
       "    <tr>\n",
       "      <th>4</th>\n",
       "      <td>Bob</td>\n",
       "      <td>5000</td>\n",
       "      <td>HR</td>\n",
       "      <td>500.0</td>\n",
       "    </tr>\n",
       "  </tbody>\n",
       "</table>\n",
       "</div>"
      ]
     },
     "execution_count": 123,
     "metadata": {},
     "output_type": "execute_result"
    }
   ],
   "execution_count": 123
  },
  {
   "metadata": {
    "ExecuteTime": {
     "end_time": "2025-05-05T03:30:52.104399Z",
     "start_time": "2025-05-05T03:30:52.089315Z"
    }
   },
   "cell_type": "code",
   "source": [
    "df['Adjusted Salary'] = df['Salary'].apply(lambda x: x * 1.05)\n",
    "df"
   ],
   "id": "5e127b59016caf75",
   "outputs": [
    {
     "data": {
      "text/plain": [
       "  Employee  Salary Department  Bonus  Adjusted Salary\n",
       "0     John    1000         HR  100.0           1050.0\n",
       "1     Mary    2000         IT  200.0           2100.0\n",
       "2     Lily    3000    Finance  300.0           3150.0\n",
       "3      Sue    4000         IT  400.0           4200.0\n",
       "4      Bob    5000         HR  500.0           5250.0"
      ],
      "text/html": [
       "<div>\n",
       "<style scoped>\n",
       "    .dataframe tbody tr th:only-of-type {\n",
       "        vertical-align: middle;\n",
       "    }\n",
       "\n",
       "    .dataframe tbody tr th {\n",
       "        vertical-align: top;\n",
       "    }\n",
       "\n",
       "    .dataframe thead th {\n",
       "        text-align: right;\n",
       "    }\n",
       "</style>\n",
       "<table border=\"1\" class=\"dataframe\">\n",
       "  <thead>\n",
       "    <tr style=\"text-align: right;\">\n",
       "      <th></th>\n",
       "      <th>Employee</th>\n",
       "      <th>Salary</th>\n",
       "      <th>Department</th>\n",
       "      <th>Bonus</th>\n",
       "      <th>Adjusted Salary</th>\n",
       "    </tr>\n",
       "  </thead>\n",
       "  <tbody>\n",
       "    <tr>\n",
       "      <th>0</th>\n",
       "      <td>John</td>\n",
       "      <td>1000</td>\n",
       "      <td>HR</td>\n",
       "      <td>100.0</td>\n",
       "      <td>1050.0</td>\n",
       "    </tr>\n",
       "    <tr>\n",
       "      <th>1</th>\n",
       "      <td>Mary</td>\n",
       "      <td>2000</td>\n",
       "      <td>IT</td>\n",
       "      <td>200.0</td>\n",
       "      <td>2100.0</td>\n",
       "    </tr>\n",
       "    <tr>\n",
       "      <th>2</th>\n",
       "      <td>Lily</td>\n",
       "      <td>3000</td>\n",
       "      <td>Finance</td>\n",
       "      <td>300.0</td>\n",
       "      <td>3150.0</td>\n",
       "    </tr>\n",
       "    <tr>\n",
       "      <th>3</th>\n",
       "      <td>Sue</td>\n",
       "      <td>4000</td>\n",
       "      <td>IT</td>\n",
       "      <td>400.0</td>\n",
       "      <td>4200.0</td>\n",
       "    </tr>\n",
       "    <tr>\n",
       "      <th>4</th>\n",
       "      <td>Bob</td>\n",
       "      <td>5000</td>\n",
       "      <td>HR</td>\n",
       "      <td>500.0</td>\n",
       "      <td>5250.0</td>\n",
       "    </tr>\n",
       "  </tbody>\n",
       "</table>\n",
       "</div>"
      ]
     },
     "execution_count": 124,
     "metadata": {},
     "output_type": "execute_result"
    }
   ],
   "execution_count": 124
  },
  {
   "metadata": {
    "ExecuteTime": {
     "end_time": "2025-05-05T03:30:52.405398Z",
     "start_time": "2025-05-05T03:30:52.390668Z"
    }
   },
   "cell_type": "code",
   "source": [
    "df_upper = df.applymap(lambda x: x.upper() if type(x) == str else x)\n",
    "df_upper"
   ],
   "id": "b8bad9fa7c418cca",
   "outputs": [
    {
     "name": "stderr",
     "output_type": "stream",
     "text": [
      "/var/folders/6l/0v0lczzd3zg_6n8l7ysp7gyc0000gn/T/ipykernel_67345/1173992352.py:1: FutureWarning: DataFrame.applymap has been deprecated. Use DataFrame.map instead.\n",
      "  df_upper = df.applymap(lambda x: x.upper() if type(x) == str else x)\n"
     ]
    },
    {
     "data": {
      "text/plain": [
       "  Employee  Salary Department  Bonus  Adjusted Salary\n",
       "0     JOHN    1000         HR  100.0           1050.0\n",
       "1     MARY    2000         IT  200.0           2100.0\n",
       "2     LILY    3000    FINANCE  300.0           3150.0\n",
       "3      SUE    4000         IT  400.0           4200.0\n",
       "4      BOB    5000         HR  500.0           5250.0"
      ],
      "text/html": [
       "<div>\n",
       "<style scoped>\n",
       "    .dataframe tbody tr th:only-of-type {\n",
       "        vertical-align: middle;\n",
       "    }\n",
       "\n",
       "    .dataframe tbody tr th {\n",
       "        vertical-align: top;\n",
       "    }\n",
       "\n",
       "    .dataframe thead th {\n",
       "        text-align: right;\n",
       "    }\n",
       "</style>\n",
       "<table border=\"1\" class=\"dataframe\">\n",
       "  <thead>\n",
       "    <tr style=\"text-align: right;\">\n",
       "      <th></th>\n",
       "      <th>Employee</th>\n",
       "      <th>Salary</th>\n",
       "      <th>Department</th>\n",
       "      <th>Bonus</th>\n",
       "      <th>Adjusted Salary</th>\n",
       "    </tr>\n",
       "  </thead>\n",
       "  <tbody>\n",
       "    <tr>\n",
       "      <th>0</th>\n",
       "      <td>JOHN</td>\n",
       "      <td>1000</td>\n",
       "      <td>HR</td>\n",
       "      <td>100.0</td>\n",
       "      <td>1050.0</td>\n",
       "    </tr>\n",
       "    <tr>\n",
       "      <th>1</th>\n",
       "      <td>MARY</td>\n",
       "      <td>2000</td>\n",
       "      <td>IT</td>\n",
       "      <td>200.0</td>\n",
       "      <td>2100.0</td>\n",
       "    </tr>\n",
       "    <tr>\n",
       "      <th>2</th>\n",
       "      <td>LILY</td>\n",
       "      <td>3000</td>\n",
       "      <td>FINANCE</td>\n",
       "      <td>300.0</td>\n",
       "      <td>3150.0</td>\n",
       "    </tr>\n",
       "    <tr>\n",
       "      <th>3</th>\n",
       "      <td>SUE</td>\n",
       "      <td>4000</td>\n",
       "      <td>IT</td>\n",
       "      <td>400.0</td>\n",
       "      <td>4200.0</td>\n",
       "    </tr>\n",
       "    <tr>\n",
       "      <th>4</th>\n",
       "      <td>BOB</td>\n",
       "      <td>5000</td>\n",
       "      <td>HR</td>\n",
       "      <td>500.0</td>\n",
       "      <td>5250.0</td>\n",
       "    </tr>\n",
       "  </tbody>\n",
       "</table>\n",
       "</div>"
      ]
     },
     "execution_count": 125,
     "metadata": {},
     "output_type": "execute_result"
    }
   ],
   "execution_count": 125
  },
  {
   "metadata": {
    "ExecuteTime": {
     "end_time": "2025-05-05T03:30:52.849500Z",
     "start_time": "2025-05-05T03:30:52.832785Z"
    }
   },
   "cell_type": "code",
   "source": "df.sort_values(by='Salary', ascending=False)",
   "id": "cd3144ccabf6cc74",
   "outputs": [
    {
     "data": {
      "text/plain": [
       "  Employee  Salary Department  Bonus  Adjusted Salary\n",
       "4      Bob    5000         HR  500.0           5250.0\n",
       "3      Sue    4000         IT  400.0           4200.0\n",
       "2     Lily    3000    Finance  300.0           3150.0\n",
       "1     Mary    2000         IT  200.0           2100.0\n",
       "0     John    1000         HR  100.0           1050.0"
      ],
      "text/html": [
       "<div>\n",
       "<style scoped>\n",
       "    .dataframe tbody tr th:only-of-type {\n",
       "        vertical-align: middle;\n",
       "    }\n",
       "\n",
       "    .dataframe tbody tr th {\n",
       "        vertical-align: top;\n",
       "    }\n",
       "\n",
       "    .dataframe thead th {\n",
       "        text-align: right;\n",
       "    }\n",
       "</style>\n",
       "<table border=\"1\" class=\"dataframe\">\n",
       "  <thead>\n",
       "    <tr style=\"text-align: right;\">\n",
       "      <th></th>\n",
       "      <th>Employee</th>\n",
       "      <th>Salary</th>\n",
       "      <th>Department</th>\n",
       "      <th>Bonus</th>\n",
       "      <th>Adjusted Salary</th>\n",
       "    </tr>\n",
       "  </thead>\n",
       "  <tbody>\n",
       "    <tr>\n",
       "      <th>4</th>\n",
       "      <td>Bob</td>\n",
       "      <td>5000</td>\n",
       "      <td>HR</td>\n",
       "      <td>500.0</td>\n",
       "      <td>5250.0</td>\n",
       "    </tr>\n",
       "    <tr>\n",
       "      <th>3</th>\n",
       "      <td>Sue</td>\n",
       "      <td>4000</td>\n",
       "      <td>IT</td>\n",
       "      <td>400.0</td>\n",
       "      <td>4200.0</td>\n",
       "    </tr>\n",
       "    <tr>\n",
       "      <th>2</th>\n",
       "      <td>Lily</td>\n",
       "      <td>3000</td>\n",
       "      <td>Finance</td>\n",
       "      <td>300.0</td>\n",
       "      <td>3150.0</td>\n",
       "    </tr>\n",
       "    <tr>\n",
       "      <th>1</th>\n",
       "      <td>Mary</td>\n",
       "      <td>2000</td>\n",
       "      <td>IT</td>\n",
       "      <td>200.0</td>\n",
       "      <td>2100.0</td>\n",
       "    </tr>\n",
       "    <tr>\n",
       "      <th>0</th>\n",
       "      <td>John</td>\n",
       "      <td>1000</td>\n",
       "      <td>HR</td>\n",
       "      <td>100.0</td>\n",
       "      <td>1050.0</td>\n",
       "    </tr>\n",
       "  </tbody>\n",
       "</table>\n",
       "</div>"
      ]
     },
     "execution_count": 126,
     "metadata": {},
     "output_type": "execute_result"
    }
   ],
   "execution_count": 126
  },
  {
   "metadata": {
    "ExecuteTime": {
     "end_time": "2025-05-05T03:30:53.305683Z",
     "start_time": "2025-05-05T03:30:53.299014Z"
    }
   },
   "cell_type": "code",
   "source": "df2 = df.sort_values(by=['Department', 'Bonus'], ascending=[False, True])",
   "id": "8c6b41e7abc9f8c9",
   "outputs": [],
   "execution_count": 127
  },
  {
   "metadata": {
    "ExecuteTime": {
     "end_time": "2025-05-05T03:30:53.705082Z",
     "start_time": "2025-05-05T03:30:53.691116Z"
    }
   },
   "cell_type": "code",
   "source": [
    "df2.reset_index(drop=True, inplace=True)\n",
    "df2"
   ],
   "id": "aa6138f74588c254",
   "outputs": [
    {
     "data": {
      "text/plain": [
       "  Employee  Salary Department  Bonus  Adjusted Salary\n",
       "0     Mary    2000         IT  200.0           2100.0\n",
       "1      Sue    4000         IT  400.0           4200.0\n",
       "2     John    1000         HR  100.0           1050.0\n",
       "3      Bob    5000         HR  500.0           5250.0\n",
       "4     Lily    3000    Finance  300.0           3150.0"
      ],
      "text/html": [
       "<div>\n",
       "<style scoped>\n",
       "    .dataframe tbody tr th:only-of-type {\n",
       "        vertical-align: middle;\n",
       "    }\n",
       "\n",
       "    .dataframe tbody tr th {\n",
       "        vertical-align: top;\n",
       "    }\n",
       "\n",
       "    .dataframe thead th {\n",
       "        text-align: right;\n",
       "    }\n",
       "</style>\n",
       "<table border=\"1\" class=\"dataframe\">\n",
       "  <thead>\n",
       "    <tr style=\"text-align: right;\">\n",
       "      <th></th>\n",
       "      <th>Employee</th>\n",
       "      <th>Salary</th>\n",
       "      <th>Department</th>\n",
       "      <th>Bonus</th>\n",
       "      <th>Adjusted Salary</th>\n",
       "    </tr>\n",
       "  </thead>\n",
       "  <tbody>\n",
       "    <tr>\n",
       "      <th>0</th>\n",
       "      <td>Mary</td>\n",
       "      <td>2000</td>\n",
       "      <td>IT</td>\n",
       "      <td>200.0</td>\n",
       "      <td>2100.0</td>\n",
       "    </tr>\n",
       "    <tr>\n",
       "      <th>1</th>\n",
       "      <td>Sue</td>\n",
       "      <td>4000</td>\n",
       "      <td>IT</td>\n",
       "      <td>400.0</td>\n",
       "      <td>4200.0</td>\n",
       "    </tr>\n",
       "    <tr>\n",
       "      <th>2</th>\n",
       "      <td>John</td>\n",
       "      <td>1000</td>\n",
       "      <td>HR</td>\n",
       "      <td>100.0</td>\n",
       "      <td>1050.0</td>\n",
       "    </tr>\n",
       "    <tr>\n",
       "      <th>3</th>\n",
       "      <td>Bob</td>\n",
       "      <td>5000</td>\n",
       "      <td>HR</td>\n",
       "      <td>500.0</td>\n",
       "      <td>5250.0</td>\n",
       "    </tr>\n",
       "    <tr>\n",
       "      <th>4</th>\n",
       "      <td>Lily</td>\n",
       "      <td>3000</td>\n",
       "      <td>Finance</td>\n",
       "      <td>300.0</td>\n",
       "      <td>3150.0</td>\n",
       "    </tr>\n",
       "  </tbody>\n",
       "</table>\n",
       "</div>"
      ]
     },
     "execution_count": 128,
     "metadata": {},
     "output_type": "execute_result"
    }
   ],
   "execution_count": 128
  },
  {
   "metadata": {},
   "cell_type": "markdown",
   "source": "# Grouping and Aggregation",
   "id": "58282ba515f118a9"
  },
  {
   "metadata": {
    "ExecuteTime": {
     "end_time": "2025-05-05T03:30:53.917014Z",
     "start_time": "2025-05-05T03:30:53.912722Z"
    }
   },
   "cell_type": "code",
   "source": "# https://youtu.be/7uIqaMevDvQ?si=00zawEIEmlDkoHZA",
   "id": "fcfa5f15c04d045e",
   "outputs": [],
   "execution_count": 129
  },
  {
   "metadata": {
    "ExecuteTime": {
     "end_time": "2025-05-05T03:30:54.126145Z",
     "start_time": "2025-05-05T03:30:54.121950Z"
    }
   },
   "cell_type": "code",
   "source": [
    "data = {\n",
    "    'Product ID': [1, 2, 3, 4, 5],\n",
    "    'Product Name': ['Apple', 'Banana', 'Apple', 'Mango', 'Banana'],\n",
    "    'Price': [10, 20, 30, 40, 50],\n",
    "    'Quantity': [100, 200, 300, 400, 500]\n",
    "}"
   ],
   "id": "fdb91d70e5a525be",
   "outputs": [],
   "execution_count": 130
  },
  {
   "metadata": {
    "ExecuteTime": {
     "end_time": "2025-05-05T03:30:54.295917Z",
     "start_time": "2025-05-05T03:30:54.286212Z"
    }
   },
   "cell_type": "code",
   "source": [
    "df = pd.DataFrame(data)\n",
    "df"
   ],
   "id": "b4d8419c48eb3916",
   "outputs": [
    {
     "data": {
      "text/plain": [
       "   Product ID Product Name  Price  Quantity\n",
       "0           1        Apple     10       100\n",
       "1           2       Banana     20       200\n",
       "2           3        Apple     30       300\n",
       "3           4        Mango     40       400\n",
       "4           5       Banana     50       500"
      ],
      "text/html": [
       "<div>\n",
       "<style scoped>\n",
       "    .dataframe tbody tr th:only-of-type {\n",
       "        vertical-align: middle;\n",
       "    }\n",
       "\n",
       "    .dataframe tbody tr th {\n",
       "        vertical-align: top;\n",
       "    }\n",
       "\n",
       "    .dataframe thead th {\n",
       "        text-align: right;\n",
       "    }\n",
       "</style>\n",
       "<table border=\"1\" class=\"dataframe\">\n",
       "  <thead>\n",
       "    <tr style=\"text-align: right;\">\n",
       "      <th></th>\n",
       "      <th>Product ID</th>\n",
       "      <th>Product Name</th>\n",
       "      <th>Price</th>\n",
       "      <th>Quantity</th>\n",
       "    </tr>\n",
       "  </thead>\n",
       "  <tbody>\n",
       "    <tr>\n",
       "      <th>0</th>\n",
       "      <td>1</td>\n",
       "      <td>Apple</td>\n",
       "      <td>10</td>\n",
       "      <td>100</td>\n",
       "    </tr>\n",
       "    <tr>\n",
       "      <th>1</th>\n",
       "      <td>2</td>\n",
       "      <td>Banana</td>\n",
       "      <td>20</td>\n",
       "      <td>200</td>\n",
       "    </tr>\n",
       "    <tr>\n",
       "      <th>2</th>\n",
       "      <td>3</td>\n",
       "      <td>Apple</td>\n",
       "      <td>30</td>\n",
       "      <td>300</td>\n",
       "    </tr>\n",
       "    <tr>\n",
       "      <th>3</th>\n",
       "      <td>4</td>\n",
       "      <td>Mango</td>\n",
       "      <td>40</td>\n",
       "      <td>400</td>\n",
       "    </tr>\n",
       "    <tr>\n",
       "      <th>4</th>\n",
       "      <td>5</td>\n",
       "      <td>Banana</td>\n",
       "      <td>50</td>\n",
       "      <td>500</td>\n",
       "    </tr>\n",
       "  </tbody>\n",
       "</table>\n",
       "</div>"
      ]
     },
     "execution_count": 131,
     "metadata": {},
     "output_type": "execute_result"
    }
   ],
   "execution_count": 131
  },
  {
   "metadata": {
    "ExecuteTime": {
     "end_time": "2025-05-05T03:30:54.501875Z",
     "start_time": "2025-05-05T03:30:54.475889Z"
    }
   },
   "cell_type": "code",
   "source": "df.describe().transpose()",
   "id": "d0566dd65f97e6c9",
   "outputs": [
    {
     "data": {
      "text/plain": [
       "            count   mean         std    min    25%    50%    75%    max\n",
       "Product ID    5.0    3.0    1.581139    1.0    2.0    3.0    4.0    5.0\n",
       "Price         5.0   30.0   15.811388   10.0   20.0   30.0   40.0   50.0\n",
       "Quantity      5.0  300.0  158.113883  100.0  200.0  300.0  400.0  500.0"
      ],
      "text/html": [
       "<div>\n",
       "<style scoped>\n",
       "    .dataframe tbody tr th:only-of-type {\n",
       "        vertical-align: middle;\n",
       "    }\n",
       "\n",
       "    .dataframe tbody tr th {\n",
       "        vertical-align: top;\n",
       "    }\n",
       "\n",
       "    .dataframe thead th {\n",
       "        text-align: right;\n",
       "    }\n",
       "</style>\n",
       "<table border=\"1\" class=\"dataframe\">\n",
       "  <thead>\n",
       "    <tr style=\"text-align: right;\">\n",
       "      <th></th>\n",
       "      <th>count</th>\n",
       "      <th>mean</th>\n",
       "      <th>std</th>\n",
       "      <th>min</th>\n",
       "      <th>25%</th>\n",
       "      <th>50%</th>\n",
       "      <th>75%</th>\n",
       "      <th>max</th>\n",
       "    </tr>\n",
       "  </thead>\n",
       "  <tbody>\n",
       "    <tr>\n",
       "      <th>Product ID</th>\n",
       "      <td>5.0</td>\n",
       "      <td>3.0</td>\n",
       "      <td>1.581139</td>\n",
       "      <td>1.0</td>\n",
       "      <td>2.0</td>\n",
       "      <td>3.0</td>\n",
       "      <td>4.0</td>\n",
       "      <td>5.0</td>\n",
       "    </tr>\n",
       "    <tr>\n",
       "      <th>Price</th>\n",
       "      <td>5.0</td>\n",
       "      <td>30.0</td>\n",
       "      <td>15.811388</td>\n",
       "      <td>10.0</td>\n",
       "      <td>20.0</td>\n",
       "      <td>30.0</td>\n",
       "      <td>40.0</td>\n",
       "      <td>50.0</td>\n",
       "    </tr>\n",
       "    <tr>\n",
       "      <th>Quantity</th>\n",
       "      <td>5.0</td>\n",
       "      <td>300.0</td>\n",
       "      <td>158.113883</td>\n",
       "      <td>100.0</td>\n",
       "      <td>200.0</td>\n",
       "      <td>300.0</td>\n",
       "      <td>400.0</td>\n",
       "      <td>500.0</td>\n",
       "    </tr>\n",
       "  </tbody>\n",
       "</table>\n",
       "</div>"
      ]
     },
     "execution_count": 132,
     "metadata": {},
     "output_type": "execute_result"
    }
   ],
   "execution_count": 132
  },
  {
   "metadata": {
    "ExecuteTime": {
     "end_time": "2025-05-05T03:30:54.754292Z",
     "start_time": "2025-05-05T03:30:54.749056Z"
    }
   },
   "cell_type": "code",
   "source": "df['Price'].mean()",
   "id": "c801483e6c64c35f",
   "outputs": [
    {
     "data": {
      "text/plain": [
       "30.0"
      ]
     },
     "execution_count": 133,
     "metadata": {},
     "output_type": "execute_result"
    }
   ],
   "execution_count": 133
  },
  {
   "metadata": {
    "ExecuteTime": {
     "end_time": "2025-05-05T03:30:55.130369Z",
     "start_time": "2025-05-05T03:30:55.124570Z"
    }
   },
   "cell_type": "code",
   "source": "df['Price'].median()",
   "id": "d6872f6861f3442f",
   "outputs": [
    {
     "data": {
      "text/plain": [
       "30.0"
      ]
     },
     "execution_count": 134,
     "metadata": {},
     "output_type": "execute_result"
    }
   ],
   "execution_count": 134
  },
  {
   "metadata": {
    "ExecuteTime": {
     "end_time": "2025-05-05T03:30:55.362148Z",
     "start_time": "2025-05-05T03:30:55.356076Z"
    }
   },
   "cell_type": "code",
   "source": "df['Price'].mode()",
   "id": "a6f0dc864908a9ea",
   "outputs": [
    {
     "data": {
      "text/plain": [
       "0    10\n",
       "1    20\n",
       "2    30\n",
       "3    40\n",
       "4    50\n",
       "Name: Price, dtype: int64"
      ]
     },
     "execution_count": 135,
     "metadata": {},
     "output_type": "execute_result"
    }
   ],
   "execution_count": 135
  },
  {
   "metadata": {
    "ExecuteTime": {
     "end_time": "2025-05-05T03:30:55.555984Z",
     "start_time": "2025-05-05T03:30:55.549987Z"
    }
   },
   "cell_type": "code",
   "source": "df['Price'].std()",
   "id": "4099bdc04b609444",
   "outputs": [
    {
     "data": {
      "text/plain": [
       "15.811388300841896"
      ]
     },
     "execution_count": 136,
     "metadata": {},
     "output_type": "execute_result"
    }
   ],
   "execution_count": 136
  },
  {
   "metadata": {
    "ExecuteTime": {
     "end_time": "2025-05-05T03:30:55.817959Z",
     "start_time": "2025-05-05T03:30:55.812402Z"
    }
   },
   "cell_type": "code",
   "source": "df['Price'].var()",
   "id": "c3858759e149cf97",
   "outputs": [
    {
     "data": {
      "text/plain": [
       "250.0"
      ]
     },
     "execution_count": 137,
     "metadata": {},
     "output_type": "execute_result"
    }
   ],
   "execution_count": 137
  },
  {
   "metadata": {
    "ExecuteTime": {
     "end_time": "2025-05-05T03:30:56.003217Z",
     "start_time": "2025-05-05T03:30:55.997199Z"
    }
   },
   "cell_type": "code",
   "source": "df['Price'].sum()",
   "id": "42b0693f5a05d18",
   "outputs": [
    {
     "data": {
      "text/plain": [
       "150"
      ]
     },
     "execution_count": 138,
     "metadata": {},
     "output_type": "execute_result"
    }
   ],
   "execution_count": 138
  },
  {
   "metadata": {
    "ExecuteTime": {
     "end_time": "2025-05-05T03:30:56.172932Z",
     "start_time": "2025-05-05T03:30:56.166979Z"
    }
   },
   "cell_type": "code",
   "source": "df['Price'].prod()",
   "id": "dabc98e03b585456",
   "outputs": [
    {
     "data": {
      "text/plain": [
       "12000000"
      ]
     },
     "execution_count": 139,
     "metadata": {},
     "output_type": "execute_result"
    }
   ],
   "execution_count": 139
  },
  {
   "metadata": {
    "ExecuteTime": {
     "end_time": "2025-05-05T03:30:56.324553Z",
     "start_time": "2025-05-05T03:30:56.315489Z"
    }
   },
   "cell_type": "code",
   "source": "df",
   "id": "a92b87bf90fe6fa5",
   "outputs": [
    {
     "data": {
      "text/plain": [
       "   Product ID Product Name  Price  Quantity\n",
       "0           1        Apple     10       100\n",
       "1           2       Banana     20       200\n",
       "2           3        Apple     30       300\n",
       "3           4        Mango     40       400\n",
       "4           5       Banana     50       500"
      ],
      "text/html": [
       "<div>\n",
       "<style scoped>\n",
       "    .dataframe tbody tr th:only-of-type {\n",
       "        vertical-align: middle;\n",
       "    }\n",
       "\n",
       "    .dataframe tbody tr th {\n",
       "        vertical-align: top;\n",
       "    }\n",
       "\n",
       "    .dataframe thead th {\n",
       "        text-align: right;\n",
       "    }\n",
       "</style>\n",
       "<table border=\"1\" class=\"dataframe\">\n",
       "  <thead>\n",
       "    <tr style=\"text-align: right;\">\n",
       "      <th></th>\n",
       "      <th>Product ID</th>\n",
       "      <th>Product Name</th>\n",
       "      <th>Price</th>\n",
       "      <th>Quantity</th>\n",
       "    </tr>\n",
       "  </thead>\n",
       "  <tbody>\n",
       "    <tr>\n",
       "      <th>0</th>\n",
       "      <td>1</td>\n",
       "      <td>Apple</td>\n",
       "      <td>10</td>\n",
       "      <td>100</td>\n",
       "    </tr>\n",
       "    <tr>\n",
       "      <th>1</th>\n",
       "      <td>2</td>\n",
       "      <td>Banana</td>\n",
       "      <td>20</td>\n",
       "      <td>200</td>\n",
       "    </tr>\n",
       "    <tr>\n",
       "      <th>2</th>\n",
       "      <td>3</td>\n",
       "      <td>Apple</td>\n",
       "      <td>30</td>\n",
       "      <td>300</td>\n",
       "    </tr>\n",
       "    <tr>\n",
       "      <th>3</th>\n",
       "      <td>4</td>\n",
       "      <td>Mango</td>\n",
       "      <td>40</td>\n",
       "      <td>400</td>\n",
       "    </tr>\n",
       "    <tr>\n",
       "      <th>4</th>\n",
       "      <td>5</td>\n",
       "      <td>Banana</td>\n",
       "      <td>50</td>\n",
       "      <td>500</td>\n",
       "    </tr>\n",
       "  </tbody>\n",
       "</table>\n",
       "</div>"
      ]
     },
     "execution_count": 140,
     "metadata": {},
     "output_type": "execute_result"
    }
   ],
   "execution_count": 140
  },
  {
   "metadata": {
    "ExecuteTime": {
     "end_time": "2025-05-05T03:30:56.473045Z",
     "start_time": "2025-05-05T03:30:56.467254Z"
    }
   },
   "cell_type": "code",
   "source": [
    "gr = df.groupby('Product Name')\n",
    "gr"
   ],
   "id": "dcad776e9d362ca8",
   "outputs": [
    {
     "data": {
      "text/plain": [
       "<pandas.core.groupby.generic.DataFrameGroupBy object at 0x14f576f60>"
      ]
     },
     "execution_count": 141,
     "metadata": {},
     "output_type": "execute_result"
    }
   ],
   "execution_count": 141
  },
  {
   "metadata": {
    "ExecuteTime": {
     "end_time": "2025-05-05T03:30:56.703272Z",
     "start_time": "2025-05-05T03:30:56.696556Z"
    }
   },
   "cell_type": "code",
   "source": "gr['Quantity'].mean()",
   "id": "44100b67cc3ced71",
   "outputs": [
    {
     "data": {
      "text/plain": [
       "Product Name\n",
       "Apple     200.0\n",
       "Banana    350.0\n",
       "Mango     400.0\n",
       "Name: Quantity, dtype: float64"
      ]
     },
     "execution_count": 142,
     "metadata": {},
     "output_type": "execute_result"
    }
   ],
   "execution_count": 142
  },
  {
   "metadata": {
    "ExecuteTime": {
     "end_time": "2025-05-05T03:30:56.902386Z",
     "start_time": "2025-05-05T03:30:56.896390Z"
    }
   },
   "cell_type": "code",
   "source": "gr['Price'].sum()",
   "id": "f6f25051aa359d6c",
   "outputs": [
    {
     "data": {
      "text/plain": [
       "Product Name\n",
       "Apple     40\n",
       "Banana    70\n",
       "Mango     40\n",
       "Name: Price, dtype: int64"
      ]
     },
     "execution_count": 143,
     "metadata": {},
     "output_type": "execute_result"
    }
   ],
   "execution_count": 143
  },
  {
   "metadata": {
    "ExecuteTime": {
     "end_time": "2025-05-05T03:30:57.262421Z",
     "start_time": "2025-05-05T03:30:57.250138Z"
    }
   },
   "cell_type": "code",
   "source": "gr['Price'].agg(['mean', 'median', 'sum'])",
   "id": "926b1245b80e390f",
   "outputs": [
    {
     "data": {
      "text/plain": [
       "              mean  median  sum\n",
       "Product Name                   \n",
       "Apple         20.0    20.0   40\n",
       "Banana        35.0    35.0   70\n",
       "Mango         40.0    40.0   40"
      ],
      "text/html": [
       "<div>\n",
       "<style scoped>\n",
       "    .dataframe tbody tr th:only-of-type {\n",
       "        vertical-align: middle;\n",
       "    }\n",
       "\n",
       "    .dataframe tbody tr th {\n",
       "        vertical-align: top;\n",
       "    }\n",
       "\n",
       "    .dataframe thead th {\n",
       "        text-align: right;\n",
       "    }\n",
       "</style>\n",
       "<table border=\"1\" class=\"dataframe\">\n",
       "  <thead>\n",
       "    <tr style=\"text-align: right;\">\n",
       "      <th></th>\n",
       "      <th>mean</th>\n",
       "      <th>median</th>\n",
       "      <th>sum</th>\n",
       "    </tr>\n",
       "    <tr>\n",
       "      <th>Product Name</th>\n",
       "      <th></th>\n",
       "      <th></th>\n",
       "      <th></th>\n",
       "    </tr>\n",
       "  </thead>\n",
       "  <tbody>\n",
       "    <tr>\n",
       "      <th>Apple</th>\n",
       "      <td>20.0</td>\n",
       "      <td>20.0</td>\n",
       "      <td>40</td>\n",
       "    </tr>\n",
       "    <tr>\n",
       "      <th>Banana</th>\n",
       "      <td>35.0</td>\n",
       "      <td>35.0</td>\n",
       "      <td>70</td>\n",
       "    </tr>\n",
       "    <tr>\n",
       "      <th>Mango</th>\n",
       "      <td>40.0</td>\n",
       "      <td>40.0</td>\n",
       "      <td>40</td>\n",
       "    </tr>\n",
       "  </tbody>\n",
       "</table>\n",
       "</div>"
      ]
     },
     "execution_count": 144,
     "metadata": {},
     "output_type": "execute_result"
    }
   ],
   "execution_count": 144
  },
  {
   "metadata": {
    "ExecuteTime": {
     "end_time": "2025-05-05T03:30:57.609349Z",
     "start_time": "2025-05-05T03:30:57.604893Z"
    }
   },
   "cell_type": "code",
   "source": "gr_multi = df.groupby(['Product Name', 'Price'])",
   "id": "df1cad17b19c3937",
   "outputs": [],
   "execution_count": 145
  },
  {
   "metadata": {
    "ExecuteTime": {
     "end_time": "2025-05-05T03:30:57.895653Z",
     "start_time": "2025-05-05T03:30:57.887851Z"
    }
   },
   "cell_type": "code",
   "source": "gr_multi['Quantity'].sum()",
   "id": "7e98ca790085961f",
   "outputs": [
    {
     "data": {
      "text/plain": [
       "Product Name  Price\n",
       "Apple         10       100\n",
       "              30       300\n",
       "Banana        20       200\n",
       "              50       500\n",
       "Mango         40       400\n",
       "Name: Quantity, dtype: int64"
      ]
     },
     "execution_count": 146,
     "metadata": {},
     "output_type": "execute_result"
    }
   ],
   "execution_count": 146
  },
  {
   "metadata": {
    "ExecuteTime": {
     "end_time": "2025-05-05T03:30:58.065619Z",
     "start_time": "2025-05-05T03:30:58.050813Z"
    }
   },
   "cell_type": "code",
   "source": "gr.agg({'Quantity': ['sum', 'mean', 'max'], 'Price': 'sum'})",
   "id": "c031299bf9f97bde",
   "outputs": [
    {
     "data": {
      "text/plain": [
       "             Quantity             Price\n",
       "                  sum   mean  max   sum\n",
       "Product Name                           \n",
       "Apple             400  200.0  300    40\n",
       "Banana            700  350.0  500    70\n",
       "Mango             400  400.0  400    40"
      ],
      "text/html": [
       "<div>\n",
       "<style scoped>\n",
       "    .dataframe tbody tr th:only-of-type {\n",
       "        vertical-align: middle;\n",
       "    }\n",
       "\n",
       "    .dataframe tbody tr th {\n",
       "        vertical-align: top;\n",
       "    }\n",
       "\n",
       "    .dataframe thead tr th {\n",
       "        text-align: left;\n",
       "    }\n",
       "\n",
       "    .dataframe thead tr:last-of-type th {\n",
       "        text-align: right;\n",
       "    }\n",
       "</style>\n",
       "<table border=\"1\" class=\"dataframe\">\n",
       "  <thead>\n",
       "    <tr>\n",
       "      <th></th>\n",
       "      <th colspan=\"3\" halign=\"left\">Quantity</th>\n",
       "      <th>Price</th>\n",
       "    </tr>\n",
       "    <tr>\n",
       "      <th></th>\n",
       "      <th>sum</th>\n",
       "      <th>mean</th>\n",
       "      <th>max</th>\n",
       "      <th>sum</th>\n",
       "    </tr>\n",
       "    <tr>\n",
       "      <th>Product Name</th>\n",
       "      <th></th>\n",
       "      <th></th>\n",
       "      <th></th>\n",
       "      <th></th>\n",
       "    </tr>\n",
       "  </thead>\n",
       "  <tbody>\n",
       "    <tr>\n",
       "      <th>Apple</th>\n",
       "      <td>400</td>\n",
       "      <td>200.0</td>\n",
       "      <td>300</td>\n",
       "      <td>40</td>\n",
       "    </tr>\n",
       "    <tr>\n",
       "      <th>Banana</th>\n",
       "      <td>700</td>\n",
       "      <td>350.0</td>\n",
       "      <td>500</td>\n",
       "      <td>70</td>\n",
       "    </tr>\n",
       "    <tr>\n",
       "      <th>Mango</th>\n",
       "      <td>400</td>\n",
       "      <td>400.0</td>\n",
       "      <td>400</td>\n",
       "      <td>40</td>\n",
       "    </tr>\n",
       "  </tbody>\n",
       "</table>\n",
       "</div>"
      ]
     },
     "execution_count": 147,
     "metadata": {},
     "output_type": "execute_result"
    }
   ],
   "execution_count": 147
  },
  {
   "metadata": {
    "ExecuteTime": {
     "end_time": "2025-05-05T03:30:58.406957Z",
     "start_time": "2025-05-05T03:30:58.403344Z"
    }
   },
   "cell_type": "code",
   "source": [
    "def data_range(x):\n",
    "    return x.max() - x.min()"
   ],
   "id": "eb655c4e717171d6",
   "outputs": [],
   "execution_count": 148
  },
  {
   "metadata": {
    "ExecuteTime": {
     "end_time": "2025-05-05T03:30:58.595407Z",
     "start_time": "2025-05-05T03:30:58.588324Z"
    }
   },
   "cell_type": "code",
   "source": "gr['Quantity'].apply(data_range)",
   "id": "b35c35297bfc6b9e",
   "outputs": [
    {
     "data": {
      "text/plain": [
       "Product Name\n",
       "Apple     200\n",
       "Banana    300\n",
       "Mango       0\n",
       "Name: Quantity, dtype: int64"
      ]
     },
     "execution_count": 149,
     "metadata": {},
     "output_type": "execute_result"
    }
   ],
   "execution_count": 149
  },
  {
   "metadata": {},
   "cell_type": "markdown",
   "source": "# Join, Merge & Concatenate",
   "id": "c8cbcc1789972b1b"
  },
  {
   "metadata": {
    "ExecuteTime": {
     "end_time": "2025-05-05T03:30:58.978027Z",
     "start_time": "2025-05-05T03:30:58.974197Z"
    }
   },
   "cell_type": "code",
   "source": "# https://youtu.be/0XYIWsNPXNc?si=xAhWYTaspiL0f26a",
   "id": "3901f20148edd320",
   "outputs": [],
   "execution_count": 150
  },
  {
   "metadata": {
    "ExecuteTime": {
     "end_time": "2025-05-05T03:36:14.454129Z",
     "start_time": "2025-05-05T03:36:14.448235Z"
    }
   },
   "cell_type": "code",
   "source": [
    "sales_jan = pd.DataFrame({\n",
    "    'Product': ['Apple', 'Banana', 'Apple', 'Mango', 'Banana'],\n",
    "    'Sales': [100, 70, 60, 80, 100]\n",
    "}, index=['a', 'b', 'c', 'd', 'e'])\n",
    "\n",
    "sales_feb = pd.DataFrame({\n",
    "    'Product': ['Apple', 'Banana', 'Apple', 'Mango', 'Banana'],\n",
    "    'Sales': [300, 50, 80, 30, 60]\n",
    "}, index=['f', 'g', 'h', 'i', 'j'])\n",
    "\n",
    "sales_mar = pd.DataFrame({\n",
    "    'Product': ['Apple', 'Banana', 'Apple', 'Mango', 'Banana'],\n",
    "    'Sales': [70, 60, 30, 80, 50]\n",
    "}, index=['k', 'l', 'm', 'n', 'o'])"
   ],
   "id": "a44db594123b64d3",
   "outputs": [],
   "execution_count": 169
  },
  {
   "metadata": {},
   "cell_type": "code",
   "source": "sales_jan",
   "id": "e56a7335dc54d6d",
   "execution_count": null,
   "outputs": []
  },
  {
   "metadata": {},
   "cell_type": "code",
   "source": "sales_feb",
   "id": "bf178b541a42dfc9",
   "execution_count": null,
   "outputs": []
  },
  {
   "metadata": {
    "ExecuteTime": {
     "end_time": "2025-05-05T03:39:10.275961Z",
     "start_time": "2025-05-05T03:39:10.264151Z"
    }
   },
   "cell_type": "code",
   "source": "pd.concat([sales_jan, sales_feb, sales_mar])",
   "id": "ed5e02648dfd9446",
   "outputs": [
    {
     "data": {
      "text/plain": [
       "  Product  Sales\n",
       "a   Apple    100\n",
       "b  Banana     70\n",
       "c   Apple     60\n",
       "d   Mango     80\n",
       "e  Banana    100\n",
       "f   Apple    300\n",
       "g  Banana     50\n",
       "h   Apple     80\n",
       "i   Mango     30\n",
       "j  Banana     60\n",
       "k   Apple     70\n",
       "l  Banana     60\n",
       "m   Apple     30\n",
       "n   Mango     80\n",
       "o  Banana     50"
      ],
      "text/html": [
       "<div>\n",
       "<style scoped>\n",
       "    .dataframe tbody tr th:only-of-type {\n",
       "        vertical-align: middle;\n",
       "    }\n",
       "\n",
       "    .dataframe tbody tr th {\n",
       "        vertical-align: top;\n",
       "    }\n",
       "\n",
       "    .dataframe thead th {\n",
       "        text-align: right;\n",
       "    }\n",
       "</style>\n",
       "<table border=\"1\" class=\"dataframe\">\n",
       "  <thead>\n",
       "    <tr style=\"text-align: right;\">\n",
       "      <th></th>\n",
       "      <th>Product</th>\n",
       "      <th>Sales</th>\n",
       "    </tr>\n",
       "  </thead>\n",
       "  <tbody>\n",
       "    <tr>\n",
       "      <th>a</th>\n",
       "      <td>Apple</td>\n",
       "      <td>100</td>\n",
       "    </tr>\n",
       "    <tr>\n",
       "      <th>b</th>\n",
       "      <td>Banana</td>\n",
       "      <td>70</td>\n",
       "    </tr>\n",
       "    <tr>\n",
       "      <th>c</th>\n",
       "      <td>Apple</td>\n",
       "      <td>60</td>\n",
       "    </tr>\n",
       "    <tr>\n",
       "      <th>d</th>\n",
       "      <td>Mango</td>\n",
       "      <td>80</td>\n",
       "    </tr>\n",
       "    <tr>\n",
       "      <th>e</th>\n",
       "      <td>Banana</td>\n",
       "      <td>100</td>\n",
       "    </tr>\n",
       "    <tr>\n",
       "      <th>f</th>\n",
       "      <td>Apple</td>\n",
       "      <td>300</td>\n",
       "    </tr>\n",
       "    <tr>\n",
       "      <th>g</th>\n",
       "      <td>Banana</td>\n",
       "      <td>50</td>\n",
       "    </tr>\n",
       "    <tr>\n",
       "      <th>h</th>\n",
       "      <td>Apple</td>\n",
       "      <td>80</td>\n",
       "    </tr>\n",
       "    <tr>\n",
       "      <th>i</th>\n",
       "      <td>Mango</td>\n",
       "      <td>30</td>\n",
       "    </tr>\n",
       "    <tr>\n",
       "      <th>j</th>\n",
       "      <td>Banana</td>\n",
       "      <td>60</td>\n",
       "    </tr>\n",
       "    <tr>\n",
       "      <th>k</th>\n",
       "      <td>Apple</td>\n",
       "      <td>70</td>\n",
       "    </tr>\n",
       "    <tr>\n",
       "      <th>l</th>\n",
       "      <td>Banana</td>\n",
       "      <td>60</td>\n",
       "    </tr>\n",
       "    <tr>\n",
       "      <th>m</th>\n",
       "      <td>Apple</td>\n",
       "      <td>30</td>\n",
       "    </tr>\n",
       "    <tr>\n",
       "      <th>n</th>\n",
       "      <td>Mango</td>\n",
       "      <td>80</td>\n",
       "    </tr>\n",
       "    <tr>\n",
       "      <th>o</th>\n",
       "      <td>Banana</td>\n",
       "      <td>50</td>\n",
       "    </tr>\n",
       "  </tbody>\n",
       "</table>\n",
       "</div>"
      ]
     },
     "execution_count": 172,
     "metadata": {},
     "output_type": "execute_result"
    }
   ],
   "execution_count": 172
  },
  {
   "metadata": {
    "ExecuteTime": {
     "end_time": "2025-05-05T03:39:37.153346Z",
     "start_time": "2025-05-05T03:39:37.127142Z"
    }
   },
   "cell_type": "code",
   "source": "pd.concat([sales_jan, sales_feb, sales_mar], axis=1)",
   "id": "c451fbd4f1962f9f",
   "outputs": [
    {
     "data": {
      "text/plain": [
       "  Product  Sales Product  Sales Product  Sales\n",
       "a   Apple  100.0     NaN    NaN     NaN    NaN\n",
       "b  Banana   70.0     NaN    NaN     NaN    NaN\n",
       "c   Apple   60.0     NaN    NaN     NaN    NaN\n",
       "d   Mango   80.0     NaN    NaN     NaN    NaN\n",
       "e  Banana  100.0     NaN    NaN     NaN    NaN\n",
       "f     NaN    NaN   Apple  300.0     NaN    NaN\n",
       "g     NaN    NaN  Banana   50.0     NaN    NaN\n",
       "h     NaN    NaN   Apple   80.0     NaN    NaN\n",
       "i     NaN    NaN   Mango   30.0     NaN    NaN\n",
       "j     NaN    NaN  Banana   60.0     NaN    NaN\n",
       "k     NaN    NaN     NaN    NaN   Apple   70.0\n",
       "l     NaN    NaN     NaN    NaN  Banana   60.0\n",
       "m     NaN    NaN     NaN    NaN   Apple   30.0\n",
       "n     NaN    NaN     NaN    NaN   Mango   80.0\n",
       "o     NaN    NaN     NaN    NaN  Banana   50.0"
      ],
      "text/html": [
       "<div>\n",
       "<style scoped>\n",
       "    .dataframe tbody tr th:only-of-type {\n",
       "        vertical-align: middle;\n",
       "    }\n",
       "\n",
       "    .dataframe tbody tr th {\n",
       "        vertical-align: top;\n",
       "    }\n",
       "\n",
       "    .dataframe thead th {\n",
       "        text-align: right;\n",
       "    }\n",
       "</style>\n",
       "<table border=\"1\" class=\"dataframe\">\n",
       "  <thead>\n",
       "    <tr style=\"text-align: right;\">\n",
       "      <th></th>\n",
       "      <th>Product</th>\n",
       "      <th>Sales</th>\n",
       "      <th>Product</th>\n",
       "      <th>Sales</th>\n",
       "      <th>Product</th>\n",
       "      <th>Sales</th>\n",
       "    </tr>\n",
       "  </thead>\n",
       "  <tbody>\n",
       "    <tr>\n",
       "      <th>a</th>\n",
       "      <td>Apple</td>\n",
       "      <td>100.0</td>\n",
       "      <td>NaN</td>\n",
       "      <td>NaN</td>\n",
       "      <td>NaN</td>\n",
       "      <td>NaN</td>\n",
       "    </tr>\n",
       "    <tr>\n",
       "      <th>b</th>\n",
       "      <td>Banana</td>\n",
       "      <td>70.0</td>\n",
       "      <td>NaN</td>\n",
       "      <td>NaN</td>\n",
       "      <td>NaN</td>\n",
       "      <td>NaN</td>\n",
       "    </tr>\n",
       "    <tr>\n",
       "      <th>c</th>\n",
       "      <td>Apple</td>\n",
       "      <td>60.0</td>\n",
       "      <td>NaN</td>\n",
       "      <td>NaN</td>\n",
       "      <td>NaN</td>\n",
       "      <td>NaN</td>\n",
       "    </tr>\n",
       "    <tr>\n",
       "      <th>d</th>\n",
       "      <td>Mango</td>\n",
       "      <td>80.0</td>\n",
       "      <td>NaN</td>\n",
       "      <td>NaN</td>\n",
       "      <td>NaN</td>\n",
       "      <td>NaN</td>\n",
       "    </tr>\n",
       "    <tr>\n",
       "      <th>e</th>\n",
       "      <td>Banana</td>\n",
       "      <td>100.0</td>\n",
       "      <td>NaN</td>\n",
       "      <td>NaN</td>\n",
       "      <td>NaN</td>\n",
       "      <td>NaN</td>\n",
       "    </tr>\n",
       "    <tr>\n",
       "      <th>f</th>\n",
       "      <td>NaN</td>\n",
       "      <td>NaN</td>\n",
       "      <td>Apple</td>\n",
       "      <td>300.0</td>\n",
       "      <td>NaN</td>\n",
       "      <td>NaN</td>\n",
       "    </tr>\n",
       "    <tr>\n",
       "      <th>g</th>\n",
       "      <td>NaN</td>\n",
       "      <td>NaN</td>\n",
       "      <td>Banana</td>\n",
       "      <td>50.0</td>\n",
       "      <td>NaN</td>\n",
       "      <td>NaN</td>\n",
       "    </tr>\n",
       "    <tr>\n",
       "      <th>h</th>\n",
       "      <td>NaN</td>\n",
       "      <td>NaN</td>\n",
       "      <td>Apple</td>\n",
       "      <td>80.0</td>\n",
       "      <td>NaN</td>\n",
       "      <td>NaN</td>\n",
       "    </tr>\n",
       "    <tr>\n",
       "      <th>i</th>\n",
       "      <td>NaN</td>\n",
       "      <td>NaN</td>\n",
       "      <td>Mango</td>\n",
       "      <td>30.0</td>\n",
       "      <td>NaN</td>\n",
       "      <td>NaN</td>\n",
       "    </tr>\n",
       "    <tr>\n",
       "      <th>j</th>\n",
       "      <td>NaN</td>\n",
       "      <td>NaN</td>\n",
       "      <td>Banana</td>\n",
       "      <td>60.0</td>\n",
       "      <td>NaN</td>\n",
       "      <td>NaN</td>\n",
       "    </tr>\n",
       "    <tr>\n",
       "      <th>k</th>\n",
       "      <td>NaN</td>\n",
       "      <td>NaN</td>\n",
       "      <td>NaN</td>\n",
       "      <td>NaN</td>\n",
       "      <td>Apple</td>\n",
       "      <td>70.0</td>\n",
       "    </tr>\n",
       "    <tr>\n",
       "      <th>l</th>\n",
       "      <td>NaN</td>\n",
       "      <td>NaN</td>\n",
       "      <td>NaN</td>\n",
       "      <td>NaN</td>\n",
       "      <td>Banana</td>\n",
       "      <td>60.0</td>\n",
       "    </tr>\n",
       "    <tr>\n",
       "      <th>m</th>\n",
       "      <td>NaN</td>\n",
       "      <td>NaN</td>\n",
       "      <td>NaN</td>\n",
       "      <td>NaN</td>\n",
       "      <td>Apple</td>\n",
       "      <td>30.0</td>\n",
       "    </tr>\n",
       "    <tr>\n",
       "      <th>n</th>\n",
       "      <td>NaN</td>\n",
       "      <td>NaN</td>\n",
       "      <td>NaN</td>\n",
       "      <td>NaN</td>\n",
       "      <td>Mango</td>\n",
       "      <td>80.0</td>\n",
       "    </tr>\n",
       "    <tr>\n",
       "      <th>o</th>\n",
       "      <td>NaN</td>\n",
       "      <td>NaN</td>\n",
       "      <td>NaN</td>\n",
       "      <td>NaN</td>\n",
       "      <td>Banana</td>\n",
       "      <td>50.0</td>\n",
       "    </tr>\n",
       "  </tbody>\n",
       "</table>\n",
       "</div>"
      ]
     },
     "execution_count": 173,
     "metadata": {},
     "output_type": "execute_result"
    }
   ],
   "execution_count": 173
  },
  {
   "metadata": {
    "ExecuteTime": {
     "end_time": "2025-05-05T03:52:04.654783Z",
     "start_time": "2025-05-05T03:52:04.650666Z"
    }
   },
   "cell_type": "code",
   "source": [
    "customers = pd.DataFrame({\n",
    "    'Customer ID': ['A', 'B', 'C', 'D', 'E'],\n",
    "    'Customer Name': ['John', 'Mary', 'Lily', 'Sue', 'Bob'],\n",
    "    'City': ['New York', 'Paris', 'London', 'Tokyo', 'Berlin']\n",
    "})"
   ],
   "id": "cf11f94bb21459d3",
   "outputs": [],
   "execution_count": 179
  },
  {
   "metadata": {
    "ExecuteTime": {
     "end_time": "2025-05-05T03:52:05.609522Z",
     "start_time": "2025-05-05T03:52:05.605161Z"
    }
   },
   "cell_type": "code",
   "source": [
    "purchases = pd.DataFrame({\n",
    "    'Customer ID': ['A', 'B', 'C'],\n",
    "    'Product': ['Apple', 'Banana', 'Mango'],\n",
    "    'Quantity': [10, 20, 30],\n",
    "    'City': ['New York', 'Paris', 'Tokyo']\n",
    "})"
   ],
   "id": "95c70967a845d497",
   "outputs": [],
   "execution_count": 180
  },
  {
   "metadata": {
    "ExecuteTime": {
     "end_time": "2025-05-05T03:52:06.245649Z",
     "start_time": "2025-05-05T03:52:06.232149Z"
    }
   },
   "cell_type": "code",
   "source": "pd.merge(customers, purchases, on='Customer ID') # inner join",
   "id": "2b42edb3155f60c0",
   "outputs": [
    {
     "data": {
      "text/plain": [
       "  Customer ID Customer Name    City_x Product  Quantity    City_y\n",
       "0           A          John  New York   Apple        10  New York\n",
       "1           B          Mary     Paris  Banana        20     Paris\n",
       "2           C          Lily    London   Mango        30     Tokyo"
      ],
      "text/html": [
       "<div>\n",
       "<style scoped>\n",
       "    .dataframe tbody tr th:only-of-type {\n",
       "        vertical-align: middle;\n",
       "    }\n",
       "\n",
       "    .dataframe tbody tr th {\n",
       "        vertical-align: top;\n",
       "    }\n",
       "\n",
       "    .dataframe thead th {\n",
       "        text-align: right;\n",
       "    }\n",
       "</style>\n",
       "<table border=\"1\" class=\"dataframe\">\n",
       "  <thead>\n",
       "    <tr style=\"text-align: right;\">\n",
       "      <th></th>\n",
       "      <th>Customer ID</th>\n",
       "      <th>Customer Name</th>\n",
       "      <th>City_x</th>\n",
       "      <th>Product</th>\n",
       "      <th>Quantity</th>\n",
       "      <th>City_y</th>\n",
       "    </tr>\n",
       "  </thead>\n",
       "  <tbody>\n",
       "    <tr>\n",
       "      <th>0</th>\n",
       "      <td>A</td>\n",
       "      <td>John</td>\n",
       "      <td>New York</td>\n",
       "      <td>Apple</td>\n",
       "      <td>10</td>\n",
       "      <td>New York</td>\n",
       "    </tr>\n",
       "    <tr>\n",
       "      <th>1</th>\n",
       "      <td>B</td>\n",
       "      <td>Mary</td>\n",
       "      <td>Paris</td>\n",
       "      <td>Banana</td>\n",
       "      <td>20</td>\n",
       "      <td>Paris</td>\n",
       "    </tr>\n",
       "    <tr>\n",
       "      <th>2</th>\n",
       "      <td>C</td>\n",
       "      <td>Lily</td>\n",
       "      <td>London</td>\n",
       "      <td>Mango</td>\n",
       "      <td>30</td>\n",
       "      <td>Tokyo</td>\n",
       "    </tr>\n",
       "  </tbody>\n",
       "</table>\n",
       "</div>"
      ]
     },
     "execution_count": 181,
     "metadata": {},
     "output_type": "execute_result"
    }
   ],
   "execution_count": 181
  },
  {
   "metadata": {
    "ExecuteTime": {
     "end_time": "2025-05-05T03:52:10.299285Z",
     "start_time": "2025-05-05T03:52:10.284937Z"
    }
   },
   "cell_type": "code",
   "source": "pd.merge(customers, purchases, how='outer', on='Customer ID')",
   "id": "8103f6381a34aac0",
   "outputs": [
    {
     "data": {
      "text/plain": [
       "  Customer ID Customer Name    City_x Product  Quantity    City_y\n",
       "0           A          John  New York   Apple      10.0  New York\n",
       "1           B          Mary     Paris  Banana      20.0     Paris\n",
       "2           C          Lily    London   Mango      30.0     Tokyo\n",
       "3           D           Sue     Tokyo     NaN       NaN       NaN\n",
       "4           E           Bob    Berlin     NaN       NaN       NaN"
      ],
      "text/html": [
       "<div>\n",
       "<style scoped>\n",
       "    .dataframe tbody tr th:only-of-type {\n",
       "        vertical-align: middle;\n",
       "    }\n",
       "\n",
       "    .dataframe tbody tr th {\n",
       "        vertical-align: top;\n",
       "    }\n",
       "\n",
       "    .dataframe thead th {\n",
       "        text-align: right;\n",
       "    }\n",
       "</style>\n",
       "<table border=\"1\" class=\"dataframe\">\n",
       "  <thead>\n",
       "    <tr style=\"text-align: right;\">\n",
       "      <th></th>\n",
       "      <th>Customer ID</th>\n",
       "      <th>Customer Name</th>\n",
       "      <th>City_x</th>\n",
       "      <th>Product</th>\n",
       "      <th>Quantity</th>\n",
       "      <th>City_y</th>\n",
       "    </tr>\n",
       "  </thead>\n",
       "  <tbody>\n",
       "    <tr>\n",
       "      <th>0</th>\n",
       "      <td>A</td>\n",
       "      <td>John</td>\n",
       "      <td>New York</td>\n",
       "      <td>Apple</td>\n",
       "      <td>10.0</td>\n",
       "      <td>New York</td>\n",
       "    </tr>\n",
       "    <tr>\n",
       "      <th>1</th>\n",
       "      <td>B</td>\n",
       "      <td>Mary</td>\n",
       "      <td>Paris</td>\n",
       "      <td>Banana</td>\n",
       "      <td>20.0</td>\n",
       "      <td>Paris</td>\n",
       "    </tr>\n",
       "    <tr>\n",
       "      <th>2</th>\n",
       "      <td>C</td>\n",
       "      <td>Lily</td>\n",
       "      <td>London</td>\n",
       "      <td>Mango</td>\n",
       "      <td>30.0</td>\n",
       "      <td>Tokyo</td>\n",
       "    </tr>\n",
       "    <tr>\n",
       "      <th>3</th>\n",
       "      <td>D</td>\n",
       "      <td>Sue</td>\n",
       "      <td>Tokyo</td>\n",
       "      <td>NaN</td>\n",
       "      <td>NaN</td>\n",
       "      <td>NaN</td>\n",
       "    </tr>\n",
       "    <tr>\n",
       "      <th>4</th>\n",
       "      <td>E</td>\n",
       "      <td>Bob</td>\n",
       "      <td>Berlin</td>\n",
       "      <td>NaN</td>\n",
       "      <td>NaN</td>\n",
       "      <td>NaN</td>\n",
       "    </tr>\n",
       "  </tbody>\n",
       "</table>\n",
       "</div>"
      ]
     },
     "execution_count": 182,
     "metadata": {},
     "output_type": "execute_result"
    }
   ],
   "execution_count": 182
  },
  {
   "metadata": {
    "ExecuteTime": {
     "end_time": "2025-05-05T03:52:59.666975Z",
     "start_time": "2025-05-05T03:52:59.647852Z"
    }
   },
   "cell_type": "code",
   "source": "pd.merge(customers, purchases, how='left', on=['Customer ID', 'City'])",
   "id": "250033b817e95378",
   "outputs": [
    {
     "data": {
      "text/plain": [
       "  Customer ID Customer Name      City Product  Quantity\n",
       "0           A          John  New York   Apple      10.0\n",
       "1           B          Mary     Paris  Banana      20.0\n",
       "2           C          Lily    London     NaN       NaN\n",
       "3           D           Sue     Tokyo     NaN       NaN\n",
       "4           E           Bob    Berlin     NaN       NaN"
      ],
      "text/html": [
       "<div>\n",
       "<style scoped>\n",
       "    .dataframe tbody tr th:only-of-type {\n",
       "        vertical-align: middle;\n",
       "    }\n",
       "\n",
       "    .dataframe tbody tr th {\n",
       "        vertical-align: top;\n",
       "    }\n",
       "\n",
       "    .dataframe thead th {\n",
       "        text-align: right;\n",
       "    }\n",
       "</style>\n",
       "<table border=\"1\" class=\"dataframe\">\n",
       "  <thead>\n",
       "    <tr style=\"text-align: right;\">\n",
       "      <th></th>\n",
       "      <th>Customer ID</th>\n",
       "      <th>Customer Name</th>\n",
       "      <th>City</th>\n",
       "      <th>Product</th>\n",
       "      <th>Quantity</th>\n",
       "    </tr>\n",
       "  </thead>\n",
       "  <tbody>\n",
       "    <tr>\n",
       "      <th>0</th>\n",
       "      <td>A</td>\n",
       "      <td>John</td>\n",
       "      <td>New York</td>\n",
       "      <td>Apple</td>\n",
       "      <td>10.0</td>\n",
       "    </tr>\n",
       "    <tr>\n",
       "      <th>1</th>\n",
       "      <td>B</td>\n",
       "      <td>Mary</td>\n",
       "      <td>Paris</td>\n",
       "      <td>Banana</td>\n",
       "      <td>20.0</td>\n",
       "    </tr>\n",
       "    <tr>\n",
       "      <th>2</th>\n",
       "      <td>C</td>\n",
       "      <td>Lily</td>\n",
       "      <td>London</td>\n",
       "      <td>NaN</td>\n",
       "      <td>NaN</td>\n",
       "    </tr>\n",
       "    <tr>\n",
       "      <th>3</th>\n",
       "      <td>D</td>\n",
       "      <td>Sue</td>\n",
       "      <td>Tokyo</td>\n",
       "      <td>NaN</td>\n",
       "      <td>NaN</td>\n",
       "    </tr>\n",
       "    <tr>\n",
       "      <th>4</th>\n",
       "      <td>E</td>\n",
       "      <td>Bob</td>\n",
       "      <td>Berlin</td>\n",
       "      <td>NaN</td>\n",
       "      <td>NaN</td>\n",
       "    </tr>\n",
       "  </tbody>\n",
       "</table>\n",
       "</div>"
      ]
     },
     "execution_count": 183,
     "metadata": {},
     "output_type": "execute_result"
    }
   ],
   "execution_count": 183
  },
  {
   "metadata": {
    "ExecuteTime": {
     "end_time": "2025-05-05T03:56:46.807365Z",
     "start_time": "2025-05-05T03:56:46.803021Z"
    }
   },
   "cell_type": "code",
   "source": [
    "customers2 = pd.DataFrame({\n",
    "    'Customer ID': ['A', 'B', 'C', 'D', 'E'],\n",
    "    'Customer Name': ['John', 'Mary', 'Lily', 'Sue', 'Bob'],\n",
    "}, index = ['New York', 'Paris', 'London', 'Tokyo', 'Berlin'])"
   ],
   "id": "a95e10b9175f18fc",
   "outputs": [],
   "execution_count": 187
  },
  {
   "metadata": {
    "ExecuteTime": {
     "end_time": "2025-05-05T03:56:47.460549Z",
     "start_time": "2025-05-05T03:56:47.454645Z"
    }
   },
   "cell_type": "code",
   "source": [
    "purchases2 = pd.DataFrame({\n",
    "    'Customer ID': ['A', 'B', 'C'],\n",
    "    'Product': ['Apple', 'Banana', 'Mango'],\n",
    "    'Quantity': [10, 20, 30]\n",
    "}, index=['New York', 'Paris', 'Tokyo'])"
   ],
   "id": "c3e81bf5fd9b444d",
   "outputs": [],
   "execution_count": 188
  },
  {
   "metadata": {
    "ExecuteTime": {
     "end_time": "2025-05-05T03:56:51.690921Z",
     "start_time": "2025-05-05T03:56:51.678454Z"
    }
   },
   "cell_type": "code",
   "source": "customers2",
   "id": "c5fc7495b2abe5f0",
   "outputs": [
    {
     "data": {
      "text/plain": [
       "         Customer ID Customer Name\n",
       "New York           A          John\n",
       "Paris              B          Mary\n",
       "London             C          Lily\n",
       "Tokyo              D           Sue\n",
       "Berlin             E           Bob"
      ],
      "text/html": [
       "<div>\n",
       "<style scoped>\n",
       "    .dataframe tbody tr th:only-of-type {\n",
       "        vertical-align: middle;\n",
       "    }\n",
       "\n",
       "    .dataframe tbody tr th {\n",
       "        vertical-align: top;\n",
       "    }\n",
       "\n",
       "    .dataframe thead th {\n",
       "        text-align: right;\n",
       "    }\n",
       "</style>\n",
       "<table border=\"1\" class=\"dataframe\">\n",
       "  <thead>\n",
       "    <tr style=\"text-align: right;\">\n",
       "      <th></th>\n",
       "      <th>Customer ID</th>\n",
       "      <th>Customer Name</th>\n",
       "    </tr>\n",
       "  </thead>\n",
       "  <tbody>\n",
       "    <tr>\n",
       "      <th>New York</th>\n",
       "      <td>A</td>\n",
       "      <td>John</td>\n",
       "    </tr>\n",
       "    <tr>\n",
       "      <th>Paris</th>\n",
       "      <td>B</td>\n",
       "      <td>Mary</td>\n",
       "    </tr>\n",
       "    <tr>\n",
       "      <th>London</th>\n",
       "      <td>C</td>\n",
       "      <td>Lily</td>\n",
       "    </tr>\n",
       "    <tr>\n",
       "      <th>Tokyo</th>\n",
       "      <td>D</td>\n",
       "      <td>Sue</td>\n",
       "    </tr>\n",
       "    <tr>\n",
       "      <th>Berlin</th>\n",
       "      <td>E</td>\n",
       "      <td>Bob</td>\n",
       "    </tr>\n",
       "  </tbody>\n",
       "</table>\n",
       "</div>"
      ]
     },
     "execution_count": 190,
     "metadata": {},
     "output_type": "execute_result"
    }
   ],
   "execution_count": 190
  },
  {
   "metadata": {
    "ExecuteTime": {
     "end_time": "2025-05-05T03:59:21.601344Z",
     "start_time": "2025-05-05T03:59:21.588905Z"
    }
   },
   "cell_type": "code",
   "source": "purchases2.join(customers2, lsuffix='_left', rsuffix='_right')",
   "id": "6d4a18058511909",
   "outputs": [
    {
     "data": {
      "text/plain": [
       "         Customer ID_left Product  Quantity Customer ID_right Customer Name\n",
       "New York                A   Apple        10                 A          John\n",
       "Paris                   B  Banana        20                 B          Mary\n",
       "Tokyo                   C   Mango        30                 D           Sue"
      ],
      "text/html": [
       "<div>\n",
       "<style scoped>\n",
       "    .dataframe tbody tr th:only-of-type {\n",
       "        vertical-align: middle;\n",
       "    }\n",
       "\n",
       "    .dataframe tbody tr th {\n",
       "        vertical-align: top;\n",
       "    }\n",
       "\n",
       "    .dataframe thead th {\n",
       "        text-align: right;\n",
       "    }\n",
       "</style>\n",
       "<table border=\"1\" class=\"dataframe\">\n",
       "  <thead>\n",
       "    <tr style=\"text-align: right;\">\n",
       "      <th></th>\n",
       "      <th>Customer ID_left</th>\n",
       "      <th>Product</th>\n",
       "      <th>Quantity</th>\n",
       "      <th>Customer ID_right</th>\n",
       "      <th>Customer Name</th>\n",
       "    </tr>\n",
       "  </thead>\n",
       "  <tbody>\n",
       "    <tr>\n",
       "      <th>New York</th>\n",
       "      <td>A</td>\n",
       "      <td>Apple</td>\n",
       "      <td>10</td>\n",
       "      <td>A</td>\n",
       "      <td>John</td>\n",
       "    </tr>\n",
       "    <tr>\n",
       "      <th>Paris</th>\n",
       "      <td>B</td>\n",
       "      <td>Banana</td>\n",
       "      <td>20</td>\n",
       "      <td>B</td>\n",
       "      <td>Mary</td>\n",
       "    </tr>\n",
       "    <tr>\n",
       "      <th>Tokyo</th>\n",
       "      <td>C</td>\n",
       "      <td>Mango</td>\n",
       "      <td>30</td>\n",
       "      <td>D</td>\n",
       "      <td>Sue</td>\n",
       "    </tr>\n",
       "  </tbody>\n",
       "</table>\n",
       "</div>"
      ]
     },
     "execution_count": 192,
     "metadata": {},
     "output_type": "execute_result"
    }
   ],
   "execution_count": 192
  },
  {
   "metadata": {},
   "cell_type": "markdown",
   "source": "# Handling Missing Data",
   "id": "b2e7868993ca761c"
  },
  {
   "metadata": {
    "ExecuteTime": {
     "end_time": "2025-05-05T03:30:59.298870Z",
     "start_time": "2025-05-05T03:30:59.294097Z"
    }
   },
   "cell_type": "code",
   "source": "# https://youtu.be/zb4xMLcpBVs?si=69Aui-k9ap10bJvv",
   "id": "74c01a60cdfe2cc4",
   "outputs": [],
   "execution_count": 151
  },
  {
   "metadata": {
    "ExecuteTime": {
     "end_time": "2025-05-05T03:30:59.411360Z",
     "start_time": "2025-05-05T03:30:59.407823Z"
    }
   },
   "cell_type": "code",
   "source": "import numpy as np",
   "id": "e3c0fcfc1e9a2d3c",
   "outputs": [],
   "execution_count": 152
  },
  {
   "metadata": {
    "ExecuteTime": {
     "end_time": "2025-05-05T03:30:59.490262Z",
     "start_time": "2025-05-05T03:30:59.485925Z"
    }
   },
   "cell_type": "code",
   "source": [
    "data = {\n",
    "    'Name': ['John', 'Mary', 'Lily', np.nan, 'Sue'],\n",
    "    'Age': [24, np.nan, 29, 31, np.nan],\n",
    "    'Score': [85, 90, np.nan, 88, 96]\n",
    "}"
   ],
   "id": "72f85ca156fca3fa",
   "outputs": [],
   "execution_count": 153
  },
  {
   "metadata": {
    "ExecuteTime": {
     "end_time": "2025-05-05T03:30:59.563084Z",
     "start_time": "2025-05-05T03:30:59.552792Z"
    }
   },
   "cell_type": "code",
   "source": [
    "df = pd.DataFrame(data)\n",
    "df"
   ],
   "id": "ad219fae994a437e",
   "outputs": [
    {
     "data": {
      "text/plain": [
       "   Name   Age  Score\n",
       "0  John  24.0   85.0\n",
       "1  Mary   NaN   90.0\n",
       "2  Lily  29.0    NaN\n",
       "3   NaN  31.0   88.0\n",
       "4   Sue   NaN   96.0"
      ],
      "text/html": [
       "<div>\n",
       "<style scoped>\n",
       "    .dataframe tbody tr th:only-of-type {\n",
       "        vertical-align: middle;\n",
       "    }\n",
       "\n",
       "    .dataframe tbody tr th {\n",
       "        vertical-align: top;\n",
       "    }\n",
       "\n",
       "    .dataframe thead th {\n",
       "        text-align: right;\n",
       "    }\n",
       "</style>\n",
       "<table border=\"1\" class=\"dataframe\">\n",
       "  <thead>\n",
       "    <tr style=\"text-align: right;\">\n",
       "      <th></th>\n",
       "      <th>Name</th>\n",
       "      <th>Age</th>\n",
       "      <th>Score</th>\n",
       "    </tr>\n",
       "  </thead>\n",
       "  <tbody>\n",
       "    <tr>\n",
       "      <th>0</th>\n",
       "      <td>John</td>\n",
       "      <td>24.0</td>\n",
       "      <td>85.0</td>\n",
       "    </tr>\n",
       "    <tr>\n",
       "      <th>1</th>\n",
       "      <td>Mary</td>\n",
       "      <td>NaN</td>\n",
       "      <td>90.0</td>\n",
       "    </tr>\n",
       "    <tr>\n",
       "      <th>2</th>\n",
       "      <td>Lily</td>\n",
       "      <td>29.0</td>\n",
       "      <td>NaN</td>\n",
       "    </tr>\n",
       "    <tr>\n",
       "      <th>3</th>\n",
       "      <td>NaN</td>\n",
       "      <td>31.0</td>\n",
       "      <td>88.0</td>\n",
       "    </tr>\n",
       "    <tr>\n",
       "      <th>4</th>\n",
       "      <td>Sue</td>\n",
       "      <td>NaN</td>\n",
       "      <td>96.0</td>\n",
       "    </tr>\n",
       "  </tbody>\n",
       "</table>\n",
       "</div>"
      ]
     },
     "execution_count": 154,
     "metadata": {},
     "output_type": "execute_result"
    }
   ],
   "execution_count": 154
  },
  {
   "metadata": {
    "ExecuteTime": {
     "end_time": "2025-05-05T03:30:59.685970Z",
     "start_time": "2025-05-05T03:30:59.675787Z"
    }
   },
   "cell_type": "code",
   "source": "df.isnull()",
   "id": "fe72651de2075467",
   "outputs": [
    {
     "data": {
      "text/plain": [
       "    Name    Age  Score\n",
       "0  False  False  False\n",
       "1  False   True  False\n",
       "2  False  False   True\n",
       "3   True  False  False\n",
       "4  False   True  False"
      ],
      "text/html": [
       "<div>\n",
       "<style scoped>\n",
       "    .dataframe tbody tr th:only-of-type {\n",
       "        vertical-align: middle;\n",
       "    }\n",
       "\n",
       "    .dataframe tbody tr th {\n",
       "        vertical-align: top;\n",
       "    }\n",
       "\n",
       "    .dataframe thead th {\n",
       "        text-align: right;\n",
       "    }\n",
       "</style>\n",
       "<table border=\"1\" class=\"dataframe\">\n",
       "  <thead>\n",
       "    <tr style=\"text-align: right;\">\n",
       "      <th></th>\n",
       "      <th>Name</th>\n",
       "      <th>Age</th>\n",
       "      <th>Score</th>\n",
       "    </tr>\n",
       "  </thead>\n",
       "  <tbody>\n",
       "    <tr>\n",
       "      <th>0</th>\n",
       "      <td>False</td>\n",
       "      <td>False</td>\n",
       "      <td>False</td>\n",
       "    </tr>\n",
       "    <tr>\n",
       "      <th>1</th>\n",
       "      <td>False</td>\n",
       "      <td>True</td>\n",
       "      <td>False</td>\n",
       "    </tr>\n",
       "    <tr>\n",
       "      <th>2</th>\n",
       "      <td>False</td>\n",
       "      <td>False</td>\n",
       "      <td>True</td>\n",
       "    </tr>\n",
       "    <tr>\n",
       "      <th>3</th>\n",
       "      <td>True</td>\n",
       "      <td>False</td>\n",
       "      <td>False</td>\n",
       "    </tr>\n",
       "    <tr>\n",
       "      <th>4</th>\n",
       "      <td>False</td>\n",
       "      <td>True</td>\n",
       "      <td>False</td>\n",
       "    </tr>\n",
       "  </tbody>\n",
       "</table>\n",
       "</div>"
      ]
     },
     "execution_count": 155,
     "metadata": {},
     "output_type": "execute_result"
    }
   ],
   "execution_count": 155
  },
  {
   "metadata": {
    "ExecuteTime": {
     "end_time": "2025-05-05T03:30:59.851900Z",
     "start_time": "2025-05-05T03:30:59.842272Z"
    }
   },
   "cell_type": "code",
   "source": "df.notnull()",
   "id": "a9e9b842e148955b",
   "outputs": [
    {
     "data": {
      "text/plain": [
       "    Name    Age  Score\n",
       "0   True   True   True\n",
       "1   True  False   True\n",
       "2   True   True  False\n",
       "3  False   True   True\n",
       "4   True  False   True"
      ],
      "text/html": [
       "<div>\n",
       "<style scoped>\n",
       "    .dataframe tbody tr th:only-of-type {\n",
       "        vertical-align: middle;\n",
       "    }\n",
       "\n",
       "    .dataframe tbody tr th {\n",
       "        vertical-align: top;\n",
       "    }\n",
       "\n",
       "    .dataframe thead th {\n",
       "        text-align: right;\n",
       "    }\n",
       "</style>\n",
       "<table border=\"1\" class=\"dataframe\">\n",
       "  <thead>\n",
       "    <tr style=\"text-align: right;\">\n",
       "      <th></th>\n",
       "      <th>Name</th>\n",
       "      <th>Age</th>\n",
       "      <th>Score</th>\n",
       "    </tr>\n",
       "  </thead>\n",
       "  <tbody>\n",
       "    <tr>\n",
       "      <th>0</th>\n",
       "      <td>True</td>\n",
       "      <td>True</td>\n",
       "      <td>True</td>\n",
       "    </tr>\n",
       "    <tr>\n",
       "      <th>1</th>\n",
       "      <td>True</td>\n",
       "      <td>False</td>\n",
       "      <td>True</td>\n",
       "    </tr>\n",
       "    <tr>\n",
       "      <th>2</th>\n",
       "      <td>True</td>\n",
       "      <td>True</td>\n",
       "      <td>False</td>\n",
       "    </tr>\n",
       "    <tr>\n",
       "      <th>3</th>\n",
       "      <td>False</td>\n",
       "      <td>True</td>\n",
       "      <td>True</td>\n",
       "    </tr>\n",
       "    <tr>\n",
       "      <th>4</th>\n",
       "      <td>True</td>\n",
       "      <td>False</td>\n",
       "      <td>True</td>\n",
       "    </tr>\n",
       "  </tbody>\n",
       "</table>\n",
       "</div>"
      ]
     },
     "execution_count": 156,
     "metadata": {},
     "output_type": "execute_result"
    }
   ],
   "execution_count": 156
  },
  {
   "metadata": {
    "ExecuteTime": {
     "end_time": "2025-05-05T03:31:00.156754Z",
     "start_time": "2025-05-05T03:31:00.149719Z"
    }
   },
   "cell_type": "code",
   "source": "df.isnull().sum()",
   "id": "d8731289ed0ea6d1",
   "outputs": [
    {
     "data": {
      "text/plain": [
       "Name     1\n",
       "Age      2\n",
       "Score    1\n",
       "dtype: int64"
      ]
     },
     "execution_count": 157,
     "metadata": {},
     "output_type": "execute_result"
    }
   ],
   "execution_count": 157
  },
  {
   "metadata": {
    "ExecuteTime": {
     "end_time": "2025-05-05T03:31:00.482145Z",
     "start_time": "2025-05-05T03:31:00.472761Z"
    }
   },
   "cell_type": "code",
   "source": "df.dropna()",
   "id": "e00a2ddf28af132d",
   "outputs": [
    {
     "data": {
      "text/plain": [
       "   Name   Age  Score\n",
       "0  John  24.0   85.0"
      ],
      "text/html": [
       "<div>\n",
       "<style scoped>\n",
       "    .dataframe tbody tr th:only-of-type {\n",
       "        vertical-align: middle;\n",
       "    }\n",
       "\n",
       "    .dataframe tbody tr th {\n",
       "        vertical-align: top;\n",
       "    }\n",
       "\n",
       "    .dataframe thead th {\n",
       "        text-align: right;\n",
       "    }\n",
       "</style>\n",
       "<table border=\"1\" class=\"dataframe\">\n",
       "  <thead>\n",
       "    <tr style=\"text-align: right;\">\n",
       "      <th></th>\n",
       "      <th>Name</th>\n",
       "      <th>Age</th>\n",
       "      <th>Score</th>\n",
       "    </tr>\n",
       "  </thead>\n",
       "  <tbody>\n",
       "    <tr>\n",
       "      <th>0</th>\n",
       "      <td>John</td>\n",
       "      <td>24.0</td>\n",
       "      <td>85.0</td>\n",
       "    </tr>\n",
       "  </tbody>\n",
       "</table>\n",
       "</div>"
      ]
     },
     "execution_count": 158,
     "metadata": {},
     "output_type": "execute_result"
    }
   ],
   "execution_count": 158
  },
  {
   "metadata": {
    "ExecuteTime": {
     "end_time": "2025-05-05T03:31:00.806772Z",
     "start_time": "2025-05-05T03:31:00.799171Z"
    }
   },
   "cell_type": "code",
   "source": "df.dropna(axis=1)",
   "id": "4666f137b6efae24",
   "outputs": [
    {
     "data": {
      "text/plain": [
       "Empty DataFrame\n",
       "Columns: []\n",
       "Index: [0, 1, 2, 3, 4]"
      ],
      "text/html": [
       "<div>\n",
       "<style scoped>\n",
       "    .dataframe tbody tr th:only-of-type {\n",
       "        vertical-align: middle;\n",
       "    }\n",
       "\n",
       "    .dataframe tbody tr th {\n",
       "        vertical-align: top;\n",
       "    }\n",
       "\n",
       "    .dataframe thead th {\n",
       "        text-align: right;\n",
       "    }\n",
       "</style>\n",
       "<table border=\"1\" class=\"dataframe\">\n",
       "  <thead>\n",
       "    <tr style=\"text-align: right;\">\n",
       "      <th></th>\n",
       "    </tr>\n",
       "  </thead>\n",
       "  <tbody>\n",
       "    <tr>\n",
       "      <th>0</th>\n",
       "    </tr>\n",
       "    <tr>\n",
       "      <th>1</th>\n",
       "    </tr>\n",
       "    <tr>\n",
       "      <th>2</th>\n",
       "    </tr>\n",
       "    <tr>\n",
       "      <th>3</th>\n",
       "    </tr>\n",
       "    <tr>\n",
       "      <th>4</th>\n",
       "    </tr>\n",
       "  </tbody>\n",
       "</table>\n",
       "</div>"
      ]
     },
     "execution_count": 159,
     "metadata": {},
     "output_type": "execute_result"
    }
   ],
   "execution_count": 159
  },
  {
   "metadata": {
    "ExecuteTime": {
     "end_time": "2025-05-05T03:31:01.127627Z",
     "start_time": "2025-05-05T03:31:01.117721Z"
    }
   },
   "cell_type": "code",
   "source": "df.fillna('Unknown')",
   "id": "2570b113cd3338ac",
   "outputs": [
    {
     "data": {
      "text/plain": [
       "      Name      Age    Score\n",
       "0     John     24.0     85.0\n",
       "1     Mary  Unknown     90.0\n",
       "2     Lily     29.0  Unknown\n",
       "3  Unknown     31.0     88.0\n",
       "4      Sue  Unknown     96.0"
      ],
      "text/html": [
       "<div>\n",
       "<style scoped>\n",
       "    .dataframe tbody tr th:only-of-type {\n",
       "        vertical-align: middle;\n",
       "    }\n",
       "\n",
       "    .dataframe tbody tr th {\n",
       "        vertical-align: top;\n",
       "    }\n",
       "\n",
       "    .dataframe thead th {\n",
       "        text-align: right;\n",
       "    }\n",
       "</style>\n",
       "<table border=\"1\" class=\"dataframe\">\n",
       "  <thead>\n",
       "    <tr style=\"text-align: right;\">\n",
       "      <th></th>\n",
       "      <th>Name</th>\n",
       "      <th>Age</th>\n",
       "      <th>Score</th>\n",
       "    </tr>\n",
       "  </thead>\n",
       "  <tbody>\n",
       "    <tr>\n",
       "      <th>0</th>\n",
       "      <td>John</td>\n",
       "      <td>24.0</td>\n",
       "      <td>85.0</td>\n",
       "    </tr>\n",
       "    <tr>\n",
       "      <th>1</th>\n",
       "      <td>Mary</td>\n",
       "      <td>Unknown</td>\n",
       "      <td>90.0</td>\n",
       "    </tr>\n",
       "    <tr>\n",
       "      <th>2</th>\n",
       "      <td>Lily</td>\n",
       "      <td>29.0</td>\n",
       "      <td>Unknown</td>\n",
       "    </tr>\n",
       "    <tr>\n",
       "      <th>3</th>\n",
       "      <td>Unknown</td>\n",
       "      <td>31.0</td>\n",
       "      <td>88.0</td>\n",
       "    </tr>\n",
       "    <tr>\n",
       "      <th>4</th>\n",
       "      <td>Sue</td>\n",
       "      <td>Unknown</td>\n",
       "      <td>96.0</td>\n",
       "    </tr>\n",
       "  </tbody>\n",
       "</table>\n",
       "</div>"
      ]
     },
     "execution_count": 160,
     "metadata": {},
     "output_type": "execute_result"
    }
   ],
   "execution_count": 160
  },
  {
   "metadata": {
    "ExecuteTime": {
     "end_time": "2025-05-05T03:31:44.176552Z",
     "start_time": "2025-05-05T03:31:44.160115Z"
    }
   },
   "cell_type": "code",
   "source": "df.ffill()",
   "id": "93f1a96e3f5c63a7",
   "outputs": [
    {
     "data": {
      "text/plain": [
       "   Name   Age  Score\n",
       "0  John  24.0   85.0\n",
       "1  Mary  24.0   90.0\n",
       "2  Lily  29.0   90.0\n",
       "3  Lily  31.0   88.0\n",
       "4   Sue  31.0   96.0"
      ],
      "text/html": [
       "<div>\n",
       "<style scoped>\n",
       "    .dataframe tbody tr th:only-of-type {\n",
       "        vertical-align: middle;\n",
       "    }\n",
       "\n",
       "    .dataframe tbody tr th {\n",
       "        vertical-align: top;\n",
       "    }\n",
       "\n",
       "    .dataframe thead th {\n",
       "        text-align: right;\n",
       "    }\n",
       "</style>\n",
       "<table border=\"1\" class=\"dataframe\">\n",
       "  <thead>\n",
       "    <tr style=\"text-align: right;\">\n",
       "      <th></th>\n",
       "      <th>Name</th>\n",
       "      <th>Age</th>\n",
       "      <th>Score</th>\n",
       "    </tr>\n",
       "  </thead>\n",
       "  <tbody>\n",
       "    <tr>\n",
       "      <th>0</th>\n",
       "      <td>John</td>\n",
       "      <td>24.0</td>\n",
       "      <td>85.0</td>\n",
       "    </tr>\n",
       "    <tr>\n",
       "      <th>1</th>\n",
       "      <td>Mary</td>\n",
       "      <td>24.0</td>\n",
       "      <td>90.0</td>\n",
       "    </tr>\n",
       "    <tr>\n",
       "      <th>2</th>\n",
       "      <td>Lily</td>\n",
       "      <td>29.0</td>\n",
       "      <td>90.0</td>\n",
       "    </tr>\n",
       "    <tr>\n",
       "      <th>3</th>\n",
       "      <td>Lily</td>\n",
       "      <td>31.0</td>\n",
       "      <td>88.0</td>\n",
       "    </tr>\n",
       "    <tr>\n",
       "      <th>4</th>\n",
       "      <td>Sue</td>\n",
       "      <td>31.0</td>\n",
       "      <td>96.0</td>\n",
       "    </tr>\n",
       "  </tbody>\n",
       "</table>\n",
       "</div>"
      ]
     },
     "execution_count": 168,
     "metadata": {},
     "output_type": "execute_result"
    }
   ],
   "execution_count": 168
  },
  {
   "metadata": {
    "ExecuteTime": {
     "end_time": "2025-05-05T03:31:39.592760Z",
     "start_time": "2025-05-05T03:31:39.579531Z"
    }
   },
   "cell_type": "code",
   "source": "df.bfill()",
   "id": "2caaea315ee68e3a",
   "outputs": [
    {
     "data": {
      "text/plain": [
       "   Name   Age  Score\n",
       "0  John  24.0   85.0\n",
       "1  Mary  29.0   90.0\n",
       "2  Lily  29.0   88.0\n",
       "3   Sue  31.0   88.0\n",
       "4   Sue   NaN   96.0"
      ],
      "text/html": [
       "<div>\n",
       "<style scoped>\n",
       "    .dataframe tbody tr th:only-of-type {\n",
       "        vertical-align: middle;\n",
       "    }\n",
       "\n",
       "    .dataframe tbody tr th {\n",
       "        vertical-align: top;\n",
       "    }\n",
       "\n",
       "    .dataframe thead th {\n",
       "        text-align: right;\n",
       "    }\n",
       "</style>\n",
       "<table border=\"1\" class=\"dataframe\">\n",
       "  <thead>\n",
       "    <tr style=\"text-align: right;\">\n",
       "      <th></th>\n",
       "      <th>Name</th>\n",
       "      <th>Age</th>\n",
       "      <th>Score</th>\n",
       "    </tr>\n",
       "  </thead>\n",
       "  <tbody>\n",
       "    <tr>\n",
       "      <th>0</th>\n",
       "      <td>John</td>\n",
       "      <td>24.0</td>\n",
       "      <td>85.0</td>\n",
       "    </tr>\n",
       "    <tr>\n",
       "      <th>1</th>\n",
       "      <td>Mary</td>\n",
       "      <td>29.0</td>\n",
       "      <td>90.0</td>\n",
       "    </tr>\n",
       "    <tr>\n",
       "      <th>2</th>\n",
       "      <td>Lily</td>\n",
       "      <td>29.0</td>\n",
       "      <td>88.0</td>\n",
       "    </tr>\n",
       "    <tr>\n",
       "      <th>3</th>\n",
       "      <td>Sue</td>\n",
       "      <td>31.0</td>\n",
       "      <td>88.0</td>\n",
       "    </tr>\n",
       "    <tr>\n",
       "      <th>4</th>\n",
       "      <td>Sue</td>\n",
       "      <td>NaN</td>\n",
       "      <td>96.0</td>\n",
       "    </tr>\n",
       "  </tbody>\n",
       "</table>\n",
       "</div>"
      ]
     },
     "execution_count": 167,
     "metadata": {},
     "output_type": "execute_result"
    }
   ],
   "execution_count": 167
  },
  {
   "metadata": {
    "ExecuteTime": {
     "end_time": "2025-05-05T03:31:01.817267Z",
     "start_time": "2025-05-05T03:31:01.811695Z"
    }
   },
   "cell_type": "code",
   "source": [
    "mean_age = df['Age'].mean()\n",
    "mean_age"
   ],
   "id": "80f312e706de039b",
   "outputs": [
    {
     "data": {
      "text/plain": [
       "28.0"
      ]
     },
     "execution_count": 162,
     "metadata": {},
     "output_type": "execute_result"
    }
   ],
   "execution_count": 162
  },
  {
   "metadata": {
    "ExecuteTime": {
     "end_time": "2025-05-05T03:31:02.075810Z",
     "start_time": "2025-05-05T03:31:02.068921Z"
    }
   },
   "cell_type": "code",
   "source": "df['Age'].fillna(mean_age)",
   "id": "d36811c338d9389e",
   "outputs": [
    {
     "data": {
      "text/plain": [
       "0    24.0\n",
       "1    28.0\n",
       "2    29.0\n",
       "3    31.0\n",
       "4    28.0\n",
       "Name: Age, dtype: float64"
      ]
     },
     "execution_count": 163,
     "metadata": {},
     "output_type": "execute_result"
    }
   ],
   "execution_count": 163
  },
  {
   "metadata": {
    "ExecuteTime": {
     "end_time": "2025-05-05T03:31:02.244731Z",
     "start_time": "2025-05-05T03:31:02.240610Z"
    }
   },
   "cell_type": "code",
   "source": "fill_values = {'Name': 'Sue', 'Age': 25, 'Score': 95}",
   "id": "cb576d3fc9e6a8d8",
   "outputs": [],
   "execution_count": 164
  },
  {
   "metadata": {
    "ExecuteTime": {
     "end_time": "2025-05-05T03:31:02.440087Z",
     "start_time": "2025-05-05T03:31:02.425431Z"
    }
   },
   "cell_type": "code",
   "source": [
    "filled = df.fillna(fill_values)\n",
    "filled"
   ],
   "id": "a2ddb1f84d8d57b0",
   "outputs": [
    {
     "data": {
      "text/plain": [
       "   Name   Age  Score\n",
       "0  John  24.0   85.0\n",
       "1  Mary  25.0   90.0\n",
       "2  Lily  29.0   95.0\n",
       "3   Sue  31.0   88.0\n",
       "4   Sue  25.0   96.0"
      ],
      "text/html": [
       "<div>\n",
       "<style scoped>\n",
       "    .dataframe tbody tr th:only-of-type {\n",
       "        vertical-align: middle;\n",
       "    }\n",
       "\n",
       "    .dataframe tbody tr th {\n",
       "        vertical-align: top;\n",
       "    }\n",
       "\n",
       "    .dataframe thead th {\n",
       "        text-align: right;\n",
       "    }\n",
       "</style>\n",
       "<table border=\"1\" class=\"dataframe\">\n",
       "  <thead>\n",
       "    <tr style=\"text-align: right;\">\n",
       "      <th></th>\n",
       "      <th>Name</th>\n",
       "      <th>Age</th>\n",
       "      <th>Score</th>\n",
       "    </tr>\n",
       "  </thead>\n",
       "  <tbody>\n",
       "    <tr>\n",
       "      <th>0</th>\n",
       "      <td>John</td>\n",
       "      <td>24.0</td>\n",
       "      <td>85.0</td>\n",
       "    </tr>\n",
       "    <tr>\n",
       "      <th>1</th>\n",
       "      <td>Mary</td>\n",
       "      <td>25.0</td>\n",
       "      <td>90.0</td>\n",
       "    </tr>\n",
       "    <tr>\n",
       "      <th>2</th>\n",
       "      <td>Lily</td>\n",
       "      <td>29.0</td>\n",
       "      <td>95.0</td>\n",
       "    </tr>\n",
       "    <tr>\n",
       "      <th>3</th>\n",
       "      <td>Sue</td>\n",
       "      <td>31.0</td>\n",
       "      <td>88.0</td>\n",
       "    </tr>\n",
       "    <tr>\n",
       "      <th>4</th>\n",
       "      <td>Sue</td>\n",
       "      <td>25.0</td>\n",
       "      <td>96.0</td>\n",
       "    </tr>\n",
       "  </tbody>\n",
       "</table>\n",
       "</div>"
      ]
     },
     "execution_count": 165,
     "metadata": {},
     "output_type": "execute_result"
    }
   ],
   "execution_count": 165
  },
  {
   "metadata": {
    "ExecuteTime": {
     "end_time": "2025-05-05T03:31:02.643207Z",
     "start_time": "2025-05-05T03:31:02.640517Z"
    }
   },
   "cell_type": "code",
   "source": "",
   "id": "17a565c0639419e0",
   "outputs": [],
   "execution_count": null
  }
 ],
 "metadata": {
  "kernelspec": {
   "display_name": "Python 3",
   "language": "python",
   "name": "python3"
  },
  "language_info": {
   "codemirror_mode": {
    "name": "ipython",
    "version": 2
   },
   "file_extension": ".py",
   "mimetype": "text/x-python",
   "name": "python",
   "nbconvert_exporter": "python",
   "pygments_lexer": "ipython2",
   "version": "2.7.6"
  }
 },
 "nbformat": 4,
 "nbformat_minor": 5
}
