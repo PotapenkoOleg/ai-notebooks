{
 "cells": [
  {
   "cell_type": "code",
   "execution_count": 1,
   "id": "a1e0711f",
   "metadata": {},
   "outputs": [],
   "source": [
    "import numpy as np\n",
    "import pandas as pd\n",
    "import matplotlib.pyplot as plt\n",
    "import seaborn as sns"
   ]
  },
  {
   "cell_type": "code",
   "execution_count": 2,
   "id": "136083b8",
   "metadata": {},
   "outputs": [],
   "source": [
    "# Exploratory analysis is done when you are searching for insights. These visualizations don't need to be perfect. \n",
    "# You are using plots to find insights, but they don't need to be aesthetically appealing. \n",
    "# You are the consumer of these plots, and you need to be able to find the answer to your questions from these plots."
   ]
  },
  {
   "cell_type": "code",
   "execution_count": null,
   "id": "716b03a1",
   "metadata": {},
   "outputs": [],
   "source": [
    "# Explanatory analysis is done when you are providing your results for others. \n",
    "# These visualizations need to provide you the emphasis necessary to convey your message. They should be accurate, insightful, and visually appealing."
   ]
  },
  {
   "cell_type": "code",
   "execution_count": 3,
   "id": "12a84602",
   "metadata": {},
   "outputs": [],
   "source": [
    "# The five steps of the data analysis process:\n",
    "\n",
    "# 1. Extract - Obtain the data from a spreadsheet, SQL, the web, etc.\n",
    "# 2. Clean - Here, we could use exploratory visuals.\n",
    "# 3. Explore - Here, we use exploratory visuals.\n",
    "# 4. Analyze - Here, we might use either exploratory or explanatory visuals.\n",
    "# 5. Share - Here is where explanatory visuals live."
   ]
  },
  {
   "cell_type": "code",
   "execution_count": 4,
   "id": "c99a6a95",
   "metadata": {},
   "outputs": [],
   "source": [
    "# The Four Levels of Measurement"
   ]
  },
  {
   "cell_type": "code",
   "execution_count": 5,
   "id": "4452c8a0",
   "metadata": {},
   "outputs": [],
   "source": [
    "# Qualitative or categorical types (non-numeric types)\n",
    "\n",
    "# 1. Nominal data: pure labels without inherent order (no label is intrinsically greater or less than any other)\n",
    "# 2. Ordinal data: labels with an intrinsic order or ranking (comparison operations can be made between values, but the magnitude of differences are not be well-defined)"
   ]
  },
  {
   "cell_type": "code",
   "execution_count": 6,
   "id": "7e94fce3",
   "metadata": {},
   "outputs": [],
   "source": [
    "# Quantitative or numeric types\n",
    "\n",
    "# 3. Interval data: numeric values where absolute differences are meaningful (addition and subtraction operations can be made)\n",
    "# 4. Ratio data: numeric values where relative differences are meaningful (multiplication and division operations can be made)"
   ]
  },
  {
   "cell_type": "code",
   "execution_count": 7,
   "id": "e8772ea1",
   "metadata": {},
   "outputs": [],
   "source": [
    "# All quantitative-type variables also come in one of two varieties: discrete and continuous.\n",
    "\n",
    "# * Discrete quantitative variables can only take on a specific set values at some maximum level of precision.\n",
    "# * Continuous quantitative variables can (hypothetically) take on values to any level of precision."
   ]
  },
  {
   "cell_type": "code",
   "execution_count": 8,
   "id": "5d0530f8",
   "metadata": {},
   "outputs": [],
   "source": [
    "# A tricky case like test scores measured between 0 and 100 can only be divided down to single integers, making it initially seem discrete. \n",
    "# But since there are so many values, such a feature is usually considered as continuous."
   ]
  },
  {
   "cell_type": "code",
   "execution_count": 9,
   "id": "eb94e2bd",
   "metadata": {},
   "outputs": [],
   "source": [
    "# https://en.wikipedia.org/wiki/Chartjunk"
   ]
  },
  {
   "cell_type": "code",
   "execution_count": 10,
   "id": "d9d9392b",
   "metadata": {},
   "outputs": [],
   "source": [
    "# Examples of chart junk you saw in this video include:\n",
    "\n",
    "# Heavy grid lines\n",
    "# Unnecessary text\n",
    "# Pictures surrounding the visual\n",
    "# Shading or 3d components\n",
    "# Ornamented chart axes"
   ]
  },
  {
   "cell_type": "code",
   "execution_count": 11,
   "id": "f1597f5d",
   "metadata": {},
   "outputs": [],
   "source": [
    "# The data-ink ratio. The more of the ink in your visual that is related to conveying the message in the data, the better."
   ]
  },
  {
   "cell_type": "code",
   "execution_count": 12,
   "id": "53d540f2",
   "metadata": {},
   "outputs": [],
   "source": [
    "# https://flowingdata.com/2017/02/09/how-to-spot-visualization-lies/"
   ]
  },
  {
   "cell_type": "code",
   "execution_count": 13,
   "id": "b8b161a0",
   "metadata": {},
   "outputs": [],
   "source": [
    "# Three tips for using color effectively.\n",
    "\n",
    "# 1.Before adding color to a visualization, start with black and white.\n",
    "\n",
    "# 2.When using color, use less intense colors - not all the colors of the rainbow, which is the default in many software applications.\n",
    "\n",
    "# 3.Color for communication. Use color to highlight your message and separate groups of interest. Don't add color just to have color in your visualization."
   ]
  },
  {
   "cell_type": "code",
   "execution_count": 14,
   "id": "50bd90e2",
   "metadata": {},
   "outputs": [],
   "source": [
    "# https://www.tableau.com/blog/examining-data-viz-rules-dont-use-red-green-together"
   ]
  },
  {
   "cell_type": "code",
   "execution_count": 15,
   "id": "a79f4601",
   "metadata": {},
   "outputs": [],
   "source": [
    "#  Both of these colors appear in a yellow tint to individuals with the most common types of colorblindness. Instead, use colors on a blue to orange palette.\n"
   ]
  },
  {
   "cell_type": "code",
   "execution_count": null,
   "id": "0c22584f",
   "metadata": {},
   "outputs": [],
   "source": [
    "# In general, color and shape are best for categorical variables, while the size of marker can assist in adding additional quantitative data"
   ]
  }
 ],
 "metadata": {
  "kernelspec": {
   "display_name": ".venv",
   "language": "python",
   "name": "python3"
  },
  "language_info": {
   "codemirror_mode": {
    "name": "ipython",
    "version": 3
   },
   "file_extension": ".py",
   "mimetype": "text/x-python",
   "name": "python",
   "nbconvert_exporter": "python",
   "pygments_lexer": "ipython3",
   "version": "3.12.3"
  }
 },
 "nbformat": 4,
 "nbformat_minor": 5
}
