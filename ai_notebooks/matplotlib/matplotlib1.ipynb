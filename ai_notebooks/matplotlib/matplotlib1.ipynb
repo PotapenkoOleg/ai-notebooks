{
 "cells": [
  {
   "cell_type": "code",
   "execution_count": null,
   "id": "d51cf805029481f6",
   "metadata": {
    "ExecuteTime": {
     "end_time": "2024-12-01T01:30:54.439343Z",
     "start_time": "2024-12-01T01:30:54.435788Z"
    }
   },
   "outputs": [],
   "source": [
    "import numpy as np\n",
    "import pandas as pd\n",
    "import matplotlib.pyplot as plt\n",
    "import seaborn as sns"
   ]
  },
  {
   "cell_type": "code",
   "execution_count": null,
   "id": "initial_id",
   "metadata": {
    "ExecuteTime": {
     "end_time": "2024-12-01T01:30:54.541484Z",
     "start_time": "2024-12-01T01:30:54.533927Z"
    },
    "collapsed": true
   },
   "outputs": [],
   "source": [
    "#%matplotlib inline\n",
    "%config InlineBackend.figure_format = 'retina'"
   ]
  },
  {
   "cell_type": "code",
   "execution_count": null,
   "id": "3d6dab24407be7bf",
   "metadata": {
    "ExecuteTime": {
     "end_time": "2024-12-01T01:30:54.576415Z",
     "start_time": "2024-12-01T01:30:54.572447Z"
    }
   },
   "outputs": [],
   "source": [
    "# https://cran.r-project.org/web/packages/tidyr/vignettes/tidy-data.html\n",
    "# each variable is a column\n",
    "# each observation is a row\n",
    "# each type of observational unit is a table"
   ]
  },
  {
   "cell_type": "markdown",
   "id": "c60402a6",
   "metadata": {},
   "source": [
    "### Bar Charts"
   ]
  },
  {
   "cell_type": "code",
   "execution_count": null,
   "id": "3854caff91ba1790",
   "metadata": {
    "ExecuteTime": {
     "end_time": "2024-12-01T01:30:54.651085Z",
     "start_time": "2024-12-01T01:30:54.606043Z"
    }
   },
   "outputs": [],
   "source": [
    "pokemon = pd.read_csv('../data/pokemon.csv')\n",
    "print(pokemon.shape)\n",
    "pokemon.head(10)"
   ]
  },
  {
   "cell_type": "code",
   "execution_count": null,
   "id": "4eddbb6e06a75d34",
   "metadata": {
    "ExecuteTime": {
     "end_time": "2024-12-01T01:30:55.197456Z",
     "start_time": "2024-12-01T01:30:54.769692Z"
    }
   },
   "outputs": [],
   "source": [
    "# A semicolon (;) at the end of the statement will supress printing the plotting information\n",
    "sns.countplot(data=pokemon, x='generation_id');\n",
    "#plt.show()"
   ]
  },
  {
   "cell_type": "code",
   "execution_count": null,
   "id": "f36a4eeed8e183fe",
   "metadata": {
    "ExecuteTime": {
     "end_time": "2024-12-01T01:30:55.564844Z",
     "start_time": "2024-12-01T01:30:55.248904Z"
    }
   },
   "outputs": [],
   "source": [
    "base_color = sns.color_palette()[0]\n",
    "sns.countplot(data=pokemon, x='generation_id', color=base_color);\n",
    "#plt.show();\n"
   ]
  },
  {
   "cell_type": "code",
   "execution_count": null,
   "id": "2f6f8f78",
   "metadata": {
    "ExecuteTime": {
     "end_time": "2024-12-01T01:30:55.603915Z",
     "start_time": "2024-12-01T01:30:55.600019Z"
    }
   },
   "outputs": [],
   "source": [
    "# Bar Chart using the Matplotlib"
   ]
  },
  {
   "cell_type": "code",
   "execution_count": null,
   "id": "d4e9900f",
   "metadata": {
    "ExecuteTime": {
     "end_time": "2024-12-01T01:30:55.955420Z",
     "start_time": "2024-12-01T01:30:55.620646Z"
    }
   },
   "outputs": [],
   "source": [
    "x = pokemon['generation_id'].unique()\n",
    "y = pokemon['generation_id'].value_counts(sort=False)\n",
    "plt.bar(x, y)\n",
    "plt.xlabel('generation_id')\n",
    "plt.ylabel('count')\n",
    "# plt.show()"
   ]
  },
  {
   "cell_type": "code",
   "execution_count": null,
   "id": "e93948e0",
   "metadata": {
    "ExecuteTime": {
     "end_time": "2024-12-01T01:30:56.274811Z",
     "start_time": "2024-12-01T01:30:55.973750Z"
    }
   },
   "outputs": [],
   "source": [
    "sns.countplot(data=pokemon, x='generation_id', color=base_color, order=[5, 1, 3, 4, 2, 7, 6]);\n",
    "#plt.show()"
   ]
  },
  {
   "cell_type": "code",
   "execution_count": null,
   "id": "4244c32f",
   "metadata": {
    "ExecuteTime": {
     "end_time": "2024-12-01T01:30:56.541206Z",
     "start_time": "2024-12-01T01:30:56.304482Z"
    }
   },
   "outputs": [],
   "source": [
    "# Dynamic-ordering the bars\n",
    "freq = pokemon['generation_id'].value_counts()\n",
    "gen_order = freq.index\n",
    "sns.countplot(data=pokemon, x='generation_id', color=base_color, order=gen_order)\n",
    "plt.show();"
   ]
  },
  {
   "cell_type": "code",
   "execution_count": null,
   "id": "eefdab2b",
   "metadata": {
    "ExecuteTime": {
     "end_time": "2024-12-01T01:30:57.005310Z",
     "start_time": "2024-12-01T01:30:56.567246Z"
    }
   },
   "outputs": [],
   "source": [
    "#plt.xticks(rotation=90)\n",
    "sns.countplot(data=pokemon, x='type_1', color=base_color);\n",
    "plt.xticks(rotation=60);"
   ]
  },
  {
   "cell_type": "code",
   "execution_count": null,
   "id": "65a0996961556809",
   "metadata": {
    "ExecuteTime": {
     "end_time": "2024-12-01T01:30:57.404678Z",
     "start_time": "2024-12-01T01:30:57.020998Z"
    }
   },
   "outputs": [],
   "source": [
    "# Rotate the axes clockwise\n",
    "type_order = pokemon['type_1'].value_counts().index\n",
    "sns.countplot(data=pokemon, y='type_1', color=base_color, order=type_order);"
   ]
  },
  {
   "cell_type": "markdown",
   "id": "42177ee68bdbaea0",
   "metadata": {},
   "source": [
    "### Absolute vs. Relative Frequency"
   ]
  },
  {
   "cell_type": "code",
   "execution_count": null,
   "id": "ed07c4fe3c3a32e",
   "metadata": {
    "ExecuteTime": {
     "end_time": "2024-12-01T01:30:57.445260Z",
     "start_time": "2024-12-01T01:30:57.422332Z"
    }
   },
   "outputs": [],
   "source": [
    "pokemon = pd.read_csv('../data/pokemon.csv')\n",
    "print(pokemon.shape)\n",
    "pokemon.head(10)"
   ]
  },
  {
   "cell_type": "code",
   "execution_count": null,
   "id": "e5db9aa15fe2bab7",
   "metadata": {
    "ExecuteTime": {
     "end_time": "2024-12-01T01:30:57.638091Z",
     "start_time": "2024-12-01T01:30:57.622096Z"
    }
   },
   "outputs": [],
   "source": [
    "# pandas.DataFrame.melt()\n",
    "# https://pandas.pydata.org/pandas-docs/stable/reference/api/pandas.DataFrame.melt.html\n",
    "pkmn_types = pokemon.melt(id_vars=['id', 'species'],\n",
    "                          value_vars=['type_1', 'type_2'],\n",
    "                          var_name='type_level',\n",
    "                          value_name='type')\n",
    "pkmn_types.head(10)"
   ]
  },
  {
   "cell_type": "code",
   "execution_count": null,
   "id": "b0db9f5aa88b4bd5",
   "metadata": {
    "ExecuteTime": {
     "end_time": "2024-12-01T01:30:57.716883Z",
     "start_time": "2024-12-01T01:30:57.708512Z"
    }
   },
   "outputs": [],
   "source": [
    "type_counts = pkmn_types['type'].value_counts()\n",
    "type_counts"
   ]
  },
  {
   "cell_type": "code",
   "execution_count": null,
   "id": "2f1953078f347765",
   "metadata": {
    "ExecuteTime": {
     "end_time": "2024-12-01T01:30:58.014560Z",
     "start_time": "2024-12-01T01:30:58.007813Z"
    }
   },
   "outputs": [],
   "source": [
    "type_order = type_counts.index\n",
    "type_order"
   ]
  },
  {
   "cell_type": "code",
   "execution_count": null,
   "id": "6a1da60d98d02ffc",
   "metadata": {
    "ExecuteTime": {
     "end_time": "2024-12-01T01:30:58.791847Z",
     "start_time": "2024-12-01T01:30:58.348214Z"
    }
   },
   "outputs": [],
   "source": [
    "base_color = sns.color_palette()[0]\n",
    "sns.countplot(data=pkmn_types, y='type', color=base_color, order=type_order);"
   ]
  },
  {
   "cell_type": "code",
   "execution_count": null,
   "id": "8715a896c44c207e",
   "metadata": {
    "ExecuteTime": {
     "end_time": "2024-12-01T01:30:58.895882Z",
     "start_time": "2024-12-01T01:30:58.886776Z"
    }
   },
   "outputs": [],
   "source": [
    "n_pokemon = pkmn_types['type'].value_counts().sum()\n",
    "max_type_count = type_counts.iloc[0]\n",
    "max_prop = max_type_count / n_pokemon\n",
    "max_prop"
   ]
  },
  {
   "cell_type": "code",
   "execution_count": null,
   "id": "8e3a619cd390fa62",
   "metadata": {
    "ExecuteTime": {
     "end_time": "2024-12-01T01:30:59.016999Z",
     "start_time": "2024-12-01T01:30:59.011597Z"
    }
   },
   "outputs": [],
   "source": [
    "tick_props = np.arange(0, max_prop, 0.02)\n",
    "tick_props"
   ]
  },
  {
   "cell_type": "code",
   "execution_count": null,
   "id": "e1f3e8b9a80701c4",
   "metadata": {
    "ExecuteTime": {
     "end_time": "2024-12-01T01:30:59.121771Z",
     "start_time": "2024-12-01T01:30:59.116066Z"
    }
   },
   "outputs": [],
   "source": [
    "tick_names = ['{:0.2f}'.format(v) for v in tick_props]\n",
    "tick_names"
   ]
  },
  {
   "cell_type": "code",
   "execution_count": null,
   "id": "141d843542c42f71",
   "metadata": {
    "ExecuteTime": {
     "end_time": "2024-12-01T01:30:59.590601Z",
     "start_time": "2024-12-01T01:30:59.210885Z"
    }
   },
   "outputs": [],
   "source": [
    "sns.countplot(data=pkmn_types, y='type', color=base_color, order=type_order);\n",
    "plt.xticks(tick_props * n_pokemon, tick_names)  # !!! important\n",
    "plt.xlabel('proportion');"
   ]
  },
  {
   "cell_type": "code",
   "execution_count": null,
   "id": "20709d491ec4d962",
   "metadata": {
    "ExecuteTime": {
     "end_time": "2024-12-01T01:31:00.057127Z",
     "start_time": "2024-12-01T01:30:59.610148Z"
    }
   },
   "outputs": [],
   "source": [
    "# https://matplotlib.org/stable/api/_as_gen/matplotlib.pyplot.text.html\n",
    "base_color = sns.color_palette()[0]\n",
    "sns.countplot(data=pkmn_types, y='type', color=base_color, order=type_order);\n",
    "for i in range(type_counts.shape[0]):\n",
    "    count = type_counts.iloc[i]\n",
    "    pct_string = '{:0.1f}'.format(100 * count / n_pokemon)\n",
    "    plt.text(count + 1, i, pct_string, va='center')"
   ]
  },
  {
   "cell_type": "code",
   "execution_count": null,
   "id": "4e4b73adfbfa268d",
   "metadata": {
    "ExecuteTime": {
     "end_time": "2024-12-01T01:31:00.565460Z",
     "start_time": "2024-12-01T01:31:00.075840Z"
    }
   },
   "outputs": [],
   "source": [
    "base_color = sns.color_palette()[0]\n",
    "sns.countplot(data=pkmn_types, x='type', color=base_color, order=type_order);\n",
    "type_counts = pkmn_types['type'].value_counts()\n",
    "\n",
    "# get the current tick locations and labels\n",
    "locs, labels = plt.xticks(rotation=90)\n",
    "\n",
    "for loc, label in zip(locs, labels):\n",
    "    count = type_counts[label.get_text()]\n",
    "    pct_string = '{:0.1f}%'.format(100 * count / n_pokemon)\n",
    "    plt.text(loc, count + 2, pct_string, ha='center', color='black')\n",
    "\n",
    "from matplotlib import rcParams\n",
    "\n",
    "# Specify the figure size in inches, for both X, and Y axes\n",
    "rcParams['figure.figsize'] = 12, 4"
   ]
  },
  {
   "cell_type": "code",
   "execution_count": null,
   "id": "595a1fe412295754",
   "metadata": {
    "ExecuteTime": {
     "end_time": "2024-12-01T01:31:00.593153Z",
     "start_time": "2024-12-01T01:31:00.588882Z"
    }
   },
   "outputs": [],
   "source": [
    "# reset\n",
    "plt.rcdefaults()"
   ]
  },
  {
   "cell_type": "markdown",
   "id": "503e00d1ab17915e",
   "metadata": {},
   "source": [
    "### Counting Missing Data"
   ]
  },
  {
   "cell_type": "code",
   "execution_count": null,
   "id": "a74a29d2a127b0e0",
   "metadata": {
    "ExecuteTime": {
     "end_time": "2024-12-01T01:31:00.702912Z",
     "start_time": "2024-12-01T01:31:00.664656Z"
    }
   },
   "outputs": [],
   "source": [
    "sales_data = pd.read_csv('../data/sales_data.csv')\n",
    "sales_data.head(10)"
   ]
  },
  {
   "cell_type": "code",
   "execution_count": null,
   "id": "f24fde55ceeac0d7",
   "metadata": {
    "ExecuteTime": {
     "end_time": "2024-12-01T01:31:00.791576Z",
     "start_time": "2024-12-01T01:31:00.785164Z"
    }
   },
   "outputs": [],
   "source": [
    "sales_data.shape"
   ]
  },
  {
   "cell_type": "code",
   "execution_count": null,
   "id": "6ee7500d51e693e7",
   "metadata": {
    "ExecuteTime": {
     "end_time": "2024-12-01T01:31:00.969857Z",
     "start_time": "2024-12-01T01:31:00.948697Z"
    }
   },
   "outputs": [],
   "source": [
    "sales_data.isnull()"
   ]
  },
  {
   "cell_type": "code",
   "execution_count": null,
   "id": "c9dbc13623309904",
   "metadata": {
    "ExecuteTime": {
     "end_time": "2024-12-01T01:31:01.281258Z",
     "start_time": "2024-12-01T01:31:01.271596Z"
    }
   },
   "outputs": [],
   "source": [
    "sales_data.isna().sum()"
   ]
  },
  {
   "cell_type": "code",
   "execution_count": null,
   "id": "8d724460af696588",
   "metadata": {
    "ExecuteTime": {
     "end_time": "2024-12-01T01:31:01.509808Z",
     "start_time": "2024-12-01T01:31:01.499431Z"
    }
   },
   "outputs": [],
   "source": [
    "na_counts = sales_data.drop(['Date', 'Temperature', 'Fuel_Price'], axis=1).isna().sum()\n",
    "na_counts"
   ]
  },
  {
   "cell_type": "code",
   "execution_count": null,
   "id": "ae980eae02ad6598",
   "metadata": {
    "ExecuteTime": {
     "end_time": "2024-12-01T01:31:02.174465Z",
     "start_time": "2024-12-01T01:31:01.753490Z"
    }
   },
   "outputs": [],
   "source": [
    "# https://seaborn.pydata.org/generated/seaborn.barplot.html\n",
    "sns.barplot(x=na_counts.index.values, y=na_counts)\n",
    "plt.xticks(rotation=90)\n",
    "for i in range(na_counts.shape[0]):\n",
    "    count = na_counts.iloc[i]\n",
    "    plt.text(i, count + 300, count, ha='center', va='top')"
   ]
  },
  {
   "cell_type": "markdown",
   "id": "bd83f5c76a002e65",
   "metadata": {},
   "source": [
    "### Pie Charts"
   ]
  },
  {
   "cell_type": "code",
   "execution_count": null,
   "id": "bdff4dbd56aa62e9",
   "metadata": {
    "ExecuteTime": {
     "end_time": "2024-12-01T01:31:13.827350Z",
     "start_time": "2024-12-01T01:31:13.674079Z"
    }
   },
   "outputs": [],
   "source": [
    "# matplotlib.pyplot.pie(x_data, labels, colors, startangle, counterclock, wedgeprops)\n",
    "# matplotlib.pyplot.axis(*args, emit=True,* *kwargs)\n",
    "sorted_counts = pokemon['generation_id'].value_counts()\n",
    "plt.pie(sorted_counts, labels=sorted_counts.index, startangle=90, counterclock=False)\n",
    "plt.axis('square');"
   ]
  },
  {
   "cell_type": "code",
   "execution_count": null,
   "id": "b604f49734ce3482",
   "metadata": {
    "ExecuteTime": {
     "end_time": "2024-12-01T01:35:36.326291Z",
     "start_time": "2024-12-01T01:35:36.161262Z"
    }
   },
   "outputs": [],
   "source": [
    "sorted_counts = pokemon['generation_id'].value_counts()\n",
    "plt.pie(sorted_counts, labels=sorted_counts.index, startangle=90, counterclock=False, wedgeprops={'width': 0.4})\n",
    "plt.axis('square');"
   ]
  },
  {
   "cell_type": "markdown",
   "id": "66d14f49f873a379",
   "metadata": {},
   "source": [
    "### Histograms"
   ]
  },
  {
   "cell_type": "code",
   "execution_count": null,
   "id": "b751703da3f7c864",
   "metadata": {
    "ExecuteTime": {
     "end_time": "2024-12-01T01:47:20.592351Z",
     "start_time": "2024-12-01T01:47:20.557765Z"
    }
   },
   "outputs": [],
   "source": [
    "pokemon = pd.read_csv('../data/pokemon.csv')\n",
    "print(pokemon.shape)\n",
    "pokemon.head(10)"
   ]
  },
  {
   "cell_type": "code",
   "execution_count": null,
   "id": "2b739c7747c8bb88",
   "metadata": {
    "ExecuteTime": {
     "end_time": "2024-12-01T01:47:36.622985Z",
     "start_time": "2024-12-01T01:47:36.266286Z"
    }
   },
   "outputs": [],
   "source": [
    "plt.hist(data=pokemon, x='speed');"
   ]
  },
  {
   "cell_type": "code",
   "execution_count": null,
   "id": "72c044b2aa95f420",
   "metadata": {
    "ExecuteTime": {
     "end_time": "2024-12-01T01:51:24.367233Z",
     "start_time": "2024-12-01T01:51:24.353015Z"
    }
   },
   "outputs": [],
   "source": [
    "pokemon['speed'].describe()"
   ]
  },
  {
   "cell_type": "code",
   "execution_count": null,
   "id": "82fe2b6f861b67a7",
   "metadata": {
    "ExecuteTime": {
     "end_time": "2024-12-01T01:52:12.137054Z",
     "start_time": "2024-12-01T01:52:11.790374Z"
    }
   },
   "outputs": [],
   "source": [
    "plt.hist(data=pokemon, x='speed', bins=20)"
   ]
  },
  {
   "cell_type": "code",
   "execution_count": null,
   "id": "7a494889b350094c",
   "metadata": {
    "ExecuteTime": {
     "end_time": "2024-12-01T01:53:04.761552Z",
     "start_time": "2024-12-01T01:53:04.341878Z"
    }
   },
   "outputs": [],
   "source": [
    "bins = np.arange(0, pokemon['speed'].max() + 5, 5)\n",
    "plt.hist(data=pokemon, x='speed', bins=bins)"
   ]
  },
  {
   "cell_type": "code",
   "execution_count": null,
   "id": "fbc24ef602c51e8e",
   "metadata": {
    "ExecuteTime": {
     "end_time": "2024-12-01T01:58:58.161734Z",
     "start_time": "2024-12-01T01:58:57.391061Z"
    }
   },
   "outputs": [],
   "source": [
    "sns.displot(pokemon['speed']);"
   ]
  },
  {
   "cell_type": "code",
   "execution_count": null,
   "id": "6021fe885f7466b9",
   "metadata": {
    "ExecuteTime": {
     "end_time": "2024-12-01T01:59:22.085479Z",
     "start_time": "2024-12-01T01:59:21.618266Z"
    }
   },
   "outputs": [],
   "source": [
    "sns.histplot(pokemon['speed']);"
   ]
  },
  {
   "cell_type": "code",
   "execution_count": null,
   "id": "468cce6832a61dc3",
   "metadata": {
    "ExecuteTime": {
     "end_time": "2024-12-01T02:05:18.323601Z",
     "start_time": "2024-12-01T02:05:17.359933Z"
    }
   },
   "outputs": [],
   "source": [
    "plt.figure(figsize=[20, 5])\n",
    "\n",
    "plt.subplot(1, 2, 1)  # 1 row, 2 cols, subplot 1\n",
    "bins = np.arange(0, pokemon['speed'].max() + 4, 4)\n",
    "plt.hist(data=pokemon, x='speed', bins=bins);\n",
    "\n",
    "plt.subplot(1, 2, 2)  # 1 row, 2 cols, subplot 2\n",
    "bins = np.arange(0, pokemon['speed'].max() + 1, 1)\n",
    "plt.hist(data=pokemon, x='speed', bins=bins);"
   ]
  },
  {
   "cell_type": "markdown",
   "id": "3d0c28f9eeff8100",
   "metadata": {},
   "source": [
    "### Figures, Axes, and Subplots"
   ]
  },
  {
   "cell_type": "code",
   "execution_count": null,
   "id": "cc686b4d88bf883b",
   "metadata": {
    "ExecuteTime": {
     "end_time": "2024-12-01T02:36:33.986926Z",
     "start_time": "2024-12-01T02:36:33.647223Z"
    }
   },
   "outputs": [],
   "source": [
    "# Figure -> Axes -> Plot\n",
    "fig = plt.figure()\n",
    "# The argument of add_axes represents the dimensions [left, bottom, width, height] of the new axes.\n",
    "# All quantities are in fractions of figure width and height.\n",
    "ax = fig.add_axes([.125, .125, .775, .755])\n",
    "ax.hist(data=pokemon, x='speed');"
   ]
  },
  {
   "cell_type": "code",
   "execution_count": null,
   "id": "9bd3a90bb60bc921",
   "metadata": {
    "ExecuteTime": {
     "end_time": "2024-12-01T02:40:20.469008Z",
     "start_time": "2024-12-01T02:40:20.185647Z"
    }
   },
   "outputs": [],
   "source": [
    "fig = plt.figure()\n",
    "ax = fig.add_axes([.125, .125, .775, .755])\n",
    "base_color = sns.color_palette()[0]\n",
    "sns.countplot(data=pokemon, x='generation_id', color=base_color, ax=ax);"
   ]
  },
  {
   "cell_type": "code",
   "execution_count": null,
   "id": "73f73cfc37ce0dea",
   "metadata": {
    "ExecuteTime": {
     "end_time": "2024-12-01T02:46:16.712776Z",
     "start_time": "2024-12-01T02:46:14.911249Z"
    }
   },
   "outputs": [],
   "source": [
    "fig, axes = plt.subplots(3, 4)  # grid of 3x4 subplots\n",
    "axes = axes.flatten()  # reshape from 3x4 array into 12-element vector\n",
    "for i in range(12):\n",
    "    plt.sca(axes[i])  # set the current Axes\n",
    "    plt.text(0.5, 0.5, i + 1)  # print conventional subplot index number to middle of Axes"
   ]
  },
  {
   "cell_type": "markdown",
   "id": "2017cfdfd5375f49",
   "metadata": {},
   "source": [
    "### Choosing a Plot for Discrete Data"
   ]
  },
  {
   "cell_type": "code",
   "execution_count": null,
   "id": "a300666adbcb7d97",
   "metadata": {
    "ExecuteTime": {
     "end_time": "2024-12-01T03:13:21.232814Z",
     "start_time": "2024-12-01T03:13:21.229225Z"
    }
   },
   "outputs": [],
   "source": [
    "# Since data points fall on set values (bar-width), it can help to reduce ambiguity by putting bin edges between the actual values taken by the data."
   ]
  },
  {
   "cell_type": "code",
   "execution_count": null,
   "id": "9e9d4fe0b8062809",
   "metadata": {
    "ExecuteTime": {
     "end_time": "2024-12-01T03:14:35.069431Z",
     "start_time": "2024-12-01T03:14:35.057509Z"
    }
   },
   "outputs": [],
   "source": [
    "die_rolls = pd.read_csv('../data/die_rolls.csv')\n",
    "die_rolls.head(10)"
   ]
  },
  {
   "cell_type": "code",
   "execution_count": null,
   "id": "addd4b1e4568abbd",
   "metadata": {
    "ExecuteTime": {
     "end_time": "2024-12-01T03:15:20.626794Z",
     "start_time": "2024-12-01T03:15:19.601452Z"
    }
   },
   "outputs": [],
   "source": [
    "plt.figure(figsize=[20, 5])\n",
    "\n",
    "# Histogram on the left, bin edges on integers\n",
    "plt.subplot(1, 2, 1)\n",
    "bin_edges = np.arange(2, 12 + 1.1, 1)  # note `+1.1`, see below\n",
    "plt.hist(data=die_rolls, x='Sum', bins=bin_edges);\n",
    "plt.xticks(np.arange(2, 12 + 1, 1));\n",
    "\n",
    "# Histogram on the right, bin edges between integers\n",
    "plt.subplot(1, 2, 2)\n",
    "bin_edges = np.arange(1.5, 12.5 + 1, 1)\n",
    "plt.hist(data=die_rolls, x='Sum', bins=bin_edges);\n",
    "plt.xticks(np.arange(2, 12 + 1, 1));"
   ]
  },
  {
   "cell_type": "code",
   "execution_count": null,
   "id": "eea5867d29fd153c",
   "metadata": {
    "ExecuteTime": {
     "end_time": "2024-12-01T03:19:33.218629Z",
     "start_time": "2024-12-01T03:19:32.872121Z"
    }
   },
   "outputs": [],
   "source": [
    "bin_edges = np.arange(1.5, 12.5 + 1, 1)\n",
    "plt.hist(data=die_rolls, x='Sum', bins=bin_edges, rwidth=0.7)\n",
    "plt.xticks(np.arange(2, 12 + 1, 1));"
   ]
  },
  {
   "cell_type": "markdown",
   "id": "7c2e1d18eb431d49",
   "metadata": {},
   "source": [
    "### Descriptive Statistics, Outliers and Axis Limits"
   ]
  },
  {
   "cell_type": "code",
   "execution_count": null,
   "id": "98090107ec0b38eb",
   "metadata": {
    "ExecuteTime": {
     "end_time": "2024-12-01T03:30:17.315238Z",
     "start_time": "2024-12-01T03:30:16.866552Z"
    }
   },
   "outputs": [],
   "source": [
    "# Get the ticks for bins between [0-15], at an interval of 0.5\n",
    "bins = np.arange(0, pokemon['height'].max() + 0.5, 0.5)\n",
    "\n",
    "plt.hist(data=pokemon, x='height', bins=bins);"
   ]
  },
  {
   "cell_type": "code",
   "execution_count": null,
   "id": "92bd68422be69355",
   "metadata": {
    "ExecuteTime": {
     "end_time": "2024-12-01T03:35:08.576961Z",
     "start_time": "2024-12-01T03:35:08.185870Z"
    }
   },
   "outputs": [],
   "source": [
    "bins = np.arange(0, pokemon['height'].max() + 0.2, 0.2)\n",
    "plt.hist(data=pokemon, x='height', bins=bins)\n",
    "\n",
    "# Set the upper and lower bounds of the bins that are displayed in the plot\n",
    "plt.xlim((0, 6));\n",
    "#plt.xlim(0,6)"
   ]
  },
  {
   "cell_type": "markdown",
   "id": "601d9a47e23c1537",
   "metadata": {},
   "source": [
    "### Scales and Transformations"
   ]
  },
  {
   "cell_type": "code",
   "execution_count": null,
   "id": "28de2eb9a1290a7b",
   "metadata": {
    "ExecuteTime": {
     "end_time": "2024-12-01T03:46:41.459330Z",
     "start_time": "2024-12-01T03:46:40.579296Z"
    }
   },
   "outputs": [],
   "source": [
    "plt.figure(figsize=[20, 5])\n",
    "\n",
    "plt.subplot(1, 2, 1)\n",
    "plt.hist(data=pokemon, x='weight');\n",
    "plt.xlabel('Initial plot with original data')\n",
    "\n",
    "plt.subplot(1, 2, 2)\n",
    "## Get the ticks for bins between [0 - maximum weight]\n",
    "bins = np.arange(0, pokemon['weight'].max() + 40, 40)\n",
    "plt.hist(data=pokemon, x='weight', bins=bins);\n",
    "\n",
    "## The argument in the xscale() represents the axis scale type to apply.\n",
    "## The possible values are: {\"linear\", \"log\", \"symlog\", \"logit\", ...}\n",
    "## Refer - https://matplotlib.org/3.1.1/api/_as_gen/matplotlib.pyplot.xscale.html\n",
    "plt.xscale('log')\n",
    "plt.xlabel('The x-axis limits NOT are changed. They are only scaled to log-type')"
   ]
  },
  {
   "cell_type": "code",
   "execution_count": null,
   "id": "6042962d012abed6",
   "metadata": {
    "ExecuteTime": {
     "end_time": "2024-12-01T03:47:04.849290Z",
     "start_time": "2024-12-01T03:47:04.840753Z"
    }
   },
   "outputs": [],
   "source": [
    "pokemon['weight'].describe()"
   ]
  },
  {
   "cell_type": "code",
   "execution_count": null,
   "id": "a5ecaa518d744c3d",
   "metadata": {
    "ExecuteTime": {
     "end_time": "2024-12-01T03:50:12.473433Z",
     "start_time": "2024-12-01T03:50:12.462363Z"
    }
   },
   "outputs": [],
   "source": [
    "## Transform the describe() to a scale of log10\n",
    "np.log10(pokemon['weight'].describe())"
   ]
  },
  {
   "cell_type": "code",
   "execution_count": null,
   "id": "703f58ffef0303e5",
   "metadata": {
    "ExecuteTime": {
     "end_time": "2024-12-01T03:51:28.863704Z",
     "start_time": "2024-12-01T03:51:28.064481Z"
    }
   },
   "outputs": [],
   "source": [
    "## Axis transformation\n",
    "## Bin size\n",
    "bins = 10 ** np.arange(-1, 3 + 0.1, 0.1)\n",
    "plt.hist(data=pokemon, x='weight', bins=bins)\n",
    "\n",
    "## The argument in the xscale() represents the axis scale type to apply.\n",
    "## The possible values are: {\"linear\", \"log\", \"symlog\", \"logit\", ...}\n",
    "plt.xscale('log')\n",
    "plt.xlabel('x-axis limits are changed, and scaled to log-type');"
   ]
  },
  {
   "cell_type": "code",
   "execution_count": null,
   "id": "ecc2469584ae2c39",
   "metadata": {
    "ExecuteTime": {
     "end_time": "2024-12-01T03:56:09.296334Z",
     "start_time": "2024-12-01T03:56:08.535087Z"
    }
   },
   "outputs": [],
   "source": [
    "## Get the ticks for bins between [0 - maximum weight]\n",
    "bins = 10 ** np.arange(-1, 3 + 0.1, 0.1)\n",
    "# print(bins)\n",
    "\n",
    "ticks = [0.1, 0.3, 1, 3, 10, 30, 100, 300, 1000]\n",
    "labels = ['{}'.format(v) for v in ticks]\n",
    "\n",
    "plt.hist(data=pokemon, x='weight', bins=bins)\n",
    "plt.xscale('log')\n",
    "plt.xticks(ticks, labels);\n",
    "\n",
    "# Setting ticks in cycles of 1-3-10 or 1-2-5-10 are very useful for base-10 log transforms.\n",
    "# It is important that the xticks are specified after xscale since that function has its own built-in tick settings"
   ]
  },
  {
   "cell_type": "code",
   "execution_count": null,
   "id": "891ad6bc160e3d35",
   "metadata": {
    "ExecuteTime": {
     "end_time": "2024-12-01T04:01:19.478641Z",
     "start_time": "2024-12-01T04:01:19.179223Z"
    }
   },
   "outputs": [],
   "source": [
    "def sqrt_trans(x, inverse = False):\n",
    "    \"\"\" transformation helper function \"\"\"\n",
    "    if not inverse:\n",
    "        return np.sqrt(x)\n",
    "    else:\n",
    "        return x ** 2\n",
    "\n",
    "## Bin resizing, to transform the x-axis\n",
    "bin_edges = np.arange(0, sqrt_trans(pokemon['weight'].max())+1, 1)\n",
    "\n",
    "## Plot the scaled data\n",
    "plt.hist(pokemon['weight'].apply(sqrt_trans), bins = bin_edges)\n",
    "\n",
    "## Identify the tick-locations\n",
    "tick_locs = np.arange(0, sqrt_trans(pokemon['weight'].max())+10, 10)\n",
    "\n",
    "## Apply x-ticks\n",
    "plt.xticks(tick_locs, sqrt_trans(tick_locs, inverse = True).astype(int));"
   ]
  },
  {
   "cell_type": "code",
   "execution_count": null,
   "id": "c9eb7d23cdc769c4",
   "metadata": {},
   "outputs": [],
   "source": [
    "# Waffle Plots\n",
    "\n",
    "# One alternative univariate plot type that you might see for categorical data is the waffle plot, also known as the square pie chart. \n",
    "# While the standard pie chart uses a circle to represent the whole, a waffle plot is plotted onto a square divided into a 10x10 grid. \n",
    "# Each small square in the grid represents one percent of the data, and a number of squares are colored by category to indicate total proportions. "
   ]
  },
  {
   "cell_type": "code",
   "execution_count": null,
   "id": "c676911c",
   "metadata": {},
   "outputs": [],
   "source": [
    "# There's no built-in function for waffle plots in Matplotlib or Seaborn, so we'll need to take some additional steps in order to build one with the tools available\n",
    "\n",
    "def percentage_blocks(df, var):\n",
    "    \"\"\"\n",
    "    Take as input a dataframe and variable, and return a Pandas series with\n",
    "    approximate percentage values for filling out a waffle plot.\n",
    "    \"\"\"\n",
    "    # compute base quotas\n",
    "    percentages = 100 * df[var].value_counts() / df.shape[0]\n",
    "    counts = np.floor(percentages).astype(int) # integer part = minimum quota\n",
    "    decimal = (percentages - counts).sort_values(ascending = False)\n",
    "    \n",
    "    # add in additional counts to reach 100\n",
    "    rem = 100 - counts.sum()\n",
    "    for cat in decimal.index[:rem]:\n",
    "        counts[cat] += 1\n",
    "    \n",
    "    return counts\n",
    "\n",
    "waffle_counts = percentage_blocks(df, 'cat_var')\n",
    "\n",
    "prev_count = 0\n",
    "# for each category,\n",
    "for cat in range(waffle_counts.shape[0]):\n",
    "    # get the block indices\n",
    "    blocks = np.arange(prev_count, prev_count + waffle_counts[cat])\n",
    "    # and put a block at each index's location\n",
    "    x = blocks % 10 # use mod operation to get ones digit\n",
    "    y = blocks // 10 # use floor division to get tens digit\n",
    "    plt.bar(x = x, height = 0.8, width = 0.8, bottom = y)\n",
    "    prev_count += waffle_counts[cat]\n",
    "\n",
    "# aesthetic wrangling\n",
    "plt.legend(waffle_counts.index, bbox_to_anchor = (1, 0.5), loc = 6)\n",
    "plt.axis('off')\n",
    "plt.axis('square')"
   ]
  },
  {
   "cell_type": "code",
   "execution_count": null,
   "id": "905a08c1",
   "metadata": {},
   "outputs": [],
   "source": [
    "# Other variants of the waffle plot exist to extend it beyond just displaying probabilities. \n",
    "# By associating each square with an amount rather than a percentage, we can use waffle plots to show absolute frequencies instead. \n",
    "# This might cause us to end up with something other than 100 squares."
   ]
  },
  {
   "cell_type": "code",
   "execution_count": null,
   "id": "8cad2e4a",
   "metadata": {},
   "outputs": [],
   "source": [
    "# each box represents five full counts\n",
    "waffle_counts = (df['cat_var'].value_counts() / 5).astype(int)\n",
    "\n",
    "prev_count = 0\n",
    "# for each category,\n",
    "for cat in range(waffle_counts.shape[0]):\n",
    "    # get the block indices\n",
    "    blocks = np.arange(prev_count, prev_count + waffle_counts[cat])\n",
    "    # and put a block at each index's location\n",
    "    x = blocks % 10\n",
    "    y = blocks // 10\n",
    "    plt.bar(y, 0.8, 0.8, x)\n",
    "    prev_count += waffle_counts[cat]\n",
    "\n",
    "# box size legend\n",
    "plt.bar(7.5, 0.8, 0.8, 2, color = 'white', edgecolor = 'black', lw = 2)\n",
    "plt.text(8.1, 2.4,'= 5 data points', va = 'center')\n",
    "\n",
    "# aesthetic wrangling\n",
    "plt.legend(waffle_counts.index, bbox_to_anchor = (0.8, 0.5), loc = 6)\n",
    "plt.axis('off')\n",
    "plt.axis('square')"
   ]
  },
  {
   "cell_type": "code",
   "execution_count": null,
   "id": "4135728d",
   "metadata": {},
   "outputs": [],
   "source": [
    "# https://github.com/gyli/PyWaffle"
   ]
  }
 ],
 "metadata": {
  "kernelspec": {
   "display_name": ".venv",
   "language": "python",
   "name": "python3"
  },
  "language_info": {
   "codemirror_mode": {
    "name": "ipython",
    "version": 3
   },
   "file_extension": ".py",
   "mimetype": "text/x-python",
   "name": "python",
   "nbconvert_exporter": "python",
   "pygments_lexer": "ipython3",
   "version": "3.12.3"
  }
 },
 "nbformat": 4,
 "nbformat_minor": 5
}
