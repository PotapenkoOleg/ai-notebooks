{
 "cells": [
  {
   "cell_type": "code",
   "execution_count": 9,
   "id": "2bc734c7",
   "metadata": {},
   "outputs": [],
   "source": [
    "import numpy as np"
   ]
  },
  {
   "cell_type": "code",
   "execution_count": 10,
   "id": "0e61bd90",
   "metadata": {},
   "outputs": [],
   "source": [
    "a = np.array([\n",
    "    [6,5,2,3,9,8,4,1,7], \n",
    "    [8,4,1,6,5,7,9,2,3],\n",
    "    [3,7,9,4,1,2,6,5,8],\n",
    "    [4,2,6,1,8,5,3,7,9], \n",
    "    [5,1,8,9,7,3,2,4,6],\n",
    "    [7,9,3,2,6,4,5,8,1],\n",
    "    [2,6,7,5,3,1,8,9,4], \n",
    "    [9,8,4,7,2,6,1,3,5],\n",
    "    [1,3,5,8,4,9,7,6,2],\n",
    "    ], dtype=np.int64)\n",
    "\n"
   ]
  },
  {
   "cell_type": "code",
   "execution_count": 11,
   "id": "227a7857",
   "metadata": {},
   "outputs": [
    {
     "data": {
      "text/plain": [
       "array([45, 45, 45, 45, 45, 45, 45, 45, 45])"
      ]
     },
     "execution_count": 11,
     "metadata": {},
     "output_type": "execute_result"
    }
   ],
   "source": [
    "x = a.sum(axis=1)\n",
    "x"
   ]
  },
  {
   "cell_type": "code",
   "execution_count": 12,
   "id": "89a2af27",
   "metadata": {},
   "outputs": [
    {
     "data": {
      "text/plain": [
       "array([45, 45, 45, 45, 45, 45, 45, 45, 45])"
      ]
     },
     "execution_count": 12,
     "metadata": {},
     "output_type": "execute_result"
    }
   ],
   "source": [
    "y = a.sum(axis=0)\n",
    "y"
   ]
  },
  {
   "cell_type": "code",
   "execution_count": 14,
   "id": "9cfd1cdd",
   "metadata": {},
   "outputs": [
    {
     "data": {
      "text/plain": [
       "np.int64(45)"
      ]
     },
     "execution_count": 14,
     "metadata": {},
     "output_type": "execute_result"
    }
   ],
   "source": [
    "arr = np.array([1,2,3,4,5,6,7,8,9])\n",
    "test_sum = arr.sum()\n",
    "test_sum"
   ]
  },
  {
   "cell_type": "code",
   "execution_count": null,
   "id": "1f18b061",
   "metadata": {},
   "outputs": [],
   "source": []
  }
 ],
 "metadata": {
  "kernelspec": {
   "display_name": ".venv",
   "language": "python",
   "name": "python3"
  },
  "language_info": {
   "codemirror_mode": {
    "name": "ipython",
    "version": 3
   },
   "file_extension": ".py",
   "mimetype": "text/x-python",
   "name": "python",
   "nbconvert_exporter": "python",
   "pygments_lexer": "ipython3",
   "version": "3.12.3"
  }
 },
 "nbformat": 4,
 "nbformat_minor": 5
}
