{
 "cells": [
  {
   "cell_type": "code",
   "id": "initial_id",
   "metadata": {
    "collapsed": true,
    "ExecuteTime": {
     "end_time": "2024-11-27T21:04:59.225203Z",
     "start_time": "2024-11-27T21:04:56.336277Z"
    }
   },
   "source": [
    "import numpy as np"
   ],
   "outputs": [],
   "execution_count": 2
  },
  {
   "cell_type": "markdown",
   "id": "5f03670c",
   "metadata": {},
   "source": [
    "### Creating and Saving NumPy ndarrays"
   ]
  },
  {
   "cell_type": "code",
   "id": "a99b7a54a6750d5b",
   "metadata": {
    "ExecuteTime": {
     "end_time": "2024-11-27T21:04:59.235796Z",
     "start_time": "2024-11-27T21:04:59.232147Z"
    }
   },
   "source": [
    "a = np.array([[1,2,3],[4,5,6]], dtype=np.float32)"
   ],
   "outputs": [],
   "execution_count": 3
  },
  {
   "cell_type": "code",
   "id": "33f0314560cba59a",
   "metadata": {
    "ExecuteTime": {
     "end_time": "2024-11-27T21:04:59.262088Z",
     "start_time": "2024-11-27T21:04:59.253524Z"
    }
   },
   "source": [
    "a"
   ],
   "outputs": [
    {
     "data": {
      "text/plain": [
       "array([[1., 2., 3.],\n",
       "       [4., 5., 6.]], dtype=float32)"
      ]
     },
     "execution_count": 4,
     "metadata": {},
     "output_type": "execute_result"
    }
   ],
   "execution_count": 4
  },
  {
   "cell_type": "code",
   "id": "4a4e111f1237ff64",
   "metadata": {
    "ExecuteTime": {
     "end_time": "2024-11-27T21:05:00.210025Z",
     "start_time": "2024-11-27T21:05:00.204955Z"
    }
   },
   "source": [
    "# rank\n",
    "a.ndim"
   ],
   "outputs": [
    {
     "data": {
      "text/plain": [
       "2"
      ]
     },
     "execution_count": 5,
     "metadata": {},
     "output_type": "execute_result"
    }
   ],
   "execution_count": 5
  },
  {
   "cell_type": "code",
   "id": "b3c1905b4ae1408a",
   "metadata": {
    "ExecuteTime": {
     "end_time": "2024-11-27T21:05:00.393742Z",
     "start_time": "2024-11-27T21:05:00.386760Z"
    }
   },
   "source": [
    "# shape\n",
    "a.shape"
   ],
   "outputs": [
    {
     "data": {
      "text/plain": [
       "(2, 3)"
      ]
     },
     "execution_count": 6,
     "metadata": {},
     "output_type": "execute_result"
    }
   ],
   "execution_count": 6
  },
  {
   "cell_type": "code",
   "id": "233ae2266eba64af",
   "metadata": {
    "ExecuteTime": {
     "end_time": "2024-11-27T21:05:00.465382Z",
     "start_time": "2024-11-27T21:05:00.460368Z"
    }
   },
   "source": [
    "# dtype\n",
    "a.dtype"
   ],
   "outputs": [
    {
     "data": {
      "text/plain": [
       "dtype('float32')"
      ]
     },
     "execution_count": 7,
     "metadata": {},
     "output_type": "execute_result"
    }
   ],
   "execution_count": 7
  },
  {
   "cell_type": "code",
   "id": "c5daa348f90c16e6",
   "metadata": {
    "ExecuteTime": {
     "end_time": "2024-11-27T21:05:00.586204Z",
     "start_time": "2024-11-27T21:05:00.580567Z"
    }
   },
   "source": [
    "# number of elements\n",
    "a.size"
   ],
   "outputs": [
    {
     "data": {
      "text/plain": [
       "6"
      ]
     },
     "execution_count": 8,
     "metadata": {},
     "output_type": "execute_result"
    }
   ],
   "execution_count": 8
  },
  {
   "cell_type": "code",
   "id": "c9caf322e4ec1467",
   "metadata": {
    "ExecuteTime": {
     "end_time": "2024-11-27T21:05:00.696188Z",
     "start_time": "2024-11-27T21:05:00.691086Z"
    }
   },
   "source": [
    "x = np.array(['Hello', 'World!'])\n",
    "\n",
    "print('x = ', x)\n",
    "print('x has dimensions:', x.shape)\n",
    "print('x is an object of type:', type(x))\n",
    "print('The elements in x are of type:', x.dtype)"
   ],
   "outputs": [
    {
     "name": "stdout",
     "output_type": "stream",
     "text": [
      "x =  ['Hello' 'World!']\n",
      "x has dimensions: (2,)\n",
      "x is an object of type: <class 'numpy.ndarray'>\n",
      "The elements in x are of type: <U6\n"
     ]
    }
   ],
   "execution_count": 9
  },
  {
   "cell_type": "code",
   "id": "3029ecbaef78abaf",
   "metadata": {
    "ExecuteTime": {
     "end_time": "2024-11-27T21:05:00.793523Z",
     "start_time": "2024-11-27T21:05:00.789976Z"
    }
   },
   "source": [
    "# save\n",
    "x = np.array([1, 2, 3, 4, 5], dtype=np.float32)\n",
    "# np.save('my_array', x)"
   ],
   "outputs": [],
   "execution_count": 10
  },
  {
   "cell_type": "code",
   "id": "ab7a7e0d3d4d79af",
   "metadata": {
    "ExecuteTime": {
     "end_time": "2024-11-27T21:05:00.895970Z",
     "start_time": "2024-11-27T21:05:00.892056Z"
    }
   },
   "source": "# y = np.load('my_array.npy')",
   "outputs": [],
   "execution_count": 11
  },
  {
   "cell_type": "code",
   "id": "39624fed3f2aa6bb",
   "metadata": {
    "ExecuteTime": {
     "end_time": "2024-11-27T21:05:00.926936Z",
     "start_time": "2024-11-27T21:05:00.924064Z"
    }
   },
   "source": "# y.dtype",
   "outputs": [],
   "execution_count": 12
  },
  {
   "cell_type": "code",
   "id": "fc4668b4b8cad28e",
   "metadata": {
    "ExecuteTime": {
     "end_time": "2024-11-27T21:05:00.954904Z",
     "start_time": "2024-11-27T21:05:00.951525Z"
    }
   },
   "source": "# y.shape",
   "outputs": [],
   "execution_count": 13
  },
  {
   "cell_type": "markdown",
   "id": "93c00ea4ea238db3",
   "metadata": {},
   "source": [
    "### Using Built-in Functions to Create ndarrays"
   ]
  },
  {
   "cell_type": "code",
   "id": "dd6c59c0",
   "metadata": {
    "ExecuteTime": {
     "end_time": "2024-11-27T21:05:00.973692Z",
     "start_time": "2024-11-27T21:05:00.968448Z"
    }
   },
   "source": [
    "X = np.zeros((3,4))\n",
    "X"
   ],
   "outputs": [
    {
     "data": {
      "text/plain": [
       "array([[0., 0., 0., 0.],\n",
       "       [0., 0., 0., 0.],\n",
       "       [0., 0., 0., 0.]])"
      ]
     },
     "execution_count": 14,
     "metadata": {},
     "output_type": "execute_result"
    }
   ],
   "execution_count": 14
  },
  {
   "cell_type": "code",
   "id": "7531784e",
   "metadata": {
    "ExecuteTime": {
     "end_time": "2024-11-27T21:05:01.104992Z",
     "start_time": "2024-11-27T21:05:01.099363Z"
    }
   },
   "source": [
    "X = np.ones((3,2), dtype=np.int64)\n",
    "X"
   ],
   "outputs": [
    {
     "data": {
      "text/plain": [
       "array([[1, 1],\n",
       "       [1, 1],\n",
       "       [1, 1]])"
      ]
     },
     "execution_count": 15,
     "metadata": {},
     "output_type": "execute_result"
    }
   ],
   "execution_count": 15
  },
  {
   "cell_type": "code",
   "id": "abfd5083",
   "metadata": {
    "ExecuteTime": {
     "end_time": "2024-11-27T21:05:01.312656Z",
     "start_time": "2024-11-27T21:05:01.307163Z"
    }
   },
   "source": [
    "X = np.full((2,3), 42.0, dtype=np.int32) \n",
    "X"
   ],
   "outputs": [
    {
     "data": {
      "text/plain": [
       "array([[42, 42, 42],\n",
       "       [42, 42, 42]], dtype=int32)"
      ]
     },
     "execution_count": 16,
     "metadata": {},
     "output_type": "execute_result"
    }
   ],
   "execution_count": 16
  },
  {
   "cell_type": "code",
   "id": "a02e8c86",
   "metadata": {
    "ExecuteTime": {
     "end_time": "2024-11-27T21:05:01.544905Z",
     "start_time": "2024-11-27T21:05:01.538364Z"
    }
   },
   "source": [
    "# We create a 5 x 5 Identity matrix. \n",
    "X = np.eye(5)\n",
    "X"
   ],
   "outputs": [
    {
     "data": {
      "text/plain": [
       "array([[1., 0., 0., 0., 0.],\n",
       "       [0., 1., 0., 0., 0.],\n",
       "       [0., 0., 1., 0., 0.],\n",
       "       [0., 0., 0., 1., 0.],\n",
       "       [0., 0., 0., 0., 1.]])"
      ]
     },
     "execution_count": 17,
     "metadata": {},
     "output_type": "execute_result"
    }
   ],
   "execution_count": 17
  },
  {
   "cell_type": "code",
   "id": "92c83ab3",
   "metadata": {
    "ExecuteTime": {
     "end_time": "2024-11-27T21:05:01.810926Z",
     "start_time": "2024-11-27T21:05:01.805655Z"
    }
   },
   "source": [
    "X = np.diag([10,20,30,50])\n",
    "X"
   ],
   "outputs": [
    {
     "data": {
      "text/plain": [
       "array([[10,  0,  0,  0],\n",
       "       [ 0, 20,  0,  0],\n",
       "       [ 0,  0, 30,  0],\n",
       "       [ 0,  0,  0, 50]])"
      ]
     },
     "execution_count": 18,
     "metadata": {},
     "output_type": "execute_result"
    }
   ],
   "execution_count": 18
  },
  {
   "cell_type": "code",
   "id": "8f421f44",
   "metadata": {
    "ExecuteTime": {
     "end_time": "2024-11-27T21:05:02.106486Z",
     "start_time": "2024-11-27T21:05:02.100702Z"
    }
   },
   "source": [
    "X = np.diag(np.full((3,), 42))\n",
    "X"
   ],
   "outputs": [
    {
     "data": {
      "text/plain": [
       "array([[42,  0,  0],\n",
       "       [ 0, 42,  0],\n",
       "       [ 0,  0, 42]])"
      ]
     },
     "execution_count": 19,
     "metadata": {},
     "output_type": "execute_result"
    }
   ],
   "execution_count": 19
  },
  {
   "cell_type": "code",
   "id": "415b868c",
   "metadata": {
    "ExecuteTime": {
     "end_time": "2024-11-27T21:05:02.398461Z",
     "start_time": "2024-11-27T21:05:02.392416Z"
    }
   },
   "source": [
    "# numpy.arange([start, ]stop, [step, ]dtype=None)\n",
    "X = np.arange(10)\n",
    "X\n"
   ],
   "outputs": [
    {
     "data": {
      "text/plain": [
       "array([0, 1, 2, 3, 4, 5, 6, 7, 8, 9])"
      ]
     },
     "execution_count": 20,
     "metadata": {},
     "output_type": "execute_result"
    }
   ],
   "execution_count": 20
  },
  {
   "cell_type": "code",
   "id": "04caa423",
   "metadata": {
    "ExecuteTime": {
     "end_time": "2024-11-27T21:05:02.692532Z",
     "start_time": "2024-11-27T21:05:02.687401Z"
    }
   },
   "source": [
    "X = np.arange(4,10)\n",
    "X"
   ],
   "outputs": [
    {
     "data": {
      "text/plain": [
       "array([4, 5, 6, 7, 8, 9])"
      ]
     },
     "execution_count": 21,
     "metadata": {},
     "output_type": "execute_result"
    }
   ],
   "execution_count": 21
  },
  {
   "cell_type": "code",
   "id": "07a72eb6",
   "metadata": {
    "ExecuteTime": {
     "end_time": "2024-11-27T21:05:02.893211Z",
     "start_time": "2024-11-27T21:05:02.888308Z"
    }
   },
   "source": [
    "X = np.arange(1,14,3)\n",
    "X"
   ],
   "outputs": [
    {
     "data": {
      "text/plain": [
       "array([ 1,  4,  7, 10, 13])"
      ]
     },
     "execution_count": 22,
     "metadata": {},
     "output_type": "execute_result"
    }
   ],
   "execution_count": 22
  },
  {
   "cell_type": "code",
   "id": "8893b44a",
   "metadata": {
    "ExecuteTime": {
     "end_time": "2024-11-27T21:05:03.033144Z",
     "start_time": "2024-11-27T21:05:03.024606Z"
    }
   },
   "source": [
    "# numpy.linspace(start, stop, num=50, endpoint=True, retstep=False, dtype=None, axis=0)\n",
    "X = np.linspace(0,25,3)\n",
    "X"
   ],
   "outputs": [
    {
     "data": {
      "text/plain": [
       "array([ 0. , 12.5, 25. ])"
      ]
     },
     "execution_count": 23,
     "metadata": {},
     "output_type": "execute_result"
    }
   ],
   "execution_count": 23
  },
  {
   "cell_type": "code",
   "id": "137f5b77",
   "metadata": {
    "ExecuteTime": {
     "end_time": "2024-11-27T21:05:03.174233Z",
     "start_time": "2024-11-27T21:05:03.168852Z"
    }
   },
   "source": [
    "X = np.linspace(0,25,10, endpoint = False)\n",
    "X"
   ],
   "outputs": [
    {
     "data": {
      "text/plain": [
       "array([ 0. ,  2.5,  5. ,  7.5, 10. , 12.5, 15. , 17.5, 20. , 22.5])"
      ]
     },
     "execution_count": 24,
     "metadata": {},
     "output_type": "execute_result"
    }
   ],
   "execution_count": 24
  },
  {
   "cell_type": "code",
   "id": "7a2f2450",
   "metadata": {
    "ExecuteTime": {
     "end_time": "2024-11-27T21:05:03.292459Z",
     "start_time": "2024-11-27T21:05:03.289554Z"
    }
   },
   "source": [
    "# numpy.reshape(array, newshape, order='C')[source]\n"
   ],
   "outputs": [],
   "execution_count": 25
  },
  {
   "cell_type": "code",
   "id": "b73cf12f",
   "metadata": {
    "ExecuteTime": {
     "end_time": "2024-11-27T21:05:03.356416Z",
     "start_time": "2024-11-27T21:05:03.350840Z"
    }
   },
   "source": [
    "X = np.arange(20)\n",
    "X = np.reshape(X, (4,5))\n",
    "X"
   ],
   "outputs": [
    {
     "data": {
      "text/plain": [
       "array([[ 0,  1,  2,  3,  4],\n",
       "       [ 5,  6,  7,  8,  9],\n",
       "       [10, 11, 12, 13, 14],\n",
       "       [15, 16, 17, 18, 19]])"
      ]
     },
     "execution_count": 26,
     "metadata": {},
     "output_type": "execute_result"
    }
   ],
   "execution_count": 26
  },
  {
   "cell_type": "code",
   "id": "dafa29aa",
   "metadata": {
    "ExecuteTime": {
     "end_time": "2024-11-27T21:05:03.474395Z",
     "start_time": "2024-11-27T21:05:03.468914Z"
    }
   },
   "source": [
    "# ndarray.reshape(shape, order='C')\n",
    "# numpy.ndarray.reshape - This one is a Method\n",
    "X = np.arange(20).reshape(4, 5)\n",
    "X"
   ],
   "outputs": [
    {
     "data": {
      "text/plain": [
       "array([[ 0,  1,  2,  3,  4],\n",
       "       [ 5,  6,  7,  8,  9],\n",
       "       [10, 11, 12, 13, 14],\n",
       "       [15, 16, 17, 18, 19]])"
      ]
     },
     "execution_count": 27,
     "metadata": {},
     "output_type": "execute_result"
    }
   ],
   "execution_count": 27
  },
  {
   "cell_type": "code",
   "id": "274a5d9f",
   "metadata": {
    "ExecuteTime": {
     "end_time": "2024-11-27T21:05:03.679521Z",
     "start_time": "2024-11-27T21:05:03.671674Z"
    }
   },
   "source": [
    "X = np.linspace(0,50,10, endpoint=False).reshape(5,2)\n",
    "X"
   ],
   "outputs": [
    {
     "data": {
      "text/plain": [
       "array([[ 0.,  5.],\n",
       "       [10., 15.],\n",
       "       [20., 25.],\n",
       "       [30., 35.],\n",
       "       [40., 45.]])"
      ]
     },
     "execution_count": 28,
     "metadata": {},
     "output_type": "execute_result"
    }
   ],
   "execution_count": 28
  },
  {
   "cell_type": "markdown",
   "id": "4c3bb837",
   "metadata": {},
   "source": [
    "### Create a Numpy array using the numpy.random.random() function"
   ]
  },
  {
   "cell_type": "code",
   "id": "1c3d0f0c",
   "metadata": {
    "ExecuteTime": {
     "end_time": "2024-11-27T21:05:03.933620Z",
     "start_time": "2024-11-27T21:05:03.924294Z"
    }
   },
   "source": [
    "X = np.random.random((3,3))\n",
    "X"
   ],
   "outputs": [
    {
     "data": {
      "text/plain": [
       "array([[0.88741206, 0.36695828, 0.10991754],\n",
       "       [0.08917223, 0.81478448, 0.70545375],\n",
       "       [0.61102161, 0.31651158, 0.72778884]])"
      ]
     },
     "execution_count": 29,
     "metadata": {},
     "output_type": "execute_result"
    }
   ],
   "execution_count": 29
  },
  {
   "cell_type": "code",
   "id": "1a0c8d44",
   "metadata": {
    "ExecuteTime": {
     "end_time": "2024-11-27T21:05:04.159305Z",
     "start_time": "2024-11-27T21:05:04.152798Z"
    }
   },
   "source": [
    "# numpy.random.randint(start, stop, size = shape)\n",
    "X = np.random.randint(4,15,size=(3,2))\n",
    "X"
   ],
   "outputs": [
    {
     "data": {
      "text/plain": [
       "array([[ 6, 12],\n",
       "       [ 8,  6],\n",
       "       [11,  6]])"
      ]
     },
     "execution_count": 30,
     "metadata": {},
     "output_type": "execute_result"
    }
   ],
   "execution_count": 30
  },
  {
   "cell_type": "code",
   "id": "5b01a09a",
   "metadata": {
    "ExecuteTime": {
     "end_time": "2024-11-27T21:05:04.522763Z",
     "start_time": "2024-11-27T21:05:04.515155Z"
    }
   },
   "source": [
    "# np.random.normal(mean, standard deviation, size=shape)\n",
    "X = np.random.normal(0, 0.1, size=(5,3))\n",
    "X"
   ],
   "outputs": [
    {
     "data": {
      "text/plain": [
       "array([[-0.10250971,  0.00905118, -0.05101697],\n",
       "       [-0.01707676,  0.11324572, -0.02538475],\n",
       "       [ 0.07713291, -0.12088383, -0.18307488],\n",
       "       [-0.04350902,  0.05192645, -0.0254399 ],\n",
       "       [-0.07813943, -0.1868326 , -0.14320397]])"
      ]
     },
     "execution_count": 31,
     "metadata": {},
     "output_type": "execute_result"
    }
   ],
   "execution_count": 31
  },
  {
   "metadata": {},
   "cell_type": "markdown",
   "source": "### Accessing, Deleting, and Inserting Elements Into ndarrays\n",
   "id": "7a9f8f65ad5e1d37"
  },
  {
   "metadata": {
    "ExecuteTime": {
     "end_time": "2024-11-27T21:05:04.765558Z",
     "start_time": "2024-11-27T21:05:04.756739Z"
    }
   },
   "cell_type": "code",
   "source": [
    "x = np.array([1, 2, 3, 4, 5])\n",
    "\n",
    "# Let's access some elements with positive indices\n",
    "print('This is First Element in x:', x[0])\n",
    "print('This is Second Element in x:', x[1])\n",
    "print('This is Fifth (Last) Element in x:', x[4])\n",
    "print()\n",
    "\n",
    "# Let's access the same elements with negative indices\n",
    "print('This is First Element in x:', x[-5])\n",
    "print('This is Second Element in x:', x[-4])\n",
    "print('This is Fifth (Last) Element in x:', x[-1])\n",
    "x"
   ],
   "id": "b7c08e56b173bdb6",
   "outputs": [
    {
     "name": "stdout",
     "output_type": "stream",
     "text": [
      "This is First Element in x: 1\n",
      "This is Second Element in x: 2\n",
      "This is Fifth (Last) Element in x: 5\n",
      "\n",
      "This is First Element in x: 1\n",
      "This is Second Element in x: 2\n",
      "This is Fifth (Last) Element in x: 5\n"
     ]
    },
    {
     "data": {
      "text/plain": [
       "array([1, 2, 3, 4, 5])"
      ]
     },
     "execution_count": 32,
     "metadata": {},
     "output_type": "execute_result"
    }
   ],
   "execution_count": 32
  },
  {
   "metadata": {
    "ExecuteTime": {
     "end_time": "2024-11-27T21:05:05.057704Z",
     "start_time": "2024-11-27T21:05:05.052675Z"
    }
   },
   "cell_type": "code",
   "source": [
    "x = np.array([1, 2, 3, 4, 5])\n",
    "x[3] = 20\n",
    "x"
   ],
   "id": "366e5ef4f040e52",
   "outputs": [
    {
     "data": {
      "text/plain": [
       "array([ 1,  2,  3, 20,  5])"
      ]
     },
     "execution_count": 33,
     "metadata": {},
     "output_type": "execute_result"
    }
   ],
   "execution_count": 33
  },
  {
   "metadata": {
    "ExecuteTime": {
     "end_time": "2024-11-27T21:05:05.335158Z",
     "start_time": "2024-11-27T21:05:05.328347Z"
    }
   },
   "cell_type": "code",
   "source": [
    "# To access elements in rank 2 ndarrays we need to provide 2 indices in the form [row, column].\n",
    "\n",
    "X = np.array([[1,2,3],[4,5,6],[7,8,9]])\n",
    "X"
   ],
   "id": "4c55159ae12e4351",
   "outputs": [
    {
     "data": {
      "text/plain": [
       "array([[1, 2, 3],\n",
       "       [4, 5, 6],\n",
       "       [7, 8, 9]])"
      ]
     },
     "execution_count": 34,
     "metadata": {},
     "output_type": "execute_result"
    }
   ],
   "execution_count": 34
  },
  {
   "metadata": {
    "ExecuteTime": {
     "end_time": "2024-11-27T21:05:05.508235Z",
     "start_time": "2024-11-27T21:05:05.503868Z"
    }
   },
   "cell_type": "code",
   "source": [
    "# Let's access some elements in X\n",
    "print('This is (0,0) Element in X:', X[0,0])\n",
    "print('This is (0,1) Element in X:', X[0,1])\n",
    "print('This is (2,2) Element in X:', X[2,2])"
   ],
   "id": "8dd6c7e7d376335e",
   "outputs": [
    {
     "name": "stdout",
     "output_type": "stream",
     "text": [
      "This is (0,0) Element in X: 1\n",
      "This is (0,1) Element in X: 2\n",
      "This is (2,2) Element in X: 9\n"
     ]
    }
   ],
   "execution_count": 35
  },
  {
   "metadata": {
    "ExecuteTime": {
     "end_time": "2024-11-27T21:05:05.713518Z",
     "start_time": "2024-11-27T21:05:05.707572Z"
    }
   },
   "cell_type": "code",
   "source": [
    "X[0,0] = 20\n",
    "X"
   ],
   "id": "c4f77f833b2f1e63",
   "outputs": [
    {
     "data": {
      "text/plain": [
       "array([[20,  2,  3],\n",
       "       [ 4,  5,  6],\n",
       "       [ 7,  8,  9]])"
      ]
     },
     "execution_count": 36,
     "metadata": {},
     "output_type": "execute_result"
    }
   ],
   "execution_count": 36
  },
  {
   "metadata": {
    "ExecuteTime": {
     "end_time": "2024-11-27T21:05:05.928042Z",
     "start_time": "2024-11-27T21:05:05.922286Z"
    }
   },
   "cell_type": "code",
   "source": [
    "# np.delete(ndarray, elements, axis)\n",
    "# For rank 2 ndarrays, axis = 0 is used to select rows, and axis = 1 is used to select columns.\n",
    "\n",
    "x = np.array([1, 2, 3, 4, 5])\n",
    "x = np.delete(x, [0,2,4])\n",
    "x"
   ],
   "id": "8a147dc99e651fd0",
   "outputs": [
    {
     "data": {
      "text/plain": [
       "array([2, 4])"
      ]
     },
     "execution_count": 37,
     "metadata": {},
     "output_type": "execute_result"
    }
   ],
   "execution_count": 37
  },
  {
   "metadata": {
    "ExecuteTime": {
     "end_time": "2024-11-27T21:05:06.170582Z",
     "start_time": "2024-11-27T21:05:06.163591Z"
    }
   },
   "cell_type": "code",
   "source": [
    "Y = np.array([[1,2,3],[4,5,6],[7,8,9]])\n",
    "Y"
   ],
   "id": "258e0839806a5885",
   "outputs": [
    {
     "data": {
      "text/plain": [
       "array([[1, 2, 3],\n",
       "       [4, 5, 6],\n",
       "       [7, 8, 9]])"
      ]
     },
     "execution_count": 38,
     "metadata": {},
     "output_type": "execute_result"
    }
   ],
   "execution_count": 38
  },
  {
   "metadata": {
    "ExecuteTime": {
     "end_time": "2024-11-27T21:05:06.353856Z",
     "start_time": "2024-11-27T21:05:06.347856Z"
    }
   },
   "cell_type": "code",
   "source": [
    "w = np.delete(Y, 0, axis=0)\n",
    "w"
   ],
   "id": "14137a89af0e6f13",
   "outputs": [
    {
     "data": {
      "text/plain": [
       "array([[4, 5, 6],\n",
       "       [7, 8, 9]])"
      ]
     },
     "execution_count": 39,
     "metadata": {},
     "output_type": "execute_result"
    }
   ],
   "execution_count": 39
  },
  {
   "metadata": {
    "ExecuteTime": {
     "end_time": "2024-11-27T21:05:06.603260Z",
     "start_time": "2024-11-27T21:05:06.598232Z"
    }
   },
   "cell_type": "code",
   "source": [
    "v = np.delete(Y, [0,2], axis=1)\n",
    "v"
   ],
   "id": "1d95e75cdf5d8240",
   "outputs": [
    {
     "data": {
      "text/plain": [
       "array([[2],\n",
       "       [5],\n",
       "       [8]])"
      ]
     },
     "execution_count": 40,
     "metadata": {},
     "output_type": "execute_result"
    }
   ],
   "execution_count": 40
  },
  {
   "metadata": {
    "ExecuteTime": {
     "end_time": "2024-11-27T21:05:06.862600Z",
     "start_time": "2024-11-27T21:05:06.856570Z"
    }
   },
   "cell_type": "code",
   "source": "Y",
   "id": "3a9fadd1893e71b9",
   "outputs": [
    {
     "data": {
      "text/plain": [
       "array([[1, 2, 3],\n",
       "       [4, 5, 6],\n",
       "       [7, 8, 9]])"
      ]
     },
     "execution_count": 41,
     "metadata": {},
     "output_type": "execute_result"
    }
   ],
   "execution_count": 41
  },
  {
   "metadata": {
    "ExecuteTime": {
     "end_time": "2024-11-27T21:05:07.086798Z",
     "start_time": "2024-11-27T21:05:07.079043Z"
    }
   },
   "cell_type": "code",
   "source": [
    "# numpy.append(array, values, axis=None)\n",
    "x = np.array([1, 2, 3, 4, 5])\n",
    "x = np.append(x, 6)\n",
    "x = np.append(x, [7,8])\n",
    "x"
   ],
   "id": "1c85b555bd5d0fab",
   "outputs": [
    {
     "data": {
      "text/plain": [
       "array([1, 2, 3, 4, 5, 6, 7, 8])"
      ]
     },
     "execution_count": 42,
     "metadata": {},
     "output_type": "execute_result"
    }
   ],
   "execution_count": 42
  },
  {
   "metadata": {
    "ExecuteTime": {
     "end_time": "2024-11-27T21:05:07.349497Z",
     "start_time": "2024-11-27T21:05:07.343268Z"
    }
   },
   "cell_type": "code",
   "source": [
    "Y = np.array([[1,2,3],[4,5,6]])\n",
    "Y"
   ],
   "id": "b8e59231933d8076",
   "outputs": [
    {
     "data": {
      "text/plain": [
       "array([[1, 2, 3],\n",
       "       [4, 5, 6]])"
      ]
     },
     "execution_count": 43,
     "metadata": {},
     "output_type": "execute_result"
    }
   ],
   "execution_count": 43
  },
  {
   "metadata": {
    "ExecuteTime": {
     "end_time": "2024-11-27T21:05:07.524840Z",
     "start_time": "2024-11-27T21:05:07.519974Z"
    }
   },
   "cell_type": "code",
   "source": [
    "v = np.append(Y, [[7,8,9]], axis=0)\n",
    "v"
   ],
   "id": "2bc98df2c191ccdf",
   "outputs": [
    {
     "data": {
      "text/plain": [
       "array([[1, 2, 3],\n",
       "       [4, 5, 6],\n",
       "       [7, 8, 9]])"
      ]
     },
     "execution_count": 44,
     "metadata": {},
     "output_type": "execute_result"
    }
   ],
   "execution_count": 44
  },
  {
   "metadata": {
    "ExecuteTime": {
     "end_time": "2024-11-27T21:05:07.757304Z",
     "start_time": "2024-11-27T21:05:07.751312Z"
    }
   },
   "cell_type": "code",
   "source": [
    "q = np.append(Y,[[9],[10]], axis=1)\n",
    "q"
   ],
   "id": "36f365b8ccfd914b",
   "outputs": [
    {
     "data": {
      "text/plain": [
       "array([[ 1,  2,  3,  9],\n",
       "       [ 4,  5,  6, 10]])"
      ]
     },
     "execution_count": 45,
     "metadata": {},
     "output_type": "execute_result"
    }
   ],
   "execution_count": 45
  },
  {
   "metadata": {
    "ExecuteTime": {
     "end_time": "2024-11-27T21:05:08.022786Z",
     "start_time": "2024-11-27T21:05:08.016596Z"
    }
   },
   "cell_type": "code",
   "source": "Y",
   "id": "4fdfad2286f78ad",
   "outputs": [
    {
     "data": {
      "text/plain": [
       "array([[1, 2, 3],\n",
       "       [4, 5, 6]])"
      ]
     },
     "execution_count": 46,
     "metadata": {},
     "output_type": "execute_result"
    }
   ],
   "execution_count": 46
  },
  {
   "metadata": {
    "ExecuteTime": {
     "end_time": "2024-11-27T21:05:08.335705Z",
     "start_time": "2024-11-27T21:05:08.329763Z"
    }
   },
   "cell_type": "code",
   "source": [
    "# np.insert(ndarray, index, elements, axis)\n",
    "x = np.array([1, 2, 5, 6, 7])\n",
    "x = np.insert(x,2,[3,4])\n",
    "x"
   ],
   "id": "bc7b400f1ccaadfc",
   "outputs": [
    {
     "data": {
      "text/plain": [
       "array([1, 2, 3, 4, 5, 6, 7])"
      ]
     },
     "execution_count": 47,
     "metadata": {},
     "output_type": "execute_result"
    }
   ],
   "execution_count": 47
  },
  {
   "metadata": {
    "ExecuteTime": {
     "end_time": "2024-11-27T21:05:08.590956Z",
     "start_time": "2024-11-27T21:05:08.586019Z"
    }
   },
   "cell_type": "code",
   "source": [
    "Y = np.array([[1,2,3],[7,8,9]])\n",
    "Y"
   ],
   "id": "56afdee90a4261db",
   "outputs": [
    {
     "data": {
      "text/plain": [
       "array([[1, 2, 3],\n",
       "       [7, 8, 9]])"
      ]
     },
     "execution_count": 48,
     "metadata": {},
     "output_type": "execute_result"
    }
   ],
   "execution_count": 48
  },
  {
   "metadata": {
    "ExecuteTime": {
     "end_time": "2024-11-27T21:05:08.834436Z",
     "start_time": "2024-11-27T21:05:08.828852Z"
    }
   },
   "cell_type": "code",
   "source": [
    "w = np.insert(Y,1,[4,5,6],axis=0)\n",
    "w"
   ],
   "id": "b6df2ff0ab9cdc69",
   "outputs": [
    {
     "data": {
      "text/plain": [
       "array([[1, 2, 3],\n",
       "       [4, 5, 6],\n",
       "       [7, 8, 9]])"
      ]
     },
     "execution_count": 49,
     "metadata": {},
     "output_type": "execute_result"
    }
   ],
   "execution_count": 49
  },
  {
   "metadata": {
    "ExecuteTime": {
     "end_time": "2024-11-27T21:05:09.043409Z",
     "start_time": "2024-11-27T21:05:09.037040Z"
    }
   },
   "cell_type": "code",
   "source": [
    "v = np.insert(Y,1,42, axis=1)\n",
    "v"
   ],
   "id": "16106a6a37b7c3f7",
   "outputs": [
    {
     "data": {
      "text/plain": [
       "array([[ 1, 42,  2,  3],\n",
       "       [ 7, 42,  8,  9]])"
      ]
     },
     "execution_count": 50,
     "metadata": {},
     "output_type": "execute_result"
    }
   ],
   "execution_count": 50
  },
  {
   "metadata": {
    "ExecuteTime": {
     "end_time": "2024-11-27T21:05:09.287526Z",
     "start_time": "2024-11-27T21:05:09.281818Z"
    }
   },
   "cell_type": "code",
   "source": "Y",
   "id": "85440853d4db0e3a",
   "outputs": [
    {
     "data": {
      "text/plain": [
       "array([[1, 2, 3],\n",
       "       [7, 8, 9]])"
      ]
     },
     "execution_count": 51,
     "metadata": {},
     "output_type": "execute_result"
    }
   ],
   "execution_count": 51
  },
  {
   "metadata": {
    "ExecuteTime": {
     "end_time": "2024-11-27T21:05:09.518472Z",
     "start_time": "2024-11-27T21:05:09.511628Z"
    }
   },
   "cell_type": "code",
   "source": [
    "# numpy.hstack(sequence_of_ndarray)\n",
    "# numpy.vstack(sequence_of_ndarray)\n",
    "x = np.array([1,2])\n",
    "x"
   ],
   "id": "953808df9cee4135",
   "outputs": [
    {
     "data": {
      "text/plain": [
       "array([1, 2])"
      ]
     },
     "execution_count": 52,
     "metadata": {},
     "output_type": "execute_result"
    }
   ],
   "execution_count": 52
  },
  {
   "metadata": {
    "ExecuteTime": {
     "end_time": "2024-11-27T21:05:09.780221Z",
     "start_time": "2024-11-27T21:05:09.774919Z"
    }
   },
   "cell_type": "code",
   "source": [
    "Y = np.array([[3,4],[5,6]])\n",
    "Y"
   ],
   "id": "4a410e2fd3d91631",
   "outputs": [
    {
     "data": {
      "text/plain": [
       "array([[3, 4],\n",
       "       [5, 6]])"
      ]
     },
     "execution_count": 53,
     "metadata": {},
     "output_type": "execute_result"
    }
   ],
   "execution_count": 53
  },
  {
   "metadata": {
    "ExecuteTime": {
     "end_time": "2024-11-27T21:05:09.971528Z",
     "start_time": "2024-11-27T21:05:09.965612Z"
    }
   },
   "cell_type": "code",
   "source": [
    "z = np.vstack((x,Y))\n",
    "z"
   ],
   "id": "414e889db50d349b",
   "outputs": [
    {
     "data": {
      "text/plain": [
       "array([[1, 2],\n",
       "       [3, 4],\n",
       "       [5, 6]])"
      ]
     },
     "execution_count": 54,
     "metadata": {},
     "output_type": "execute_result"
    }
   ],
   "execution_count": 54
  },
  {
   "metadata": {
    "ExecuteTime": {
     "end_time": "2024-11-27T21:05:10.189050Z",
     "start_time": "2024-11-27T21:05:10.183336Z"
    }
   },
   "cell_type": "code",
   "source": [
    "w = np.hstack((Y,x.reshape(2,1)))\n",
    "w"
   ],
   "id": "58993773559e0a66",
   "outputs": [
    {
     "data": {
      "text/plain": [
       "array([[3, 4, 1],\n",
       "       [5, 6, 2]])"
      ]
     },
     "execution_count": 55,
     "metadata": {},
     "output_type": "execute_result"
    }
   ],
   "execution_count": 55
  },
  {
   "metadata": {
    "ExecuteTime": {
     "end_time": "2024-11-27T21:05:10.484829Z",
     "start_time": "2024-11-27T21:05:10.476920Z"
    }
   },
   "cell_type": "code",
   "source": "Y",
   "id": "3073840f33b9f8d9",
   "outputs": [
    {
     "data": {
      "text/plain": [
       "array([[3, 4],\n",
       "       [5, 6]])"
      ]
     },
     "execution_count": 56,
     "metadata": {},
     "output_type": "execute_result"
    }
   ],
   "execution_count": 56
  },
  {
   "metadata": {},
   "cell_type": "markdown",
   "source": "### Slicing ndarrays",
   "id": "fe34d7acaaf8f671"
  },
  {
   "metadata": {
    "ExecuteTime": {
     "end_time": "2024-11-27T21:05:10.877953Z",
     "start_time": "2024-11-27T21:05:10.870516Z"
    }
   },
   "cell_type": "code",
   "source": [
    "# 1. ndarray[start:end]\n",
    "# 2. ndarray[start:]\n",
    "# 3. ndarray[:end]\n",
    "\n",
    "X = np.arange(20).reshape(4, 5)\n",
    "X"
   ],
   "id": "9886cf6d710963a6",
   "outputs": [
    {
     "data": {
      "text/plain": [
       "array([[ 0,  1,  2,  3,  4],\n",
       "       [ 5,  6,  7,  8,  9],\n",
       "       [10, 11, 12, 13, 14],\n",
       "       [15, 16, 17, 18, 19]])"
      ]
     },
     "execution_count": 57,
     "metadata": {},
     "output_type": "execute_result"
    }
   ],
   "execution_count": 57
  },
  {
   "metadata": {
    "ExecuteTime": {
     "end_time": "2024-11-27T21:05:11.125921Z",
     "start_time": "2024-11-27T21:05:11.119643Z"
    }
   },
   "cell_type": "code",
   "source": [
    "Z = X[1:4,2:5]\n",
    "Z"
   ],
   "id": "4266d681f237d40a",
   "outputs": [
    {
     "data": {
      "text/plain": [
       "array([[ 7,  8,  9],\n",
       "       [12, 13, 14],\n",
       "       [17, 18, 19]])"
      ]
     },
     "execution_count": 58,
     "metadata": {},
     "output_type": "execute_result"
    }
   ],
   "execution_count": 58
  },
  {
   "metadata": {
    "ExecuteTime": {
     "end_time": "2024-11-27T21:05:11.419141Z",
     "start_time": "2024-11-27T21:05:11.414215Z"
    }
   },
   "cell_type": "code",
   "source": [
    "W = X[1:,2:5]\n",
    "W"
   ],
   "id": "5a8f139936e2805",
   "outputs": [
    {
     "data": {
      "text/plain": [
       "array([[ 7,  8,  9],\n",
       "       [12, 13, 14],\n",
       "       [17, 18, 19]])"
      ]
     },
     "execution_count": 59,
     "metadata": {},
     "output_type": "execute_result"
    }
   ],
   "execution_count": 59
  },
  {
   "metadata": {
    "ExecuteTime": {
     "end_time": "2024-11-27T21:05:11.832247Z",
     "start_time": "2024-11-27T21:05:11.824241Z"
    }
   },
   "cell_type": "code",
   "source": "X",
   "id": "cf4856cb425e6971",
   "outputs": [
    {
     "data": {
      "text/plain": [
       "array([[ 0,  1,  2,  3,  4],\n",
       "       [ 5,  6,  7,  8,  9],\n",
       "       [10, 11, 12, 13, 14],\n",
       "       [15, 16, 17, 18, 19]])"
      ]
     },
     "execution_count": 60,
     "metadata": {},
     "output_type": "execute_result"
    }
   ],
   "execution_count": 60
  },
  {
   "metadata": {
    "ExecuteTime": {
     "end_time": "2024-11-27T21:05:12.129849Z",
     "start_time": "2024-11-27T21:05:12.124302Z"
    }
   },
   "cell_type": "code",
   "source": [
    "Y = X[:3,2:5]\n",
    "Y"
   ],
   "id": "5eba26f1bac08f4f",
   "outputs": [
    {
     "data": {
      "text/plain": [
       "array([[ 2,  3,  4],\n",
       "       [ 7,  8,  9],\n",
       "       [12, 13, 14]])"
      ]
     },
     "execution_count": 61,
     "metadata": {},
     "output_type": "execute_result"
    }
   ],
   "execution_count": 61
  },
  {
   "metadata": {
    "ExecuteTime": {
     "end_time": "2024-11-27T21:05:12.430556Z",
     "start_time": "2024-11-27T21:05:12.425080Z"
    }
   },
   "cell_type": "code",
   "source": "X",
   "id": "3c4c90c8f89d8a24",
   "outputs": [
    {
     "data": {
      "text/plain": [
       "array([[ 0,  1,  2,  3,  4],\n",
       "       [ 5,  6,  7,  8,  9],\n",
       "       [10, 11, 12, 13, 14],\n",
       "       [15, 16, 17, 18, 19]])"
      ]
     },
     "execution_count": 62,
     "metadata": {},
     "output_type": "execute_result"
    }
   ],
   "execution_count": 62
  },
  {
   "metadata": {
    "ExecuteTime": {
     "end_time": "2024-11-27T21:05:12.703613Z",
     "start_time": "2024-11-27T21:05:12.695447Z"
    }
   },
   "cell_type": "code",
   "source": [
    "v = X[2,:]\n",
    "v"
   ],
   "id": "104510b0f7dcd099",
   "outputs": [
    {
     "data": {
      "text/plain": [
       "array([10, 11, 12, 13, 14])"
      ]
     },
     "execution_count": 63,
     "metadata": {},
     "output_type": "execute_result"
    }
   ],
   "execution_count": 63
  },
  {
   "metadata": {
    "ExecuteTime": {
     "end_time": "2024-11-27T21:05:13.008027Z",
     "start_time": "2024-11-27T21:05:13.002010Z"
    }
   },
   "cell_type": "code",
   "source": [
    "q = X[:,2]\n",
    "q"
   ],
   "id": "dc47c78a6230702",
   "outputs": [
    {
     "data": {
      "text/plain": [
       "array([ 2,  7, 12, 17])"
      ]
     },
     "execution_count": 64,
     "metadata": {},
     "output_type": "execute_result"
    }
   ],
   "execution_count": 64
  },
  {
   "metadata": {
    "ExecuteTime": {
     "end_time": "2024-11-27T21:05:13.254403Z",
     "start_time": "2024-11-27T21:05:13.245814Z"
    }
   },
   "cell_type": "code",
   "source": [
    "# We select all the elements in the 3rd column but return a rank 2 ndarray\n",
    "R = X[:,2:3]\n",
    "R"
   ],
   "id": "9acda046b26c28d4",
   "outputs": [
    {
     "data": {
      "text/plain": [
       "array([[ 2],\n",
       "       [ 7],\n",
       "       [12],\n",
       "       [17]])"
      ]
     },
     "execution_count": 65,
     "metadata": {},
     "output_type": "execute_result"
    }
   ],
   "execution_count": 65
  },
  {
   "metadata": {
    "ExecuteTime": {
     "end_time": "2024-11-27T21:05:13.410106Z",
     "start_time": "2024-11-27T21:05:13.404568Z"
    }
   },
   "cell_type": "code",
   "source": "R.shape",
   "id": "11c6728a420c6470",
   "outputs": [
    {
     "data": {
      "text/plain": [
       "(4, 1)"
      ]
     },
     "execution_count": 66,
     "metadata": {},
     "output_type": "execute_result"
    }
   ],
   "execution_count": 66
  },
  {
   "metadata": {},
   "cell_type": "markdown",
   "source": [
    "In the above examples, when we make assignments, such as:\n",
    "\n",
    "Z = X[1:4,2:5]\n",
    "\n",
    "the slice of the original array X is not copied in the variable Z. Rather, X and Z are now just two different names for the same ndarray. We say that slicing only creates a view of the original array. This means that if you make changes in Z you will be in effect changing the elements in X as well."
   ],
   "id": "dcc31c29be756be4"
  },
  {
   "metadata": {
    "ExecuteTime": {
     "end_time": "2024-11-27T21:05:13.610608Z",
     "start_time": "2024-11-27T21:05:13.604453Z"
    }
   },
   "cell_type": "code",
   "source": [
    "X = np.arange(20).reshape(4, 5)\n",
    "X"
   ],
   "id": "f97b25ae90fe7af7",
   "outputs": [
    {
     "data": {
      "text/plain": [
       "array([[ 0,  1,  2,  3,  4],\n",
       "       [ 5,  6,  7,  8,  9],\n",
       "       [10, 11, 12, 13, 14],\n",
       "       [15, 16, 17, 18, 19]])"
      ]
     },
     "execution_count": 67,
     "metadata": {},
     "output_type": "execute_result"
    }
   ],
   "execution_count": 67
  },
  {
   "metadata": {
    "ExecuteTime": {
     "end_time": "2024-11-27T21:05:13.742988Z",
     "start_time": "2024-11-27T21:05:13.737640Z"
    }
   },
   "cell_type": "code",
   "source": [
    "Z = X[1:4,2:5]\n",
    "Z"
   ],
   "id": "d79f8c1f89cb383",
   "outputs": [
    {
     "data": {
      "text/plain": [
       "array([[ 7,  8,  9],\n",
       "       [12, 13, 14],\n",
       "       [17, 18, 19]])"
      ]
     },
     "execution_count": 68,
     "metadata": {},
     "output_type": "execute_result"
    }
   ],
   "execution_count": 68
  },
  {
   "metadata": {
    "ExecuteTime": {
     "end_time": "2024-11-27T21:05:13.998798Z",
     "start_time": "2024-11-27T21:05:13.992901Z"
    }
   },
   "cell_type": "code",
   "source": [
    "Z[2,2] = 555\n",
    "X"
   ],
   "id": "70a15f3633178b59",
   "outputs": [
    {
     "data": {
      "text/plain": [
       "array([[  0,   1,   2,   3,   4],\n",
       "       [  5,   6,   7,   8,   9],\n",
       "       [ 10,  11,  12,  13,  14],\n",
       "       [ 15,  16,  17,  18, 555]])"
      ]
     },
     "execution_count": 69,
     "metadata": {},
     "output_type": "execute_result"
    }
   ],
   "execution_count": 69
  },
  {
   "metadata": {
    "ExecuteTime": {
     "end_time": "2024-11-27T21:05:14.198331Z",
     "start_time": "2024-11-27T21:05:14.192881Z"
    }
   },
   "cell_type": "code",
   "source": [
    "# ndarray.copy(order='C')\n",
    "X = np.arange(20).reshape(4, 5)\n",
    "X"
   ],
   "id": "3c9cbd48521ca8e0",
   "outputs": [
    {
     "data": {
      "text/plain": [
       "array([[ 0,  1,  2,  3,  4],\n",
       "       [ 5,  6,  7,  8,  9],\n",
       "       [10, 11, 12, 13, 14],\n",
       "       [15, 16, 17, 18, 19]])"
      ]
     },
     "execution_count": 70,
     "metadata": {},
     "output_type": "execute_result"
    }
   ],
   "execution_count": 70
  },
  {
   "metadata": {
    "ExecuteTime": {
     "end_time": "2024-11-27T21:05:14.454200Z",
     "start_time": "2024-11-27T21:05:14.446359Z"
    }
   },
   "cell_type": "code",
   "source": [
    "Z = np.copy(X[1:4,2:5])\n",
    "Z"
   ],
   "id": "533ab288b7f06e7",
   "outputs": [
    {
     "data": {
      "text/plain": [
       "array([[ 7,  8,  9],\n",
       "       [12, 13, 14],\n",
       "       [17, 18, 19]])"
      ]
     },
     "execution_count": 71,
     "metadata": {},
     "output_type": "execute_result"
    }
   ],
   "execution_count": 71
  },
  {
   "metadata": {
    "ExecuteTime": {
     "end_time": "2024-11-27T21:05:14.786862Z",
     "start_time": "2024-11-27T21:05:14.781298Z"
    }
   },
   "cell_type": "code",
   "source": [
    "W = X[1:4,2:5].copy()\n",
    "W"
   ],
   "id": "16caf91ac8bd462a",
   "outputs": [
    {
     "data": {
      "text/plain": [
       "array([[ 7,  8,  9],\n",
       "       [12, 13, 14],\n",
       "       [17, 18, 19]])"
      ]
     },
     "execution_count": 72,
     "metadata": {},
     "output_type": "execute_result"
    }
   ],
   "execution_count": 72
  },
  {
   "metadata": {
    "ExecuteTime": {
     "end_time": "2024-11-27T21:05:15.005148Z",
     "start_time": "2024-11-27T21:05:14.999442Z"
    }
   },
   "cell_type": "code",
   "source": [
    "Z[2,2] = 555\n",
    "X"
   ],
   "id": "89fe8572f91f857e",
   "outputs": [
    {
     "data": {
      "text/plain": [
       "array([[ 0,  1,  2,  3,  4],\n",
       "       [ 5,  6,  7,  8,  9],\n",
       "       [10, 11, 12, 13, 14],\n",
       "       [15, 16, 17, 18, 19]])"
      ]
     },
     "execution_count": 73,
     "metadata": {},
     "output_type": "execute_result"
    }
   ],
   "execution_count": 73
  },
  {
   "metadata": {
    "ExecuteTime": {
     "end_time": "2024-11-27T21:05:15.412741Z",
     "start_time": "2024-11-27T21:05:15.407509Z"
    }
   },
   "cell_type": "code",
   "source": [
    "W[2,2] = 444\n",
    "Z"
   ],
   "id": "706ab56ca8031933",
   "outputs": [
    {
     "data": {
      "text/plain": [
       "array([[  7,   8,   9],\n",
       "       [ 12,  13,  14],\n",
       "       [ 17,  18, 555]])"
      ]
     },
     "execution_count": 74,
     "metadata": {},
     "output_type": "execute_result"
    }
   ],
   "execution_count": 74
  },
  {
   "metadata": {
    "ExecuteTime": {
     "end_time": "2024-11-27T21:05:15.661163Z",
     "start_time": "2024-11-27T21:05:15.655128Z"
    }
   },
   "cell_type": "code",
   "source": [
    "# Use an array as indices to either make slices, select, or change elements\n",
    "\n",
    "X = np.arange(20).reshape(4, 5)\n",
    "X"
   ],
   "id": "233dac0b7c9fcafa",
   "outputs": [
    {
     "data": {
      "text/plain": [
       "array([[ 0,  1,  2,  3,  4],\n",
       "       [ 5,  6,  7,  8,  9],\n",
       "       [10, 11, 12, 13, 14],\n",
       "       [15, 16, 17, 18, 19]])"
      ]
     },
     "execution_count": 75,
     "metadata": {},
     "output_type": "execute_result"
    }
   ],
   "execution_count": 75
  },
  {
   "metadata": {
    "ExecuteTime": {
     "end_time": "2024-11-27T21:05:15.976273Z",
     "start_time": "2024-11-27T21:05:15.970758Z"
    }
   },
   "cell_type": "code",
   "source": [
    "indices = np.array([1,3])\n",
    "Y = X[indices,:]\n",
    "Y"
   ],
   "id": "98c5a3f0778a562d",
   "outputs": [
    {
     "data": {
      "text/plain": [
       "array([[ 5,  6,  7,  8,  9],\n",
       "       [15, 16, 17, 18, 19]])"
      ]
     },
     "execution_count": 76,
     "metadata": {},
     "output_type": "execute_result"
    }
   ],
   "execution_count": 76
  },
  {
   "metadata": {
    "ExecuteTime": {
     "end_time": "2024-11-27T21:05:16.326080Z",
     "start_time": "2024-11-27T21:05:16.321073Z"
    }
   },
   "cell_type": "code",
   "source": [
    "Z = X[:, indices]\n",
    "Z"
   ],
   "id": "bae7d4f2e884dbdc",
   "outputs": [
    {
     "data": {
      "text/plain": [
       "array([[ 1,  3],\n",
       "       [ 6,  8],\n",
       "       [11, 13],\n",
       "       [16, 18]])"
      ]
     },
     "execution_count": 77,
     "metadata": {},
     "output_type": "execute_result"
    }
   ],
   "execution_count": 77
  },
  {
   "metadata": {
    "ExecuteTime": {
     "end_time": "2024-11-27T21:05:16.698552Z",
     "start_time": "2024-11-27T21:05:16.692943Z"
    }
   },
   "cell_type": "code",
   "source": [
    "X = np.random.randint(1,20, size=(50,5))\n",
    "X"
   ],
   "id": "348f57bf677ec157",
   "outputs": [
    {
     "data": {
      "text/plain": [
       "array([[18, 16, 11,  6, 18],\n",
       "       [ 3,  3,  2,  6,  8],\n",
       "       [15, 10,  1, 15, 11],\n",
       "       [19, 19, 15, 13, 14],\n",
       "       [ 5, 13, 17, 17,  5],\n",
       "       [11, 19, 15,  3, 19],\n",
       "       [13,  5,  2, 15,  2],\n",
       "       [16, 14,  7, 12,  3],\n",
       "       [ 9, 10,  2, 13,  8],\n",
       "       [18,  7, 15,  8, 10],\n",
       "       [16, 19,  2,  3,  1],\n",
       "       [18, 16,  2,  5, 10],\n",
       "       [ 3, 19, 18, 11, 11],\n",
       "       [ 7, 15,  8,  3,  2],\n",
       "       [ 5, 19, 14,  4, 10],\n",
       "       [ 5, 16, 12,  7,  2],\n",
       "       [ 9, 17,  3, 12, 14],\n",
       "       [ 5,  2,  2,  9, 12],\n",
       "       [18,  3, 12,  6,  6],\n",
       "       [ 4, 13,  8,  3, 19],\n",
       "       [12, 18,  1, 14, 10],\n",
       "       [ 4, 16, 17,  1, 18],\n",
       "       [18, 18,  2,  6, 12],\n",
       "       [16, 16, 14, 16, 12],\n",
       "       [ 6, 18,  8, 11, 11],\n",
       "       [ 5,  2,  9,  6,  5],\n",
       "       [19, 13,  9, 16, 16],\n",
       "       [ 6, 10, 10, 15,  3],\n",
       "       [ 2, 13,  8,  5,  2],\n",
       "       [ 1,  3, 18,  1, 16],\n",
       "       [ 5, 12, 11,  8,  1],\n",
       "       [ 3, 10,  8,  5, 17],\n",
       "       [16,  4, 16,  4, 16],\n",
       "       [12, 10,  4, 14, 15],\n",
       "       [ 4,  9,  6, 13, 11],\n",
       "       [10,  3,  9, 17,  3],\n",
       "       [ 1, 17, 14,  4, 11],\n",
       "       [ 1,  2, 15, 10,  3],\n",
       "       [18, 12,  2,  8, 16],\n",
       "       [ 5,  6,  8, 19, 15],\n",
       "       [14,  1,  8,  7, 10],\n",
       "       [ 8, 11,  5, 12, 11],\n",
       "       [15, 16,  8, 17, 16],\n",
       "       [19, 17,  2,  5, 13],\n",
       "       [ 6,  4, 11,  9,  9],\n",
       "       [ 1, 10,  4,  4,  5],\n",
       "       [17,  5,  8,  6,  3],\n",
       "       [ 3,  9,  7, 16,  3],\n",
       "       [13,  7, 13, 12,  4],\n",
       "       [ 4,  5, 10, 18, 15]])"
      ]
     },
     "execution_count": 78,
     "metadata": {},
     "output_type": "execute_result"
    }
   ],
   "execution_count": 78
  },
  {
   "metadata": {
    "ExecuteTime": {
     "end_time": "2024-11-27T21:05:17.061242Z",
     "start_time": "2024-11-27T21:05:17.056052Z"
    }
   },
   "cell_type": "code",
   "source": [
    "row_indices = np.random.randint(0,50, size=10)\n",
    "row_indices"
   ],
   "id": "60935c6c2337893b",
   "outputs": [
    {
     "data": {
      "text/plain": [
       "array([32, 33,  7,  4, 24, 30, 38,  4,  4, 26])"
      ]
     },
     "execution_count": 79,
     "metadata": {},
     "output_type": "execute_result"
    }
   ],
   "execution_count": 79
  },
  {
   "metadata": {
    "ExecuteTime": {
     "end_time": "2024-11-27T21:05:17.441528Z",
     "start_time": "2024-11-27T21:05:17.435956Z"
    }
   },
   "cell_type": "code",
   "source": [
    "X_subset = X[row_indices, :]\n",
    "X_subset"
   ],
   "id": "6717014c81b68816",
   "outputs": [
    {
     "data": {
      "text/plain": [
       "array([[16,  4, 16,  4, 16],\n",
       "       [12, 10,  4, 14, 15],\n",
       "       [16, 14,  7, 12,  3],\n",
       "       [ 5, 13, 17, 17,  5],\n",
       "       [ 6, 18,  8, 11, 11],\n",
       "       [ 5, 12, 11,  8,  1],\n",
       "       [18, 12,  2,  8, 16],\n",
       "       [ 5, 13, 17, 17,  5],\n",
       "       [ 5, 13, 17, 17,  5],\n",
       "       [19, 13,  9, 16, 16]])"
      ]
     },
     "execution_count": 80,
     "metadata": {},
     "output_type": "execute_result"
    }
   ],
   "execution_count": 80
  },
  {
   "metadata": {
    "ExecuteTime": {
     "end_time": "2024-11-27T21:05:17.709107Z",
     "start_time": "2024-11-27T21:05:17.703722Z"
    }
   },
   "cell_type": "code",
   "source": [
    "X_subset = X[row_indices[4:8], :]\n",
    "X_subset"
   ],
   "id": "8e944378a765d35",
   "outputs": [
    {
     "data": {
      "text/plain": [
       "array([[ 6, 18,  8, 11, 11],\n",
       "       [ 5, 12, 11,  8,  1],\n",
       "       [18, 12,  2,  8, 16],\n",
       "       [ 5, 13, 17, 17,  5]])"
      ]
     },
     "execution_count": 81,
     "metadata": {},
     "output_type": "execute_result"
    }
   ],
   "execution_count": 81
  },
  {
   "metadata": {
    "ExecuteTime": {
     "end_time": "2024-11-27T21:05:18.040806Z",
     "start_time": "2024-11-27T21:05:18.034854Z"
    }
   },
   "cell_type": "code",
   "source": [
    "# numpy.diag(ndarray, k=N)\n",
    "# It extracts or constructs the diagonal elements\n",
    "# As default is k=0, which refers to the main diagonal\n",
    "# Values of k > 0 are used to select elements in diagonals above the main diagonal\n",
    "# Values of k < 0 are used to select elements in diagonals below the main diagonal\n",
    "\n",
    "X = np.arange(25).reshape(5, 5)\n",
    "X\n"
   ],
   "id": "372a41e349270afb",
   "outputs": [
    {
     "data": {
      "text/plain": [
       "array([[ 0,  1,  2,  3,  4],\n",
       "       [ 5,  6,  7,  8,  9],\n",
       "       [10, 11, 12, 13, 14],\n",
       "       [15, 16, 17, 18, 19],\n",
       "       [20, 21, 22, 23, 24]])"
      ]
     },
     "execution_count": 82,
     "metadata": {},
     "output_type": "execute_result"
    }
   ],
   "execution_count": 82
  },
  {
   "metadata": {
    "ExecuteTime": {
     "end_time": "2024-11-27T21:05:18.315737Z",
     "start_time": "2024-11-27T21:05:18.308134Z"
    }
   },
   "cell_type": "code",
   "source": "np.diag(X)",
   "id": "bbe4beee1b43ca97",
   "outputs": [
    {
     "data": {
      "text/plain": [
       "array([ 0,  6, 12, 18, 24])"
      ]
     },
     "execution_count": 83,
     "metadata": {},
     "output_type": "execute_result"
    }
   ],
   "execution_count": 83
  },
  {
   "metadata": {
    "ExecuteTime": {
     "end_time": "2024-11-27T21:05:18.721638Z",
     "start_time": "2024-11-27T21:05:18.716285Z"
    }
   },
   "cell_type": "code",
   "source": "np.diag(X, k=1)",
   "id": "b742c32df09a6cd6",
   "outputs": [
    {
     "data": {
      "text/plain": [
       "array([ 1,  7, 13, 19])"
      ]
     },
     "execution_count": 84,
     "metadata": {},
     "output_type": "execute_result"
    }
   ],
   "execution_count": 84
  },
  {
   "metadata": {
    "ExecuteTime": {
     "end_time": "2024-11-27T21:05:18.987533Z",
     "start_time": "2024-11-27T21:05:18.982291Z"
    }
   },
   "cell_type": "code",
   "source": "np.diag(X, k=-1)",
   "id": "39add7d7f8557cb2",
   "outputs": [
    {
     "data": {
      "text/plain": [
       "array([ 5, 11, 17, 23])"
      ]
     },
     "execution_count": 85,
     "metadata": {},
     "output_type": "execute_result"
    }
   ],
   "execution_count": 85
  },
  {
   "metadata": {
    "ExecuteTime": {
     "end_time": "2024-11-27T21:05:19.194600Z",
     "start_time": "2024-11-27T21:05:19.186664Z"
    }
   },
   "cell_type": "code",
   "source": [
    "# numpy.unique(array, return_index=False, return_inverse=False, return_counts=False, axis=None)\n",
    "X = np.array([[1,2,3],[5,2,8],[1,2,3]])\n",
    "np.unique(X)"
   ],
   "id": "9fde2e440a690b45",
   "outputs": [
    {
     "data": {
      "text/plain": [
       "array([1, 2, 3, 5, 8])"
      ]
     },
     "execution_count": 86,
     "metadata": {},
     "output_type": "execute_result"
    }
   ],
   "execution_count": 86
  },
  {
   "metadata": {},
   "cell_type": "markdown",
   "source": "### Boolean Indexing, Set Operations, and Sorting",
   "id": "e0dd7ed360af5725"
  },
  {
   "metadata": {
    "ExecuteTime": {
     "end_time": "2024-11-27T21:05:19.355580Z",
     "start_time": "2024-11-27T21:05:19.350243Z"
    }
   },
   "cell_type": "code",
   "source": [
    "X = np.arange(25).reshape(5, 5)\n",
    "X"
   ],
   "id": "cf4ea8bdabb5ee97",
   "outputs": [
    {
     "data": {
      "text/plain": [
       "array([[ 0,  1,  2,  3,  4],\n",
       "       [ 5,  6,  7,  8,  9],\n",
       "       [10, 11, 12, 13, 14],\n",
       "       [15, 16, 17, 18, 19],\n",
       "       [20, 21, 22, 23, 24]])"
      ]
     },
     "execution_count": 87,
     "metadata": {},
     "output_type": "execute_result"
    }
   ],
   "execution_count": 87
  },
  {
   "metadata": {
    "ExecuteTime": {
     "end_time": "2024-11-27T21:05:19.497989Z",
     "start_time": "2024-11-27T21:05:19.489558Z"
    }
   },
   "cell_type": "code",
   "source": "X[X > 10]",
   "id": "6ea3d8a801ecff19",
   "outputs": [
    {
     "data": {
      "text/plain": [
       "array([11, 12, 13, 14, 15, 16, 17, 18, 19, 20, 21, 22, 23, 24])"
      ]
     },
     "execution_count": 88,
     "metadata": {},
     "output_type": "execute_result"
    }
   ],
   "execution_count": 88
  },
  {
   "metadata": {
    "ExecuteTime": {
     "end_time": "2024-11-27T21:05:19.695946Z",
     "start_time": "2024-11-27T21:05:19.689424Z"
    }
   },
   "cell_type": "code",
   "source": "X[3:5, 4:5]",
   "id": "3998df0da66b8936",
   "outputs": [
    {
     "data": {
      "text/plain": [
       "array([[19],\n",
       "       [24]])"
      ]
     },
     "execution_count": 89,
     "metadata": {},
     "output_type": "execute_result"
    }
   ],
   "execution_count": 89
  },
  {
   "metadata": {
    "ExecuteTime": {
     "end_time": "2024-11-27T21:05:20.055489Z",
     "start_time": "2024-11-27T21:05:20.050701Z"
    }
   },
   "cell_type": "code",
   "source": "X[X <= 7]",
   "id": "e8cb5e7bf999bb65",
   "outputs": [
    {
     "data": {
      "text/plain": [
       "array([0, 1, 2, 3, 4, 5, 6, 7])"
      ]
     },
     "execution_count": 90,
     "metadata": {},
     "output_type": "execute_result"
    }
   ],
   "execution_count": 90
  },
  {
   "metadata": {
    "ExecuteTime": {
     "end_time": "2024-11-27T21:05:20.355385Z",
     "start_time": "2024-11-27T21:05:20.349517Z"
    }
   },
   "cell_type": "code",
   "source": "X[(X > 10) & (X < 17)]",
   "id": "3a412d8ef26289bc",
   "outputs": [
    {
     "data": {
      "text/plain": [
       "array([11, 12, 13, 14, 15, 16])"
      ]
     },
     "execution_count": 91,
     "metadata": {},
     "output_type": "execute_result"
    }
   ],
   "execution_count": 91
  },
  {
   "metadata": {
    "ExecuteTime": {
     "end_time": "2024-11-27T21:05:20.478310Z",
     "start_time": "2024-11-27T21:05:20.473012Z"
    }
   },
   "cell_type": "code",
   "source": [
    "# assign\n",
    "X[(X > 10) & (X < 17)] =-1\n",
    "X"
   ],
   "id": "4c8696c09a0fa1f3",
   "outputs": [
    {
     "data": {
      "text/plain": [
       "array([[ 0,  1,  2,  3,  4],\n",
       "       [ 5,  6,  7,  8,  9],\n",
       "       [10, -1, -1, -1, -1],\n",
       "       [-1, -1, 17, 18, 19],\n",
       "       [20, 21, 22, 23, 24]])"
      ]
     },
     "execution_count": 92,
     "metadata": {},
     "output_type": "execute_result"
    }
   ],
   "execution_count": 92
  },
  {
   "metadata": {
    "ExecuteTime": {
     "end_time": "2024-11-27T21:05:20.716864Z",
     "start_time": "2024-11-27T21:05:20.710910Z"
    }
   },
   "cell_type": "code",
   "source": [
    "# set operations\n",
    "x = np.array([1,2,3,4,5])\n",
    "y = np.array([6,7,2,8,4])"
   ],
   "id": "5b963d807ed2db2f",
   "outputs": [],
   "execution_count": 93
  },
  {
   "metadata": {
    "ExecuteTime": {
     "end_time": "2024-11-27T21:05:20.878371Z",
     "start_time": "2024-11-27T21:05:20.872953Z"
    }
   },
   "cell_type": "code",
   "source": "np.intersect1d(x,y)",
   "id": "ad25ddf679039031",
   "outputs": [
    {
     "data": {
      "text/plain": [
       "array([2, 4])"
      ]
     },
     "execution_count": 94,
     "metadata": {},
     "output_type": "execute_result"
    }
   ],
   "execution_count": 94
  },
  {
   "metadata": {
    "ExecuteTime": {
     "end_time": "2024-11-27T21:05:21.046348Z",
     "start_time": "2024-11-27T21:05:21.040052Z"
    }
   },
   "cell_type": "code",
   "source": "np.setdiff1d(x,y)",
   "id": "fcd69dc64dc1a7c",
   "outputs": [
    {
     "data": {
      "text/plain": [
       "array([1, 3, 5])"
      ]
     },
     "execution_count": 95,
     "metadata": {},
     "output_type": "execute_result"
    }
   ],
   "execution_count": 95
  },
  {
   "metadata": {
    "ExecuteTime": {
     "end_time": "2024-11-27T21:05:21.206629Z",
     "start_time": "2024-11-27T21:05:21.201057Z"
    }
   },
   "cell_type": "code",
   "source": "np.union1d(x,y)",
   "id": "66791a380e125792",
   "outputs": [
    {
     "data": {
      "text/plain": [
       "array([1, 2, 3, 4, 5, 6, 7, 8])"
      ]
     },
     "execution_count": 96,
     "metadata": {},
     "output_type": "execute_result"
    }
   ],
   "execution_count": 96
  },
  {
   "metadata": {
    "ExecuteTime": {
     "end_time": "2024-11-27T21:05:21.365745Z",
     "start_time": "2024-11-27T21:05:21.360267Z"
    }
   },
   "cell_type": "code",
   "source": [
    "# numpy.ndarray.sort method\n",
    "# ndarray.sort(axis=-1, kind=None, order=None)\n",
    "\n",
    "# When numpy.sort() is used as a function, it sorts the ndrrays out of place\n",
    "# When you use numpy.ndarray.sort() as a method, ndarray.sort() sorts the ndarray in place\n",
    "\n",
    "x = np.random.randint(1,11,size=(10,))\n",
    "x"
   ],
   "id": "73c9255dfa697712",
   "outputs": [
    {
     "data": {
      "text/plain": [
       "array([ 8,  6,  5,  6,  7,  6,  8, 10,  9,  1])"
      ]
     },
     "execution_count": 97,
     "metadata": {},
     "output_type": "execute_result"
    }
   ],
   "execution_count": 97
  },
  {
   "metadata": {
    "ExecuteTime": {
     "end_time": "2024-11-27T21:05:21.469425Z",
     "start_time": "2024-11-27T21:05:21.464578Z"
    }
   },
   "cell_type": "code",
   "source": [
    "y = np.sort(x)\n",
    "y"
   ],
   "id": "8f60e9291df65cc3",
   "outputs": [
    {
     "data": {
      "text/plain": [
       "array([ 1,  5,  6,  6,  6,  7,  8,  8,  9, 10])"
      ]
     },
     "execution_count": 98,
     "metadata": {},
     "output_type": "execute_result"
    }
   ],
   "execution_count": 98
  },
  {
   "metadata": {
    "ExecuteTime": {
     "end_time": "2024-11-27T21:05:21.561099Z",
     "start_time": "2024-11-27T21:05:21.555771Z"
    }
   },
   "cell_type": "code",
   "source": "x",
   "id": "ece105652206f4db",
   "outputs": [
    {
     "data": {
      "text/plain": [
       "array([ 8,  6,  5,  6,  7,  6,  8, 10,  9,  1])"
      ]
     },
     "execution_count": 99,
     "metadata": {},
     "output_type": "execute_result"
    }
   ],
   "execution_count": 99
  },
  {
   "metadata": {
    "ExecuteTime": {
     "end_time": "2024-11-27T21:05:21.651822Z",
     "start_time": "2024-11-27T21:05:21.646998Z"
    }
   },
   "cell_type": "code",
   "source": [
    "x.sort()\n",
    "x"
   ],
   "id": "9e093aa59fb1e094",
   "outputs": [
    {
     "data": {
      "text/plain": [
       "array([ 1,  5,  6,  6,  6,  7,  8,  8,  9, 10])"
      ]
     },
     "execution_count": 100,
     "metadata": {},
     "output_type": "execute_result"
    }
   ],
   "execution_count": 100
  },
  {
   "metadata": {
    "ExecuteTime": {
     "end_time": "2024-11-27T21:05:21.893263Z",
     "start_time": "2024-11-27T21:05:21.888431Z"
    }
   },
   "cell_type": "code",
   "source": "np.unique(x)",
   "id": "eecdc690bd8ad06e",
   "outputs": [
    {
     "data": {
      "text/plain": [
       "array([ 1,  5,  6,  7,  8,  9, 10])"
      ]
     },
     "execution_count": 101,
     "metadata": {},
     "output_type": "execute_result"
    }
   ],
   "execution_count": 101
  },
  {
   "metadata": {
    "ExecuteTime": {
     "end_time": "2024-11-27T21:05:22.000639Z",
     "start_time": "2024-11-27T21:05:21.995576Z"
    }
   },
   "cell_type": "code",
   "source": [
    "# numpy.sort function\n",
    "# numpy.sort(array, axis=-1, kind=None, order=None)\n",
    "# It can take values in the range -1 to (ndim-1)\n",
    "# Default value is axis = -1, which sorts along the last axis\n",
    "# If axis = None is specified, the array is flattened before sorting. It will return a 1-D array\n",
    "# If axis = 0 - sort column\n",
    "# If axis = 1 - sort row"
   ],
   "id": "aa8ab75c9b5ed093",
   "outputs": [],
   "execution_count": 102
  },
  {
   "metadata": {
    "ExecuteTime": {
     "end_time": "2024-11-27T21:05:22.094199Z",
     "start_time": "2024-11-27T21:05:22.088671Z"
    }
   },
   "cell_type": "code",
   "source": [
    "X = np.random.randint(1,11,size=(5,5))\n",
    "X"
   ],
   "id": "7962ba7529dfb4d6",
   "outputs": [
    {
     "data": {
      "text/plain": [
       "array([[ 9, 10, 10,  7,  9],\n",
       "       [ 5,  2, 10,  4,  6],\n",
       "       [ 6,  3,  4,  6,  8],\n",
       "       [ 9,  6,  8,  7,  2],\n",
       "       [ 3, 10,  2,  6,  6]])"
      ]
     },
     "execution_count": 103,
     "metadata": {},
     "output_type": "execute_result"
    }
   ],
   "execution_count": 103
  },
  {
   "metadata": {
    "ExecuteTime": {
     "end_time": "2024-11-27T21:05:22.238781Z",
     "start_time": "2024-11-27T21:05:22.232465Z"
    }
   },
   "cell_type": "code",
   "source": [
    "Y = np.sort(X, axis = 0)\n",
    "Y"
   ],
   "id": "84fce3629287c3f9",
   "outputs": [
    {
     "data": {
      "text/plain": [
       "array([[ 3,  2,  2,  4,  2],\n",
       "       [ 5,  3,  4,  6,  6],\n",
       "       [ 6,  6,  8,  6,  6],\n",
       "       [ 9, 10, 10,  7,  8],\n",
       "       [ 9, 10, 10,  7,  9]])"
      ]
     },
     "execution_count": 104,
     "metadata": {},
     "output_type": "execute_result"
    }
   ],
   "execution_count": 104
  },
  {
   "metadata": {
    "ExecuteTime": {
     "end_time": "2024-11-27T21:05:22.533285Z",
     "start_time": "2024-11-27T21:05:22.526271Z"
    }
   },
   "cell_type": "code",
   "source": [
    "Y = np.sort(X, axis = 1)\n",
    "Y"
   ],
   "id": "a5bfcd9ad4a8d374",
   "outputs": [
    {
     "data": {
      "text/plain": [
       "array([[ 7,  9,  9, 10, 10],\n",
       "       [ 2,  4,  5,  6, 10],\n",
       "       [ 3,  4,  6,  6,  8],\n",
       "       [ 2,  6,  7,  8,  9],\n",
       "       [ 2,  3,  6,  6, 10]])"
      ]
     },
     "execution_count": 105,
     "metadata": {},
     "output_type": "execute_result"
    }
   ],
   "execution_count": 105
  },
  {
   "metadata": {},
   "cell_type": "markdown",
   "source": "### Arithmetic operations and Broadcasting",
   "id": "3072da357580b7c9"
  },
  {
   "metadata": {
    "ExecuteTime": {
     "end_time": "2024-11-27T21:05:22.765504Z",
     "start_time": "2024-11-27T21:05:22.760765Z"
    }
   },
   "cell_type": "code",
   "source": [
    "# element wise operations\n",
    "x = np.array([1,2,3,4])\n",
    "y = np.array([2,3,4,5])"
   ],
   "id": "88af3f9ce3d4da6c",
   "outputs": [],
   "execution_count": 106
  },
  {
   "metadata": {
    "ExecuteTime": {
     "end_time": "2024-11-27T21:05:23.059068Z",
     "start_time": "2024-11-27T21:05:23.052931Z"
    }
   },
   "cell_type": "code",
   "source": "x + y",
   "id": "2ff123205c1c9fc4",
   "outputs": [
    {
     "data": {
      "text/plain": [
       "array([3, 5, 7, 9])"
      ]
     },
     "execution_count": 107,
     "metadata": {},
     "output_type": "execute_result"
    }
   ],
   "execution_count": 107
  },
  {
   "metadata": {
    "ExecuteTime": {
     "end_time": "2024-11-27T21:05:23.288927Z",
     "start_time": "2024-11-27T21:05:23.282386Z"
    }
   },
   "cell_type": "code",
   "source": [
    "z=np.add(x,y)\n",
    "z"
   ],
   "id": "9419b535529bdfa",
   "outputs": [
    {
     "data": {
      "text/plain": [
       "array([3, 5, 7, 9])"
      ]
     },
     "execution_count": 108,
     "metadata": {},
     "output_type": "execute_result"
    }
   ],
   "execution_count": 108
  },
  {
   "metadata": {
    "ExecuteTime": {
     "end_time": "2024-11-27T21:05:23.489550Z",
     "start_time": "2024-11-27T21:05:23.484303Z"
    }
   },
   "cell_type": "code",
   "source": "x - y",
   "id": "b4775cfb5881d1b6",
   "outputs": [
    {
     "data": {
      "text/plain": [
       "array([-1, -1, -1, -1])"
      ]
     },
     "execution_count": 109,
     "metadata": {},
     "output_type": "execute_result"
    }
   ],
   "execution_count": 109
  },
  {
   "metadata": {
    "ExecuteTime": {
     "end_time": "2024-11-27T21:05:23.652170Z",
     "start_time": "2024-11-27T21:05:23.645579Z"
    }
   },
   "cell_type": "code",
   "source": [
    "z=np.subtract(x,y)\n",
    "z"
   ],
   "id": "e9b28f68d8d6cc62",
   "outputs": [
    {
     "data": {
      "text/plain": [
       "array([-1, -1, -1, -1])"
      ]
     },
     "execution_count": 110,
     "metadata": {},
     "output_type": "execute_result"
    }
   ],
   "execution_count": 110
  },
  {
   "metadata": {
    "ExecuteTime": {
     "end_time": "2024-11-27T21:05:23.797031Z",
     "start_time": "2024-11-27T21:05:23.791578Z"
    }
   },
   "cell_type": "code",
   "source": "x * y",
   "id": "1dbd1d726db8cfa9",
   "outputs": [
    {
     "data": {
      "text/plain": [
       "array([ 2,  6, 12, 20])"
      ]
     },
     "execution_count": 111,
     "metadata": {},
     "output_type": "execute_result"
    }
   ],
   "execution_count": 111
  },
  {
   "metadata": {
    "ExecuteTime": {
     "end_time": "2024-11-27T21:05:23.928365Z",
     "start_time": "2024-11-27T21:05:23.920902Z"
    }
   },
   "cell_type": "code",
   "source": [
    "z=np.multiply(x,y)\n",
    "z"
   ],
   "id": "fd551c93a54b27fe",
   "outputs": [
    {
     "data": {
      "text/plain": [
       "array([ 2,  6, 12, 20])"
      ]
     },
     "execution_count": 112,
     "metadata": {},
     "output_type": "execute_result"
    }
   ],
   "execution_count": 112
  },
  {
   "metadata": {
    "ExecuteTime": {
     "end_time": "2024-11-27T21:05:24.069987Z",
     "start_time": "2024-11-27T21:05:24.065230Z"
    }
   },
   "cell_type": "code",
   "source": "x / y",
   "id": "e26145939e94d4ed",
   "outputs": [
    {
     "data": {
      "text/plain": [
       "array([0.5       , 0.66666667, 0.75      , 0.8       ])"
      ]
     },
     "execution_count": 113,
     "metadata": {},
     "output_type": "execute_result"
    }
   ],
   "execution_count": 113
  },
  {
   "metadata": {
    "ExecuteTime": {
     "end_time": "2024-11-27T21:05:24.172755Z",
     "start_time": "2024-11-27T21:05:24.168064Z"
    }
   },
   "cell_type": "code",
   "source": [
    "z=np.divide(x,y)\n",
    "z"
   ],
   "id": "6a6bee73d0456c67",
   "outputs": [
    {
     "data": {
      "text/plain": [
       "array([0.5       , 0.66666667, 0.75      , 0.8       ])"
      ]
     },
     "execution_count": 114,
     "metadata": {},
     "output_type": "execute_result"
    }
   ],
   "execution_count": 114
  },
  {
   "metadata": {
    "ExecuteTime": {
     "end_time": "2024-11-27T21:05:24.239542Z",
     "start_time": "2024-11-27T21:05:24.234556Z"
    }
   },
   "cell_type": "code",
   "source": [
    "X = np.array([1,2,3,4]).reshape(2,2)\n",
    "X"
   ],
   "id": "f2c416a24417fdfe",
   "outputs": [
    {
     "data": {
      "text/plain": [
       "array([[1, 2],\n",
       "       [3, 4]])"
      ]
     },
     "execution_count": 115,
     "metadata": {},
     "output_type": "execute_result"
    }
   ],
   "execution_count": 115
  },
  {
   "metadata": {
    "ExecuteTime": {
     "end_time": "2024-11-27T21:05:24.370521Z",
     "start_time": "2024-11-27T21:05:24.363667Z"
    }
   },
   "cell_type": "code",
   "source": [
    "Y = np.array([5.5,6.5,7.5,8.5]).reshape(2,2)\n",
    "Y"
   ],
   "id": "340fcddf79066c3a",
   "outputs": [
    {
     "data": {
      "text/plain": [
       "array([[5.5, 6.5],\n",
       "       [7.5, 8.5]])"
      ]
     },
     "execution_count": 116,
     "metadata": {},
     "output_type": "execute_result"
    }
   ],
   "execution_count": 116
  },
  {
   "metadata": {
    "ExecuteTime": {
     "end_time": "2024-11-27T21:05:24.699521Z",
     "start_time": "2024-11-27T21:05:24.692416Z"
    }
   },
   "cell_type": "code",
   "source": "X+Y",
   "id": "a5763abf61d885a7",
   "outputs": [
    {
     "data": {
      "text/plain": [
       "array([[ 6.5,  8.5],\n",
       "       [10.5, 12.5]])"
      ]
     },
     "execution_count": 117,
     "metadata": {},
     "output_type": "execute_result"
    }
   ],
   "execution_count": 117
  },
  {
   "metadata": {
    "ExecuteTime": {
     "end_time": "2024-11-27T21:05:25.132437Z",
     "start_time": "2024-11-27T21:05:25.125057Z"
    }
   },
   "cell_type": "code",
   "source": [
    "z=np.add(X,Y)\n",
    "z"
   ],
   "id": "425decfd7c1de3b2",
   "outputs": [
    {
     "data": {
      "text/plain": [
       "array([[ 6.5,  8.5],\n",
       "       [10.5, 12.5]])"
      ]
     },
     "execution_count": 118,
     "metadata": {},
     "output_type": "execute_result"
    }
   ],
   "execution_count": 118
  },
  {
   "metadata": {
    "ExecuteTime": {
     "end_time": "2024-11-27T21:05:25.456529Z",
     "start_time": "2024-11-27T21:05:25.451776Z"
    }
   },
   "cell_type": "code",
   "source": "X - Y",
   "id": "501e2f27497e493f",
   "outputs": [
    {
     "data": {
      "text/plain": [
       "array([[-4.5, -4.5],\n",
       "       [-4.5, -4.5]])"
      ]
     },
     "execution_count": 119,
     "metadata": {},
     "output_type": "execute_result"
    }
   ],
   "execution_count": 119
  },
  {
   "metadata": {
    "ExecuteTime": {
     "end_time": "2024-11-27T21:05:25.779608Z",
     "start_time": "2024-11-27T21:05:25.773950Z"
    }
   },
   "cell_type": "code",
   "source": [
    "z=np.subtract(X,Y)\n",
    "z"
   ],
   "id": "79999ac02d322972",
   "outputs": [
    {
     "data": {
      "text/plain": [
       "array([[-4.5, -4.5],\n",
       "       [-4.5, -4.5]])"
      ]
     },
     "execution_count": 120,
     "metadata": {},
     "output_type": "execute_result"
    }
   ],
   "execution_count": 120
  },
  {
   "metadata": {
    "ExecuteTime": {
     "end_time": "2024-11-27T21:05:26.173305Z",
     "start_time": "2024-11-27T21:05:26.167983Z"
    }
   },
   "cell_type": "code",
   "source": "X * Y",
   "id": "50e8d82f8d0f25db",
   "outputs": [
    {
     "data": {
      "text/plain": [
       "array([[ 5.5, 13. ],\n",
       "       [22.5, 34. ]])"
      ]
     },
     "execution_count": 121,
     "metadata": {},
     "output_type": "execute_result"
    }
   ],
   "execution_count": 121
  },
  {
   "metadata": {
    "ExecuteTime": {
     "end_time": "2024-11-27T21:05:26.499278Z",
     "start_time": "2024-11-27T21:05:26.494602Z"
    }
   },
   "cell_type": "code",
   "source": [
    "z=np.multiply(X,Y)\n",
    "z"
   ],
   "id": "d9ff83e6f8127c94",
   "outputs": [
    {
     "data": {
      "text/plain": [
       "array([[ 5.5, 13. ],\n",
       "       [22.5, 34. ]])"
      ]
     },
     "execution_count": 122,
     "metadata": {},
     "output_type": "execute_result"
    }
   ],
   "execution_count": 122
  },
  {
   "metadata": {
    "ExecuteTime": {
     "end_time": "2024-11-27T21:05:26.751894Z",
     "start_time": "2024-11-27T21:05:26.746488Z"
    }
   },
   "cell_type": "code",
   "source": "X / Y",
   "id": "4a8c141fdeb78c1c",
   "outputs": [
    {
     "data": {
      "text/plain": [
       "array([[0.18181818, 0.30769231],\n",
       "       [0.4       , 0.47058824]])"
      ]
     },
     "execution_count": 123,
     "metadata": {},
     "output_type": "execute_result"
    }
   ],
   "execution_count": 123
  },
  {
   "metadata": {
    "ExecuteTime": {
     "end_time": "2024-11-27T21:05:27.140302Z",
     "start_time": "2024-11-27T21:05:27.134558Z"
    }
   },
   "cell_type": "code",
   "source": [
    "z=np.divide(X,Y)\n",
    "z"
   ],
   "id": "70b7b2f3f4b6d961",
   "outputs": [
    {
     "data": {
      "text/plain": [
       "array([[0.18181818, 0.30769231],\n",
       "       [0.4       , 0.47058824]])"
      ]
     },
     "execution_count": 124,
     "metadata": {},
     "output_type": "execute_result"
    }
   ],
   "execution_count": 124
  },
  {
   "metadata": {
    "ExecuteTime": {
     "end_time": "2024-11-27T21:05:27.353843Z",
     "start_time": "2024-11-27T21:05:27.348836Z"
    }
   },
   "cell_type": "code",
   "source": [
    "# math functions\n",
    "x = np.array([1,2,3,4])\n",
    "x"
   ],
   "id": "bfe4d7f5190d6a56",
   "outputs": [
    {
     "data": {
      "text/plain": [
       "array([1, 2, 3, 4])"
      ]
     },
     "execution_count": 125,
     "metadata": {},
     "output_type": "execute_result"
    }
   ],
   "execution_count": 125
  },
  {
   "metadata": {
    "ExecuteTime": {
     "end_time": "2024-11-27T21:05:27.662820Z",
     "start_time": "2024-11-27T21:05:27.656647Z"
    }
   },
   "cell_type": "code",
   "source": "np.exp(x)",
   "id": "ff4305b49ed03b8d",
   "outputs": [
    {
     "data": {
      "text/plain": [
       "array([ 2.71828183,  7.3890561 , 20.08553692, 54.59815003])"
      ]
     },
     "execution_count": 126,
     "metadata": {},
     "output_type": "execute_result"
    }
   ],
   "execution_count": 126
  },
  {
   "metadata": {
    "ExecuteTime": {
     "end_time": "2024-11-27T21:05:27.840957Z",
     "start_time": "2024-11-27T21:05:27.835265Z"
    }
   },
   "cell_type": "code",
   "source": "np.sqrt(x)",
   "id": "e09adb480f735d56",
   "outputs": [
    {
     "data": {
      "text/plain": [
       "array([1.        , 1.41421356, 1.73205081, 2.        ])"
      ]
     },
     "execution_count": 127,
     "metadata": {},
     "output_type": "execute_result"
    }
   ],
   "execution_count": 127
  },
  {
   "metadata": {
    "ExecuteTime": {
     "end_time": "2024-11-27T21:05:27.986556Z",
     "start_time": "2024-11-27T21:05:27.980504Z"
    }
   },
   "cell_type": "code",
   "source": "np.power(x,2)",
   "id": "b170a576f02e4ba6",
   "outputs": [
    {
     "data": {
      "text/plain": [
       "array([ 1,  4,  9, 16])"
      ]
     },
     "execution_count": 128,
     "metadata": {},
     "output_type": "execute_result"
    }
   ],
   "execution_count": 128
  },
  {
   "metadata": {
    "ExecuteTime": {
     "end_time": "2024-11-27T21:05:28.191409Z",
     "start_time": "2024-11-27T21:05:28.186610Z"
    }
   },
   "cell_type": "code",
   "source": [
    "# statistical functions\n",
    "X = np.array([[1,2], [3,4]])\n",
    "X"
   ],
   "id": "faea0bb0e54bd762",
   "outputs": [
    {
     "data": {
      "text/plain": [
       "array([[1, 2],\n",
       "       [3, 4]])"
      ]
     },
     "execution_count": 129,
     "metadata": {},
     "output_type": "execute_result"
    }
   ],
   "execution_count": 129
  },
  {
   "metadata": {
    "ExecuteTime": {
     "end_time": "2024-11-27T21:05:28.356022Z",
     "start_time": "2024-11-27T21:05:28.350901Z"
    }
   },
   "cell_type": "code",
   "source": "X.mean()",
   "id": "28aaef36f64f6669",
   "outputs": [
    {
     "data": {
      "text/plain": [
       "2.5"
      ]
     },
     "execution_count": 130,
     "metadata": {},
     "output_type": "execute_result"
    }
   ],
   "execution_count": 130
  },
  {
   "metadata": {
    "ExecuteTime": {
     "end_time": "2024-11-27T21:05:28.699761Z",
     "start_time": "2024-11-27T21:05:28.692932Z"
    }
   },
   "cell_type": "code",
   "source": "X.mean(axis=0)",
   "id": "44c1ceeb9de5fcb8",
   "outputs": [
    {
     "data": {
      "text/plain": [
       "array([2., 3.])"
      ]
     },
     "execution_count": 131,
     "metadata": {},
     "output_type": "execute_result"
    }
   ],
   "execution_count": 131
  },
  {
   "metadata": {
    "ExecuteTime": {
     "end_time": "2024-11-27T21:05:28.995384Z",
     "start_time": "2024-11-27T21:05:28.989721Z"
    }
   },
   "cell_type": "code",
   "source": "X.mean(axis=1)",
   "id": "fa20348f6e352b19",
   "outputs": [
    {
     "data": {
      "text/plain": [
       "array([1.5, 3.5])"
      ]
     },
     "execution_count": 132,
     "metadata": {},
     "output_type": "execute_result"
    }
   ],
   "execution_count": 132
  },
  {
   "metadata": {
    "ExecuteTime": {
     "end_time": "2024-11-27T21:05:29.093401Z",
     "start_time": "2024-11-27T21:05:29.088533Z"
    }
   },
   "cell_type": "code",
   "source": "X.sum()",
   "id": "6edd96a26647c714",
   "outputs": [
    {
     "data": {
      "text/plain": [
       "10"
      ]
     },
     "execution_count": 133,
     "metadata": {},
     "output_type": "execute_result"
    }
   ],
   "execution_count": 133
  },
  {
   "metadata": {
    "ExecuteTime": {
     "end_time": "2024-11-27T21:05:29.183638Z",
     "start_time": "2024-11-27T21:05:29.178520Z"
    }
   },
   "cell_type": "code",
   "source": "X.sum(axis=0)",
   "id": "47129a2cfe5d1d48",
   "outputs": [
    {
     "data": {
      "text/plain": [
       "array([4, 6])"
      ]
     },
     "execution_count": 134,
     "metadata": {},
     "output_type": "execute_result"
    }
   ],
   "execution_count": 134
  },
  {
   "metadata": {
    "ExecuteTime": {
     "end_time": "2024-11-27T21:05:29.283291Z",
     "start_time": "2024-11-27T21:05:29.269718Z"
    }
   },
   "cell_type": "code",
   "source": "X.sum(axis=1)",
   "id": "b03d675e5a1dcd8a",
   "outputs": [
    {
     "data": {
      "text/plain": [
       "array([3, 7])"
      ]
     },
     "execution_count": 135,
     "metadata": {},
     "output_type": "execute_result"
    }
   ],
   "execution_count": 135
  },
  {
   "metadata": {
    "ExecuteTime": {
     "end_time": "2024-11-27T21:05:29.410099Z",
     "start_time": "2024-11-27T21:05:29.404430Z"
    }
   },
   "cell_type": "code",
   "source": "X.std()",
   "id": "46b9bdf05bb74b39",
   "outputs": [
    {
     "data": {
      "text/plain": [
       "1.118033988749895"
      ]
     },
     "execution_count": 136,
     "metadata": {},
     "output_type": "execute_result"
    }
   ],
   "execution_count": 136
  },
  {
   "metadata": {
    "ExecuteTime": {
     "end_time": "2024-11-27T21:05:29.538884Z",
     "start_time": "2024-11-27T21:05:29.533438Z"
    }
   },
   "cell_type": "code",
   "source": "X.std(axis=0)",
   "id": "d50151ef482866ac",
   "outputs": [
    {
     "data": {
      "text/plain": [
       "array([1., 1.])"
      ]
     },
     "execution_count": 137,
     "metadata": {},
     "output_type": "execute_result"
    }
   ],
   "execution_count": 137
  },
  {
   "metadata": {
    "ExecuteTime": {
     "end_time": "2024-11-27T21:05:29.653681Z",
     "start_time": "2024-11-27T21:05:29.647536Z"
    }
   },
   "cell_type": "code",
   "source": "X.std(axis=1)",
   "id": "45fc35e326411388",
   "outputs": [
    {
     "data": {
      "text/plain": [
       "array([0.5, 0.5])"
      ]
     },
     "execution_count": 138,
     "metadata": {},
     "output_type": "execute_result"
    }
   ],
   "execution_count": 138
  },
  {
   "metadata": {
    "ExecuteTime": {
     "end_time": "2024-11-27T21:05:29.790990Z",
     "start_time": "2024-11-27T21:05:29.781947Z"
    }
   },
   "cell_type": "code",
   "source": "np.median(X)",
   "id": "bcb21effc045a0fb",
   "outputs": [
    {
     "data": {
      "text/plain": [
       "2.5"
      ]
     },
     "execution_count": 139,
     "metadata": {},
     "output_type": "execute_result"
    }
   ],
   "execution_count": 139
  },
  {
   "metadata": {
    "ExecuteTime": {
     "end_time": "2024-11-27T21:05:29.905446Z",
     "start_time": "2024-11-27T21:05:29.899273Z"
    }
   },
   "cell_type": "code",
   "source": "np.median(X,axis=0)",
   "id": "f6bd33a67f6f6322",
   "outputs": [
    {
     "data": {
      "text/plain": [
       "array([2., 3.])"
      ]
     },
     "execution_count": 140,
     "metadata": {},
     "output_type": "execute_result"
    }
   ],
   "execution_count": 140
  },
  {
   "metadata": {
    "ExecuteTime": {
     "end_time": "2024-11-27T21:05:29.982653Z",
     "start_time": "2024-11-27T21:05:29.975494Z"
    }
   },
   "cell_type": "code",
   "source": "np.median(X,axis=1)",
   "id": "c0de1736d1fa2473",
   "outputs": [
    {
     "data": {
      "text/plain": [
       "array([1.5, 3.5])"
      ]
     },
     "execution_count": 141,
     "metadata": {},
     "output_type": "execute_result"
    }
   ],
   "execution_count": 141
  },
  {
   "metadata": {
    "ExecuteTime": {
     "end_time": "2024-11-27T21:05:30.057979Z",
     "start_time": "2024-11-27T21:05:30.052878Z"
    }
   },
   "cell_type": "code",
   "source": "X.max()",
   "id": "e35f7d5a04c60e48",
   "outputs": [
    {
     "data": {
      "text/plain": [
       "4"
      ]
     },
     "execution_count": 142,
     "metadata": {},
     "output_type": "execute_result"
    }
   ],
   "execution_count": 142
  },
  {
   "metadata": {
    "ExecuteTime": {
     "end_time": "2024-11-27T21:05:30.147731Z",
     "start_time": "2024-11-27T21:05:30.140642Z"
    }
   },
   "cell_type": "code",
   "source": "X.max(axis=0)",
   "id": "ba9f60eaf7eb09ab",
   "outputs": [
    {
     "data": {
      "text/plain": [
       "array([3, 4])"
      ]
     },
     "execution_count": 143,
     "metadata": {},
     "output_type": "execute_result"
    }
   ],
   "execution_count": 143
  },
  {
   "metadata": {
    "ExecuteTime": {
     "end_time": "2024-11-27T21:05:30.233583Z",
     "start_time": "2024-11-27T21:05:30.227055Z"
    }
   },
   "cell_type": "code",
   "source": "X.max(axis=1)",
   "id": "33ad65bb3b130dae",
   "outputs": [
    {
     "data": {
      "text/plain": [
       "array([2, 4])"
      ]
     },
     "execution_count": 144,
     "metadata": {},
     "output_type": "execute_result"
    }
   ],
   "execution_count": 144
  },
  {
   "metadata": {
    "ExecuteTime": {
     "end_time": "2024-11-27T21:05:30.337202Z",
     "start_time": "2024-11-27T21:05:30.330893Z"
    }
   },
   "cell_type": "code",
   "source": "X.max(axis=1)",
   "id": "b3d63640c9f68c20",
   "outputs": [
    {
     "data": {
      "text/plain": [
       "array([2, 4])"
      ]
     },
     "execution_count": 145,
     "metadata": {},
     "output_type": "execute_result"
    }
   ],
   "execution_count": 145
  },
  {
   "metadata": {
    "ExecuteTime": {
     "end_time": "2024-11-27T21:05:30.533049Z",
     "start_time": "2024-11-27T21:05:30.527538Z"
    }
   },
   "cell_type": "code",
   "source": [
    "# consts\n",
    "X = np.array([[1,2], [3,4]])\n",
    "X"
   ],
   "id": "899333c6b3c89711",
   "outputs": [
    {
     "data": {
      "text/plain": [
       "array([[1, 2],\n",
       "       [3, 4]])"
      ]
     },
     "execution_count": 146,
     "metadata": {},
     "output_type": "execute_result"
    }
   ],
   "execution_count": 146
  },
  {
   "metadata": {
    "ExecuteTime": {
     "end_time": "2024-11-27T21:05:30.859148Z",
     "start_time": "2024-11-27T21:05:30.852968Z"
    }
   },
   "cell_type": "code",
   "source": "3*X",
   "id": "23f23e41ccaf3ed0",
   "outputs": [
    {
     "data": {
      "text/plain": [
       "array([[ 3,  6],\n",
       "       [ 9, 12]])"
      ]
     },
     "execution_count": 147,
     "metadata": {},
     "output_type": "execute_result"
    }
   ],
   "execution_count": 147
  },
  {
   "metadata": {
    "ExecuteTime": {
     "end_time": "2024-11-27T21:05:31.150369Z",
     "start_time": "2024-11-27T21:05:31.142750Z"
    }
   },
   "cell_type": "code",
   "source": "X*3",
   "id": "4a2727ed8f2bef90",
   "outputs": [
    {
     "data": {
      "text/plain": [
       "array([[ 3,  6],\n",
       "       [ 9, 12]])"
      ]
     },
     "execution_count": 148,
     "metadata": {},
     "output_type": "execute_result"
    }
   ],
   "execution_count": 148
  },
  {
   "metadata": {
    "ExecuteTime": {
     "end_time": "2024-11-27T21:05:31.791672Z",
     "start_time": "2024-11-27T21:05:31.785546Z"
    }
   },
   "cell_type": "code",
   "source": "3+X",
   "id": "d88ae7f92d4afcfa",
   "outputs": [
    {
     "data": {
      "text/plain": [
       "array([[4, 5],\n",
       "       [6, 7]])"
      ]
     },
     "execution_count": 149,
     "metadata": {},
     "output_type": "execute_result"
    }
   ],
   "execution_count": 149
  },
  {
   "metadata": {
    "ExecuteTime": {
     "end_time": "2024-11-27T21:05:32.415300Z",
     "start_time": "2024-11-27T21:05:32.408798Z"
    }
   },
   "cell_type": "code",
   "source": "X-3",
   "id": "1175f7fb82bdc615",
   "outputs": [
    {
     "data": {
      "text/plain": [
       "array([[-2, -1],\n",
       "       [ 0,  1]])"
      ]
     },
     "execution_count": 150,
     "metadata": {},
     "output_type": "execute_result"
    }
   ],
   "execution_count": 150
  },
  {
   "metadata": {
    "ExecuteTime": {
     "end_time": "2024-11-27T21:05:33.378479Z",
     "start_time": "2024-11-27T21:05:33.372814Z"
    }
   },
   "cell_type": "code",
   "source": "X/3",
   "id": "7dfb8565804bcbda",
   "outputs": [
    {
     "data": {
      "text/plain": [
       "array([[0.33333333, 0.66666667],\n",
       "       [1.        , 1.33333333]])"
      ]
     },
     "execution_count": 151,
     "metadata": {},
     "output_type": "execute_result"
    }
   ],
   "execution_count": 151
  },
  {
   "metadata": {
    "ExecuteTime": {
     "end_time": "2024-11-27T21:05:34.198492Z",
     "start_time": "2024-11-27T21:05:34.193051Z"
    }
   },
   "cell_type": "code",
   "source": [
    "# element wise operations\n",
    "x = np.array([1,2,3])\n",
    "x"
   ],
   "id": "701c5cc1b28ea8af",
   "outputs": [
    {
     "data": {
      "text/plain": [
       "array([1, 2, 3])"
      ]
     },
     "execution_count": 152,
     "metadata": {},
     "output_type": "execute_result"
    }
   ],
   "execution_count": 152
  },
  {
   "metadata": {
    "ExecuteTime": {
     "end_time": "2024-11-27T21:05:34.811905Z",
     "start_time": "2024-11-27T21:05:34.806636Z"
    }
   },
   "cell_type": "code",
   "source": [
    "Y = np.array([[1,2,3],[4,5,6],[7,8,9]])\n",
    "Y"
   ],
   "id": "9c1206412f819b65",
   "outputs": [
    {
     "data": {
      "text/plain": [
       "array([[1, 2, 3],\n",
       "       [4, 5, 6],\n",
       "       [7, 8, 9]])"
      ]
     },
     "execution_count": 153,
     "metadata": {},
     "output_type": "execute_result"
    }
   ],
   "execution_count": 153
  },
  {
   "metadata": {
    "ExecuteTime": {
     "end_time": "2024-11-27T21:05:35.140069Z",
     "start_time": "2024-11-27T21:05:35.134744Z"
    }
   },
   "cell_type": "code",
   "source": [
    "Z = np.array([1,2,3]).reshape(3,1)\n",
    "Z"
   ],
   "id": "596a8916dcd2e0dc",
   "outputs": [
    {
     "data": {
      "text/plain": [
       "array([[1],\n",
       "       [2],\n",
       "       [3]])"
      ]
     },
     "execution_count": 154,
     "metadata": {},
     "output_type": "execute_result"
    }
   ],
   "execution_count": 154
  },
  {
   "metadata": {
    "ExecuteTime": {
     "end_time": "2024-11-27T21:05:35.582949Z",
     "start_time": "2024-11-27T21:05:35.576218Z"
    }
   },
   "cell_type": "code",
   "source": "x + Y",
   "id": "3906a496321f740b",
   "outputs": [
    {
     "data": {
      "text/plain": [
       "array([[ 2,  4,  6],\n",
       "       [ 5,  7,  9],\n",
       "       [ 8, 10, 12]])"
      ]
     },
     "execution_count": 155,
     "metadata": {},
     "output_type": "execute_result"
    }
   ],
   "execution_count": 155
  },
  {
   "metadata": {
    "ExecuteTime": {
     "end_time": "2024-11-27T21:05:35.893319Z",
     "start_time": "2024-11-27T21:05:35.888040Z"
    }
   },
   "cell_type": "code",
   "source": "Z + Y",
   "id": "385426cb54576d07",
   "outputs": [
    {
     "data": {
      "text/plain": [
       "array([[ 2,  3,  4],\n",
       "       [ 6,  7,  8],\n",
       "       [10, 11, 12]])"
      ]
     },
     "execution_count": 156,
     "metadata": {},
     "output_type": "execute_result"
    }
   ],
   "execution_count": 156
  },
  {
   "metadata": {
    "ExecuteTime": {
     "end_time": "2024-11-27T21:05:36.185191Z",
     "start_time": "2024-11-27T21:05:36.180175Z"
    }
   },
   "cell_type": "code",
   "source": [
    "# broadcasting\n",
    "# https://numpy.org/doc/stable/user/basics.broadcasting.html"
   ],
   "id": "719aa5b514e98c76",
   "outputs": [],
   "execution_count": 157
  },
  {
   "metadata": {
    "ExecuteTime": {
     "end_time": "2024-11-27T21:05:36.482921Z",
     "start_time": "2024-11-27T21:05:36.479683Z"
    }
   },
   "cell_type": "code",
   "source": "# https://numpy.org/doc/stable/reference/routines.math.html",
   "id": "15a4017e23921a67",
   "outputs": [],
   "execution_count": 158
  },
  {
   "metadata": {
    "ExecuteTime": {
     "end_time": "2024-11-27T21:05:36.632280Z",
     "start_time": "2024-11-27T21:05:36.626972Z"
    }
   },
   "cell_type": "code",
   "source": "# https://numpy.org/doc/2.0/reference/generated/numpy.matrix.html",
   "id": "9fba7943b2a67951",
   "outputs": [],
   "execution_count": 159
  },
  {
   "metadata": {
    "ExecuteTime": {
     "end_time": "2024-11-27T21:05:36.704367Z",
     "start_time": "2024-11-27T21:05:36.701565Z"
    }
   },
   "cell_type": "code",
   "source": "",
   "id": "1797721a1cb5314d",
   "outputs": [],
   "execution_count": null
  }
 ],
 "metadata": {
  "kernelspec": {
   "display_name": "numpy",
   "language": "python",
   "name": "python3"
  },
  "language_info": {
   "codemirror_mode": {
    "name": "ipython",
    "version": 3
   },
   "file_extension": ".py",
   "mimetype": "text/x-python",
   "name": "python",
   "nbconvert_exporter": "python",
   "pygments_lexer": "ipython3",
   "version": "3.12.7"
  }
 },
 "nbformat": 4,
 "nbformat_minor": 5
}
