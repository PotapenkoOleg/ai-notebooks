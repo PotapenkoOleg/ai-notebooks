{
 "cells": [
  {
   "cell_type": "code",
   "id": "initial_id",
   "metadata": {
    "collapsed": true,
    "ExecuteTime": {
     "end_time": "2025-05-08T14:12:20.146124Z",
     "start_time": "2025-05-08T14:12:19.815445Z"
    }
   },
   "source": [
    "import numpy as np"
   ],
   "outputs": [],
   "execution_count": 1
  },
  {
   "cell_type": "markdown",
   "id": "5f03670c",
   "metadata": {},
   "source": [
    "### Creating and Saving NumPy ndarrays"
   ]
  },
  {
   "cell_type": "code",
   "id": "a99b7a54a6750d5b",
   "metadata": {
    "ExecuteTime": {
     "end_time": "2025-05-08T14:12:20.703803Z",
     "start_time": "2025-05-08T14:12:20.699766Z"
    }
   },
   "source": "a = np.array([[1, 2, 3], [4, 5, 6]], dtype=np.float32)",
   "outputs": [],
   "execution_count": 2
  },
  {
   "cell_type": "code",
   "id": "33f0314560cba59a",
   "metadata": {
    "ExecuteTime": {
     "end_time": "2025-05-08T14:12:20.873368Z",
     "start_time": "2025-05-08T14:12:20.863747Z"
    }
   },
   "source": [
    "a"
   ],
   "outputs": [
    {
     "data": {
      "text/plain": [
       "array([[1., 2., 3.],\n",
       "       [4., 5., 6.]], dtype=float32)"
      ]
     },
     "execution_count": 3,
     "metadata": {},
     "output_type": "execute_result"
    }
   ],
   "execution_count": 3
  },
  {
   "cell_type": "code",
   "id": "4a4e111f1237ff64",
   "metadata": {
    "ExecuteTime": {
     "end_time": "2025-05-08T14:12:22.991953Z",
     "start_time": "2025-05-08T14:12:22.982280Z"
    }
   },
   "source": [
    "# rank\n",
    "a.ndim"
   ],
   "outputs": [
    {
     "data": {
      "text/plain": [
       "2"
      ]
     },
     "execution_count": 4,
     "metadata": {},
     "output_type": "execute_result"
    }
   ],
   "execution_count": 4
  },
  {
   "cell_type": "code",
   "id": "b3c1905b4ae1408a",
   "metadata": {
    "ExecuteTime": {
     "end_time": "2025-05-08T14:12:25.803147Z",
     "start_time": "2025-05-08T14:12:25.797987Z"
    }
   },
   "source": [
    "# shape\n",
    "a.shape"
   ],
   "outputs": [
    {
     "data": {
      "text/plain": [
       "(2, 3)"
      ]
     },
     "execution_count": 5,
     "metadata": {},
     "output_type": "execute_result"
    }
   ],
   "execution_count": 5
  },
  {
   "cell_type": "code",
   "id": "233ae2266eba64af",
   "metadata": {
    "ExecuteTime": {
     "end_time": "2025-05-08T14:12:26.603242Z",
     "start_time": "2025-05-08T14:12:26.597943Z"
    }
   },
   "source": [
    "# dtype\n",
    "a.dtype"
   ],
   "outputs": [
    {
     "data": {
      "text/plain": [
       "dtype('float32')"
      ]
     },
     "execution_count": 6,
     "metadata": {},
     "output_type": "execute_result"
    }
   ],
   "execution_count": 6
  },
  {
   "cell_type": "code",
   "id": "c5daa348f90c16e6",
   "metadata": {
    "ExecuteTime": {
     "end_time": "2025-05-08T14:12:27.130703Z",
     "start_time": "2025-05-08T14:12:27.122229Z"
    }
   },
   "source": [
    "# number of elements\n",
    "a.size"
   ],
   "outputs": [
    {
     "data": {
      "text/plain": [
       "6"
      ]
     },
     "execution_count": 7,
     "metadata": {},
     "output_type": "execute_result"
    }
   ],
   "execution_count": 7
  },
  {
   "cell_type": "code",
   "id": "c9caf322e4ec1467",
   "metadata": {
    "ExecuteTime": {
     "end_time": "2025-05-08T14:12:27.534588Z",
     "start_time": "2025-05-08T14:12:27.530120Z"
    }
   },
   "source": [
    "x = np.array(['Hello', 'World!'])\n",
    "\n",
    "print('x = ', x)\n",
    "print('x has dimensions:', x.shape)\n",
    "print('x is an object of type:', type(x))\n",
    "print('The elements in x are of type:', x.dtype)"
   ],
   "outputs": [
    {
     "name": "stdout",
     "output_type": "stream",
     "text": [
      "x =  ['Hello' 'World!']\n",
      "x has dimensions: (2,)\n",
      "x is an object of type: <class 'numpy.ndarray'>\n",
      "The elements in x are of type: <U6\n"
     ]
    }
   ],
   "execution_count": 8
  },
  {
   "cell_type": "code",
   "id": "3029ecbaef78abaf",
   "metadata": {
    "ExecuteTime": {
     "end_time": "2025-05-08T14:12:27.792422Z",
     "start_time": "2025-05-08T14:12:27.788678Z"
    }
   },
   "source": [
    "# save\n",
    "x = np.array([1, 2, 3, 4, 5], dtype=np.float32)\n",
    "# np.save('my_array', x)"
   ],
   "outputs": [],
   "execution_count": 9
  },
  {
   "cell_type": "code",
   "id": "ab7a7e0d3d4d79af",
   "metadata": {
    "ExecuteTime": {
     "end_time": "2025-05-08T14:12:27.960065Z",
     "start_time": "2025-05-08T14:12:27.956200Z"
    }
   },
   "source": "# y = np.load('my_array.npy')",
   "outputs": [],
   "execution_count": 10
  },
  {
   "cell_type": "code",
   "id": "39624fed3f2aa6bb",
   "metadata": {
    "ExecuteTime": {
     "end_time": "2025-05-08T14:12:28.059061Z",
     "start_time": "2025-05-08T14:12:28.055283Z"
    }
   },
   "source": "# y.dtype",
   "outputs": [],
   "execution_count": 11
  },
  {
   "cell_type": "code",
   "id": "fc4668b4b8cad28e",
   "metadata": {
    "ExecuteTime": {
     "end_time": "2025-05-08T14:12:28.231607Z",
     "start_time": "2025-05-08T14:12:28.226210Z"
    }
   },
   "source": "# y.shape",
   "outputs": [],
   "execution_count": 12
  },
  {
   "cell_type": "markdown",
   "id": "93c00ea4ea238db3",
   "metadata": {},
   "source": [
    "### Using Built-in Functions to Create ndarrays"
   ]
  },
  {
   "cell_type": "code",
   "id": "dd6c59c0",
   "metadata": {
    "ExecuteTime": {
     "end_time": "2025-05-08T14:12:28.305081Z",
     "start_time": "2025-05-08T14:12:28.298095Z"
    }
   },
   "source": [
    "X = np.zeros((3, 4))\n",
    "X"
   ],
   "outputs": [
    {
     "data": {
      "text/plain": [
       "array([[0., 0., 0., 0.],\n",
       "       [0., 0., 0., 0.],\n",
       "       [0., 0., 0., 0.]])"
      ]
     },
     "execution_count": 13,
     "metadata": {},
     "output_type": "execute_result"
    }
   ],
   "execution_count": 13
  },
  {
   "cell_type": "code",
   "id": "7531784e",
   "metadata": {
    "ExecuteTime": {
     "end_time": "2025-05-08T14:12:28.660326Z",
     "start_time": "2025-05-08T14:12:28.653615Z"
    }
   },
   "source": [
    "X = np.ones((3, 2), dtype=np.int64)\n",
    "X"
   ],
   "outputs": [
    {
     "data": {
      "text/plain": [
       "array([[1, 1],\n",
       "       [1, 1],\n",
       "       [1, 1]])"
      ]
     },
     "execution_count": 14,
     "metadata": {},
     "output_type": "execute_result"
    }
   ],
   "execution_count": 14
  },
  {
   "cell_type": "code",
   "id": "abfd5083",
   "metadata": {
    "ExecuteTime": {
     "end_time": "2025-05-08T14:12:29.102421Z",
     "start_time": "2025-05-08T14:12:29.095889Z"
    }
   },
   "source": [
    "X = np.full((2, 3), 42.0, dtype=np.int32)\n",
    "X"
   ],
   "outputs": [
    {
     "data": {
      "text/plain": [
       "array([[42, 42, 42],\n",
       "       [42, 42, 42]], dtype=int32)"
      ]
     },
     "execution_count": 15,
     "metadata": {},
     "output_type": "execute_result"
    }
   ],
   "execution_count": 15
  },
  {
   "cell_type": "code",
   "id": "a02e8c86",
   "metadata": {
    "ExecuteTime": {
     "end_time": "2025-05-08T14:12:30.016442Z",
     "start_time": "2025-05-08T14:12:30.007209Z"
    }
   },
   "source": [
    "# We create a 5 x 5 Identity matrix. \n",
    "X = np.eye(5)\n",
    "X"
   ],
   "outputs": [
    {
     "data": {
      "text/plain": [
       "array([[1., 0., 0., 0., 0.],\n",
       "       [0., 1., 0., 0., 0.],\n",
       "       [0., 0., 1., 0., 0.],\n",
       "       [0., 0., 0., 1., 0.],\n",
       "       [0., 0., 0., 0., 1.]])"
      ]
     },
     "execution_count": 16,
     "metadata": {},
     "output_type": "execute_result"
    }
   ],
   "execution_count": 16
  },
  {
   "cell_type": "code",
   "id": "92c83ab3",
   "metadata": {
    "ExecuteTime": {
     "end_time": "2025-05-08T14:12:30.520879Z",
     "start_time": "2025-05-08T14:12:30.514925Z"
    }
   },
   "source": [
    "X = np.diag([10, 20, 30, 50])\n",
    "X"
   ],
   "outputs": [
    {
     "data": {
      "text/plain": [
       "array([[10,  0,  0,  0],\n",
       "       [ 0, 20,  0,  0],\n",
       "       [ 0,  0, 30,  0],\n",
       "       [ 0,  0,  0, 50]])"
      ]
     },
     "execution_count": 17,
     "metadata": {},
     "output_type": "execute_result"
    }
   ],
   "execution_count": 17
  },
  {
   "cell_type": "code",
   "id": "8f421f44",
   "metadata": {
    "ExecuteTime": {
     "end_time": "2025-05-08T14:12:31.728657Z",
     "start_time": "2025-05-08T14:12:31.722665Z"
    }
   },
   "source": [
    "X = np.diag(np.full((3,), 42))\n",
    "X"
   ],
   "outputs": [
    {
     "data": {
      "text/plain": [
       "array([[42,  0,  0],\n",
       "       [ 0, 42,  0],\n",
       "       [ 0,  0, 42]])"
      ]
     },
     "execution_count": 18,
     "metadata": {},
     "output_type": "execute_result"
    }
   ],
   "execution_count": 18
  },
  {
   "cell_type": "code",
   "id": "415b868c",
   "metadata": {
    "ExecuteTime": {
     "end_time": "2025-05-08T14:12:32.471415Z",
     "start_time": "2025-05-08T14:12:32.463838Z"
    }
   },
   "source": [
    "# numpy.arange([start, ]stop, [step, ]dtype=None)\n",
    "X = np.arange(10)\n",
    "X\n"
   ],
   "outputs": [
    {
     "data": {
      "text/plain": [
       "array([0, 1, 2, 3, 4, 5, 6, 7, 8, 9])"
      ]
     },
     "execution_count": 19,
     "metadata": {},
     "output_type": "execute_result"
    }
   ],
   "execution_count": 19
  },
  {
   "cell_type": "code",
   "id": "04caa423",
   "metadata": {
    "ExecuteTime": {
     "end_time": "2025-05-08T14:12:32.908271Z",
     "start_time": "2025-05-08T14:12:32.900433Z"
    }
   },
   "source": [
    "X = np.arange(4, 10)\n",
    "X"
   ],
   "outputs": [
    {
     "data": {
      "text/plain": [
       "array([4, 5, 6, 7, 8, 9])"
      ]
     },
     "execution_count": 20,
     "metadata": {},
     "output_type": "execute_result"
    }
   ],
   "execution_count": 20
  },
  {
   "cell_type": "code",
   "id": "07a72eb6",
   "metadata": {
    "ExecuteTime": {
     "end_time": "2025-05-08T14:12:33.334983Z",
     "start_time": "2025-05-08T14:12:33.329900Z"
    }
   },
   "source": [
    "X = np.arange(1, 14, 3)\n",
    "X"
   ],
   "outputs": [
    {
     "data": {
      "text/plain": [
       "array([ 1,  4,  7, 10, 13])"
      ]
     },
     "execution_count": 21,
     "metadata": {},
     "output_type": "execute_result"
    }
   ],
   "execution_count": 21
  },
  {
   "cell_type": "code",
   "id": "8893b44a",
   "metadata": {
    "ExecuteTime": {
     "end_time": "2025-05-08T14:12:33.621088Z",
     "start_time": "2025-05-08T14:12:33.612073Z"
    }
   },
   "source": [
    "# numpy.linspace(start, stop, num=50, endpoint=True, retstep=False, dtype=None, axis=0)\n",
    "X = np.linspace(0, 25, 3)\n",
    "X"
   ],
   "outputs": [
    {
     "data": {
      "text/plain": [
       "array([ 0. , 12.5, 25. ])"
      ]
     },
     "execution_count": 22,
     "metadata": {},
     "output_type": "execute_result"
    }
   ],
   "execution_count": 22
  },
  {
   "cell_type": "code",
   "id": "137f5b77",
   "metadata": {
    "ExecuteTime": {
     "end_time": "2025-05-08T14:12:33.928175Z",
     "start_time": "2025-05-08T14:12:33.920807Z"
    }
   },
   "source": [
    "X = np.linspace(0, 25, 10, endpoint=False)\n",
    "X"
   ],
   "outputs": [
    {
     "data": {
      "text/plain": [
       "array([ 0. ,  2.5,  5. ,  7.5, 10. , 12.5, 15. , 17.5, 20. , 22.5])"
      ]
     },
     "execution_count": 23,
     "metadata": {},
     "output_type": "execute_result"
    }
   ],
   "execution_count": 23
  },
  {
   "cell_type": "code",
   "id": "7a2f2450",
   "metadata": {
    "ExecuteTime": {
     "end_time": "2025-05-08T14:12:34.156096Z",
     "start_time": "2025-05-08T14:12:34.151559Z"
    }
   },
   "source": [
    "# numpy.reshape(array, newshape, order='C')[source]\n"
   ],
   "outputs": [],
   "execution_count": 24
  },
  {
   "cell_type": "code",
   "id": "b73cf12f",
   "metadata": {
    "ExecuteTime": {
     "end_time": "2025-05-08T14:12:34.287709Z",
     "start_time": "2025-05-08T14:12:34.280962Z"
    }
   },
   "source": [
    "X = np.arange(20)\n",
    "X = np.reshape(X, (4, 5))\n",
    "X"
   ],
   "outputs": [
    {
     "data": {
      "text/plain": [
       "array([[ 0,  1,  2,  3,  4],\n",
       "       [ 5,  6,  7,  8,  9],\n",
       "       [10, 11, 12, 13, 14],\n",
       "       [15, 16, 17, 18, 19]])"
      ]
     },
     "execution_count": 25,
     "metadata": {},
     "output_type": "execute_result"
    }
   ],
   "execution_count": 25
  },
  {
   "cell_type": "code",
   "id": "dafa29aa",
   "metadata": {
    "ExecuteTime": {
     "end_time": "2025-05-08T14:12:34.550482Z",
     "start_time": "2025-05-08T14:12:34.539580Z"
    }
   },
   "source": [
    "# ndarray.reshape(shape, order='C')\n",
    "# numpy.ndarray.reshape - This one is a Method\n",
    "X = np.arange(20).reshape(4, 5)\n",
    "X"
   ],
   "outputs": [
    {
     "data": {
      "text/plain": [
       "array([[ 0,  1,  2,  3,  4],\n",
       "       [ 5,  6,  7,  8,  9],\n",
       "       [10, 11, 12, 13, 14],\n",
       "       [15, 16, 17, 18, 19]])"
      ]
     },
     "execution_count": 26,
     "metadata": {},
     "output_type": "execute_result"
    }
   ],
   "execution_count": 26
  },
  {
   "cell_type": "code",
   "id": "274a5d9f",
   "metadata": {
    "ExecuteTime": {
     "end_time": "2025-05-08T14:12:35.063258Z",
     "start_time": "2025-05-08T14:12:35.057577Z"
    }
   },
   "source": [
    "X = np.linspace(0, 50, 10, endpoint=False).reshape(5, 2)\n",
    "X"
   ],
   "outputs": [
    {
     "data": {
      "text/plain": [
       "array([[ 0.,  5.],\n",
       "       [10., 15.],\n",
       "       [20., 25.],\n",
       "       [30., 35.],\n",
       "       [40., 45.]])"
      ]
     },
     "execution_count": 27,
     "metadata": {},
     "output_type": "execute_result"
    }
   ],
   "execution_count": 27
  },
  {
   "cell_type": "markdown",
   "id": "4c3bb837",
   "metadata": {},
   "source": [
    "### Create a Numpy array using the numpy.random.random() function"
   ]
  },
  {
   "cell_type": "code",
   "id": "1c3d0f0c",
   "metadata": {
    "ExecuteTime": {
     "end_time": "2025-05-08T14:12:35.538372Z",
     "start_time": "2025-05-08T14:12:35.530405Z"
    }
   },
   "source": [
    "X = np.random.random((3, 3))\n",
    "X"
   ],
   "outputs": [
    {
     "data": {
      "text/plain": [
       "array([[0.41366889, 0.0591782 , 0.79961295],\n",
       "       [0.22518476, 0.61016103, 0.9424096 ],\n",
       "       [0.95697018, 0.82007262, 0.79881694]])"
      ]
     },
     "execution_count": 28,
     "metadata": {},
     "output_type": "execute_result"
    }
   ],
   "execution_count": 28
  },
  {
   "cell_type": "code",
   "id": "1a0c8d44",
   "metadata": {
    "ExecuteTime": {
     "end_time": "2025-05-08T14:12:35.952004Z",
     "start_time": "2025-05-08T14:12:35.942395Z"
    }
   },
   "source": [
    "# numpy.random.randint(start, stop, size = shape)\n",
    "X = np.random.randint(4, 15, size=(3, 2))\n",
    "X"
   ],
   "outputs": [
    {
     "data": {
      "text/plain": [
       "array([[13,  8],\n",
       "       [10, 10],\n",
       "       [14, 13]])"
      ]
     },
     "execution_count": 29,
     "metadata": {},
     "output_type": "execute_result"
    }
   ],
   "execution_count": 29
  },
  {
   "cell_type": "code",
   "id": "5b01a09a",
   "metadata": {
    "ExecuteTime": {
     "end_time": "2025-05-08T14:12:36.456981Z",
     "start_time": "2025-05-08T14:12:36.449382Z"
    }
   },
   "source": [
    "# np.random.normal(mean, standard deviation, size=shape)\n",
    "X = np.random.normal(0, 0.1, size=(5, 3))\n",
    "X"
   ],
   "outputs": [
    {
     "data": {
      "text/plain": [
       "array([[ 0.13559833,  0.05409308, -0.05665034],\n",
       "       [-0.10188091, -0.04234158,  0.03765956],\n",
       "       [ 0.18120558,  0.01449803, -0.25862254],\n",
       "       [-0.12651051,  0.11449053,  0.0543404 ],\n",
       "       [-0.03096517, -0.02957467, -0.10853666]])"
      ]
     },
     "execution_count": 30,
     "metadata": {},
     "output_type": "execute_result"
    }
   ],
   "execution_count": 30
  },
  {
   "metadata": {},
   "cell_type": "markdown",
   "source": "### Accessing, Deleting, and Inserting Elements Into ndarrays\n",
   "id": "7a9f8f65ad5e1d37"
  },
  {
   "metadata": {
    "ExecuteTime": {
     "end_time": "2025-05-08T14:12:36.867119Z",
     "start_time": "2025-05-08T14:12:36.858358Z"
    }
   },
   "cell_type": "code",
   "source": [
    "x = np.array([1, 2, 3, 4, 5])\n",
    "\n",
    "# Let's access some elements with positive indices\n",
    "print('This is First Element in x:', x[0])\n",
    "print('This is Second Element in x:', x[1])\n",
    "print('This is Fifth (Last) Element in x:', x[4])\n",
    "print()\n",
    "\n",
    "# Let's access the same elements with negative indices\n",
    "print('This is First Element in x:', x[-5])\n",
    "print('This is Second Element in x:', x[-4])\n",
    "print('This is Fifth (Last) Element in x:', x[-1])\n",
    "x"
   ],
   "id": "b7c08e56b173bdb6",
   "outputs": [
    {
     "name": "stdout",
     "output_type": "stream",
     "text": [
      "This is First Element in x: 1\n",
      "This is Second Element in x: 2\n",
      "This is Fifth (Last) Element in x: 5\n",
      "\n",
      "This is First Element in x: 1\n",
      "This is Second Element in x: 2\n",
      "This is Fifth (Last) Element in x: 5\n"
     ]
    },
    {
     "data": {
      "text/plain": [
       "array([1, 2, 3, 4, 5])"
      ]
     },
     "execution_count": 31,
     "metadata": {},
     "output_type": "execute_result"
    }
   ],
   "execution_count": 31
  },
  {
   "metadata": {
    "ExecuteTime": {
     "end_time": "2025-05-08T14:12:37.453327Z",
     "start_time": "2025-05-08T14:12:37.446233Z"
    }
   },
   "cell_type": "code",
   "source": [
    "x = np.array([1, 2, 3, 4, 5])\n",
    "x[3] = 20\n",
    "x"
   ],
   "id": "366e5ef4f040e52",
   "outputs": [
    {
     "data": {
      "text/plain": [
       "array([ 1,  2,  3, 20,  5])"
      ]
     },
     "execution_count": 32,
     "metadata": {},
     "output_type": "execute_result"
    }
   ],
   "execution_count": 32
  },
  {
   "metadata": {
    "ExecuteTime": {
     "end_time": "2025-05-08T14:12:37.770381Z",
     "start_time": "2025-05-08T14:12:37.764375Z"
    }
   },
   "cell_type": "code",
   "source": [
    "# To access elements in rank 2 ndarrays we need to provide 2 indices in the form [row, column].\n",
    "\n",
    "X = np.array([[1, 2, 3], [4, 5, 6], [7, 8, 9]])\n",
    "X"
   ],
   "id": "4c55159ae12e4351",
   "outputs": [
    {
     "data": {
      "text/plain": [
       "array([[1, 2, 3],\n",
       "       [4, 5, 6],\n",
       "       [7, 8, 9]])"
      ]
     },
     "execution_count": 33,
     "metadata": {},
     "output_type": "execute_result"
    }
   ],
   "execution_count": 33
  },
  {
   "metadata": {
    "ExecuteTime": {
     "end_time": "2025-05-08T14:12:38.156140Z",
     "start_time": "2025-05-08T14:12:38.147187Z"
    }
   },
   "cell_type": "code",
   "source": [
    "# Let's access some elements in X\n",
    "print('This is (0,0) Element in X:', X[0, 0])\n",
    "print('This is (0,1) Element in X:', X[0, 1])\n",
    "print('This is (2,2) Element in X:', X[2, 2])"
   ],
   "id": "8dd6c7e7d376335e",
   "outputs": [
    {
     "name": "stdout",
     "output_type": "stream",
     "text": [
      "This is (0,0) Element in X: 1\n",
      "This is (0,1) Element in X: 2\n",
      "This is (2,2) Element in X: 9\n"
     ]
    }
   ],
   "execution_count": 34
  },
  {
   "metadata": {
    "ExecuteTime": {
     "end_time": "2025-05-08T14:12:38.602435Z",
     "start_time": "2025-05-08T14:12:38.594744Z"
    }
   },
   "cell_type": "code",
   "source": [
    "X[0, 0] = 20\n",
    "X"
   ],
   "id": "c4f77f833b2f1e63",
   "outputs": [
    {
     "data": {
      "text/plain": [
       "array([[20,  2,  3],\n",
       "       [ 4,  5,  6],\n",
       "       [ 7,  8,  9]])"
      ]
     },
     "execution_count": 35,
     "metadata": {},
     "output_type": "execute_result"
    }
   ],
   "execution_count": 35
  },
  {
   "metadata": {
    "ExecuteTime": {
     "end_time": "2025-05-08T14:12:38.946320Z",
     "start_time": "2025-05-08T14:12:38.936128Z"
    }
   },
   "cell_type": "code",
   "source": [
    "# np.delete(ndarray, elements, axis)\n",
    "# For rank 2 ndarrays, axis = 0 is used to select rows, and axis = 1 is used to select columns.\n",
    "\n",
    "x = np.array([1, 2, 3, 4, 5])\n",
    "x = np.delete(x, [0, 2, 4])\n",
    "x"
   ],
   "id": "8a147dc99e651fd0",
   "outputs": [
    {
     "data": {
      "text/plain": [
       "array([2, 4])"
      ]
     },
     "execution_count": 36,
     "metadata": {},
     "output_type": "execute_result"
    }
   ],
   "execution_count": 36
  },
  {
   "metadata": {
    "ExecuteTime": {
     "end_time": "2025-05-08T14:12:39.439524Z",
     "start_time": "2025-05-08T14:12:39.432878Z"
    }
   },
   "cell_type": "code",
   "source": [
    "Y = np.array([[1, 2, 3], [4, 5, 6], [7, 8, 9]])\n",
    "Y"
   ],
   "id": "258e0839806a5885",
   "outputs": [
    {
     "data": {
      "text/plain": [
       "array([[1, 2, 3],\n",
       "       [4, 5, 6],\n",
       "       [7, 8, 9]])"
      ]
     },
     "execution_count": 37,
     "metadata": {},
     "output_type": "execute_result"
    }
   ],
   "execution_count": 37
  },
  {
   "metadata": {
    "ExecuteTime": {
     "end_time": "2025-05-08T14:12:39.776381Z",
     "start_time": "2025-05-08T14:12:39.767120Z"
    }
   },
   "cell_type": "code",
   "source": [
    "w = np.delete(Y, 0, axis=0)\n",
    "w"
   ],
   "id": "14137a89af0e6f13",
   "outputs": [
    {
     "data": {
      "text/plain": [
       "array([[4, 5, 6],\n",
       "       [7, 8, 9]])"
      ]
     },
     "execution_count": 38,
     "metadata": {},
     "output_type": "execute_result"
    }
   ],
   "execution_count": 38
  },
  {
   "metadata": {
    "ExecuteTime": {
     "end_time": "2025-05-08T14:12:40.191544Z",
     "start_time": "2025-05-08T14:12:40.182374Z"
    }
   },
   "cell_type": "code",
   "source": [
    "v = np.delete(Y, [0, 2], axis=1)\n",
    "v"
   ],
   "id": "1d95e75cdf5d8240",
   "outputs": [
    {
     "data": {
      "text/plain": [
       "array([[2],\n",
       "       [5],\n",
       "       [8]])"
      ]
     },
     "execution_count": 39,
     "metadata": {},
     "output_type": "execute_result"
    }
   ],
   "execution_count": 39
  },
  {
   "metadata": {
    "ExecuteTime": {
     "end_time": "2025-05-08T14:12:40.839541Z",
     "start_time": "2025-05-08T14:12:40.832070Z"
    }
   },
   "cell_type": "code",
   "source": "Y",
   "id": "3a9fadd1893e71b9",
   "outputs": [
    {
     "data": {
      "text/plain": [
       "array([[1, 2, 3],\n",
       "       [4, 5, 6],\n",
       "       [7, 8, 9]])"
      ]
     },
     "execution_count": 40,
     "metadata": {},
     "output_type": "execute_result"
    }
   ],
   "execution_count": 40
  },
  {
   "metadata": {
    "ExecuteTime": {
     "end_time": "2025-05-08T14:12:41.566190Z",
     "start_time": "2025-05-08T14:12:41.559588Z"
    }
   },
   "cell_type": "code",
   "source": [
    "# numpy.append(array, values, axis=None)\n",
    "x = np.array([1, 2, 3, 4, 5])\n",
    "x = np.append(x, 6)\n",
    "x = np.append(x, [7, 8])\n",
    "x"
   ],
   "id": "1c85b555bd5d0fab",
   "outputs": [
    {
     "data": {
      "text/plain": [
       "array([1, 2, 3, 4, 5, 6, 7, 8])"
      ]
     },
     "execution_count": 41,
     "metadata": {},
     "output_type": "execute_result"
    }
   ],
   "execution_count": 41
  },
  {
   "metadata": {
    "ExecuteTime": {
     "end_time": "2025-05-08T14:12:42.005483Z",
     "start_time": "2025-05-08T14:12:41.996149Z"
    }
   },
   "cell_type": "code",
   "source": [
    "Y = np.array([[1, 2, 3], [4, 5, 6]])\n",
    "Y"
   ],
   "id": "b8e59231933d8076",
   "outputs": [
    {
     "data": {
      "text/plain": [
       "array([[1, 2, 3],\n",
       "       [4, 5, 6]])"
      ]
     },
     "execution_count": 42,
     "metadata": {},
     "output_type": "execute_result"
    }
   ],
   "execution_count": 42
  },
  {
   "metadata": {
    "ExecuteTime": {
     "end_time": "2025-05-08T14:12:42.320977Z",
     "start_time": "2025-05-08T14:12:42.312900Z"
    }
   },
   "cell_type": "code",
   "source": [
    "v = np.append(Y, [[7, 8, 9]], axis=0)\n",
    "v"
   ],
   "id": "2bc98df2c191ccdf",
   "outputs": [
    {
     "data": {
      "text/plain": [
       "array([[1, 2, 3],\n",
       "       [4, 5, 6],\n",
       "       [7, 8, 9]])"
      ]
     },
     "execution_count": 43,
     "metadata": {},
     "output_type": "execute_result"
    }
   ],
   "execution_count": 43
  },
  {
   "metadata": {
    "ExecuteTime": {
     "end_time": "2025-05-08T14:12:42.618062Z",
     "start_time": "2025-05-08T14:12:42.612227Z"
    }
   },
   "cell_type": "code",
   "source": [
    "q = np.append(Y, [[9], [10]], axis=1)\n",
    "q"
   ],
   "id": "36f365b8ccfd914b",
   "outputs": [
    {
     "data": {
      "text/plain": [
       "array([[ 1,  2,  3,  9],\n",
       "       [ 4,  5,  6, 10]])"
      ]
     },
     "execution_count": 44,
     "metadata": {},
     "output_type": "execute_result"
    }
   ],
   "execution_count": 44
  },
  {
   "metadata": {
    "ExecuteTime": {
     "end_time": "2025-05-08T14:12:43.176848Z",
     "start_time": "2025-05-08T14:12:43.170088Z"
    }
   },
   "cell_type": "code",
   "source": "Y",
   "id": "4fdfad2286f78ad",
   "outputs": [
    {
     "data": {
      "text/plain": [
       "array([[1, 2, 3],\n",
       "       [4, 5, 6]])"
      ]
     },
     "execution_count": 45,
     "metadata": {},
     "output_type": "execute_result"
    }
   ],
   "execution_count": 45
  },
  {
   "metadata": {
    "ExecuteTime": {
     "end_time": "2025-05-08T14:12:43.707597Z",
     "start_time": "2025-05-08T14:12:43.699862Z"
    }
   },
   "cell_type": "code",
   "source": [
    "# np.insert(ndarray, index, elements, axis)\n",
    "x = np.array([1, 2, 5, 6, 7])\n",
    "x = np.insert(x, 2, [3, 4])\n",
    "x"
   ],
   "id": "bc7b400f1ccaadfc",
   "outputs": [
    {
     "data": {
      "text/plain": [
       "array([1, 2, 3, 4, 5, 6, 7])"
      ]
     },
     "execution_count": 46,
     "metadata": {},
     "output_type": "execute_result"
    }
   ],
   "execution_count": 46
  },
  {
   "metadata": {
    "ExecuteTime": {
     "end_time": "2025-05-08T14:12:44.239976Z",
     "start_time": "2025-05-08T14:12:44.231486Z"
    }
   },
   "cell_type": "code",
   "source": [
    "Y = np.array([[1, 2, 3], [7, 8, 9]])\n",
    "Y"
   ],
   "id": "56afdee90a4261db",
   "outputs": [
    {
     "data": {
      "text/plain": [
       "array([[1, 2, 3],\n",
       "       [7, 8, 9]])"
      ]
     },
     "execution_count": 47,
     "metadata": {},
     "output_type": "execute_result"
    }
   ],
   "execution_count": 47
  },
  {
   "metadata": {
    "ExecuteTime": {
     "end_time": "2025-05-08T14:12:44.497400Z",
     "start_time": "2025-05-08T14:12:44.491845Z"
    }
   },
   "cell_type": "code",
   "source": [
    "w = np.insert(Y, 1, [4, 5, 6], axis=0)\n",
    "w"
   ],
   "id": "b6df2ff0ab9cdc69",
   "outputs": [
    {
     "data": {
      "text/plain": [
       "array([[1, 2, 3],\n",
       "       [4, 5, 6],\n",
       "       [7, 8, 9]])"
      ]
     },
     "execution_count": 48,
     "metadata": {},
     "output_type": "execute_result"
    }
   ],
   "execution_count": 48
  },
  {
   "metadata": {
    "ExecuteTime": {
     "end_time": "2025-05-08T14:12:44.950539Z",
     "start_time": "2025-05-08T14:12:44.944101Z"
    }
   },
   "cell_type": "code",
   "source": [
    "v = np.insert(Y, 1, 42, axis=1)\n",
    "v"
   ],
   "id": "16106a6a37b7c3f7",
   "outputs": [
    {
     "data": {
      "text/plain": [
       "array([[ 1, 42,  2,  3],\n",
       "       [ 7, 42,  8,  9]])"
      ]
     },
     "execution_count": 49,
     "metadata": {},
     "output_type": "execute_result"
    }
   ],
   "execution_count": 49
  },
  {
   "metadata": {
    "ExecuteTime": {
     "end_time": "2025-05-08T14:12:45.346757Z",
     "start_time": "2025-05-08T14:12:45.339382Z"
    }
   },
   "cell_type": "code",
   "source": "Y",
   "id": "85440853d4db0e3a",
   "outputs": [
    {
     "data": {
      "text/plain": [
       "array([[1, 2, 3],\n",
       "       [7, 8, 9]])"
      ]
     },
     "execution_count": 50,
     "metadata": {},
     "output_type": "execute_result"
    }
   ],
   "execution_count": 50
  },
  {
   "metadata": {
    "ExecuteTime": {
     "end_time": "2025-05-08T14:12:45.799763Z",
     "start_time": "2025-05-08T14:12:45.792423Z"
    }
   },
   "cell_type": "code",
   "source": [
    "# numpy.hstack(sequence_of_ndarray)\n",
    "# numpy.vstack(sequence_of_ndarray)\n",
    "x = np.array([1, 2])\n",
    "x"
   ],
   "id": "953808df9cee4135",
   "outputs": [
    {
     "data": {
      "text/plain": [
       "array([1, 2])"
      ]
     },
     "execution_count": 51,
     "metadata": {},
     "output_type": "execute_result"
    }
   ],
   "execution_count": 51
  },
  {
   "metadata": {
    "ExecuteTime": {
     "end_time": "2025-05-08T14:12:46.098600Z",
     "start_time": "2025-05-08T14:12:46.092933Z"
    }
   },
   "cell_type": "code",
   "source": [
    "Y = np.array([[3, 4], [5, 6]])\n",
    "Y"
   ],
   "id": "4a410e2fd3d91631",
   "outputs": [
    {
     "data": {
      "text/plain": [
       "array([[3, 4],\n",
       "       [5, 6]])"
      ]
     },
     "execution_count": 52,
     "metadata": {},
     "output_type": "execute_result"
    }
   ],
   "execution_count": 52
  },
  {
   "metadata": {
    "ExecuteTime": {
     "end_time": "2025-05-08T14:12:46.402297Z",
     "start_time": "2025-05-08T14:12:46.391923Z"
    }
   },
   "cell_type": "code",
   "source": [
    "z = np.vstack((x, Y))\n",
    "z"
   ],
   "id": "414e889db50d349b",
   "outputs": [
    {
     "data": {
      "text/plain": [
       "array([[1, 2],\n",
       "       [3, 4],\n",
       "       [5, 6]])"
      ]
     },
     "execution_count": 53,
     "metadata": {},
     "output_type": "execute_result"
    }
   ],
   "execution_count": 53
  },
  {
   "metadata": {
    "ExecuteTime": {
     "end_time": "2025-05-08T14:12:46.674857Z",
     "start_time": "2025-05-08T14:12:46.668968Z"
    }
   },
   "cell_type": "code",
   "source": [
    "w = np.hstack((Y, x.reshape(2, 1)))\n",
    "w"
   ],
   "id": "58993773559e0a66",
   "outputs": [
    {
     "data": {
      "text/plain": [
       "array([[3, 4, 1],\n",
       "       [5, 6, 2]])"
      ]
     },
     "execution_count": 54,
     "metadata": {},
     "output_type": "execute_result"
    }
   ],
   "execution_count": 54
  },
  {
   "metadata": {
    "ExecuteTime": {
     "end_time": "2025-05-08T14:12:47.111998Z",
     "start_time": "2025-05-08T14:12:47.104311Z"
    }
   },
   "cell_type": "code",
   "source": "Y",
   "id": "3073840f33b9f8d9",
   "outputs": [
    {
     "data": {
      "text/plain": [
       "array([[3, 4],\n",
       "       [5, 6]])"
      ]
     },
     "execution_count": 55,
     "metadata": {},
     "output_type": "execute_result"
    }
   ],
   "execution_count": 55
  },
  {
   "metadata": {},
   "cell_type": "markdown",
   "source": "### Slicing ndarrays",
   "id": "fe34d7acaaf8f671"
  },
  {
   "metadata": {
    "ExecuteTime": {
     "end_time": "2025-05-08T14:12:47.735183Z",
     "start_time": "2025-05-08T14:12:47.726554Z"
    }
   },
   "cell_type": "code",
   "source": [
    "# 1. ndarray[start:end]\n",
    "# 2. ndarray[start:]\n",
    "# 3. ndarray[:end]\n",
    "\n",
    "X = np.arange(20).reshape(4, 5)\n",
    "X"
   ],
   "id": "9886cf6d710963a6",
   "outputs": [
    {
     "data": {
      "text/plain": [
       "array([[ 0,  1,  2,  3,  4],\n",
       "       [ 5,  6,  7,  8,  9],\n",
       "       [10, 11, 12, 13, 14],\n",
       "       [15, 16, 17, 18, 19]])"
      ]
     },
     "execution_count": 56,
     "metadata": {},
     "output_type": "execute_result"
    }
   ],
   "execution_count": 56
  },
  {
   "metadata": {
    "ExecuteTime": {
     "end_time": "2025-05-08T14:12:48.198747Z",
     "start_time": "2025-05-08T14:12:48.191503Z"
    }
   },
   "cell_type": "code",
   "source": [
    "Z = X[1:4, 2:5]\n",
    "Z"
   ],
   "id": "4266d681f237d40a",
   "outputs": [
    {
     "data": {
      "text/plain": [
       "array([[ 7,  8,  9],\n",
       "       [12, 13, 14],\n",
       "       [17, 18, 19]])"
      ]
     },
     "execution_count": 57,
     "metadata": {},
     "output_type": "execute_result"
    }
   ],
   "execution_count": 57
  },
  {
   "metadata": {
    "ExecuteTime": {
     "end_time": "2025-05-08T14:12:48.650251Z",
     "start_time": "2025-05-08T14:12:48.643476Z"
    }
   },
   "cell_type": "code",
   "source": [
    "W = X[1:, 2:5]\n",
    "W"
   ],
   "id": "5a8f139936e2805",
   "outputs": [
    {
     "data": {
      "text/plain": [
       "array([[ 7,  8,  9],\n",
       "       [12, 13, 14],\n",
       "       [17, 18, 19]])"
      ]
     },
     "execution_count": 58,
     "metadata": {},
     "output_type": "execute_result"
    }
   ],
   "execution_count": 58
  },
  {
   "metadata": {
    "ExecuteTime": {
     "end_time": "2025-05-08T14:12:49.053830Z",
     "start_time": "2025-05-08T14:12:49.048231Z"
    }
   },
   "cell_type": "code",
   "source": "X",
   "id": "cf4856cb425e6971",
   "outputs": [
    {
     "data": {
      "text/plain": [
       "array([[ 0,  1,  2,  3,  4],\n",
       "       [ 5,  6,  7,  8,  9],\n",
       "       [10, 11, 12, 13, 14],\n",
       "       [15, 16, 17, 18, 19]])"
      ]
     },
     "execution_count": 59,
     "metadata": {},
     "output_type": "execute_result"
    }
   ],
   "execution_count": 59
  },
  {
   "metadata": {
    "ExecuteTime": {
     "end_time": "2025-05-08T14:12:49.449123Z",
     "start_time": "2025-05-08T14:12:49.442551Z"
    }
   },
   "cell_type": "code",
   "source": [
    "Y = X[:3, 2:5]\n",
    "Y"
   ],
   "id": "5eba26f1bac08f4f",
   "outputs": [
    {
     "data": {
      "text/plain": [
       "array([[ 2,  3,  4],\n",
       "       [ 7,  8,  9],\n",
       "       [12, 13, 14]])"
      ]
     },
     "execution_count": 60,
     "metadata": {},
     "output_type": "execute_result"
    }
   ],
   "execution_count": 60
  },
  {
   "metadata": {
    "ExecuteTime": {
     "end_time": "2025-05-08T14:12:49.803006Z",
     "start_time": "2025-05-08T14:12:49.797576Z"
    }
   },
   "cell_type": "code",
   "source": "X",
   "id": "3c4c90c8f89d8a24",
   "outputs": [
    {
     "data": {
      "text/plain": [
       "array([[ 0,  1,  2,  3,  4],\n",
       "       [ 5,  6,  7,  8,  9],\n",
       "       [10, 11, 12, 13, 14],\n",
       "       [15, 16, 17, 18, 19]])"
      ]
     },
     "execution_count": 61,
     "metadata": {},
     "output_type": "execute_result"
    }
   ],
   "execution_count": 61
  },
  {
   "metadata": {
    "ExecuteTime": {
     "end_time": "2025-05-08T14:12:50.365785Z",
     "start_time": "2025-05-08T14:12:50.358393Z"
    }
   },
   "cell_type": "code",
   "source": [
    "v = X[2, :]\n",
    "v"
   ],
   "id": "104510b0f7dcd099",
   "outputs": [
    {
     "data": {
      "text/plain": [
       "array([10, 11, 12, 13, 14])"
      ]
     },
     "execution_count": 62,
     "metadata": {},
     "output_type": "execute_result"
    }
   ],
   "execution_count": 62
  },
  {
   "metadata": {
    "ExecuteTime": {
     "end_time": "2025-05-08T14:12:50.714775Z",
     "start_time": "2025-05-08T14:12:50.707393Z"
    }
   },
   "cell_type": "code",
   "source": [
    "q = X[:, 2]\n",
    "q"
   ],
   "id": "dc47c78a6230702",
   "outputs": [
    {
     "data": {
      "text/plain": [
       "array([ 2,  7, 12, 17])"
      ]
     },
     "execution_count": 63,
     "metadata": {},
     "output_type": "execute_result"
    }
   ],
   "execution_count": 63
  },
  {
   "metadata": {
    "ExecuteTime": {
     "end_time": "2025-05-08T14:12:51.035015Z",
     "start_time": "2025-05-08T14:12:51.029639Z"
    }
   },
   "cell_type": "code",
   "source": [
    "# We select all the elements in the 3rd column but return a rank 2 ndarray\n",
    "R = X[:, 2:3]\n",
    "R"
   ],
   "id": "9acda046b26c28d4",
   "outputs": [
    {
     "data": {
      "text/plain": [
       "array([[ 2],\n",
       "       [ 7],\n",
       "       [12],\n",
       "       [17]])"
      ]
     },
     "execution_count": 64,
     "metadata": {},
     "output_type": "execute_result"
    }
   ],
   "execution_count": 64
  },
  {
   "metadata": {
    "ExecuteTime": {
     "end_time": "2025-05-08T14:12:51.208688Z",
     "start_time": "2025-05-08T14:12:51.202629Z"
    }
   },
   "cell_type": "code",
   "source": "R.shape",
   "id": "11c6728a420c6470",
   "outputs": [
    {
     "data": {
      "text/plain": [
       "(4, 1)"
      ]
     },
     "execution_count": 65,
     "metadata": {},
     "output_type": "execute_result"
    }
   ],
   "execution_count": 65
  },
  {
   "metadata": {},
   "cell_type": "markdown",
   "source": [
    "In the above examples, when we make assignments, such as:\n",
    "\n",
    "Z = X[1:4,2:5]\n",
    "\n",
    "the slice of the original array X is not copied in the variable Z. Rather, X and Z are now just two different names for the same ndarray. We say that slicing only creates a view of the original array. This means that if you make changes in Z you will be in effect changing the elements in X as well."
   ],
   "id": "dcc31c29be756be4"
  },
  {
   "metadata": {
    "ExecuteTime": {
     "end_time": "2025-05-08T14:12:51.516250Z",
     "start_time": "2025-05-08T14:12:51.509377Z"
    }
   },
   "cell_type": "code",
   "source": [
    "X = np.arange(20).reshape(4, 5)\n",
    "X"
   ],
   "id": "f97b25ae90fe7af7",
   "outputs": [
    {
     "data": {
      "text/plain": [
       "array([[ 0,  1,  2,  3,  4],\n",
       "       [ 5,  6,  7,  8,  9],\n",
       "       [10, 11, 12, 13, 14],\n",
       "       [15, 16, 17, 18, 19]])"
      ]
     },
     "execution_count": 66,
     "metadata": {},
     "output_type": "execute_result"
    }
   ],
   "execution_count": 66
  },
  {
   "metadata": {
    "ExecuteTime": {
     "end_time": "2025-05-08T14:12:51.757390Z",
     "start_time": "2025-05-08T14:12:51.750147Z"
    }
   },
   "cell_type": "code",
   "source": [
    "Z = X[1:4, 2:5]\n",
    "Z"
   ],
   "id": "d79f8c1f89cb383",
   "outputs": [
    {
     "data": {
      "text/plain": [
       "array([[ 7,  8,  9],\n",
       "       [12, 13, 14],\n",
       "       [17, 18, 19]])"
      ]
     },
     "execution_count": 67,
     "metadata": {},
     "output_type": "execute_result"
    }
   ],
   "execution_count": 67
  },
  {
   "metadata": {
    "ExecuteTime": {
     "end_time": "2025-05-08T14:12:52.107523Z",
     "start_time": "2025-05-08T14:12:52.100095Z"
    }
   },
   "cell_type": "code",
   "source": [
    "Z[2, 2] = 555\n",
    "X"
   ],
   "id": "70a15f3633178b59",
   "outputs": [
    {
     "data": {
      "text/plain": [
       "array([[  0,   1,   2,   3,   4],\n",
       "       [  5,   6,   7,   8,   9],\n",
       "       [ 10,  11,  12,  13,  14],\n",
       "       [ 15,  16,  17,  18, 555]])"
      ]
     },
     "execution_count": 68,
     "metadata": {},
     "output_type": "execute_result"
    }
   ],
   "execution_count": 68
  },
  {
   "metadata": {
    "ExecuteTime": {
     "end_time": "2025-05-08T14:12:52.553979Z",
     "start_time": "2025-05-08T14:12:52.547807Z"
    }
   },
   "cell_type": "code",
   "source": [
    "# ndarray.copy(order='C')\n",
    "X = np.arange(20).reshape(4, 5)\n",
    "X"
   ],
   "id": "3c9cbd48521ca8e0",
   "outputs": [
    {
     "data": {
      "text/plain": [
       "array([[ 0,  1,  2,  3,  4],\n",
       "       [ 5,  6,  7,  8,  9],\n",
       "       [10, 11, 12, 13, 14],\n",
       "       [15, 16, 17, 18, 19]])"
      ]
     },
     "execution_count": 69,
     "metadata": {},
     "output_type": "execute_result"
    }
   ],
   "execution_count": 69
  },
  {
   "metadata": {
    "ExecuteTime": {
     "end_time": "2025-05-08T14:12:52.880323Z",
     "start_time": "2025-05-08T14:12:52.874876Z"
    }
   },
   "cell_type": "code",
   "source": [
    "Z = np.copy(X[1:4, 2:5])\n",
    "Z"
   ],
   "id": "533ab288b7f06e7",
   "outputs": [
    {
     "data": {
      "text/plain": [
       "array([[ 7,  8,  9],\n",
       "       [12, 13, 14],\n",
       "       [17, 18, 19]])"
      ]
     },
     "execution_count": 70,
     "metadata": {},
     "output_type": "execute_result"
    }
   ],
   "execution_count": 70
  },
  {
   "metadata": {
    "ExecuteTime": {
     "end_time": "2025-05-08T14:12:53.247658Z",
     "start_time": "2025-05-08T14:12:53.239793Z"
    }
   },
   "cell_type": "code",
   "source": [
    "W = X[1:4, 2:5].copy()\n",
    "W"
   ],
   "id": "16caf91ac8bd462a",
   "outputs": [
    {
     "data": {
      "text/plain": [
       "array([[ 7,  8,  9],\n",
       "       [12, 13, 14],\n",
       "       [17, 18, 19]])"
      ]
     },
     "execution_count": 71,
     "metadata": {},
     "output_type": "execute_result"
    }
   ],
   "execution_count": 71
  },
  {
   "metadata": {
    "ExecuteTime": {
     "end_time": "2025-05-08T14:12:53.676201Z",
     "start_time": "2025-05-08T14:12:53.670206Z"
    }
   },
   "cell_type": "code",
   "source": [
    "Z[2, 2] = 555\n",
    "X"
   ],
   "id": "89fe8572f91f857e",
   "outputs": [
    {
     "data": {
      "text/plain": [
       "array([[ 0,  1,  2,  3,  4],\n",
       "       [ 5,  6,  7,  8,  9],\n",
       "       [10, 11, 12, 13, 14],\n",
       "       [15, 16, 17, 18, 19]])"
      ]
     },
     "execution_count": 72,
     "metadata": {},
     "output_type": "execute_result"
    }
   ],
   "execution_count": 72
  },
  {
   "metadata": {
    "ExecuteTime": {
     "end_time": "2025-05-08T14:12:54.050312Z",
     "start_time": "2025-05-08T14:12:54.041859Z"
    }
   },
   "cell_type": "code",
   "source": [
    "W[2, 2] = 444\n",
    "Z"
   ],
   "id": "706ab56ca8031933",
   "outputs": [
    {
     "data": {
      "text/plain": [
       "array([[  7,   8,   9],\n",
       "       [ 12,  13,  14],\n",
       "       [ 17,  18, 555]])"
      ]
     },
     "execution_count": 73,
     "metadata": {},
     "output_type": "execute_result"
    }
   ],
   "execution_count": 73
  },
  {
   "metadata": {
    "ExecuteTime": {
     "end_time": "2025-05-08T14:12:54.499107Z",
     "start_time": "2025-05-08T14:12:54.487944Z"
    }
   },
   "cell_type": "code",
   "source": [
    "# Use an array as indices to either make slices, select, or change elements\n",
    "\n",
    "X = np.arange(20).reshape(4, 5)\n",
    "X"
   ],
   "id": "233dac0b7c9fcafa",
   "outputs": [
    {
     "data": {
      "text/plain": [
       "array([[ 0,  1,  2,  3,  4],\n",
       "       [ 5,  6,  7,  8,  9],\n",
       "       [10, 11, 12, 13, 14],\n",
       "       [15, 16, 17, 18, 19]])"
      ]
     },
     "execution_count": 74,
     "metadata": {},
     "output_type": "execute_result"
    }
   ],
   "execution_count": 74
  },
  {
   "metadata": {
    "ExecuteTime": {
     "end_time": "2025-05-08T14:12:54.968115Z",
     "start_time": "2025-05-08T14:12:54.959114Z"
    }
   },
   "cell_type": "code",
   "source": [
    "indices = np.array([1, 3])\n",
    "Y = X[indices, :]\n",
    "Y"
   ],
   "id": "98c5a3f0778a562d",
   "outputs": [
    {
     "data": {
      "text/plain": [
       "array([[ 5,  6,  7,  8,  9],\n",
       "       [15, 16, 17, 18, 19]])"
      ]
     },
     "execution_count": 75,
     "metadata": {},
     "output_type": "execute_result"
    }
   ],
   "execution_count": 75
  },
  {
   "metadata": {
    "ExecuteTime": {
     "end_time": "2025-05-08T14:12:55.429803Z",
     "start_time": "2025-05-08T14:12:55.422539Z"
    }
   },
   "cell_type": "code",
   "source": [
    "Z = X[:, indices]\n",
    "Z"
   ],
   "id": "bae7d4f2e884dbdc",
   "outputs": [
    {
     "data": {
      "text/plain": [
       "array([[ 1,  3],\n",
       "       [ 6,  8],\n",
       "       [11, 13],\n",
       "       [16, 18]])"
      ]
     },
     "execution_count": 76,
     "metadata": {},
     "output_type": "execute_result"
    }
   ],
   "execution_count": 76
  },
  {
   "metadata": {
    "ExecuteTime": {
     "end_time": "2025-05-08T14:12:55.827813Z",
     "start_time": "2025-05-08T14:12:55.821705Z"
    }
   },
   "cell_type": "code",
   "source": [
    "X = np.random.randint(1, 20, size=(50, 5))\n",
    "X"
   ],
   "id": "348f57bf677ec157",
   "outputs": [
    {
     "data": {
      "text/plain": [
       "array([[14, 15, 11, 16,  4],\n",
       "       [ 5, 11,  3,  1,  7],\n",
       "       [17, 15, 19,  6, 16],\n",
       "       [14,  3, 18, 14,  4],\n",
       "       [ 5, 16,  5,  1, 18],\n",
       "       [16,  6,  9,  1,  2],\n",
       "       [ 5, 10, 19, 10,  2],\n",
       "       [14, 17, 16,  3, 18],\n",
       "       [12,  4, 15,  1, 18],\n",
       "       [ 7, 15,  6, 16,  8],\n",
       "       [18,  4,  1,  9,  5],\n",
       "       [ 1,  6, 11, 17, 11],\n",
       "       [ 2, 11, 19,  8, 15],\n",
       "       [ 8,  3,  1,  4, 19],\n",
       "       [17,  3, 17, 16, 18],\n",
       "       [ 9, 18, 14,  5, 16],\n",
       "       [12, 10, 18, 16,  4],\n",
       "       [ 3,  9, 11,  2, 13],\n",
       "       [10,  9,  3, 10,  6],\n",
       "       [18,  5,  6, 14,  9],\n",
       "       [18, 12, 15, 19, 15],\n",
       "       [ 1,  7, 13,  1, 16],\n",
       "       [10,  3, 12, 11, 16],\n",
       "       [ 9, 12, 12,  2,  3],\n",
       "       [ 4, 12, 19, 16,  2],\n",
       "       [ 8, 17,  7,  5,  4],\n",
       "       [13,  6,  8, 14, 10],\n",
       "       [16,  3, 12, 16, 12],\n",
       "       [19, 11, 15, 18,  3],\n",
       "       [10, 18, 17,  2, 14],\n",
       "       [ 4,  2,  5, 19, 17],\n",
       "       [15, 17,  4,  6, 15],\n",
       "       [18,  2,  9,  7, 10],\n",
       "       [ 9, 16,  3,  4,  4],\n",
       "       [ 9,  6, 17, 18, 19],\n",
       "       [ 3, 19, 12,  7, 14],\n",
       "       [ 8,  2, 16,  3,  1],\n",
       "       [15,  8,  1, 16,  1],\n",
       "       [14, 12, 12, 19, 11],\n",
       "       [19,  1,  2, 15, 16],\n",
       "       [10, 14, 17,  2, 19],\n",
       "       [ 8,  4, 13,  5,  6],\n",
       "       [16,  8, 18,  1, 12],\n",
       "       [ 9,  7,  9,  5, 19],\n",
       "       [16, 18, 16,  5,  2],\n",
       "       [ 4, 11,  2, 17, 12],\n",
       "       [14,  3,  5,  2,  5],\n",
       "       [ 7,  2,  8, 14,  8],\n",
       "       [ 6,  6,  5, 19,  9],\n",
       "       [17,  2, 16, 17, 19]])"
      ]
     },
     "execution_count": 77,
     "metadata": {},
     "output_type": "execute_result"
    }
   ],
   "execution_count": 77
  },
  {
   "metadata": {
    "ExecuteTime": {
     "end_time": "2025-05-08T14:12:56.217010Z",
     "start_time": "2025-05-08T14:12:56.209153Z"
    }
   },
   "cell_type": "code",
   "source": [
    "row_indices = np.random.randint(0, 50, size=10)\n",
    "row_indices"
   ],
   "id": "60935c6c2337893b",
   "outputs": [
    {
     "data": {
      "text/plain": [
       "array([ 9, 32,  7, 49,  7, 17,  5, 40,  3, 33])"
      ]
     },
     "execution_count": 78,
     "metadata": {},
     "output_type": "execute_result"
    }
   ],
   "execution_count": 78
  },
  {
   "metadata": {
    "ExecuteTime": {
     "end_time": "2025-05-08T14:12:56.624136Z",
     "start_time": "2025-05-08T14:12:56.617569Z"
    }
   },
   "cell_type": "code",
   "source": [
    "X_subset = X[row_indices, :]\n",
    "X_subset"
   ],
   "id": "6717014c81b68816",
   "outputs": [
    {
     "data": {
      "text/plain": [
       "array([[ 7, 15,  6, 16,  8],\n",
       "       [18,  2,  9,  7, 10],\n",
       "       [14, 17, 16,  3, 18],\n",
       "       [17,  2, 16, 17, 19],\n",
       "       [14, 17, 16,  3, 18],\n",
       "       [ 3,  9, 11,  2, 13],\n",
       "       [16,  6,  9,  1,  2],\n",
       "       [10, 14, 17,  2, 19],\n",
       "       [14,  3, 18, 14,  4],\n",
       "       [ 9, 16,  3,  4,  4]])"
      ]
     },
     "execution_count": 79,
     "metadata": {},
     "output_type": "execute_result"
    }
   ],
   "execution_count": 79
  },
  {
   "metadata": {
    "ExecuteTime": {
     "end_time": "2025-05-08T14:12:56.835665Z",
     "start_time": "2025-05-08T14:12:56.830276Z"
    }
   },
   "cell_type": "code",
   "source": [
    "X_subset = X[row_indices[4:8], :]\n",
    "X_subset"
   ],
   "id": "8e944378a765d35",
   "outputs": [
    {
     "data": {
      "text/plain": [
       "array([[14, 17, 16,  3, 18],\n",
       "       [ 3,  9, 11,  2, 13],\n",
       "       [16,  6,  9,  1,  2],\n",
       "       [10, 14, 17,  2, 19]])"
      ]
     },
     "execution_count": 80,
     "metadata": {},
     "output_type": "execute_result"
    }
   ],
   "execution_count": 80
  },
  {
   "metadata": {
    "ExecuteTime": {
     "end_time": "2025-05-08T14:12:57.190249Z",
     "start_time": "2025-05-08T14:12:57.182668Z"
    }
   },
   "cell_type": "code",
   "source": [
    "# numpy.diag(ndarray, k=N)\n",
    "# It extracts or constructs the diagonal elements\n",
    "# As default is k=0, which refers to the main diagonal\n",
    "# Values of k > 0 are used to select elements in diagonals above the main diagonal\n",
    "# Values of k < 0 are used to select elements in diagonals below the main diagonal\n",
    "\n",
    "X = np.arange(25).reshape(5, 5)\n",
    "X\n"
   ],
   "id": "372a41e349270afb",
   "outputs": [
    {
     "data": {
      "text/plain": [
       "array([[ 0,  1,  2,  3,  4],\n",
       "       [ 5,  6,  7,  8,  9],\n",
       "       [10, 11, 12, 13, 14],\n",
       "       [15, 16, 17, 18, 19],\n",
       "       [20, 21, 22, 23, 24]])"
      ]
     },
     "execution_count": 81,
     "metadata": {},
     "output_type": "execute_result"
    }
   ],
   "execution_count": 81
  },
  {
   "metadata": {
    "ExecuteTime": {
     "end_time": "2025-05-08T14:12:57.542021Z",
     "start_time": "2025-05-08T14:12:57.533286Z"
    }
   },
   "cell_type": "code",
   "source": "np.diag(X)",
   "id": "bbe4beee1b43ca97",
   "outputs": [
    {
     "data": {
      "text/plain": [
       "array([ 0,  6, 12, 18, 24])"
      ]
     },
     "execution_count": 82,
     "metadata": {},
     "output_type": "execute_result"
    }
   ],
   "execution_count": 82
  },
  {
   "metadata": {
    "ExecuteTime": {
     "end_time": "2025-05-08T14:12:57.903625Z",
     "start_time": "2025-05-08T14:12:57.898062Z"
    }
   },
   "cell_type": "code",
   "source": "np.diag(X, k=1)",
   "id": "b742c32df09a6cd6",
   "outputs": [
    {
     "data": {
      "text/plain": [
       "array([ 1,  7, 13, 19])"
      ]
     },
     "execution_count": 83,
     "metadata": {},
     "output_type": "execute_result"
    }
   ],
   "execution_count": 83
  },
  {
   "metadata": {
    "ExecuteTime": {
     "end_time": "2025-05-08T14:12:58.112927Z",
     "start_time": "2025-05-08T14:12:58.105716Z"
    }
   },
   "cell_type": "code",
   "source": "np.diag(X, k=-1)",
   "id": "39add7d7f8557cb2",
   "outputs": [
    {
     "data": {
      "text/plain": [
       "array([ 5, 11, 17, 23])"
      ]
     },
     "execution_count": 84,
     "metadata": {},
     "output_type": "execute_result"
    }
   ],
   "execution_count": 84
  },
  {
   "metadata": {
    "ExecuteTime": {
     "end_time": "2025-05-08T14:12:58.257788Z",
     "start_time": "2025-05-08T14:12:58.250826Z"
    }
   },
   "cell_type": "code",
   "source": [
    "# numpy.unique(array, return_index=False, return_inverse=False, return_counts=False, axis=None)\n",
    "X = np.array([[1, 2, 3], [5, 2, 8], [1, 2, 3]])\n",
    "np.unique(X)"
   ],
   "id": "9fde2e440a690b45",
   "outputs": [
    {
     "data": {
      "text/plain": [
       "array([1, 2, 3, 5, 8])"
      ]
     },
     "execution_count": 85,
     "metadata": {},
     "output_type": "execute_result"
    }
   ],
   "execution_count": 85
  },
  {
   "metadata": {},
   "cell_type": "markdown",
   "source": "### Boolean Indexing, Set Operations, and Sorting",
   "id": "e0dd7ed360af5725"
  },
  {
   "metadata": {
    "ExecuteTime": {
     "end_time": "2025-05-08T14:12:58.552284Z",
     "start_time": "2025-05-08T14:12:58.547098Z"
    }
   },
   "cell_type": "code",
   "source": [
    "X = np.arange(25).reshape(5, 5)\n",
    "X"
   ],
   "id": "cf4ea8bdabb5ee97",
   "outputs": [
    {
     "data": {
      "text/plain": [
       "array([[ 0,  1,  2,  3,  4],\n",
       "       [ 5,  6,  7,  8,  9],\n",
       "       [10, 11, 12, 13, 14],\n",
       "       [15, 16, 17, 18, 19],\n",
       "       [20, 21, 22, 23, 24]])"
      ]
     },
     "execution_count": 86,
     "metadata": {},
     "output_type": "execute_result"
    }
   ],
   "execution_count": 86
  },
  {
   "metadata": {
    "ExecuteTime": {
     "end_time": "2025-05-08T14:12:58.718820Z",
     "start_time": "2025-05-08T14:12:58.713052Z"
    }
   },
   "cell_type": "code",
   "source": "X[X > 10]",
   "id": "6ea3d8a801ecff19",
   "outputs": [
    {
     "data": {
      "text/plain": [
       "array([11, 12, 13, 14, 15, 16, 17, 18, 19, 20, 21, 22, 23, 24])"
      ]
     },
     "execution_count": 87,
     "metadata": {},
     "output_type": "execute_result"
    }
   ],
   "execution_count": 87
  },
  {
   "metadata": {
    "ExecuteTime": {
     "end_time": "2025-05-08T14:12:58.995530Z",
     "start_time": "2025-05-08T14:12:58.990398Z"
    }
   },
   "cell_type": "code",
   "source": "X[3:5, 4:5]",
   "id": "3998df0da66b8936",
   "outputs": [
    {
     "data": {
      "text/plain": [
       "array([[19],\n",
       "       [24]])"
      ]
     },
     "execution_count": 88,
     "metadata": {},
     "output_type": "execute_result"
    }
   ],
   "execution_count": 88
  },
  {
   "metadata": {
    "ExecuteTime": {
     "end_time": "2025-05-08T14:12:59.224392Z",
     "start_time": "2025-05-08T14:12:59.215302Z"
    }
   },
   "cell_type": "code",
   "source": "X[X <= 7]",
   "id": "e8cb5e7bf999bb65",
   "outputs": [
    {
     "data": {
      "text/plain": [
       "array([0, 1, 2, 3, 4, 5, 6, 7])"
      ]
     },
     "execution_count": 89,
     "metadata": {},
     "output_type": "execute_result"
    }
   ],
   "execution_count": 89
  },
  {
   "metadata": {
    "ExecuteTime": {
     "end_time": "2025-05-08T14:12:59.515148Z",
     "start_time": "2025-05-08T14:12:59.510355Z"
    }
   },
   "cell_type": "code",
   "source": "X[(X > 10) & (X < 17)]",
   "id": "3a412d8ef26289bc",
   "outputs": [
    {
     "data": {
      "text/plain": [
       "array([11, 12, 13, 14, 15, 16])"
      ]
     },
     "execution_count": 90,
     "metadata": {},
     "output_type": "execute_result"
    }
   ],
   "execution_count": 90
  },
  {
   "metadata": {
    "ExecuteTime": {
     "end_time": "2025-05-08T14:12:59.726703Z",
     "start_time": "2025-05-08T14:12:59.721082Z"
    }
   },
   "cell_type": "code",
   "source": [
    "# assign\n",
    "X[(X > 10) & (X < 17)] = -1\n",
    "X"
   ],
   "id": "4c8696c09a0fa1f3",
   "outputs": [
    {
     "data": {
      "text/plain": [
       "array([[ 0,  1,  2,  3,  4],\n",
       "       [ 5,  6,  7,  8,  9],\n",
       "       [10, -1, -1, -1, -1],\n",
       "       [-1, -1, 17, 18, 19],\n",
       "       [20, 21, 22, 23, 24]])"
      ]
     },
     "execution_count": 91,
     "metadata": {},
     "output_type": "execute_result"
    }
   ],
   "execution_count": 91
  },
  {
   "metadata": {
    "ExecuteTime": {
     "end_time": "2025-05-08T14:12:59.946861Z",
     "start_time": "2025-05-08T14:12:59.941158Z"
    }
   },
   "cell_type": "code",
   "source": [
    "# set operations\n",
    "x = np.array([1, 2, 3, 4, 5])\n",
    "y = np.array([6, 7, 2, 8, 4])"
   ],
   "id": "5b963d807ed2db2f",
   "outputs": [],
   "execution_count": 92
  },
  {
   "metadata": {
    "ExecuteTime": {
     "end_time": "2025-05-08T14:13:00.242249Z",
     "start_time": "2025-05-08T14:13:00.236424Z"
    }
   },
   "cell_type": "code",
   "source": "np.intersect1d(x, y)",
   "id": "ad25ddf679039031",
   "outputs": [
    {
     "data": {
      "text/plain": [
       "array([2, 4])"
      ]
     },
     "execution_count": 93,
     "metadata": {},
     "output_type": "execute_result"
    }
   ],
   "execution_count": 93
  },
  {
   "metadata": {
    "ExecuteTime": {
     "end_time": "2025-05-08T14:13:00.464580Z",
     "start_time": "2025-05-08T14:13:00.455685Z"
    }
   },
   "cell_type": "code",
   "source": "np.setdiff1d(x, y)",
   "id": "fcd69dc64dc1a7c",
   "outputs": [
    {
     "data": {
      "text/plain": [
       "array([1, 3, 5])"
      ]
     },
     "execution_count": 94,
     "metadata": {},
     "output_type": "execute_result"
    }
   ],
   "execution_count": 94
  },
  {
   "metadata": {
    "ExecuteTime": {
     "end_time": "2025-05-08T14:13:00.611596Z",
     "start_time": "2025-05-08T14:13:00.606523Z"
    }
   },
   "cell_type": "code",
   "source": "np.union1d(x, y)",
   "id": "66791a380e125792",
   "outputs": [
    {
     "data": {
      "text/plain": [
       "array([1, 2, 3, 4, 5, 6, 7, 8])"
      ]
     },
     "execution_count": 95,
     "metadata": {},
     "output_type": "execute_result"
    }
   ],
   "execution_count": 95
  },
  {
   "metadata": {
    "ExecuteTime": {
     "end_time": "2025-05-08T14:13:00.799092Z",
     "start_time": "2025-05-08T14:13:00.793744Z"
    }
   },
   "cell_type": "code",
   "source": [
    "# numpy.ndarray.sort method\n",
    "# ndarray.sort(axis=-1, kind=None, order=None)\n",
    "\n",
    "# When numpy.sort() is used as a function, it sorts the ndrrays out of place\n",
    "# When you use numpy.ndarray.sort() as a method, ndarray.sort() sorts the ndarray in place\n",
    "\n",
    "x = np.random.randint(1, 11, size=(10,))\n",
    "x"
   ],
   "id": "73c9255dfa697712",
   "outputs": [
    {
     "data": {
      "text/plain": [
       "array([ 4,  8,  4, 10,  4,  7, 10, 10,  1, 10])"
      ]
     },
     "execution_count": 96,
     "metadata": {},
     "output_type": "execute_result"
    }
   ],
   "execution_count": 96
  },
  {
   "metadata": {
    "ExecuteTime": {
     "end_time": "2025-05-08T14:13:00.966585Z",
     "start_time": "2025-05-08T14:13:00.959954Z"
    }
   },
   "cell_type": "code",
   "source": [
    "y = np.sort(x)\n",
    "y"
   ],
   "id": "8f60e9291df65cc3",
   "outputs": [
    {
     "data": {
      "text/plain": [
       "array([ 1,  4,  4,  4,  7,  8, 10, 10, 10, 10])"
      ]
     },
     "execution_count": 97,
     "metadata": {},
     "output_type": "execute_result"
    }
   ],
   "execution_count": 97
  },
  {
   "metadata": {
    "ExecuteTime": {
     "end_time": "2025-05-08T14:13:01.201050Z",
     "start_time": "2025-05-08T14:13:01.196067Z"
    }
   },
   "cell_type": "code",
   "source": "x",
   "id": "ece105652206f4db",
   "outputs": [
    {
     "data": {
      "text/plain": [
       "array([ 4,  8,  4, 10,  4,  7, 10, 10,  1, 10])"
      ]
     },
     "execution_count": 98,
     "metadata": {},
     "output_type": "execute_result"
    }
   ],
   "execution_count": 98
  },
  {
   "metadata": {
    "ExecuteTime": {
     "end_time": "2025-05-08T14:13:01.360480Z",
     "start_time": "2025-05-08T14:13:01.355329Z"
    }
   },
   "cell_type": "code",
   "source": [
    "x.sort()\n",
    "x"
   ],
   "id": "9e093aa59fb1e094",
   "outputs": [
    {
     "data": {
      "text/plain": [
       "array([ 1,  4,  4,  4,  7,  8, 10, 10, 10, 10])"
      ]
     },
     "execution_count": 99,
     "metadata": {},
     "output_type": "execute_result"
    }
   ],
   "execution_count": 99
  },
  {
   "metadata": {
    "ExecuteTime": {
     "end_time": "2025-05-08T14:13:01.540391Z",
     "start_time": "2025-05-08T14:13:01.534698Z"
    }
   },
   "cell_type": "code",
   "source": "np.unique(x)",
   "id": "eecdc690bd8ad06e",
   "outputs": [
    {
     "data": {
      "text/plain": [
       "array([ 1,  4,  7,  8, 10])"
      ]
     },
     "execution_count": 100,
     "metadata": {},
     "output_type": "execute_result"
    }
   ],
   "execution_count": 100
  },
  {
   "metadata": {
    "ExecuteTime": {
     "end_time": "2025-05-08T14:13:01.688271Z",
     "start_time": "2025-05-08T14:13:01.684679Z"
    }
   },
   "cell_type": "code",
   "source": [
    "# numpy.sort function\n",
    "# numpy.sort(array, axis=-1, kind=None, order=None)\n",
    "# It can take values in the range -1 to (ndim-1)\n",
    "# Default value is axis = -1, which sorts along the last axis\n",
    "# If axis = None is specified, the array is flattened before sorting. It will return a 1-D array\n",
    "# If axis = 0 - sort column\n",
    "# If axis = 1 - sort row"
   ],
   "id": "aa8ab75c9b5ed093",
   "outputs": [],
   "execution_count": 101
  },
  {
   "metadata": {
    "ExecuteTime": {
     "end_time": "2025-05-08T14:13:01.787110Z",
     "start_time": "2025-05-08T14:13:01.780756Z"
    }
   },
   "cell_type": "code",
   "source": [
    "X = np.random.randint(1, 11, size=(5, 5))\n",
    "X"
   ],
   "id": "7962ba7529dfb4d6",
   "outputs": [
    {
     "data": {
      "text/plain": [
       "array([[ 2,  6,  5,  7,  4],\n",
       "       [ 8,  7,  6,  8,  1],\n",
       "       [10,  8,  8,  3,  7],\n",
       "       [ 8,  6,  9,  7,  1],\n",
       "       [10,  9,  2,  8,  3]])"
      ]
     },
     "execution_count": 102,
     "metadata": {},
     "output_type": "execute_result"
    }
   ],
   "execution_count": 102
  },
  {
   "metadata": {
    "ExecuteTime": {
     "end_time": "2025-05-08T14:13:01.940416Z",
     "start_time": "2025-05-08T14:13:01.934546Z"
    }
   },
   "cell_type": "code",
   "source": [
    "Y = np.sort(X, axis=0)\n",
    "Y"
   ],
   "id": "84fce3629287c3f9",
   "outputs": [
    {
     "data": {
      "text/plain": [
       "array([[ 2,  6,  2,  3,  1],\n",
       "       [ 8,  6,  5,  7,  1],\n",
       "       [ 8,  7,  6,  7,  3],\n",
       "       [10,  8,  8,  8,  4],\n",
       "       [10,  9,  9,  8,  7]])"
      ]
     },
     "execution_count": 103,
     "metadata": {},
     "output_type": "execute_result"
    }
   ],
   "execution_count": 103
  },
  {
   "metadata": {
    "ExecuteTime": {
     "end_time": "2025-05-08T14:13:02.171206Z",
     "start_time": "2025-05-08T14:13:02.165653Z"
    }
   },
   "cell_type": "code",
   "source": [
    "Y = np.sort(X, axis=1)\n",
    "Y"
   ],
   "id": "a5bfcd9ad4a8d374",
   "outputs": [
    {
     "data": {
      "text/plain": [
       "array([[ 2,  4,  5,  6,  7],\n",
       "       [ 1,  6,  7,  8,  8],\n",
       "       [ 3,  7,  8,  8, 10],\n",
       "       [ 1,  6,  7,  8,  9],\n",
       "       [ 2,  3,  8,  9, 10]])"
      ]
     },
     "execution_count": 104,
     "metadata": {},
     "output_type": "execute_result"
    }
   ],
   "execution_count": 104
  },
  {
   "metadata": {},
   "cell_type": "markdown",
   "source": "### Arithmetic operations and Broadcasting",
   "id": "3072da357580b7c9"
  },
  {
   "metadata": {
    "ExecuteTime": {
     "end_time": "2025-05-08T14:13:02.536791Z",
     "start_time": "2025-05-08T14:13:02.530418Z"
    }
   },
   "cell_type": "code",
   "source": [
    "# element wise operations\n",
    "x = np.array([1, 2, 3, 4])\n",
    "y = np.array([2, 3, 4, 5])"
   ],
   "id": "88af3f9ce3d4da6c",
   "outputs": [],
   "execution_count": 105
  },
  {
   "metadata": {
    "ExecuteTime": {
     "end_time": "2025-05-08T14:13:02.748581Z",
     "start_time": "2025-05-08T14:13:02.741710Z"
    }
   },
   "cell_type": "code",
   "source": "x + y",
   "id": "2ff123205c1c9fc4",
   "outputs": [
    {
     "data": {
      "text/plain": [
       "array([3, 5, 7, 9])"
      ]
     },
     "execution_count": 106,
     "metadata": {},
     "output_type": "execute_result"
    }
   ],
   "execution_count": 106
  },
  {
   "metadata": {
    "ExecuteTime": {
     "end_time": "2025-05-08T14:13:02.959116Z",
     "start_time": "2025-05-08T14:13:02.950774Z"
    }
   },
   "cell_type": "code",
   "source": [
    "z = np.add(x, y)\n",
    "z"
   ],
   "id": "9419b535529bdfa",
   "outputs": [
    {
     "data": {
      "text/plain": [
       "array([3, 5, 7, 9])"
      ]
     },
     "execution_count": 107,
     "metadata": {},
     "output_type": "execute_result"
    }
   ],
   "execution_count": 107
  },
  {
   "metadata": {
    "ExecuteTime": {
     "end_time": "2025-05-08T14:13:03.096255Z",
     "start_time": "2025-05-08T14:13:03.090700Z"
    }
   },
   "cell_type": "code",
   "source": "x - y",
   "id": "b4775cfb5881d1b6",
   "outputs": [
    {
     "data": {
      "text/plain": [
       "array([-1, -1, -1, -1])"
      ]
     },
     "execution_count": 108,
     "metadata": {},
     "output_type": "execute_result"
    }
   ],
   "execution_count": 108
  },
  {
   "metadata": {
    "ExecuteTime": {
     "end_time": "2025-05-08T14:13:03.229473Z",
     "start_time": "2025-05-08T14:13:03.224694Z"
    }
   },
   "cell_type": "code",
   "source": [
    "z = np.subtract(x, y)\n",
    "z"
   ],
   "id": "e9b28f68d8d6cc62",
   "outputs": [
    {
     "data": {
      "text/plain": [
       "array([-1, -1, -1, -1])"
      ]
     },
     "execution_count": 109,
     "metadata": {},
     "output_type": "execute_result"
    }
   ],
   "execution_count": 109
  },
  {
   "metadata": {
    "ExecuteTime": {
     "end_time": "2025-05-08T14:13:03.372291Z",
     "start_time": "2025-05-08T14:13:03.366487Z"
    }
   },
   "cell_type": "code",
   "source": "x * y",
   "id": "1dbd1d726db8cfa9",
   "outputs": [
    {
     "data": {
      "text/plain": [
       "array([ 2,  6, 12, 20])"
      ]
     },
     "execution_count": 110,
     "metadata": {},
     "output_type": "execute_result"
    }
   ],
   "execution_count": 110
  },
  {
   "metadata": {
    "ExecuteTime": {
     "end_time": "2025-05-08T14:13:03.535698Z",
     "start_time": "2025-05-08T14:13:03.529815Z"
    }
   },
   "cell_type": "code",
   "source": [
    "z = np.multiply(x, y)\n",
    "z"
   ],
   "id": "fd551c93a54b27fe",
   "outputs": [
    {
     "data": {
      "text/plain": [
       "array([ 2,  6, 12, 20])"
      ]
     },
     "execution_count": 111,
     "metadata": {},
     "output_type": "execute_result"
    }
   ],
   "execution_count": 111
  },
  {
   "metadata": {
    "ExecuteTime": {
     "end_time": "2025-05-08T14:13:03.653990Z",
     "start_time": "2025-05-08T14:13:03.648748Z"
    }
   },
   "cell_type": "code",
   "source": "x / y",
   "id": "e26145939e94d4ed",
   "outputs": [
    {
     "data": {
      "text/plain": [
       "array([0.5       , 0.66666667, 0.75      , 0.8       ])"
      ]
     },
     "execution_count": 112,
     "metadata": {},
     "output_type": "execute_result"
    }
   ],
   "execution_count": 112
  },
  {
   "metadata": {
    "ExecuteTime": {
     "end_time": "2025-05-08T14:13:03.772876Z",
     "start_time": "2025-05-08T14:13:03.767175Z"
    }
   },
   "cell_type": "code",
   "source": [
    "z = np.divide(x, y)\n",
    "z"
   ],
   "id": "6a6bee73d0456c67",
   "outputs": [
    {
     "data": {
      "text/plain": [
       "array([0.5       , 0.66666667, 0.75      , 0.8       ])"
      ]
     },
     "execution_count": 113,
     "metadata": {},
     "output_type": "execute_result"
    }
   ],
   "execution_count": 113
  },
  {
   "metadata": {
    "ExecuteTime": {
     "end_time": "2025-05-08T14:13:03.886679Z",
     "start_time": "2025-05-08T14:13:03.881233Z"
    }
   },
   "cell_type": "code",
   "source": [
    "X = np.array([1, 2, 3, 4]).reshape(2, 2)\n",
    "X"
   ],
   "id": "f2c416a24417fdfe",
   "outputs": [
    {
     "data": {
      "text/plain": [
       "array([[1, 2],\n",
       "       [3, 4]])"
      ]
     },
     "execution_count": 114,
     "metadata": {},
     "output_type": "execute_result"
    }
   ],
   "execution_count": 114
  },
  {
   "metadata": {
    "ExecuteTime": {
     "end_time": "2025-05-08T14:13:04.037445Z",
     "start_time": "2025-05-08T14:13:04.031658Z"
    }
   },
   "cell_type": "code",
   "source": [
    "Y = np.array([5.5, 6.5, 7.5, 8.5]).reshape(2, 2)\n",
    "Y"
   ],
   "id": "340fcddf79066c3a",
   "outputs": [
    {
     "data": {
      "text/plain": [
       "array([[5.5, 6.5],\n",
       "       [7.5, 8.5]])"
      ]
     },
     "execution_count": 115,
     "metadata": {},
     "output_type": "execute_result"
    }
   ],
   "execution_count": 115
  },
  {
   "metadata": {
    "ExecuteTime": {
     "end_time": "2025-05-08T14:13:04.297990Z",
     "start_time": "2025-05-08T14:13:04.290444Z"
    }
   },
   "cell_type": "code",
   "source": "X + Y",
   "id": "a5763abf61d885a7",
   "outputs": [
    {
     "data": {
      "text/plain": [
       "array([[ 6.5,  8.5],\n",
       "       [10.5, 12.5]])"
      ]
     },
     "execution_count": 116,
     "metadata": {},
     "output_type": "execute_result"
    }
   ],
   "execution_count": 116
  },
  {
   "metadata": {
    "ExecuteTime": {
     "end_time": "2025-05-08T14:13:04.567658Z",
     "start_time": "2025-05-08T14:13:04.558900Z"
    }
   },
   "cell_type": "code",
   "source": [
    "z = np.add(X, Y)\n",
    "z"
   ],
   "id": "425decfd7c1de3b2",
   "outputs": [
    {
     "data": {
      "text/plain": [
       "array([[ 6.5,  8.5],\n",
       "       [10.5, 12.5]])"
      ]
     },
     "execution_count": 117,
     "metadata": {},
     "output_type": "execute_result"
    }
   ],
   "execution_count": 117
  },
  {
   "metadata": {
    "ExecuteTime": {
     "end_time": "2025-05-08T14:13:04.902782Z",
     "start_time": "2025-05-08T14:13:04.896481Z"
    }
   },
   "cell_type": "code",
   "source": "X - Y",
   "id": "501e2f27497e493f",
   "outputs": [
    {
     "data": {
      "text/plain": [
       "array([[-4.5, -4.5],\n",
       "       [-4.5, -4.5]])"
      ]
     },
     "execution_count": 118,
     "metadata": {},
     "output_type": "execute_result"
    }
   ],
   "execution_count": 118
  },
  {
   "metadata": {
    "ExecuteTime": {
     "end_time": "2025-05-08T14:13:05.206671Z",
     "start_time": "2025-05-08T14:13:05.197859Z"
    }
   },
   "cell_type": "code",
   "source": [
    "z = np.subtract(X, Y)\n",
    "z"
   ],
   "id": "79999ac02d322972",
   "outputs": [
    {
     "data": {
      "text/plain": [
       "array([[-4.5, -4.5],\n",
       "       [-4.5, -4.5]])"
      ]
     },
     "execution_count": 119,
     "metadata": {},
     "output_type": "execute_result"
    }
   ],
   "execution_count": 119
  },
  {
   "metadata": {
    "ExecuteTime": {
     "end_time": "2025-05-08T14:13:05.565065Z",
     "start_time": "2025-05-08T14:13:05.556896Z"
    }
   },
   "cell_type": "code",
   "source": "X * Y",
   "id": "50e8d82f8d0f25db",
   "outputs": [
    {
     "data": {
      "text/plain": [
       "array([[ 5.5, 13. ],\n",
       "       [22.5, 34. ]])"
      ]
     },
     "execution_count": 120,
     "metadata": {},
     "output_type": "execute_result"
    }
   ],
   "execution_count": 120
  },
  {
   "metadata": {
    "ExecuteTime": {
     "end_time": "2025-05-08T14:13:05.897983Z",
     "start_time": "2025-05-08T14:13:05.890878Z"
    }
   },
   "cell_type": "code",
   "source": [
    "z = np.multiply(X, Y)\n",
    "z"
   ],
   "id": "d9ff83e6f8127c94",
   "outputs": [
    {
     "data": {
      "text/plain": [
       "array([[ 5.5, 13. ],\n",
       "       [22.5, 34. ]])"
      ]
     },
     "execution_count": 121,
     "metadata": {},
     "output_type": "execute_result"
    }
   ],
   "execution_count": 121
  },
  {
   "metadata": {
    "ExecuteTime": {
     "end_time": "2025-05-08T14:13:06.222449Z",
     "start_time": "2025-05-08T14:13:06.216496Z"
    }
   },
   "cell_type": "code",
   "source": "X / Y",
   "id": "4a8c141fdeb78c1c",
   "outputs": [
    {
     "data": {
      "text/plain": [
       "array([[0.18181818, 0.30769231],\n",
       "       [0.4       , 0.47058824]])"
      ]
     },
     "execution_count": 122,
     "metadata": {},
     "output_type": "execute_result"
    }
   ],
   "execution_count": 122
  },
  {
   "metadata": {
    "ExecuteTime": {
     "end_time": "2025-05-08T14:13:06.605168Z",
     "start_time": "2025-05-08T14:13:06.600172Z"
    }
   },
   "cell_type": "code",
   "source": [
    "z = np.divide(X, Y)\n",
    "z"
   ],
   "id": "70b7b2f3f4b6d961",
   "outputs": [
    {
     "data": {
      "text/plain": [
       "array([[0.18181818, 0.30769231],\n",
       "       [0.4       , 0.47058824]])"
      ]
     },
     "execution_count": 123,
     "metadata": {},
     "output_type": "execute_result"
    }
   ],
   "execution_count": 123
  },
  {
   "metadata": {
    "ExecuteTime": {
     "end_time": "2025-05-08T14:13:06.934711Z",
     "start_time": "2025-05-08T14:13:06.926489Z"
    }
   },
   "cell_type": "code",
   "source": [
    "# math functions\n",
    "x = np.array([1, 2, 3, 4])\n",
    "x"
   ],
   "id": "bfe4d7f5190d6a56",
   "outputs": [
    {
     "data": {
      "text/plain": [
       "array([1, 2, 3, 4])"
      ]
     },
     "execution_count": 124,
     "metadata": {},
     "output_type": "execute_result"
    }
   ],
   "execution_count": 124
  },
  {
   "metadata": {
    "ExecuteTime": {
     "end_time": "2025-05-08T14:13:07.189394Z",
     "start_time": "2025-05-08T14:13:07.180697Z"
    }
   },
   "cell_type": "code",
   "source": "np.exp(x)",
   "id": "ff4305b49ed03b8d",
   "outputs": [
    {
     "data": {
      "text/plain": [
       "array([ 2.71828183,  7.3890561 , 20.08553692, 54.59815003])"
      ]
     },
     "execution_count": 125,
     "metadata": {},
     "output_type": "execute_result"
    }
   ],
   "execution_count": 125
  },
  {
   "metadata": {
    "ExecuteTime": {
     "end_time": "2025-05-08T14:13:07.378262Z",
     "start_time": "2025-05-08T14:13:07.370714Z"
    }
   },
   "cell_type": "code",
   "source": "np.sqrt(x)",
   "id": "e09adb480f735d56",
   "outputs": [
    {
     "data": {
      "text/plain": [
       "array([1.        , 1.41421356, 1.73205081, 2.        ])"
      ]
     },
     "execution_count": 126,
     "metadata": {},
     "output_type": "execute_result"
    }
   ],
   "execution_count": 126
  },
  {
   "metadata": {
    "ExecuteTime": {
     "end_time": "2025-05-08T14:13:07.510996Z",
     "start_time": "2025-05-08T14:13:07.504596Z"
    }
   },
   "cell_type": "code",
   "source": "np.power(x, 2)",
   "id": "b170a576f02e4ba6",
   "outputs": [
    {
     "data": {
      "text/plain": [
       "array([ 1,  4,  9, 16])"
      ]
     },
     "execution_count": 127,
     "metadata": {},
     "output_type": "execute_result"
    }
   ],
   "execution_count": 127
  },
  {
   "metadata": {
    "ExecuteTime": {
     "end_time": "2025-05-08T14:13:07.637753Z",
     "start_time": "2025-05-08T14:13:07.632103Z"
    }
   },
   "cell_type": "code",
   "source": [
    "# statistical functions\n",
    "X = np.array([[1, 2], [3, 4]])\n",
    "X"
   ],
   "id": "faea0bb0e54bd762",
   "outputs": [
    {
     "data": {
      "text/plain": [
       "array([[1, 2],\n",
       "       [3, 4]])"
      ]
     },
     "execution_count": 128,
     "metadata": {},
     "output_type": "execute_result"
    }
   ],
   "execution_count": 128
  },
  {
   "metadata": {
    "ExecuteTime": {
     "end_time": "2025-05-08T14:13:07.802337Z",
     "start_time": "2025-05-08T14:13:07.793424Z"
    }
   },
   "cell_type": "code",
   "source": "X.mean()",
   "id": "28aaef36f64f6669",
   "outputs": [
    {
     "data": {
      "text/plain": [
       "2.5"
      ]
     },
     "execution_count": 129,
     "metadata": {},
     "output_type": "execute_result"
    }
   ],
   "execution_count": 129
  },
  {
   "metadata": {
    "ExecuteTime": {
     "end_time": "2025-05-08T14:13:08.032643Z",
     "start_time": "2025-05-08T14:13:08.026754Z"
    }
   },
   "cell_type": "code",
   "source": "X.mean(axis=0)",
   "id": "44c1ceeb9de5fcb8",
   "outputs": [
    {
     "data": {
      "text/plain": [
       "array([2., 3.])"
      ]
     },
     "execution_count": 130,
     "metadata": {},
     "output_type": "execute_result"
    }
   ],
   "execution_count": 130
  },
  {
   "metadata": {
    "ExecuteTime": {
     "end_time": "2025-05-08T14:13:08.215651Z",
     "start_time": "2025-05-08T14:13:08.209130Z"
    }
   },
   "cell_type": "code",
   "source": "X.mean(axis=1)",
   "id": "fa20348f6e352b19",
   "outputs": [
    {
     "data": {
      "text/plain": [
       "array([1.5, 3.5])"
      ]
     },
     "execution_count": 131,
     "metadata": {},
     "output_type": "execute_result"
    }
   ],
   "execution_count": 131
  },
  {
   "metadata": {
    "ExecuteTime": {
     "end_time": "2025-05-08T14:13:08.332023Z",
     "start_time": "2025-05-08T14:13:08.326317Z"
    }
   },
   "cell_type": "code",
   "source": "X.sum()",
   "id": "6edd96a26647c714",
   "outputs": [
    {
     "data": {
      "text/plain": [
       "10"
      ]
     },
     "execution_count": 132,
     "metadata": {},
     "output_type": "execute_result"
    }
   ],
   "execution_count": 132
  },
  {
   "metadata": {
    "ExecuteTime": {
     "end_time": "2025-05-08T14:13:08.491941Z",
     "start_time": "2025-05-08T14:13:08.485571Z"
    }
   },
   "cell_type": "code",
   "source": "X.sum(axis=0)",
   "id": "47129a2cfe5d1d48",
   "outputs": [
    {
     "data": {
      "text/plain": [
       "array([4, 6])"
      ]
     },
     "execution_count": 133,
     "metadata": {},
     "output_type": "execute_result"
    }
   ],
   "execution_count": 133
  },
  {
   "metadata": {
    "ExecuteTime": {
     "end_time": "2025-05-08T14:13:08.626299Z",
     "start_time": "2025-05-08T14:13:08.620621Z"
    }
   },
   "cell_type": "code",
   "source": "X.sum(axis=1)",
   "id": "b03d675e5a1dcd8a",
   "outputs": [
    {
     "data": {
      "text/plain": [
       "array([3, 7])"
      ]
     },
     "execution_count": 134,
     "metadata": {},
     "output_type": "execute_result"
    }
   ],
   "execution_count": 134
  },
  {
   "metadata": {
    "ExecuteTime": {
     "end_time": "2025-05-08T14:13:08.767920Z",
     "start_time": "2025-05-08T14:13:08.762908Z"
    }
   },
   "cell_type": "code",
   "source": "X.std()",
   "id": "46b9bdf05bb74b39",
   "outputs": [
    {
     "data": {
      "text/plain": [
       "1.118033988749895"
      ]
     },
     "execution_count": 135,
     "metadata": {},
     "output_type": "execute_result"
    }
   ],
   "execution_count": 135
  },
  {
   "metadata": {
    "ExecuteTime": {
     "end_time": "2025-05-08T14:13:08.869386Z",
     "start_time": "2025-05-08T14:13:08.863490Z"
    }
   },
   "cell_type": "code",
   "source": "X.std(axis=0)",
   "id": "d50151ef482866ac",
   "outputs": [
    {
     "data": {
      "text/plain": [
       "array([1., 1.])"
      ]
     },
     "execution_count": 136,
     "metadata": {},
     "output_type": "execute_result"
    }
   ],
   "execution_count": 136
  },
  {
   "metadata": {
    "ExecuteTime": {
     "end_time": "2025-05-08T14:13:09.019322Z",
     "start_time": "2025-05-08T14:13:09.013386Z"
    }
   },
   "cell_type": "code",
   "source": "X.std(axis=1)",
   "id": "45fc35e326411388",
   "outputs": [
    {
     "data": {
      "text/plain": [
       "array([0.5, 0.5])"
      ]
     },
     "execution_count": 137,
     "metadata": {},
     "output_type": "execute_result"
    }
   ],
   "execution_count": 137
  },
  {
   "metadata": {
    "ExecuteTime": {
     "end_time": "2025-05-08T14:13:09.133402Z",
     "start_time": "2025-05-08T14:13:09.126047Z"
    }
   },
   "cell_type": "code",
   "source": "np.median(X)",
   "id": "bcb21effc045a0fb",
   "outputs": [
    {
     "data": {
      "text/plain": [
       "2.5"
      ]
     },
     "execution_count": 138,
     "metadata": {},
     "output_type": "execute_result"
    }
   ],
   "execution_count": 138
  },
  {
   "metadata": {
    "ExecuteTime": {
     "end_time": "2025-05-08T14:13:09.249227Z",
     "start_time": "2025-05-08T14:13:09.242501Z"
    }
   },
   "cell_type": "code",
   "source": "np.median(X, axis=0)",
   "id": "f6bd33a67f6f6322",
   "outputs": [
    {
     "data": {
      "text/plain": [
       "array([2., 3.])"
      ]
     },
     "execution_count": 139,
     "metadata": {},
     "output_type": "execute_result"
    }
   ],
   "execution_count": 139
  },
  {
   "metadata": {
    "ExecuteTime": {
     "end_time": "2025-05-08T14:13:09.336159Z",
     "start_time": "2025-05-08T14:13:09.328975Z"
    }
   },
   "cell_type": "code",
   "source": "np.median(X, axis=1)",
   "id": "c0de1736d1fa2473",
   "outputs": [
    {
     "data": {
      "text/plain": [
       "array([1.5, 3.5])"
      ]
     },
     "execution_count": 140,
     "metadata": {},
     "output_type": "execute_result"
    }
   ],
   "execution_count": 140
  },
  {
   "metadata": {
    "ExecuteTime": {
     "end_time": "2025-05-08T14:13:09.448856Z",
     "start_time": "2025-05-08T14:13:09.439355Z"
    }
   },
   "cell_type": "code",
   "source": "X.max()",
   "id": "e35f7d5a04c60e48",
   "outputs": [
    {
     "data": {
      "text/plain": [
       "4"
      ]
     },
     "execution_count": 141,
     "metadata": {},
     "output_type": "execute_result"
    }
   ],
   "execution_count": 141
  },
  {
   "metadata": {
    "ExecuteTime": {
     "end_time": "2025-05-08T14:13:09.591750Z",
     "start_time": "2025-05-08T14:13:09.586058Z"
    }
   },
   "cell_type": "code",
   "source": "X.max(axis=0)",
   "id": "ba9f60eaf7eb09ab",
   "outputs": [
    {
     "data": {
      "text/plain": [
       "array([3, 4])"
      ]
     },
     "execution_count": 142,
     "metadata": {},
     "output_type": "execute_result"
    }
   ],
   "execution_count": 142
  },
  {
   "metadata": {
    "ExecuteTime": {
     "end_time": "2025-05-08T14:13:09.700609Z",
     "start_time": "2025-05-08T14:13:09.695645Z"
    }
   },
   "cell_type": "code",
   "source": "X.max(axis=1)",
   "id": "33ad65bb3b130dae",
   "outputs": [
    {
     "data": {
      "text/plain": [
       "array([2, 4])"
      ]
     },
     "execution_count": 143,
     "metadata": {},
     "output_type": "execute_result"
    }
   ],
   "execution_count": 143
  },
  {
   "metadata": {
    "ExecuteTime": {
     "end_time": "2025-05-08T14:13:09.790892Z",
     "start_time": "2025-05-08T14:13:09.783291Z"
    }
   },
   "cell_type": "code",
   "source": "X.max(axis=1)",
   "id": "b3d63640c9f68c20",
   "outputs": [
    {
     "data": {
      "text/plain": [
       "array([2, 4])"
      ]
     },
     "execution_count": 144,
     "metadata": {},
     "output_type": "execute_result"
    }
   ],
   "execution_count": 144
  },
  {
   "metadata": {
    "ExecuteTime": {
     "end_time": "2025-05-08T14:13:09.936545Z",
     "start_time": "2025-05-08T14:13:09.931022Z"
    }
   },
   "cell_type": "code",
   "source": [
    "# consts\n",
    "X = np.array([[1, 2], [3, 4]])\n",
    "X"
   ],
   "id": "899333c6b3c89711",
   "outputs": [
    {
     "data": {
      "text/plain": [
       "array([[1, 2],\n",
       "       [3, 4]])"
      ]
     },
     "execution_count": 145,
     "metadata": {},
     "output_type": "execute_result"
    }
   ],
   "execution_count": 145
  },
  {
   "metadata": {
    "ExecuteTime": {
     "end_time": "2025-05-08T14:13:10.093456Z",
     "start_time": "2025-05-08T14:13:10.086975Z"
    }
   },
   "cell_type": "code",
   "source": "3 * X",
   "id": "23f23e41ccaf3ed0",
   "outputs": [
    {
     "data": {
      "text/plain": [
       "array([[ 3,  6],\n",
       "       [ 9, 12]])"
      ]
     },
     "execution_count": 146,
     "metadata": {},
     "output_type": "execute_result"
    }
   ],
   "execution_count": 146
  },
  {
   "metadata": {
    "ExecuteTime": {
     "end_time": "2025-05-08T14:13:10.300094Z",
     "start_time": "2025-05-08T14:13:10.293031Z"
    }
   },
   "cell_type": "code",
   "source": "X * 3",
   "id": "4a2727ed8f2bef90",
   "outputs": [
    {
     "data": {
      "text/plain": [
       "array([[ 3,  6],\n",
       "       [ 9, 12]])"
      ]
     },
     "execution_count": 147,
     "metadata": {},
     "output_type": "execute_result"
    }
   ],
   "execution_count": 147
  },
  {
   "metadata": {
    "ExecuteTime": {
     "end_time": "2025-05-08T14:13:10.649478Z",
     "start_time": "2025-05-08T14:13:10.641484Z"
    }
   },
   "cell_type": "code",
   "source": "3 + X",
   "id": "d88ae7f92d4afcfa",
   "outputs": [
    {
     "data": {
      "text/plain": [
       "array([[4, 5],\n",
       "       [6, 7]])"
      ]
     },
     "execution_count": 148,
     "metadata": {},
     "output_type": "execute_result"
    }
   ],
   "execution_count": 148
  },
  {
   "metadata": {
    "ExecuteTime": {
     "end_time": "2025-05-08T14:13:10.945678Z",
     "start_time": "2025-05-08T14:13:10.939637Z"
    }
   },
   "cell_type": "code",
   "source": "X - 3",
   "id": "1175f7fb82bdc615",
   "outputs": [
    {
     "data": {
      "text/plain": [
       "array([[-2, -1],\n",
       "       [ 0,  1]])"
      ]
     },
     "execution_count": 149,
     "metadata": {},
     "output_type": "execute_result"
    }
   ],
   "execution_count": 149
  },
  {
   "metadata": {
    "ExecuteTime": {
     "end_time": "2025-05-08T14:13:11.364224Z",
     "start_time": "2025-05-08T14:13:11.355644Z"
    }
   },
   "cell_type": "code",
   "source": "X / 3",
   "id": "7dfb8565804bcbda",
   "outputs": [
    {
     "data": {
      "text/plain": [
       "array([[0.33333333, 0.66666667],\n",
       "       [1.        , 1.33333333]])"
      ]
     },
     "execution_count": 150,
     "metadata": {},
     "output_type": "execute_result"
    }
   ],
   "execution_count": 150
  },
  {
   "metadata": {
    "ExecuteTime": {
     "end_time": "2025-05-08T14:13:11.647400Z",
     "start_time": "2025-05-08T14:13:11.639710Z"
    }
   },
   "cell_type": "code",
   "source": [
    "# element wise operations\n",
    "x = np.array([1, 2, 3])\n",
    "x"
   ],
   "id": "701c5cc1b28ea8af",
   "outputs": [
    {
     "data": {
      "text/plain": [
       "array([1, 2, 3])"
      ]
     },
     "execution_count": 151,
     "metadata": {},
     "output_type": "execute_result"
    }
   ],
   "execution_count": 151
  },
  {
   "metadata": {
    "ExecuteTime": {
     "end_time": "2025-05-08T14:13:11.907295Z",
     "start_time": "2025-05-08T14:13:11.901389Z"
    }
   },
   "cell_type": "code",
   "source": [
    "Y = np.array([[1, 2, 3], [4, 5, 6], [7, 8, 9]])\n",
    "Y"
   ],
   "id": "9c1206412f819b65",
   "outputs": [
    {
     "data": {
      "text/plain": [
       "array([[1, 2, 3],\n",
       "       [4, 5, 6],\n",
       "       [7, 8, 9]])"
      ]
     },
     "execution_count": 152,
     "metadata": {},
     "output_type": "execute_result"
    }
   ],
   "execution_count": 152
  },
  {
   "metadata": {
    "ExecuteTime": {
     "end_time": "2025-05-08T14:13:12.126346Z",
     "start_time": "2025-05-08T14:13:12.120608Z"
    }
   },
   "cell_type": "code",
   "source": [
    "Z = np.array([1, 2, 3]).reshape(3, 1)\n",
    "Z"
   ],
   "id": "596a8916dcd2e0dc",
   "outputs": [
    {
     "data": {
      "text/plain": [
       "array([[1],\n",
       "       [2],\n",
       "       [3]])"
      ]
     },
     "execution_count": 153,
     "metadata": {},
     "output_type": "execute_result"
    }
   ],
   "execution_count": 153
  },
  {
   "metadata": {
    "ExecuteTime": {
     "end_time": "2025-05-08T14:13:12.477922Z",
     "start_time": "2025-05-08T14:13:12.471016Z"
    }
   },
   "cell_type": "code",
   "source": "x + Y",
   "id": "3906a496321f740b",
   "outputs": [
    {
     "data": {
      "text/plain": [
       "array([[ 2,  4,  6],\n",
       "       [ 5,  7,  9],\n",
       "       [ 8, 10, 12]])"
      ]
     },
     "execution_count": 154,
     "metadata": {},
     "output_type": "execute_result"
    }
   ],
   "execution_count": 154
  },
  {
   "metadata": {
    "ExecuteTime": {
     "end_time": "2025-05-08T14:13:12.767656Z",
     "start_time": "2025-05-08T14:13:12.761321Z"
    }
   },
   "cell_type": "code",
   "source": "Z + Y",
   "id": "385426cb54576d07",
   "outputs": [
    {
     "data": {
      "text/plain": [
       "array([[ 2,  3,  4],\n",
       "       [ 6,  7,  8],\n",
       "       [10, 11, 12]])"
      ]
     },
     "execution_count": 155,
     "metadata": {},
     "output_type": "execute_result"
    }
   ],
   "execution_count": 155
  },
  {
   "metadata": {
    "ExecuteTime": {
     "end_time": "2025-05-08T14:13:13.281945Z",
     "start_time": "2025-05-08T14:13:13.279090Z"
    }
   },
   "cell_type": "code",
   "source": [
    "# broadcasting\n",
    "# https://numpy.org/doc/stable/user/basics.broadcasting.html"
   ],
   "id": "719aa5b514e98c76",
   "outputs": [],
   "execution_count": 156
  },
  {
   "metadata": {
    "ExecuteTime": {
     "end_time": "2025-05-08T14:13:13.583949Z",
     "start_time": "2025-05-08T14:13:13.577023Z"
    }
   },
   "cell_type": "code",
   "source": "# https://numpy.org/doc/stable/reference/routines.math.html",
   "id": "15a4017e23921a67",
   "outputs": [],
   "execution_count": 157
  },
  {
   "metadata": {
    "ExecuteTime": {
     "end_time": "2025-05-08T14:13:13.677799Z",
     "start_time": "2025-05-08T14:13:13.674165Z"
    }
   },
   "cell_type": "code",
   "source": "# https://numpy.org/doc/2.0/reference/generated/numpy.matrix.html",
   "id": "9fba7943b2a67951",
   "outputs": [],
   "execution_count": 158
  },
  {
   "metadata": {
    "ExecuteTime": {
     "end_time": "2025-05-08T14:48:58.312234Z",
     "start_time": "2025-05-08T14:48:58.306875Z"
    }
   },
   "cell_type": "code",
   "source": [
    "# DOT PRODUCT VS MATMUL\n",
    "x = np.array([1, 2, 3])\n",
    "y = np.array([4, 5, 6])\n",
    "dot_product_1d = np.dot(x, y)\n",
    "dot_product_1d"
   ],
   "id": "1797721a1cb5314d",
   "outputs": [
    {
     "data": {
      "text/plain": [
       "32"
      ]
     },
     "execution_count": 161,
     "metadata": {},
     "output_type": "execute_result"
    }
   ],
   "execution_count": 161
  },
  {
   "metadata": {
    "ExecuteTime": {
     "end_time": "2025-05-08T14:48:19.167596Z",
     "start_time": "2025-05-08T14:48:19.156390Z"
    }
   },
   "cell_type": "code",
   "source": [
    "# 2-D arrays (matrix multiplication)\n",
    "A = np.array([[1, 2], [3, 4]])\n",
    "B = np.array([[5, 6], [7, 8]])\n",
    "dot_product_2d = np.dot(A, B)\n",
    "# [[1*5+2*7, 1*6+2*8], [3*5+4*7, 3*6+4*8]] = [[5+14, 6+16], [15+28, 18+32]] = [[19, 22], [43, 50]]\n",
    "print(f\"A = \\n{A}\")\n",
    "print(f\"B = \\n{B}\")\n",
    "print(f\"Dot product of A and B (matrix multiplication):\\n{dot_product_2d}\")\n",
    "print(\"Using A @ B for matrix multiplication (preferred for 2D):\")\n",
    "print(A @ B)\n",
    "print(\"Using np.matmul(A, B) for matrix multiplication (preferred for 2D):\")\n",
    "print(np.matmul(A, B))\n",
    "print(\"-\" * 20)"
   ],
   "id": "1ca7b424c7267dc8",
   "outputs": [
    {
     "name": "stdout",
     "output_type": "stream",
     "text": [
      "A = \n",
      "[[1 2]\n",
      " [3 4]]\n",
      "B = \n",
      "[[5 6]\n",
      " [7 8]]\n",
      "Dot product of A and B (matrix multiplication):\n",
      "[[19 22]\n",
      " [43 50]]\n",
      "Using A @ B for matrix multiplication (preferred for 2D):\n",
      "[[19 22]\n",
      " [43 50]]\n",
      "Using np.matmul(A, B) for matrix multiplication (preferred for 2D):\n",
      "[[19 22]\n",
      " [43 50]]\n",
      "--------------------\n"
     ]
    }
   ],
   "execution_count": 160
  },
  {
   "metadata": {
    "ExecuteTime": {
     "end_time": "2025-05-08T14:50:02.208497Z",
     "start_time": "2025-05-08T14:50:02.203065Z"
    }
   },
   "cell_type": "code",
   "source": [
    "# Scalar multiplication\n",
    "scalar = 3\n",
    "arr = np.array([1, 2, 3])\n",
    "dot_product_scalar_arr = np.dot(scalar, arr)\n",
    "print(f\"scalar = {scalar}\")\n",
    "print(f\"arr = {arr}\")\n",
    "print(f\"Dot product of scalar and arr: {dot_product_scalar_arr}\")\n",
    "print(f\"Using scalar * arr: {scalar * arr}\") # Preferred\n",
    "print(\"-\" * 20)"
   ],
   "id": "21e77ae6ec08e21d",
   "outputs": [
    {
     "name": "stdout",
     "output_type": "stream",
     "text": [
      "scalar = 3\n",
      "arr = [1 2 3]\n",
      "Dot product of scalar and arr: [3 6 9]\n",
      "Using scalar * arr: [3 6 9]\n",
      "--------------------\n"
     ]
    }
   ],
   "execution_count": 162
  },
  {
   "metadata": {
    "ExecuteTime": {
     "end_time": "2025-05-08T14:50:38.353482Z",
     "start_time": "2025-05-08T14:50:38.347382Z"
    }
   },
   "cell_type": "code",
   "source": [
    "# N-D array and 1-D array\n",
    "C = np.arange(12).reshape(2, 2, 3) # Shape (2, 2, 3)\n",
    "d = np.array([1, 0, 1])            # Shape (3,)\n",
    "dot_product_nd_1d = np.dot(C, d)\n",
    "# C[0,0,:] = [0,1,2], dot([0,1,2], [1,0,1]) = 0*1 + 1*0 + 2*1 = 2\n",
    "# C[0,1,:] = [3,4,5], dot([3,4,5], [1,0,1]) = 3*1 + 4*0 + 5*1 = 8\n",
    "# C[1,0,:] = [6,7,8], dot([6,7,8], [1,0,1]) = 6*1 + 7*0 + 8*1 = 14\n",
    "# C[1,1,:] = [9,10,11], dot([9,10,11], [1,0,1]) = 9*1 + 10*0 + 11*1 = 20\n",
    "# Result shape (2,2)\n",
    "print(f\"C (shape {C.shape}) = \\n{C}\")\n",
    "print(f\"d (shape {d.shape}) = {d}\")\n",
    "print(f\"Dot product of C and d (shape {dot_product_nd_1d.shape}):\\n{dot_product_nd_1d}\")\n",
    "print(\"-\" * 20)"
   ],
   "id": "24e45ebfe9f98fdd",
   "outputs": [
    {
     "name": "stdout",
     "output_type": "stream",
     "text": [
      "C (shape (2, 2, 3)) = \n",
      "[[[ 0  1  2]\n",
      "  [ 3  4  5]]\n",
      "\n",
      " [[ 6  7  8]\n",
      "  [ 9 10 11]]]\n",
      "d (shape (3,)) = [1 0 1]\n",
      "Dot product of C and d (shape (2, 2)):\n",
      "[[ 2  8]\n",
      " [14 20]]\n",
      "--------------------\n"
     ]
    }
   ],
   "execution_count": 163
  },
  {
   "metadata": {},
   "cell_type": "code",
   "outputs": [],
   "execution_count": null,
   "source": "",
   "id": "dc841fd6b76d523a"
  }
 ],
 "metadata": {
  "kernelspec": {
   "display_name": "numpy",
   "language": "python",
   "name": "python3"
  },
  "language_info": {
   "codemirror_mode": {
    "name": "ipython",
    "version": 3
   },
   "file_extension": ".py",
   "mimetype": "text/x-python",
   "name": "python",
   "nbconvert_exporter": "python",
   "pygments_lexer": "ipython3",
   "version": "3.12.7"
  }
 },
 "nbformat": 4,
 "nbformat_minor": 5
}
