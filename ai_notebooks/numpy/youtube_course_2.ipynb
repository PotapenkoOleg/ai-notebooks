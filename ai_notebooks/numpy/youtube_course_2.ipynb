{
 "cells": [
  {
   "cell_type": "code",
   "id": "initial_id",
   "metadata": {
    "collapsed": true,
    "ExecuteTime": {
     "end_time": "2025-05-08T00:59:39.885525Z",
     "start_time": "2025-05-08T00:59:39.657668Z"
    }
   },
   "source": "import numpy as np",
   "outputs": [],
   "execution_count": 1
  },
  {
   "metadata": {
    "ExecuteTime": {
     "end_time": "2025-05-08T00:59:53.953898Z",
     "start_time": "2025-05-08T00:59:53.950166Z"
    }
   },
   "cell_type": "code",
   "source": "# https://youtu.be/4c_mwnYdbhQ?si=_cqmqq_7A4ZPTvn8",
   "id": "23f7875f3ccca03b",
   "outputs": [],
   "execution_count": 2
  },
  {
   "metadata": {
    "ExecuteTime": {
     "end_time": "2025-05-08T01:19:54.172721Z",
     "start_time": "2025-05-08T01:19:54.162135Z"
    }
   },
   "cell_type": "code",
   "source": "np.empty((2,3))",
   "id": "7f555725ad92a8ed",
   "outputs": [
    {
     "data": {
      "text/plain": [
       "array([[0., 0., 0.],\n",
       "       [0., 0., 0.]])"
      ]
     },
     "execution_count": 3,
     "metadata": {},
     "output_type": "execute_result"
    }
   ],
   "execution_count": 3
  },
  {
   "metadata": {
    "ExecuteTime": {
     "end_time": "2025-05-08T01:22:25.006986Z",
     "start_time": "2025-05-08T01:22:25.000876Z"
    }
   },
   "cell_type": "code",
   "source": "np.nan",
   "id": "817ba1457cf221a5",
   "outputs": [
    {
     "data": {
      "text/plain": [
       "nan"
      ]
     },
     "execution_count": 4,
     "metadata": {},
     "output_type": "execute_result"
    }
   ],
   "execution_count": 4
  },
  {
   "metadata": {
    "ExecuteTime": {
     "end_time": "2025-05-08T01:22:31.242250Z",
     "start_time": "2025-05-08T01:22:31.237168Z"
    }
   },
   "cell_type": "code",
   "source": "np.inf",
   "id": "34f3e686fb33385f",
   "outputs": [
    {
     "data": {
      "text/plain": [
       "inf"
      ]
     },
     "execution_count": 5,
     "metadata": {},
     "output_type": "execute_result"
    }
   ],
   "execution_count": 5
  },
  {
   "metadata": {
    "ExecuteTime": {
     "end_time": "2025-05-08T02:00:35.790420Z",
     "start_time": "2025-05-08T02:00:35.785446Z"
    }
   },
   "cell_type": "code",
   "source": [
    "a = np.array([[1,2,3], [4,5,6]])\n",
    "\n",
    "a.ravel() # view\n",
    "#a.flatten() #copy"
   ],
   "id": "3e003fa7f937a9dc",
   "outputs": [
    {
     "data": {
      "text/plain": [
       "array([1, 2, 3, 4, 5, 6])"
      ]
     },
     "execution_count": 12,
     "metadata": {},
     "output_type": "execute_result"
    }
   ],
   "execution_count": 12
  },
  {
   "metadata": {
    "ExecuteTime": {
     "end_time": "2025-05-08T02:02:55.101627Z",
     "start_time": "2025-05-08T02:02:55.096563Z"
    }
   },
   "cell_type": "code",
   "source": "a.transpose()",
   "id": "255d11f6bec57cbc",
   "outputs": [
    {
     "data": {
      "text/plain": [
       "array([[1, 4],\n",
       "       [2, 5],\n",
       "       [3, 6]])"
      ]
     },
     "execution_count": 13,
     "metadata": {},
     "output_type": "execute_result"
    }
   ],
   "execution_count": 13
  },
  {
   "metadata": {
    "ExecuteTime": {
     "end_time": "2025-05-08T02:04:10.593555Z",
     "start_time": "2025-05-08T02:04:10.588302Z"
    }
   },
   "cell_type": "code",
   "source": "a.swapaxes(0,1) # multidimentional transpose",
   "id": "cee79c3180b187eb",
   "outputs": [
    {
     "data": {
      "text/plain": [
       "array([[1, 4],\n",
       "       [2, 5],\n",
       "       [3, 6]])"
      ]
     },
     "execution_count": 14,
     "metadata": {},
     "output_type": "execute_result"
    }
   ],
   "execution_count": 14
  },
  {
   "metadata": {
    "ExecuteTime": {
     "end_time": "2025-05-08T02:08:32.191350Z",
     "start_time": "2025-05-08T02:08:32.188165Z"
    }
   },
   "cell_type": "code",
   "source": "# np.concatenate()",
   "id": "dd20efb1189b0e0e",
   "outputs": [],
   "execution_count": 15
  },
  {
   "metadata": {
    "ExecuteTime": {
     "end_time": "2025-05-08T02:08:45.985632Z",
     "start_time": "2025-05-08T02:08:45.982280Z"
    }
   },
   "cell_type": "code",
   "source": "# np.split()",
   "id": "d70ace333d9444e5",
   "outputs": [],
   "execution_count": 17
  },
  {
   "metadata": {},
   "cell_type": "code",
   "outputs": [],
   "execution_count": null,
   "source": "# np.random.choice()",
   "id": "5fd82273105e0994"
  },
  {
   "metadata": {},
   "cell_type": "code",
   "outputs": [],
   "execution_count": null,
   "source": "# np.random.shuffle()",
   "id": "805b80fc1bd38445"
  },
  {
   "metadata": {},
   "cell_type": "code",
   "outputs": [],
   "execution_count": null,
   "source": "# np.random.permutation()",
   "id": "7e847bb55ec0f88d"
  },
  {
   "metadata": {},
   "cell_type": "code",
   "outputs": [],
   "execution_count": null,
   "source": "# np.random.seed()",
   "id": "3b56b57d7afa886c"
  },
  {
   "metadata": {},
   "cell_type": "code",
   "outputs": [],
   "execution_count": null,
   "source": "# np.random.randint()",
   "id": "aac920b89d54feed"
  },
  {
   "metadata": {
    "ExecuteTime": {
     "end_time": "2025-05-08T02:23:11.722563Z",
     "start_time": "2025-05-08T02:23:11.719414Z"
    }
   },
   "cell_type": "code",
   "source": "# copy()",
   "id": "9f937ea1e3f3fa5a",
   "outputs": [],
   "execution_count": 18
  },
  {
   "metadata": {
    "ExecuteTime": {
     "end_time": "2025-05-08T02:23:57.629295Z",
     "start_time": "2025-05-08T02:23:57.625377Z"
    }
   },
   "cell_type": "code",
   "source": [
    "# selection a[a<10]\n",
    "# a[a%2==0]"
   ],
   "id": "34590395de8695dd",
   "outputs": [],
   "execution_count": 19
  },
  {
   "metadata": {},
   "cell_type": "code",
   "outputs": [],
   "execution_count": null,
   "source": "# unique()",
   "id": "5f18a22758ef39b7"
  },
  {
   "metadata": {},
   "cell_type": "code",
   "outputs": [],
   "execution_count": null,
   "source": "# np.sort()",
   "id": "5e92cd61d3718d02"
  },
  {
   "metadata": {},
   "cell_type": "code",
   "outputs": [],
   "execution_count": null,
   "source": "# np.argsort()",
   "id": "fd6abb5dddb43723"
  },
  {
   "metadata": {},
   "cell_type": "code",
   "outputs": [],
   "execution_count": null,
   "source": "# np.searchsorted()",
   "id": "2b20a5b181806aa"
  },
  {
   "metadata": {},
   "cell_type": "code",
   "outputs": [],
   "execution_count": null,
   "source": "# np.bincount()",
   "id": "3b391c0fb1bf37ae"
  },
  {
   "metadata": {},
   "cell_type": "code",
   "outputs": [],
   "execution_count": null,
   "source": "",
   "id": "9a4df5546bd8e869"
  }
 ],
 "metadata": {
  "kernelspec": {
   "display_name": "Python 3",
   "language": "python",
   "name": "python3"
  },
  "language_info": {
   "codemirror_mode": {
    "name": "ipython",
    "version": 2
   },
   "file_extension": ".py",
   "mimetype": "text/x-python",
   "name": "python",
   "nbconvert_exporter": "python",
   "pygments_lexer": "ipython2",
   "version": "2.7.6"
  }
 },
 "nbformat": 4,
 "nbformat_minor": 5
}
